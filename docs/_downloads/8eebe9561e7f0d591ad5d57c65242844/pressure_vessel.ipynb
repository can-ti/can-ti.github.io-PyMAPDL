{
  "cells": [
    {
      "cell_type": "markdown",
      "metadata": {},
      "source": [
        "# \u538b\u529b\u5bb9\u5668 {#pressure_vessel_example}\r\n\r\n\u672c\u4f8b\u6f14\u793a\u5982\u4f55\u521b\u5efa\u4e00\u4e2a\u57fa\u672c\u538b\u529b\u5bb9\u5668\u5e76\u5bf9\u5176\u65bd\u52a0\u538b\u529b\u3002\r\n\r\nAlso shown here:\r\n\r\n-   \u4ece MAPDL \u83b7\u53d6\u5e94\u529b\u7ed3\u679c\u7684\u5404\u79cd\u65b9\u6cd5\u3002\r\n-   PRNSOL\u3001VGET\uff08\u66f4\u9ad8\u6548\u7684\u5c01\u88c5\uff09\u548c\u4f20\u7edf\u8bfb\u53d6\u5668\u4e4b\u95f4\u7684\u6bd4\u8f83\u3002\r\n-   \u4f7f\u7528 PRNSOL \u65f6\u6709\u5173 FULL \u56fe\u5f62\u4e0e POWER \u56fe\u5f62\u7684\u6ce8\u610f\u4e8b\u9879\u3002\r\n"
      ]
    },
    {
      "cell_type": "code",
      "execution_count": null,
      "metadata": {
        "collapsed": false
      },
      "outputs": [],
      "source": [
        "import numpy as np\n\nfrom ansys.mapdl.core import launch_mapdl\n\n# start mapdl, enter the preprocessor, and set the units\nmapdl = launch_mapdl()\n\nmapdl.clear()\nmapdl.prep7()\n\n# US Customary system using inches (in, lbf*s2/in, s, \u00b0F).  \u7f8e\u56fd\u60ef\u7528\u5236\u82f1\u5bf8\uff08\u82f1\u5bf8\uff0c\u78c5\u82f1\u5c3a*\u5e73\u65b9\u82f1\u5bf8\uff0c\u79d2\uff0c\u00b0F\uff09\u3002\nmapdl.units(\"BIN\")"
      ]
    },
    {
      "cell_type": "markdown",
      "metadata": {},
      "source": [
        "\u8bbe\u7f6e\u6750\u6599\u548c\u5355\u5143\u7c7b\u578b\r\n"
      ]
    },
    {
      "cell_type": "code",
      "execution_count": null,
      "metadata": {
        "collapsed": false
      },
      "outputs": [],
      "source": [
        "mapdl.et(1, \"SOLID285\")\nmapdl.mp(\"EX\", 1, 10e6)\nmapdl.mp(\"PRXY\", 1, 0.3)\nmapdl.mp(\"DENS\", 1, 0.1)\nprint(mapdl.mplist())"
      ]
    },
    {
      "cell_type": "markdown",
      "metadata": {},
      "source": [
        "\u521b\u5efa\u51e0\u4f55\u56fe\u5f62\r\n"
      ]
    },
    {
      "cell_type": "code",
      "execution_count": null,
      "metadata": {
        "collapsed": false
      },
      "outputs": [],
      "source": [
        "# area generation\nheight = 10\ninner_width = 2.5\nouter_width = 3.5\nmapdl.rectng(inner_width, outer_width, 0, height)\nmapdl.cyl4(0, height, inner_width, 0, outer_width, 90)\n\n# combine areas\na_comb = mapdl.aadd(1, 2)\nmapdl.aplot(color=\"grey\", background=\"w\", show_area_numbering=True)\n\n# Generate a cylindrical volume by rotating an area pattern about an axis\nmapdl.vrotat(a_comb, pax1=6, arc=90)\nmapdl.vplot(background=\"w\",show_volume_numbering=True)"
      ]
    },
    {
      "cell_type": "markdown",
      "metadata": {},
      "source": [
        "\u521b\u5efa\u7f51\u683c\r\n"
      ]
    },
    {
      "cell_type": "code",
      "execution_count": null,
      "metadata": {
        "collapsed": false
      },
      "outputs": [],
      "source": [
        "mapdl.smrtsize(1)\nmapdl.esize(0.25, 0)\nmapdl.mshape(1, \"3D\")\nmapdl.mshkey(0)\nmapdl.vmesh(\"ALL\")\nmapdl.eplot(color=\"grey\", background=\"w\")"
      ]
    },
    {
      "cell_type": "markdown",
      "metadata": {},
      "source": [
        "Solve\r\n"
      ]
    },
    {
      "cell_type": "code",
      "execution_count": null,
      "metadata": {
        "collapsed": false
      },
      "outputs": [],
      "source": [
        "# \u8fb9\u754c\u6761\u4ef6\u9009\u62e9\nmapdl.geometry.area_select([3, 5, 7])\nmapdl.da(\"ALL\", \"SYMM\")\nmapdl.allsel()\n\n# \u65bd\u52a0\u538b\u529b\nmapdl.geometry.area_select([1, 6])\nmapdl.sfa(\"ALL\", 1, \"PRES\", 1000)\nmapdl.allsel()\n\n# solver\nmapdl.run(\"/SOL\")\nmapdl.antype(0)\nmapdl.outres(\"ALL\", \"ALL\")\nmapdl.run(\"/STATUS,SOLU\")\nsol_output = mapdl.solve()\nmapdl.finish()"
      ]
    },
    {
      "cell_type": "markdown",
      "metadata": {},
      "source": [
        "# Post-Processing\r\n\r\n\u8f93\u5165 MAPDL \u540e\u5904\u7406\u547d\u4ee4 (/POST1)\r\n\u5e76\u83b7\u53d6\u5355\u4e00\u9759\u6001\u89e3\u7684\u51af\u7c73\u65af\u5e94\u529b\u3002\u5728\u8fd9\u91cc\uff0c\u6211\u4eec\u76f4\u63a5\u4f7f\u7528 MAPDL\r\n\u6765\u83b7\u53d6\u7ed3\u679c\uff0c\u4f7f\u7528 VGET \u65b9\u6cd5\u7684\u5305\u88c5\u5668\u6765\u9ad8\u6548\u7684\u83b7\u53d6\u7ed3\u679c\uff0c\u800c\u65e0\u9700\u8f93\u51fa\u5230\u78c1\u76d8\u3002\r\n"
      ]
    },
    {
      "cell_type": "code",
      "execution_count": null,
      "metadata": {
        "collapsed": false
      },
      "outputs": [],
      "source": [
        "# \u8fdb\u5165\u540e\u5904\u7406\u7a0b\u5e8f\nmapdl.post1()\nmapdl.set(1, 1)\n\n# \u76f4\u63a5\u6765\u81ea MAPDL \u7684 VGET \u547d\u4ee4\u7684\u7ed3\u679c\n# VGET, __VAR__, NODE, , S, EQV\nnnum = mapdl.mesh.nnum # Array of node numbers.\nvon_mises_mapdl = mapdl.post_processing.nodal_eqv_stress()\n\n# \u6211\u4eec\u53ef\u4ee5\u7528\u4ee5\u4e0b\u65b9\u6cd5\u6253\u5370\u51fa\u6bcf\u4e2a\u8282\u70b9\u7684\u89e3\uff1a\n\nprint(f\"\\nNode  Stress (psi)\")\nfor node_num, stress_value in zip(nnum[:5], von_mises_mapdl[:5]):\n    print(f\"{node_num:<5d} {stress_value:.3f}\")\nprint(\"...\")\n\n# \u6216\u76f4\u63a5\u83b7\u53d6\u6700\u5927\u5e94\u529b\u503c\u548c\u76f8\u5e94\u7684\u8282\u70b9\nidx = np.argmax(von_mises_mapdl)\nnode_num = nnum[idx]\nstress_value = von_mises_mapdl[idx]\nprint(f\"\\nMaximum Stress\")\nprint(f\"Node  Stress (psi)\")\nprint(f\"{node_num:<5d} {stress_value:.3f}\")"
      ]
    },
    {
      "cell_type": "markdown",
      "metadata": {},
      "source": [
        "Plot the results\r\n"
      ]
    },
    {
      "cell_type": "code",
      "execution_count": null,
      "metadata": {
        "collapsed": false
      },
      "outputs": [],
      "source": [
        "mapdl.post_processing.plot_nodal_eqv_stress(cpos=\"zy\")"
      ]
    },
    {
      "cell_type": "markdown",
      "metadata": {},
      "source": [
        "\u6211\u4eec\u4e5f\u53ef\u4ee5\u4f7f\u7528\u4f20\u7edf\u6587\u4ef6\u9605\u8bfb\u5668\r\n[ansys-mapdl-reader](https://github.com/ansys/pymapdl-reader)\r\n\u76f4\u63a5\u8bbf\u95ee\u7ed3\u679c\u6587\u4ef6\uff0c\u5f97\u5230\u5b8c\u5168\u76f8\u540c\u7684\u7ed3\u679c\u3002\r\n"
      ]
    },
    {
      "cell_type": "code",
      "execution_count": null,
      "metadata": {
        "collapsed": false
      },
      "outputs": [],
      "source": [
        "# \u8bbf\u95ee\u7ed3\u679c\nresult = mapdl.result\n\n# \u83b7\u53d6\u51af\u7c73\u585e\u65af\u5e94\u529b\uff0c\u5e76\u8bc1\u660e\u5b83\u7b49\u540c\u4e8e\u4ece MAPDL \u4e2d\u83b7\u53d6\u7684\u5e94\u529b\u3002\nnnum, stress = result.principal_nodal_stress(0)\nvon_mises = stress[:, -1]  # von-Mises \u5e94\u529b\u662f\u6700\u53f3\u8fb9\u7684\u4e00\u5217\nmin_von_mises, max_von_mises = np.min(von_mises), np.max(von_mises)\nprint(\"All close:\", np.allclose(von_mises, von_mises_mapdl))"
      ]
    },
    {
      "cell_type": "markdown",
      "metadata": {},
      "source": [
        "\u8fd9\u4e9b\u7ed3\u679c\u7b49\u540c\u4e8e PRNSOL \u7684\u7ed3\u679c\u3002\r\n\r\n::: note\r\n::: title\r\nNote\r\n:::\r\n\r\n\u4f7f\u7528 `mapdl.graphics('POWER')` \u542f\u7528 POWER GRAPHICS \u5c06\u6539\u53d8\u5e73\u5747\u540e\u7684\u7ed3\u679c\u3002\r\n:::\r\n"
      ]
    },
    {
      "cell_type": "code",
      "execution_count": null,
      "metadata": {
        "collapsed": false
      },
      "outputs": [],
      "source": [
        "mapdl.header(\"OFF\", \"OFF\", \"OFF\", \"OFF\", \"OFF\", \"OFF\")\ntable = mapdl.prnsol(\"S\", \"PRIN\").splitlines()[1:]\nprnsol_eqv = np.genfromtxt(table)[:, -1]  # eqv \u662f\u6700\u540e\u4e00\u5217\n\n# \u663e\u793a\u8fd9\u4e9b\u6570\u636e\u662f\u76f8\u7b49\u7684\uff08\u7531\u4e8e PRNSOL \u5185\u7684\u56db\u820d\u4e94\u5165\uff0c\u56e0\u6b64\u4e3a RTOL\uff09\nprint(\"All close:\", np.allclose(von_mises, prnsol_eqv, rtol=1e-4))\n\nprint(f\"LEGACY Reader and MAPDL VGET Min: {min_von_mises}\")\nprint(f\"PRNSOL MAPDL Min:                 {prnsol_eqv.min()}\")\nprint()\nprint(f\"LEGACY Reader and MAPDL VGET Max: {max_von_mises}\")\nprint(f\"PRNSOL MAPDL Max:                 {prnsol_eqv.max()}\")"
      ]
    },
    {
      "cell_type": "markdown",
      "metadata": {},
      "source": [
        "# Stop mapdl\r\n"
      ]
    },
    {
      "cell_type": "code",
      "execution_count": null,
      "metadata": {
        "collapsed": false
      },
      "outputs": [],
      "source": [
        "mapdl.exit()"
      ]
    }
  ],
  "metadata": {
    "kernelspec": {
      "display_name": "Python 3",
      "language": "python",
      "name": "python3"
    },
    "language_info": {
      "codemirror_mode": {
        "name": "ipython",
        "version": 3
      },
      "file_extension": ".py",
      "mimetype": "text/x-python",
      "name": "python",
      "nbconvert_exporter": "python",
      "pygments_lexer": "ipython3",
      "version": "3.10.1"
    }
  },
  "nbformat": 4,
  "nbformat_minor": 0
}