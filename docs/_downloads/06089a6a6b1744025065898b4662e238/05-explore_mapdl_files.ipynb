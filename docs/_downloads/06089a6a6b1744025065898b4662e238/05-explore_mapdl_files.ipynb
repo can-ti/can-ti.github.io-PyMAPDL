{
  "cells": [
    {
      "cell_type": "markdown",
      "metadata": {},
      "source": [
        "# \u4e8c\u8fdb\u5236 MAPDL \u6587\u4ef6\u8d44\u6e90\u7ba1\u7406\u5668 {#ref_xpl_example}\r\n\r\n\u672c\u6559\u7a0b\u5c06\u6f14\u793a\u5982\u4f55\u63a2\u7d22 MAPDL \u4f1a\u8bdd\u751f\u6210\u7684\u4e8c\u8fdb\u5236\u6587\u4ef6\u5185\u5bb9\u5e76\u63d0\u53d6\u76f8\u5173\u8bb0\u5f55\u3002\r\n\r\n\u8fd9\u4e9b\u6587\u4ef6\u5305\u62ec APDL \u751f\u6210\u7684\u5927\u591a\u6570\u4e8c\u8fdb\u5236\u6587\u4ef6\uff08\u5982 `.RST` \u3001`.FULL` \u7b49\uff09\u3002\r\n"
      ]
    },
    {
      "cell_type": "code",
      "execution_count": null,
      "metadata": {
        "collapsed": false
      },
      "outputs": [],
      "source": [
        "from ansys.mapdl.core import launch_mapdl\n\n# \u5c06 MAPDL \u4f5c\u4e3a\u670d\u52a1\u542f\u52a8\uff0c\u5e76\u7981\u7528\u9664\u9519\u8bef\u4fe1\u606f\u4e4b\u5916\u7684\u6240\u6709\u529f\u80fd\u3002\nfrom ansys.mapdl.core.examples import vmfiles\n\nmapdl = launch_mapdl()\n\n# mapdl \u7c7b\u4e0b\u7684\u4e00\u4e2a\u7279\u5b9a\u5c5e\u6027\u4e13\u95e8\u7528\u4e8e XPL\u3002\u5b83\u57fa\u4e8e APDLMath `*XPL` \u547d\u4ee4\u3002\nxpl = mapdl.xpl\n\n# \u8bb8\u591a\u547d\u4ee4\u53ef\u901a\u8fc7 xpl \u7c7b\u76f4\u63a5\u8bbf\u95ee\uff1a\nhelp(xpl)"
      ]
    },
    {
      "cell_type": "markdown",
      "metadata": {},
      "source": [
        "# Open and explore a file\r\n\r\n\u9996\u5148\uff0c\u60a8\u9700\u8981\u6253\u5f00\u4e00\u4e2a\u73b0\u6709\u6587\u4ef6\u3002\u6211\u4eec\u53ef\u4ee5\u901a\u8fc7\u8fd0\u884c\u4e00\u4e2a\u9a8c\u8bc1\u624b\u52a8\u8f93\u5165\u6587\u4ef6\u6765\u521b\u5efa\u4e00\u4e2a\u793a\u4f8b\u7ed3\u679c\u6587\u4ef6\uff0c\u7136\u540e\u6253\u5f00\u5b83\u521b\u5efa\u7684\u7ed3\u679c\u6587\u4ef6\u3002\r\n\r\n**NOTE:** \u76ee\u524d\u4e00\u6b21\u53ea\u80fd\u6253\u5f00\u4e00\u4e2a\u6587\u4ef6\r\n"
      ]
    },
    {
      "cell_type": "code",
      "execution_count": null,
      "metadata": {
        "collapsed": false
      },
      "outputs": [],
      "source": [
        "# \u8fd0\u884c Verification Manual 1 \u5e76\u6253\u5f00\u5176\u521b\u5efa\u7684\u7ed3\u679c\u6587\u4ef6\nmapdl.input(vmfiles[\"vm1\"])\nprint(xpl.open(\"file.rst\"))"
      ]
    },
    {
      "cell_type": "markdown",
      "metadata": {},
      "source": [
        "\u4f7f\u7528 [list]{.title-ref} \u51fd\u6570\uff0c\u53ef\u4ee5\u5217\u51fa\u5f53\u524d\u5c42\u7ea7\u7684\u53ef\u7528\u8bb0\u5f55\u3002\r\n"
      ]
    },
    {
      "cell_type": "code",
      "execution_count": null,
      "metadata": {
        "collapsed": false
      },
      "outputs": [],
      "source": [
        "print(xpl.list())"
      ]
    },
    {
      "cell_type": "markdown",
      "metadata": {},
      "source": [
        "\u4f7f\u7528 `step` \u548c `up` \u51fd\u6570\uff0c\u60a8\u53ef\u4ee5\u5411\u4e0b\u8fdb\u5165\u6811\u7684\u67d0\u4e2a\u5206\u652f\uff0c\u6216\u5411\u4e0a\u8fdb\u5165\u6811\u7684\u9876\u5c42\r\n"
      ]
    },
    {
      "cell_type": "code",
      "execution_count": null,
      "metadata": {
        "collapsed": false
      },
      "outputs": [],
      "source": [
        "xpl.step(\"GEO\")\nprint(xpl.list())"
      ]
    },
    {
      "cell_type": "markdown",
      "metadata": {},
      "source": [
        "\u663e\u793a\u60a8\u5728\u6811\u6216\u8bb0\u5f55\u4e2d\u7684\u4f4d\u7f6e\uff1a\r\n"
      ]
    },
    {
      "cell_type": "code",
      "execution_count": null,
      "metadata": {
        "collapsed": false
      },
      "outputs": [],
      "source": [
        "print(xpl.where())"
      ]
    },
    {
      "cell_type": "markdown",
      "metadata": {},
      "source": [
        "\u4e0a\u4e00\u7ea7\u56de\u5230\u9876\u90e8\uff0c\u7136\u540e\u5217\u51fa\u5f53\u524d\u70b9\u7684\u8bb0\u5f55\u3002\r\n"
      ]
    },
    {
      "cell_type": "code",
      "execution_count": null,
      "metadata": {
        "collapsed": false
      },
      "outputs": [],
      "source": [
        "xpl.up()\nprint(xpl.list())"
      ]
    },
    {
      "cell_type": "markdown",
      "metadata": {},
      "source": [
        "# Read a record into an APDLMath Vector\r\n\r\n`info` \u65b9\u6cd5\u5c06\u63d0\u4f9b\u8bb0\u5f55\u7684\u76f8\u5173\u4fe1\u606f\uff08\u5982\u957f\u5ea6\u3001\u6570\u636e\u7c7b\u578b\u7b49\uff09\u3002\r\n\r\n\u4f7f\u7528 `read` \u65b9\u6cd5\uff0c\u53ef\u4ee5\u8bfb\u53d6\u7279\u5b9a\u8bb0\u5f55\u5e76\u586b\u5145 APDLMath \u5bf9\u8c61\u3002\r\n"
      ]
    },
    {
      "cell_type": "code",
      "execution_count": null,
      "metadata": {
        "collapsed": false
      },
      "outputs": [],
      "source": [
        "print(xpl.info(\"DOF\"))\nv = xpl.read(\"DOF\")\nprint(v)"
      ]
    },
    {
      "cell_type": "markdown",
      "metadata": {},
      "source": [
        "\u8981\u5c06\u8be5\u5411\u91cf\u8f6c\u6362\u4e3a NumPy \u6570\u7ec4\uff0c\u9700\u8981\u660e\u786e\u4f7f\u7528 `asarray`\uff1a\r\n"
      ]
    },
    {
      "cell_type": "code",
      "execution_count": null,
      "metadata": {
        "collapsed": false
      },
      "outputs": [],
      "source": [
        "nod = v.asarray()\nprint(nod)"
      ]
    },
    {
      "cell_type": "markdown",
      "metadata": {},
      "source": [
        "\u8bfb\u53d6\u7b2c\u4e00\u4e2a\u8282\u70b9\u89e3\r\n"
      ]
    },
    {
      "cell_type": "code",
      "execution_count": null,
      "metadata": {
        "collapsed": false
      },
      "outputs": [],
      "source": [
        "# \u9996\u5148\uff0c\u6211\u4eec\u8fdb\u5165\u7b2c\u4e00\u4e2a set\n#\nprint(xpl.goto(\"DSI::SET1\"))\nprint(xpl.list())"
      ]
    },
    {
      "cell_type": "markdown",
      "metadata": {},
      "source": [
        "Then we read the Nodal solution vector [\\\"NSL\\\"]{.title-ref} into a\r\nnumpy array\r\n"
      ]
    },
    {
      "cell_type": "code",
      "execution_count": null,
      "metadata": {
        "collapsed": false
      },
      "outputs": [],
      "source": [
        "u = xpl.read(\"NSL\")\nun = u.asarray()\nprint(un)"
      ]
    },
    {
      "cell_type": "markdown",
      "metadata": {},
      "source": [
        "\u5173\u95ed\u5df2\u6253\u5f00\u7684\u6587\u4ef6\r\n"
      ]
    },
    {
      "cell_type": "code",
      "execution_count": null,
      "metadata": {
        "collapsed": false
      },
      "outputs": [],
      "source": [
        "print(xpl.close())"
      ]
    },
    {
      "cell_type": "markdown",
      "metadata": {},
      "source": [
        "# Stop mapdl\r\n"
      ]
    },
    {
      "cell_type": "code",
      "execution_count": null,
      "metadata": {
        "collapsed": false
      },
      "outputs": [],
      "source": [
        "mapdl.exit()"
      ]
    }
  ],
  "metadata": {
    "kernelspec": {
      "display_name": "Python 3",
      "language": "python",
      "name": "python3"
    },
    "language_info": {
      "codemirror_mode": {
        "name": "ipython",
        "version": 3
      },
      "file_extension": ".py",
      "mimetype": "text/x-python",
      "name": "python",
      "nbconvert_exporter": "python",
      "pygments_lexer": "ipython3",
      "version": "3.10.1"
    }
  },
  "nbformat": 4,
  "nbformat_minor": 0
}