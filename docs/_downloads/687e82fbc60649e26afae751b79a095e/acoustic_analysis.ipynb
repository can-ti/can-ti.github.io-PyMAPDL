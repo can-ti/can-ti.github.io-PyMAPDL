{
  "cells": [
    {
      "cell_type": "markdown",
      "metadata": {},
      "source": [
        "# 3D \u58f0\u5b66\u5206\u6790 {#acoustic_analysis_example}\r\n\r\n\u672c\u4f8b\u6f14\u793a\u4e86\u5982\u4f55\u4f7f\u7528 PyMAPDL \u548c `FLUID` \u5355\u5143\u8fdb\u884c\u58f0\u5b66\u5206\u6790\u3002\r\n"
      ]
    },
    {
      "cell_type": "markdown",
      "metadata": {},
      "source": [
        "# Launch PyMAPDL\r\n\r\nLaunch PyMAPDL and load `matplotlib`.\r\n"
      ]
    },
    {
      "cell_type": "code",
      "execution_count": null,
      "metadata": {
        "collapsed": false
      },
      "outputs": [],
      "source": [
        "from matplotlib import pyplot as plt\n\nfrom ansys.mapdl.core import launch_mapdl\n\nmapdl = launch_mapdl()\n\nmapdl.clear()\nmapdl.prep7()\nmapdl.units(\"SI\")  # SI - International system (m, kg, s, K)."
      ]
    },
    {
      "cell_type": "markdown",
      "metadata": {},
      "source": [
        "# Element and Material Properties\r\n\r\n\u5b9a\u4e49 `FLUID30` \u548c `FLUID130` \u5355\u5143\u7c7b\u578b\u3002\r\n"
      ]
    },
    {
      "cell_type": "code",
      "execution_count": null,
      "metadata": {
        "collapsed": false
      },
      "outputs": [],
      "source": [
        "mapdl.et(1, \"FLUID30\", kop1=2)\n\n\n# \u5b9a\u4e49\u6750\u6599\u5c5e\u6027\nmapdl.mp(\"SONC\", 1, 1500)  # sonc in m/s\nmapdl.mp(\"DENS\", 1, 1000)  # Density in kg/m3\nprint(mapdl.mplist())\n\n\n# \u5b9a\u4e49\u5b9e\u5e38\u6570\nmapdl.r(\"1\", \"1e-6\")  # Reference pressure for R set 1\nprint(mapdl.rlist())"
      ]
    },
    {
      "cell_type": "markdown",
      "metadata": {},
      "source": [
        "# Geometry Definition\r\n\r\nCreate a simple sphere.\r\n"
      ]
    },
    {
      "cell_type": "code",
      "execution_count": null,
      "metadata": {
        "collapsed": false
      },
      "outputs": [],
      "source": [
        "vnum = mapdl.sphere(rad1=0.5, rad2=1.0)\nmapdl.vsbw(\"all\")\nmapdl.vplot(show_area_numbering=True)"
      ]
    },
    {
      "cell_type": "markdown",
      "metadata": {},
      "source": [
        "# Geometry Meshing\r\n\r\nFirst select the material and elements.\r\n"
      ]
    },
    {
      "cell_type": "code",
      "execution_count": null,
      "metadata": {
        "collapsed": false
      },
      "outputs": [],
      "source": [
        "mapdl.type(itype=1)\nmapdl.real(nset=1)\nmapdl.mat(mat=1)\nmapdl.mshape(1, \"3D\")"
      ]
    },
    {
      "cell_type": "markdown",
      "metadata": {},
      "source": [
        "Then choose the element size and perform the mesh.\r\n"
      ]
    },
    {
      "cell_type": "code",
      "execution_count": null,
      "metadata": {
        "collapsed": false
      },
      "outputs": [],
      "source": [
        "mapdl.esize(0.25)\nmapdl.vmesh(\"all\")\nmapdl.eplot(show_node_numbering=False)"
      ]
    },
    {
      "cell_type": "markdown",
      "metadata": {},
      "source": [
        "# Boundary Conditions\r\n\r\nAdd surface boundary condition to the nodes using\r\n`Mapdl.sf() <ansys.mapdl.core.Mapdl.sf>`{.interpreted-text role=\"func\"}\r\nand the option `SHLD` for *Surface normal velocity or acceleration*.\r\n"
      ]
    },
    {
      "cell_type": "code",
      "execution_count": null,
      "metadata": {
        "collapsed": false
      },
      "outputs": [],
      "source": [
        "mapdl.csys(2)\nmapdl.asel(\"s\", \"loc\", \"x\", 0.5)\nmapdl.csys(0)\nmapdl.nsla(\"S\", 1)\nmapdl.sf(\"all\", \"SHLD\", 5)\nmapdl.allsel()"
      ]
    },
    {
      "cell_type": "markdown",
      "metadata": {},
      "source": [
        "# Solve the model\r\n\r\nUsing `Mapdl.solve() <ansys.mapdl.core.Mapdl.solve>`{.interpreted-text\r\nrole=\"func\"}\r\n"
      ]
    },
    {
      "cell_type": "code",
      "execution_count": null,
      "metadata": {
        "collapsed": false
      },
      "outputs": [],
      "source": [
        "mapdl.allsel()\nmapdl.run(\"/SOLU\")\nmapdl.antype(3)\nmapdl.harfrq(freqb=200, freqe=1000)\nmapdl.autots(\"off\")\nmapdl.nsubst(40)\nmapdl.kbc(0)\n\nmapdl.outres(\"erase\")  # Save less data in order to reduce the size of .rst file\nmapdl.outres(\"all\", \"none\")  # NOTE that other output like stresses is not saved\nmapdl.outres(\"nsol\", \"all\")  # Save pressure and displacement\nmapdl.outres(\"fgrad\", \"all\")  # Save velocities\nmapdl.outres(\"misc\", \"all\")  # For post processing calculations\n\nmapdl.solve()"
      ]
    },
    {
      "cell_type": "markdown",
      "metadata": {},
      "source": [
        "# Post1: Time step results\r\n\r\nListing the results\r\n"
      ]
    },
    {
      "cell_type": "code",
      "execution_count": null,
      "metadata": {
        "collapsed": false
      },
      "outputs": [],
      "source": [
        "mapdl.post1()\nprint(mapdl.set(\"LIST\"))"
      ]
    },
    {
      "cell_type": "markdown",
      "metadata": {},
      "source": [
        "# Post26: Time dependent results\r\n\r\nGetting results for specific nodes\r\n"
      ]
    },
    {
      "cell_type": "code",
      "execution_count": null,
      "metadata": {
        "collapsed": false
      },
      "outputs": [],
      "source": [
        "mapdl.post26()\nfreqs = mapdl.post_processing.time_values[::2]\nnode = 276\n\n# Getting results\nnode_pressure = mapdl.nsol(3, node, \"spl\")\nnode_sound_pressure_level = mapdl.nsol(4, node, \"SPLA\")\n\n# Plotting\nfig, ax = plt.subplots(1, 2)\n\nax[0].plot(freqs, node_pressure)\nax[0].set_xlabel(\"Frequencies (Hz)\")\nax[0].set_ylabel(\"Sound pressure level (Pa)\")\n\nax[1].plot(freqs, node_sound_pressure_level, label=\"Nodal Sound Pressure\")\nax[1].set_xlabel(\"Frequencies (Hz)\")\nax[1].set_ylabel(\"A-weighted sound\\npressure level (dBA)\")\n\nfig.suptitle(f\"Node {node} Results\")\nfig.tight_layout()\nfig.show()"
      ]
    },
    {
      "cell_type": "markdown",
      "metadata": {},
      "source": [
        "Stop MAPDL\r\n"
      ]
    },
    {
      "cell_type": "code",
      "execution_count": null,
      "metadata": {
        "collapsed": false
      },
      "outputs": [],
      "source": [
        "mapdl.exit()"
      ]
    }
  ],
  "metadata": {
    "kernelspec": {
      "display_name": "Python 3",
      "language": "python",
      "name": "python3"
    },
    "language_info": {
      "codemirror_mode": {
        "name": "ipython",
        "version": 3
      },
      "file_extension": ".py",
      "mimetype": "text/x-python",
      "name": "python",
      "nbconvert_exporter": "python",
      "pygments_lexer": "ipython3",
      "version": "3.10.1"
    }
  },
  "nbformat": 4,
  "nbformat_minor": 0
}