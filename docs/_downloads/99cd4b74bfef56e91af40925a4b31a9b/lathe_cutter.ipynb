{
  "cells": [
    {
      "cell_type": "markdown",
      "metadata": {},
      "source": [
        "# \u8f66\u5e8a\u5200\u5177\u7ed3\u6784\u5206\u6790 {#ref_lathe_cutter_example}\r\n\r\n\u4ecb\u7ecd PyMAPDL \u7684\u57fa\u672c\u529f\u80fd\u3002\r\n\r\n## Objective\r\n\r\n\u672c\u793a\u4f8b\u7684\u76ee\u7684\u662f\u901a\u8fc7\u8f66\u5200\u6709\u9650\u5143\u6a21\u578b\u6765\u7a81\u51fa PyMAPDL \u7684\u4e00\u4e9b\u5e38\u7528\u529f\u80fd\u3002\r\n\u8f66\u5e8a\u94e3\u5200\u6709\u591a\u79cd\u78e8\u635f\u548c\u5931\u6548\u9014\u5f84\uff0c\u652f\u6301\u5176\u8bbe\u8ba1\u7684\u5206\u6790\u901a\u5e38\u662f\u77ac\u6001\u70ed\u7ed3\u6784\u5206\u6790\u3002\r\n\u4e0d\u8fc7\uff0c\u4e3a\u4e86\u7b80\u5355\u8d77\u89c1\uff0c\u672c\u4eff\u771f\u793a\u4f8b\u4f7f\u7528\u4e86\u975e\u5747\u5300\u8f7d\u8377\u3002\r\n\r\n<figure>\r\n<img src=\"../../../_static/lathe_cutter_model.png\" class=\"align-center\"\r\nwidth=\"600\" alt=\"../../../_static/lathe_cutter_model.png\" />\r\n<figcaption><strong>Figure 1:\r\n\u8f66\u5e8a\u94e3\u5200\u51e0\u4f55\u5f62\u72b6\u548c\u8d1f\u8f7d\u63cf\u8ff0</strong></figcaption>\r\n</figure>\r\n\r\n## Contents\r\n\r\n1.  **\u53d8\u91cf\u548c\u542f\u52a8\uff1a** \u5b9a\u4e49\u5fc5\u8981\u7684\u53d8\u91cf\u5e76\u542f\u52a8 MAPDL\u3002\r\n2.  **\u51e0\u4f55\u3001\u7f51\u683c\u548c MAPDL \u53c2\u6570\uff1a** \u5bfc\u5165\u51e0\u4f55\u4f53\u5e76\u68c0\u67e5 MAPDL \u53c2\u6570\u3002\u4f7f\u7528\r\n    Python \u53d8\u91cf\u5b9a\u4e49\u7ebf\u6027\u5f39\u6027\u6750\u6599\u6a21\u578b\u3002\u7ed8\u5236\u7f51\u683c\u5e76\u5e94\u7528\u5bf9\u79f0\u8fb9\u754c\u6761\u4ef6\u3002\r\n3.  **\u5750\u6807\u7cfb\u548c\u8f7d\u8377\uff1a** \u4e3a\u5916\u52a0\u8f7d\u8377\u521b\u5efa\u5c40\u90e8\u5750\u6807\u7cfb\uff0c\u5e76\u901a\u8fc7\u7ed8\u56fe\u8fdb\u884c\u9a8c\u8bc1\u3002\r\n4.  **\u538b\u529b\u8d1f\u8377\uff1a** \u4f7f\u7528 numpy\r\n    \u6570\u7ec4\u5c06\u538b\u529b\u8d1f\u8377\u5b9a\u4e49\u4e3a\u5e94\u7528\u533a\u57df\u957f\u5ea6\u7684\u6b63\u5f26\u51fd\u6570\u3002\u5c06\u538b\u529b\u6570\u7ec4\u4f5c\u4e3a\u8868\u6570\u7ec4\u5bfc\u5165\r\n    MAPDL\u3002\u9a8c\u8bc1\u5e94\u7528\u8f7d\u8377\u5e76\u6c42\u89e3\u3002\r\n5.  **\u7ed8\u56fe\uff1a** \u663e\u793a\u7ed3\u679c\u7ed8\u56fe\u3001\u9009\u62e9\u7ed8\u56fe\u4ee5\u53ca\u4f7f\u7528\u7ed8\u56fe\u56fe\u4f8b\u3002\r\n6.  **\u540e\u5904\u7406\uff1a** \u5217\u51fa\u7ed3\u679c\u7684\u4e24\u79cd\u65b9\u6cd5\uff1a\u4f7f\u7528 PyMAPDL \u548c Pythonic \u7248\u672c\u7684\r\n    APDL\u3002\u6f14\u793a\u6269\u5c55\u65b9\u6cd5\u548c\u5c06\u5217\u8868\u5199\u5165\u6587\u4ef6\u3002\r\n7.  **\u9ad8\u7ea7\u7ed8\u56fe\uff1a** \u4f7f\u7528 `pyvista.UnstructuredGrid`{.interpreted-text\r\n    role=\"class\"} \u8fdb\u884c\u989d\u5916\u7684\u540e\u5904\u7406\u3002\r\n\r\n## Step 1: Variables and launch\r\n\r\n\u5b9a\u4e49\u53d8\u91cf\u5e76\u542f\u52a8 MAPDL\u3002\r\n"
      ]
    },
    {
      "cell_type": "code",
      "execution_count": null,
      "metadata": {
        "collapsed": false
      },
      "outputs": [],
      "source": [
        "import os\n\nimport numpy as np\n\nfrom ansys.mapdl.core import launch_mapdl\nfrom ansys.mapdl.core.examples.downloads import download_example_data\n\n# cwd = current working directory \u5f53\u524d\u5de5\u4f5c\u76ee\u5f55\npath = os.getcwd()\nprint(path)\nPI = np.pi\nEXX = 1.0e7\nNU = 0.27"
      ]
    },
    {
      "cell_type": "markdown",
      "metadata": {},
      "source": [
        "\u5e38\u7528\u7684 MAPDL \u547d\u4ee4\u884c\u9009\u9879\u5728\r\n`ansys.mapdl.core.launcher.launch_mapdl`{.interpreted-text role=\"func\"}\r\n\u4e2d\u4ee5 Pythonic \u53c2\u6570\u540d\u516c\u5f00\u3002 \u4f8b\u5982\uff0c `-dir` \u53d8\u6210\u4e86 `run_location`\r\n\u3002\u60a8\u53ef\u4ee5\u4f7f\u7528 `run_location` \u6307\u5b9a MAPDL \u7684\u8fd0\u884c\u4f4d\u7f6e\u3002\u4f8b\u5982\r\n\r\n``` python\r\nmapdl = launch_mapdl(run_location=path)\r\n```\r\n\r\n\u5426\u5219\uff0cMAPDL \u7684\u5de5\u4f5c\u76ee\u5f55\u5c06\u5b58\u50a8\u5728 `mapdl.directory` \u4e2d\u3002\u5728\u8fd9\u4e2a\u76ee\u5f55\u4e2d\uff0cMAPDL\r\n\u5c06\u521b\u5efa\u6211\u4eec\u7a0d\u540e\u8981\u5c55\u793a\u7684\u4e00\u4e9b\u56fe\u50cf\u3002\r\n\r\n\u6ca1\u6709 Pythonic \u7248\u672c\u7684\u9009\u9879\u53ef\u4ee5\u901a\u8fc7 `additional_switches` \u53c2\u6570\u8bbf\u95ee\u3002\r\n\u8fd9\u91cc\u4f7f\u7528 `-smp` \u53ea\u662f\u4e3a\u4e86\u5c3d\u91cf\u51cf\u5c11\u6c42\u89e3\u5668\u6587\u4ef6\u7684\u6570\u91cf\u3002\r\n"
      ]
    },
    {
      "cell_type": "code",
      "execution_count": null,
      "metadata": {
        "collapsed": false
      },
      "outputs": [],
      "source": [
        "mapdl = launch_mapdl(additional_switches=\"-smp\")"
      ]
    },
    {
      "cell_type": "markdown",
      "metadata": {},
      "source": [
        "# Step 2: Geometry, mesh, and MAPDL parameters\r\n\r\n-   \u5bfc\u5165\u51e0\u4f55\u4f53\u5e76\u68c0\u67e5 MAPDL \u53c2\u6570\u3002\r\n-   \u5b9a\u4e49\u6750\u6599\u548c\u7f51\u683c\uff0c\u7136\u540e\u521b\u5efa\u8fb9\u754c\u6761\u4ef6\u3002\r\n"
      ]
    },
    {
      "cell_type": "code",
      "execution_count": null,
      "metadata": {
        "collapsed": false
      },
      "outputs": [],
      "source": [
        "# \u9996\u5148\uff0c\u91cd\u7f6e MAPDL \u6570\u636e\u5e93\u3002\nmapdl.clear()"
      ]
    },
    {
      "cell_type": "markdown",
      "metadata": {},
      "source": [
        "\u5bfc\u5165\u51e0\u4f55\u4f53\u6587\u4ef6\u5e76\u5217\u51fa\u6240\u6709 MAPDL \u53c2\u6570\u3002\r\n"
      ]
    },
    {
      "cell_type": "code",
      "execution_count": null,
      "metadata": {
        "collapsed": false
      },
      "outputs": [],
      "source": [
        "lathe_cutter_geo = download_example_data(\"LatheCutter.anf\", \"geometry\")\nmapdl.input(lathe_cutter_geo)\nmapdl.finish()\nprint(mapdl.parameters)"
      ]
    },
    {
      "cell_type": "markdown",
      "metadata": {},
      "source": [
        "\u5728\u8f7d\u8377\u5b9a\u4e49\u4e2d\u4f7f\u7528\u5355\u4f4d\u957f\u5ea6\u7684\u538b\u529b\u9762\u79ef\u3002\r\n"
      ]
    },
    {
      "cell_type": "code",
      "execution_count": null,
      "metadata": {
        "collapsed": false
      },
      "outputs": [],
      "source": [
        "pressure_length = mapdl.parameters[\"PRESS_LENGTH\"]\n\nprint(mapdl.parameters)"
      ]
    },
    {
      "cell_type": "markdown",
      "metadata": {},
      "source": [
        "\u66f4\u6539\u5355\u4f4d\u548c\u6807\u9898\u3002\r\n"
      ]
    },
    {
      "cell_type": "code",
      "execution_count": null,
      "metadata": {
        "collapsed": false
      },
      "outputs": [],
      "source": [
        "mapdl.units(\"Bin\")\nmapdl.title(\"Lathe Cutter\")"
      ]
    },
    {
      "cell_type": "markdown",
      "metadata": {},
      "source": [
        "\u8bbe\u7f6e\u6750\u6599\u5c5e\u6027\r\n"
      ]
    },
    {
      "cell_type": "code",
      "execution_count": null,
      "metadata": {
        "collapsed": false
      },
      "outputs": [],
      "source": [
        "mapdl.prep7()\nmapdl.mp(\"EX\", 1, EXX)\nmapdl.mp(\"NUXY\", 1, NU)"
      ]
    },
    {
      "cell_type": "markdown",
      "metadata": {},
      "source": [
        "MAPDL \u5355\u5143\u7c7b\u578b `SOLID285`\r\n\u7528\u4e8e\u6f14\u793a\u76ee\u7684\u3002\u8bf7\u8003\u8651\u5728\u5b9e\u9645\u5e94\u7528\u4e2d\u4f7f\u7528\u9002\u5f53\u7684\u5355\u5143\u7c7b\u578b\u6216\u7f51\u683c\u5bc6\u5ea6\u3002\r\n"
      ]
    },
    {
      "cell_type": "code",
      "execution_count": null,
      "metadata": {
        "collapsed": false
      },
      "outputs": [],
      "source": [
        "mapdl.et(1, 285)\nmapdl.smrtsize(4)\nmapdl.aesize(14, 0.0025)\nmapdl.vmesh(1)\n\nmapdl.da(11, \"symm\")\nmapdl.da(16, \"symm\")\nmapdl.da(9, \"symm\")\nmapdl.da(10, \"symm\")"
      ]
    },
    {
      "cell_type": "markdown",
      "metadata": {},
      "source": [
        "# Step 3: Coordinate system and load\r\n\r\n\u521b\u5efa\u4e00\u4e2a\u5c40\u90e8\u5750\u6807\u7cfb\uff08CS\uff09\uff0c\u5c06\u65bd\u52a0\u7684\u538b\u529b\u4f5c\u4e3a\u5c40\u90e8\u5750\u6807\u8f74 X \u7684\u51fd\u6570\u3002\r\n\r\n\u5c40\u90e8\u5750\u6807\u7cfb ID = 11\r\n"
      ]
    },
    {
      "cell_type": "code",
      "execution_count": null,
      "metadata": {
        "collapsed": false
      },
      "outputs": [],
      "source": [
        "mapdl.cskp(11, 0, 2, 1, 13)\nmapdl.csys(1)\nmapdl.view(1, -1, 1, 1)\nmapdl.psymb(\"CS\", 1)\nmapdl.vplot(\n    color_areas=True,\n    show_lines=True,\n    cpos=[-1, 1, 1],\n    smooth_shading=True,\n)"
      ]
    },
    {
      "cell_type": "markdown",
      "metadata": {},
      "source": [
        "VTK \u56fe\u5f62\u4e0d\u663e\u793a MAPDL \u56fe\u5f62\u7b26\u53f7\u3002 \u4e0d\u8fc7\uff0c\u8981\u4f7f\u7528 MAPDL\r\n\u7ed8\u56fe\u529f\u80fd\uff0c\u53ef\u4ee5\u5c06\u5173\u952e\u5b57\u9009\u9879 `vtk` \u8bbe\u4e3a `False` \u3002\r\n"
      ]
    },
    {
      "cell_type": "code",
      "execution_count": null,
      "metadata": {
        "collapsed": false
      },
      "outputs": [],
      "source": [
        "mapdl.lplot(vtk=False)"
      ]
    },
    {
      "cell_type": "markdown",
      "metadata": {},
      "source": [
        "# Step 4: Pressure load\r\n\r\n\u521b\u5efa\u538b\u529b\u8f7d\u8377\uff0c\u5c06\u5176\u4f5c\u4e3a\u8868\u6570\u7ec4\u8f7d\u5165 MAPDL\uff0c\u9a8c\u8bc1\u8f7d\u8377\u5e76\u6c42\u89e3\u3002\r\n"
      ]
    },
    {
      "cell_type": "code",
      "execution_count": null,
      "metadata": {
        "collapsed": false
      },
      "outputs": [],
      "source": [
        "# pressure_length = 0.055 inch\n\npts = 10\npts_1 = pts - 1\n\nlength_x = np.arange(0, pts, 1)\nlength_x = length_x * pressure_length / pts_1\n\npress = 10000 * (np.sin(PI * length_x / pressure_length))"
      ]
    },
    {
      "cell_type": "markdown",
      "metadata": {},
      "source": [
        "`length_x` \u548c `press` \u662f\u4e00\u4e2a\u5411\u91cf\u3002\u8981\u5c06\u5b83\u4eec\u7ec4\u5408\u6210\u5b9a\u4e49 MAPDL\r\n\u8868\u6570\u7ec4\u6240\u9700\u7684\u6b63\u786e\u5f62\u5f0f\uff0c\u53ef\u4ee5\u4f7f\u7528\r\n[numpy.stack](https://numpy.org/doc/stable/reference/generated/numpy.stack.html)\r\n\u3002\r\n"
      ]
    },
    {
      "cell_type": "code",
      "execution_count": null,
      "metadata": {
        "collapsed": false
      },
      "outputs": [],
      "source": [
        "press = np.stack((length_x, press), axis=-1)\nmapdl.load_table(\"MY_PRESS\", press, \"X\", csysid=11)\n\nmapdl.asel(\"S\", \"Area\", \"\", 14)\nmapdl.nsla(\"S\", 1)\nmapdl.sf(\"All\", \"Press\", \"%MY_PRESS%\")\nmapdl.allsel()"
      ]
    },
    {
      "cell_type": "markdown",
      "metadata": {},
      "source": [
        "\u60a8\u53ef\u4ee5\u6253\u5f00 MAPDL GUI \u68c0\u67e5\u6a21\u578b\u3002\r\n\r\n``` python\r\nmapdl.open_gui()\r\n```\r\n"
      ]
    },
    {
      "cell_type": "markdown",
      "metadata": {},
      "source": [
        "\u8bbe\u7f6e\u6c42\u89e3\u3002\r\n"
      ]
    },
    {
      "cell_type": "code",
      "execution_count": null,
      "metadata": {
        "collapsed": false
      },
      "outputs": [],
      "source": [
        "mapdl.finish()\nmapdl.slashsolu()\nmapdl.nlgeom(\"On\")\nmapdl.psf(\"PRES\", \"NORM\", 3, 0, 1)\nmapdl.view(1, -1, 1, 1)\nmapdl.eplot(vtk=False)"
      ]
    },
    {
      "cell_type": "markdown",
      "metadata": {},
      "source": [
        "\u6c42\u89e3\u6a21\u578b\u3002\r\n"
      ]
    },
    {
      "cell_type": "code",
      "execution_count": null,
      "metadata": {
        "collapsed": false
      },
      "outputs": [],
      "source": [
        "mapdl.solve()\nmapdl.finish()\nif mapdl.solution.converged:\n    print(\"The solution has converged.\")"
      ]
    },
    {
      "cell_type": "markdown",
      "metadata": {},
      "source": [
        "# Step 5: Plotting\r\n"
      ]
    },
    {
      "cell_type": "code",
      "execution_count": null,
      "metadata": {
        "collapsed": false
      },
      "outputs": [],
      "source": [
        "mapdl.post1()\nmapdl.set(\"last\")\nmapdl.allsel()\n\nmapdl.post_processing.plot_nodal_principal_stress(\"1\", smooth_shading=False)"
      ]
    },
    {
      "cell_type": "markdown",
      "metadata": {},
      "source": [
        "# Plotting - Part of Model\r\n"
      ]
    },
    {
      "cell_type": "code",
      "execution_count": null,
      "metadata": {
        "collapsed": false
      },
      "outputs": [],
      "source": [
        "mapdl.csys(1)\nmapdl.nsel(\"S\", \"LOC\", \"Z\", -0.5, -0.141)\nmapdl.esln()\nmapdl.nsle()\nmapdl.post_processing.plot_nodal_principal_stress(\n    \"1\", edge_color=\"white\", show_edges=True\n)"
      ]
    },
    {
      "cell_type": "markdown",
      "metadata": {},
      "source": [
        "# Plotting - Legend Options\r\n"
      ]
    },
    {
      "cell_type": "code",
      "execution_count": null,
      "metadata": {
        "collapsed": false
      },
      "outputs": [],
      "source": [
        "mapdl.allsel()\nsbar_kwargs = {\n    \"color\": \"black\",\n    \"title\": \"1st Principal Stress (psi)\",\n    \"vertical\": False,\n    \"n_labels\": 6,\n}\nmapdl.post_processing.plot_nodal_principal_stress(\n    \"1\",\n    cpos=\"xy\",\n    background=\"white\",\n    edge_color=\"black\",\n    show_edges=True,\n    scalar_bar_args=sbar_kwargs,\n    n_colors=9,\n)"
      ]
    },
    {
      "cell_type": "markdown",
      "metadata": {},
      "source": [
        "\u8ba9\u6211\u4eec\u4ece [PyVista \u6587\u6863]() \u4e2d\u8bd5\u7528\u4e00\u4e9b\u6807\u91cf\u6761\u9009\u9879\u3002\r\n\u4f8b\u5982\uff0c\u5728\u7c73\u8272\u80cc\u666f\u4e0a\u8bbe\u7f6e\u9ed1\u8272\u6587\u5b57\u3002\r\n\r\n\u5b9a\u4e49\u4e3a Python \u5b57\u5178\u7684\u6807\u91cf\u6761\u5173\u952e\u5b57\u662f\u4f7f\u7528 {key:value} \u7684\u53e6\u4e00\u79cd\u65b9\u6cd5\u3002\r\n\u60a8\u4e5f\u53ef\u4ee5\u4f7f\u7528 \"\u5355\u51fb\u5e76\u62d6\u52a8\" \u65b9\u6cd5\u91cd\u65b0\u5b9a\u4f4d\u6807\u91cf\u680f\u3002\r\n\u8bd5\u7740\u6309\u4f4f\u9f20\u6807\u5de6\u952e\uff0c\u540c\u65f6\u79fb\u52a8\u9f20\u6807\u3002\r\n"
      ]
    },
    {
      "cell_type": "code",
      "execution_count": null,
      "metadata": {
        "collapsed": false
      },
      "outputs": [],
      "source": [
        "sbar_kwargs = dict(\n    title_font_size=20,\n    label_font_size=16,\n    shadow=True,\n    n_labels=9,\n    italic=True,\n    bold=True,\n    fmt=\"%.1f\",\n    font_family=\"arial\",\n    title=\"1st Principal Stress (psi)\",\n    color=\"black\",\n)\n\nmapdl.post_processing.plot_nodal_principal_stress(\n    \"1\",\n    cpos=\"xy\",\n    edge_color=\"black\",\n    background=\"beige\",\n    show_edges=True,\n    scalar_bar_args=sbar_kwargs,\n    n_colors=256,\n    cmap=\"jet\",\n)\n\n# cmap \u540d\u79f0 *_r \u901a\u5e38\u4f1a\u53cd\u8f6c\u503c\u3002\u8bd5\u8bd5 cmap='jet_r'"
      ]
    },
    {
      "cell_type": "markdown",
      "metadata": {},
      "source": [
        "# Step 6: Postprocessing\r\n\r\n## Results List\r\n\r\n\u5f97\u5230\u6240\u6709\u7684\u8282\u70b9\u4e3b\u5e94\u529b\u3002\r\n"
      ]
    },
    {
      "cell_type": "code",
      "execution_count": null,
      "metadata": {
        "collapsed": false
      },
      "outputs": [],
      "source": [
        "mapdl.post_processing.nodal_principal_stress(\"1\")"
      ]
    },
    {
      "cell_type": "markdown",
      "metadata": {},
      "source": [
        "\u83b7\u53d6\u8282\u70b9\u5b50\u96c6\u7684\u4e3b\u8282\u70b9\u5e94\u529b\u3002\r\n"
      ]
    },
    {
      "cell_type": "code",
      "execution_count": null,
      "metadata": {
        "collapsed": false
      },
      "outputs": [],
      "source": [
        "mapdl.nsel(\"S\", vmin=1200, vmax=1210)\nmapdl.esln()\nmapdl.nsle()\n\nprint(\"The node numbers are:\")\nprint(mapdl.mesh.nnum)  # get node numbers\n\nprint(\"The principal nodal stresses are:\")\nmapdl.post_processing.nodal_principal_stress(\"1\")"
      ]
    },
    {
      "cell_type": "markdown",
      "metadata": {},
      "source": [
        "# Results as lists, arrays, and DataFrames\r\n\r\n\u4f7f\u7528 `mapdl.prnsol`{.interpreted-text role=\"meth\"} \u68c0\u67e5\r\n"
      ]
    },
    {
      "cell_type": "code",
      "execution_count": null,
      "metadata": {
        "collapsed": false
      },
      "outputs": [],
      "source": [
        "print(mapdl.prnsol(\"S\", \"PRIN\"))"
      ]
    },
    {
      "cell_type": "markdown",
      "metadata": {},
      "source": [
        "\u4f7f\u7528\u6b64\u547d\u4ee4\u53ef\u4ee5\u5c06\u5176\u8f6c\u6362\u4e3a list \u7c7b\u578b\u3002\r\n"
      ]
    },
    {
      "cell_type": "code",
      "execution_count": null,
      "metadata": {
        "collapsed": false
      },
      "outputs": [],
      "source": [
        "mapdl_s_1_list = mapdl.prnsol(\"S\", \"PRIN\").to_list()\nprint(mapdl_s_1_list)"
      ]
    },
    {
      "cell_type": "markdown",
      "metadata": {},
      "source": [
        "\u4f7f\u7528\u6b64\u547d\u4ee4\u53ef\u4ee5\u5c06\u5176\u8f6c\u6362\u4e3a array \u7c7b\u578b\uff1a\r\n"
      ]
    },
    {
      "cell_type": "code",
      "execution_count": null,
      "metadata": {
        "collapsed": false
      },
      "outputs": [],
      "source": [
        "mapdl_s_1_array = mapdl.prnsol(\"S\", \"PRIN\").to_array()\nprint(mapdl_s_1_array)"
      ]
    },
    {
      "cell_type": "markdown",
      "metadata": {},
      "source": [
        "\u6216\u8f6c\u6362\u4e3a\u4e3a DataFrame\uff1a\r\n"
      ]
    },
    {
      "cell_type": "code",
      "execution_count": null,
      "metadata": {
        "collapsed": false
      },
      "outputs": [],
      "source": [
        "mapdl_s_1_df = mapdl.prnsol(\"S\", \"PRIN\").to_dataframe()\nmapdl_s_1_df.head()"
      ]
    },
    {
      "cell_type": "markdown",
      "metadata": {},
      "source": [
        "\u4f7f\u7528\u8be5\u547d\u4ee4\u53ef\u4ee5\u4ee5 DataFrame \u7684\u5f62\u5f0f\u83b7\u53d6\u6570\u636e\uff0cDataFrame \u662f\u4e00\u79cd [Pandas\r\n\u6570\u636e\u7c7b\u578b](https://pandas.pydata.org/docs/reference/api/pandas.DataFrame.html)\r\n\u3002\u7531\u4e8e\u5df2\u5bfc\u5165 Pandas\r\n\u6a21\u5757\uff0c\u56e0\u6b64\u53ef\u4ee5\u4f7f\u7528\u5176\u51fd\u6570\u3002\u4f8b\u5982\uff0c\u53ef\u4ee5\u5c06\u4e3b\u5e94\u529b\u5199\u5165\u6587\u4ef6\u3002\r\n"
      ]
    },
    {
      "cell_type": "code",
      "execution_count": null,
      "metadata": {
        "collapsed": false
      },
      "outputs": [],
      "source": [
        "# mapdl_s_1_df.to_csv(path + '\\prin-stresses.csv')\n# mapdl_s_1_df.to_json(path + '\\prin-stresses.json')\nmapdl_s_1_df.to_html(path + \"\\prin-stresses.html\")"
      ]
    },
    {
      "cell_type": "markdown",
      "metadata": {},
      "source": [
        "# Step 7: Advanced plotting\r\n"
      ]
    },
    {
      "cell_type": "code",
      "execution_count": null,
      "metadata": {
        "collapsed": false
      },
      "outputs": [],
      "source": [
        "mapdl.allsel()\nprincipal_1 = mapdl.post_processing.nodal_principal_stress(\"1\")"
      ]
    },
    {
      "cell_type": "markdown",
      "metadata": {},
      "source": [
        "\u5c06\u7ed3\u679c\u52a0\u8f7d\u5230 VTK grid \u4e2d\u3002\r\n"
      ]
    },
    {
      "cell_type": "code",
      "execution_count": null,
      "metadata": {
        "collapsed": false
      },
      "outputs": [],
      "source": [
        "grid = mapdl.mesh.grid\ngrid[\"p1\"] = principal_1\n\nsbar_kwargs = {\n    \"color\": \"black\",\n    \"title\": \"1st Principal Stress (psi)\",\n    \"vertical\": False,\n    \"n_labels\": 6,\n}"
      ]
    },
    {
      "cell_type": "markdown",
      "metadata": {},
      "source": [
        "\u6cbf XY \u5e73\u9762\u751f\u6210\u5355\u4e2a\u6c34\u5e73\u5207\u7247\u3002\r\n\r\n::: note\r\n::: title\r\nNote\r\n:::\r\n\r\nPyVista \u7684 `eye_dome_lighting`\r\n\u65b9\u6cd5\u7528\u4e8e\u589e\u5f3a\u5207\u7247\u7684\u7ed8\u56fe\u6548\u679c\u3002\u66f4\u591a\u4fe1\u606f\uff0c\u8bf7\u53c2\u9605 [Eye Dome Lighting]() \u3002\r\n:::\r\n"
      ]
    },
    {
      "cell_type": "code",
      "execution_count": null,
      "metadata": {
        "collapsed": false
      },
      "outputs": [],
      "source": [
        "single_slice = grid.slice(normal=[0, 0, 1], origin=[0, 0, 0])\nsingle_slice.plot(\n    scalars=\"p1\",\n    background=\"white\",\n    lighting=False,\n    eye_dome_lighting=True,\n    show_edges=False,\n    cmap=\"jet\",\n    n_colors=9,\n    scalar_bar_args=sbar_kwargs,\n)"
      ]
    },
    {
      "cell_type": "markdown",
      "metadata": {},
      "source": [
        "\u751f\u6210\u5e26\u6709\u4e09\u4e2a\u5207\u5e73\u9762\u7684\u7ed8\u56fe\u3002\r\n"
      ]
    },
    {
      "cell_type": "code",
      "execution_count": null,
      "metadata": {
        "collapsed": false
      },
      "outputs": [],
      "source": [
        "slices = grid.slice_orthogonal()\nslices.plot(\n    scalars=\"p1\",\n    background=\"white\",\n    lighting=False,\n    eye_dome_lighting=True,\n    show_edges=False,\n    cmap=\"jet\",\n    n_colors=9,\n    scalar_bar_args=sbar_kwargs,\n)"
      ]
    },
    {
      "cell_type": "markdown",
      "metadata": {},
      "source": [
        "\u5728\u540c\u4e00\u5e73\u9762\u5185\u751f\u6210\u5177\u6709\u591a\u4e2a\u5207\u9762\u7684\u7f51\u683c\u3002\r\n"
      ]
    },
    {
      "cell_type": "code",
      "execution_count": null,
      "metadata": {
        "collapsed": false
      },
      "outputs": [],
      "source": [
        "slices = grid.slice_along_axis(12, \"x\")\nslices.plot(\n    scalars=\"p1\",\n    background=\"white\",\n    show_edges=False,\n    lighting=False,\n    eye_dome_lighting=True,\n    cmap=\"jet\",\n    n_colors=9,\n    scalar_bar_args=sbar_kwargs,\n)"
      ]
    },
    {
      "cell_type": "markdown",
      "metadata": {},
      "source": [
        "Finally, exit MAPDL.\r\n"
      ]
    },
    {
      "cell_type": "code",
      "execution_count": null,
      "metadata": {
        "collapsed": false
      },
      "outputs": [],
      "source": [
        "mapdl.exit()"
      ]
    }
  ],
  "metadata": {
    "kernelspec": {
      "display_name": "Python 3",
      "language": "python",
      "name": "python3"
    },
    "language_info": {
      "codemirror_mode": {
        "name": "ipython",
        "version": 3
      },
      "file_extension": ".py",
      "mimetype": "text/x-python",
      "name": "python",
      "nbconvert_exporter": "python",
      "pygments_lexer": "ipython3",
      "version": "3.10.1"
    }
  },
  "nbformat": 4,
  "nbformat_minor": 0
}