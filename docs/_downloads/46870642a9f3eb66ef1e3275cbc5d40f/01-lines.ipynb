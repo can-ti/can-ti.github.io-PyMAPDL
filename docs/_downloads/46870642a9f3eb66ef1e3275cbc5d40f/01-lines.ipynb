{
  "cells": [
    {
      "cell_type": "markdown",
      "metadata": {},
      "source": [
        "# Lines {#ref_basic-geometry-lines}\r\n\r\n\u672c\u4f8b\u6f14\u793a\u5982\u4f55\u4f7f\u7528\"\u7ebf\"\u547d\u4ee4\u521b\u5efa\u57fa\u672c\u51e0\u4f55\u4f53\u3002\r\n"
      ]
    },
    {
      "cell_type": "code",
      "execution_count": null,
      "metadata": {
        "collapsed": false
      },
      "outputs": [],
      "source": [
        "import numpy as np\n\nfrom ansys.mapdl.core import launch_mapdl\n\n# start MAPDL and enter the pre-processing routine\nmapdl = launch_mapdl()\nmapdl.clear()\nmapdl.prep7()\nprint(mapdl)"
      ]
    },
    {
      "cell_type": "markdown",
      "metadata": {},
      "source": [
        "# APDL Command: L\r\n\r\n\u5728\u4e24\u4e2a\u5173\u952e\u70b9 `(0, 0, 0)` \u548c `(1, 0, 0)` \u4e4b\u95f4\u521b\u5efa\u4e00\u6761\u76f4\u7ebf\r\n"
      ]
    },
    {
      "cell_type": "code",
      "execution_count": null,
      "metadata": {
        "collapsed": false
      },
      "outputs": [],
      "source": [
        "k0 = mapdl.k(\"\", 0, 0, 0)\nk1 = mapdl.k(\"\", 1, 0, 0)\nlnum = mapdl.l(k0, k1)\nlnum"
      ]
    },
    {
      "cell_type": "markdown",
      "metadata": {},
      "source": [
        "# APDL Command: LARC\r\n\r\n\u5728 `(0, 0, 0)` \u548c `(1, 1, 0)` \u4e4b\u95f4\u753b\u4e00\u6761\u66f2\u7387\u534a\u5f84\u4e3a 2 \u7684\u5706\u5f27\u3002\r\n"
      ]
    },
    {
      "cell_type": "code",
      "execution_count": null,
      "metadata": {
        "collapsed": false
      },
      "outputs": [],
      "source": [
        "mapdl.clear()\nmapdl.prep7()\n\nk0 = mapdl.k(\"\", 0, 0, 0)\nk1 = mapdl.k(\"\", 1, 1, 0)\nk2 = mapdl.k(\"\", 0, 1, 0)\nlnum = mapdl.larc(k0, k1, k2, 2)\nmapdl.lplot(vtk=False)\nmapdl.lplot(background=\"w\", color=\"y\", line_width=5, cpos=\"xy\")"
      ]
    },
    {
      "cell_type": "markdown",
      "metadata": {},
      "source": [
        "# APDL Command: L2ANG\r\n\r\n\u521b\u5efa\u4e24\u4e2a\u5706\uff0c\u5e76\u7528\u4e00\u6761\u7ebf\u5c06\u5b83\u4eec\u8fde\u63a5\u8d77\u6765\u3002\u7ed8\u5236\u7ed3\u679c\u3002\r\n"
      ]
    },
    {
      "cell_type": "code",
      "execution_count": null,
      "metadata": {
        "collapsed": false
      },
      "outputs": [],
      "source": [
        "mapdl.clear()\nmapdl.prep7()\n\nk0 = mapdl.k(\"\", 0, 0, 0)\nk1 = mapdl.k(\"\", 0, 0, 1)\nk2 = mapdl.k(\"\", 0, 0, 0.5)\ncarc0 = mapdl.circle(k0, 1, k1)\ncarc1 = mapdl.circle(k2, 1, k1)\nlnum = mapdl.l2ang(carc0[0], carc1[0], 90, 90)\nmapdl.lplot(vtk=False)\nmapdl.lplot(background=\"w\", color=\"k\", line_width=5)"
      ]
    },
    {
      "cell_type": "markdown",
      "metadata": {},
      "source": [
        "# APDL Command: L2TAN\r\n\r\n\u521b\u5efa\u4e24\u6761\u5706\u5f27\uff0c\u5e76\u7528\u6837\u6761\u66f2\u7ebf\u5c06\u5b83\u4eec\u8fde\u63a5\u8d77\u6765\u3002\u7ed8\u5236\u7ed3\u679c\u3002\r\n"
      ]
    },
    {
      "cell_type": "code",
      "execution_count": null,
      "metadata": {
        "collapsed": false
      },
      "outputs": [],
      "source": [
        "mapdl.clear()\nmapdl.prep7()\n\nk0 = mapdl.k(\"\", 0, 0, 0)\nk1 = mapdl.k(\"\", 0, 0, 1)\nk2 = mapdl.k(\"\", -1.5, 1.5, 0)\nk3 = mapdl.k(\"\", -1.5, 1.5, 1)\ncarc0 = mapdl.circle(k0, 1, k1, arc=90)\ncarc1 = mapdl.circle(k2, 1, k3, arc=90)\nlnum = mapdl.l2tan(1, 2)\nmapdl.lplot(vtk=False)\nmapdl.lplot(background=\"w\", color=\"k\", line_width=5, cpos=\"xy\")"
      ]
    },
    {
      "cell_type": "markdown",
      "metadata": {},
      "source": [
        "# APDL Command: LANG\r\n\r\n\u4ece `(0, 0, 0)` \u5230 `(1, 0, 0)` \u7684\u76f4\u7ebf\u4e0e `(1, 1, 1)` \u7684\u5173\u952e\u70b9\u6210 60\r\n\u5ea6\u89d2\u3002\u7ed8\u5236\u7ed3\u679c\u56fe\u3002\r\n"
      ]
    },
    {
      "cell_type": "code",
      "execution_count": null,
      "metadata": {
        "collapsed": false
      },
      "outputs": [],
      "source": [
        "mapdl.clear()\nmapdl.prep7()\n\nk0 = mapdl.k(\"\", 0, 0, 0)\nk1 = mapdl.k(\"\", 1, 0, 0)\nlnum = mapdl.l(k0, k1)\nk2 = mapdl.k(\"\", 1, 1, 0)\nlnum = mapdl.lang(lnum, k2, 60)\nmapdl.lplot(vtk=False)\nmapdl.lplot(background=\"w\", color=\"k\", line_width=5, cpos=\"xy\")"
      ]
    },
    {
      "cell_type": "markdown",
      "metadata": {},
      "source": [
        "# APDL Command: LAREA\r\n\r\n\u5728\u6b63\u65b9\u5f62\u7684\u4e24\u4e2a\u89d2\u4e4b\u95f4\u751f\u6210\u4e00\u6761\u76f4\u7ebf\u3002\r\n"
      ]
    },
    {
      "cell_type": "code",
      "execution_count": null,
      "metadata": {
        "collapsed": false
      },
      "outputs": [],
      "source": [
        "mapdl.clear()\nmapdl.prep7()\n\nk0 = mapdl.k(\"\", 0, 0, 0)\nk1 = mapdl.k(\"\", 1, 0, 0)\nk2 = mapdl.k(\"\", 1, 1, 0)\nk3 = mapdl.k(\"\", 0, 1, 0)\na0 = mapdl.a(k0, k1, k2, k3)\nlnum = mapdl.larea(k0, k2, a0)\nmapdl.lplot(vtk=False)\nmapdl.lplot(background=\"w\", color=\"k\", line_width=5, cpos=\"xy\")"
      ]
    },
    {
      "cell_type": "markdown",
      "metadata": {},
      "source": [
        "# APDL Command: LCOMB\r\n\r\n\u521b\u5efa\u4e24\u6761\u7ebf\u5e76\u5c06\u5b83\u4eec\u7ec4\u5408\u8d77\u6765\u3002\r\n"
      ]
    },
    {
      "cell_type": "code",
      "execution_count": null,
      "metadata": {
        "collapsed": false
      },
      "outputs": [],
      "source": [
        "mapdl.clear()\nmapdl.prep7()\n\nk0 = mapdl.k(\"\", 0, 0, 0)\nk1 = mapdl.k(\"\", 1, 0, 0)\nk2 = mapdl.k(\"\", 2, 0, 0)\nl0 = mapdl.l(k0, k1)\nl1 = mapdl.l(k0, k2)\nmapdl.lcomb(l0, l1)\nmapdl.lplot(vtk=False)\nmapdl.lplot(background=\"w\", color=\"k\", line_width=5, cpos=\"xy\")"
      ]
    },
    {
      "cell_type": "markdown",
      "metadata": {},
      "source": [
        "# APDL Command: LDIV\r\n\r\n\u521b\u5efa\u4e00\u6761\u7ebf\u5e76\u5c06\u5176\u5206\u6210 5 \u6bb5\u3002\r\n"
      ]
    },
    {
      "cell_type": "code",
      "execution_count": null,
      "metadata": {
        "collapsed": false
      },
      "outputs": [],
      "source": [
        "mapdl.clear()\nmapdl.prep7()\n\nk0 = mapdl.k(\"\", 0, 0, 0)\nk1 = mapdl.k(\"\", 1, 0, 0)\nl0 = mapdl.l(k0, k1)\nmapdl.ldiv(l0, ndiv=5)\nmapdl.lplot(vtk=False)\nmapdl.lplot(background=\"w\", color=\"k\", line_width=5, cpos=\"xy\")"
      ]
    },
    {
      "cell_type": "markdown",
      "metadata": {},
      "source": [
        "# APDL Command: LEXTND\r\n\r\n\u521b\u5efa\u4e00\u4e2a\u5706\u5f27\uff0c\u5e76\u5728\u5176\u4e2d\u4e00\u4e2a\u5173\u952e\u70b9\u4e0a\u8fdb\u884c\u5ef6\u4f38\u3002\r\n"
      ]
    },
    {
      "cell_type": "code",
      "execution_count": null,
      "metadata": {
        "collapsed": false
      },
      "outputs": [],
      "source": [
        "mapdl.clear()\nmapdl.prep7()\n\nk0 = mapdl.k(\"\", 0, 0, 0)\nk1 = mapdl.k(\"\", 0, 0, 1)\ncarcs = mapdl.circle(k0, 1, k1, arc=90)\nlnum = mapdl.lextnd(carcs[0], 3, 1)\nmapdl.lplot(vtk=False)\nmapdl.lplot(background=\"w\", color=\"k\", line_width=5, cpos=\"xy\")"
      ]
    },
    {
      "cell_type": "markdown",
      "metadata": {},
      "source": [
        "# APDL Command: LFILLT\r\n\r\n\u521b\u5efa\u4e24\u6761\u76f4\u89d2\u76f8\u4ea4\u7ebf\uff0c\u5e76\u5728\u5b83\u4eec\u4e4b\u95f4\u6dfb\u52a0\u5706\u89d2\u3002\r\n"
      ]
    },
    {
      "cell_type": "code",
      "execution_count": null,
      "metadata": {
        "collapsed": false
      },
      "outputs": [],
      "source": [
        "mapdl.clear()\nmapdl.prep7()\n\nk0 = mapdl.k(\"\", 0, 0, 0)\nk1 = mapdl.k(\"\", 0, 1, 0)\nk2 = mapdl.k(\"\", 1, 0, 0)\nl0 = mapdl.l(k0, k1)\nl1 = mapdl.l(k0, k2)\nlnum = mapdl.lfillt(l0, l1, 0.25)\nmapdl.lplot(vtk=False)\nmapdl.lplot(background=\"w\", color=\"k\", line_width=5, cpos=\"xy\")"
      ]
    },
    {
      "cell_type": "markdown",
      "metadata": {},
      "source": [
        "# APDL Command: LTAN\r\n\r\n\u521b\u5efa\u4e00\u6761\u5706\u5f27\uff0c\u5e76\u5728\u5706\u5f27\u672b\u7aef\u751f\u6210\u4e00\u6761\u6307\u5411\u65b0\u5173\u952e\u70b9\u7684\u5207\u7ebf\u6837\u6761\u3002\r\n"
      ]
    },
    {
      "cell_type": "code",
      "execution_count": null,
      "metadata": {
        "collapsed": false
      },
      "outputs": [],
      "source": [
        "mapdl.clear()\nmapdl.prep7()\n\nk0 = mapdl.k(\"\", 0, 0, 0)\nk1 = mapdl.k(\"\", 0, 0, 1)\nk2 = mapdl.k(\"\", -1, 1.5, 0)\ncarc = mapdl.circle(k0, 1, k1, arc=90)\nlnum = mapdl.ltan(carc[0], k2)\nmapdl.lplot(vtk=False)\nmapdl.lplot(background=\"w\", color=\"k\", line_width=5, cpos=\"xy\")"
      ]
    },
    {
      "cell_type": "markdown",
      "metadata": {},
      "source": [
        "# APDL Command: SPLINE\r\n\r\n\u901a\u8fc7 5 \u4e2a\u5173\u952e\u70b9\u751f\u6210\u5206\u6bb5\u6837\u6761\u66f2\u7ebf\u3002\r\n"
      ]
    },
    {
      "cell_type": "code",
      "execution_count": null,
      "metadata": {
        "collapsed": false
      },
      "outputs": [],
      "source": [
        "mapdl.clear()\nmapdl.prep7()\n\nk0 = mapdl.k(\"\", 0, 0, 0)\nk1 = mapdl.k(\"\", 0.2, 0.2, 0)\nk2 = mapdl.k(\"\", 0.4, 0.3, 0)\nk3 = mapdl.k(\"\", 0.6, 0.5, 0)\nk4 = mapdl.k(\"\", 0.8, 0.3, 0)\nmapdl.spline(k0, k1, k2, k3, k4)\nmapdl.lplot(vtk=False)\nmapdl.lplot(background=\"w\", color=\"k\", line_width=5, cpos=\"xy\")"
      ]
    },
    {
      "cell_type": "markdown",
      "metadata": {},
      "source": [
        "# APDL Command: BSPLIN\r\n\r\n\u6839\u636e\u4e00\u7cfb\u5217\u5173\u952e\u70b9\u7684\u6837\u6761\u62df\u5408\u751f\u6210\u4e00\u6761\u76f4\u7ebf\u3002 \u901a\u8fc7 `(0, 0, 0)` \u3001 `(0, 1, 0)`\r\n\u548c `(1, 2, 0)` \u751f\u6210\r\n\r\n\u8fd9\u4e0e \"spline\" \u65b9\u6cd5\u4e0d\u540c\uff0c\u56e0\u4e3a\u5b83\u521b\u5efa\u4e00\u6761\u76f4\u7ebf\u800c\u4e0d\u662f\u591a\u6761\u76f4\u7ebf\u3002\r\n"
      ]
    },
    {
      "cell_type": "code",
      "execution_count": null,
      "metadata": {
        "collapsed": false
      },
      "outputs": [],
      "source": [
        "mapdl.clear()\nmapdl.prep7()\n\nk0 = mapdl.k(\"\", 0, 0, 0)\nk1 = mapdl.k(\"\", 0, 1, 0)\nk2 = mapdl.k(\"\", 1, 2, 0)\nlnum = mapdl.bsplin(k0, k1, k2)\nmapdl.lplot(vtk=False)\nmapdl.lplot(background=\"w\", color=\"k\", line_width=5, cpos=\"xy\")"
      ]
    },
    {
      "cell_type": "markdown",
      "metadata": {},
      "source": [
        "# Line IDs\r\n\r\n\u8fd4\u56de\u4e00\u4e2a\u7ebf\u6761 ID \u7684\u6570\u7ec4\r\n"
      ]
    },
    {
      "cell_type": "code",
      "execution_count": null,
      "metadata": {
        "collapsed": false
      },
      "outputs": [],
      "source": [
        "lnum = mapdl.geometry.lnum\nlnum"
      ]
    },
    {
      "cell_type": "markdown",
      "metadata": {},
      "source": [
        "# Line Geometry\r\n\r\n\u83b7\u53d6\u5305\u542b\u7ebf\u6761\u7684 VTK `MultiBlock` \u3002\u8be5 VTK\r\n\u7f51\u683c\u53ef\u4ee5\u4fdd\u5b58\u6216\u7ed8\u5236\u3002\u66f4\u591a\u4fe1\u606f\uff0c\u8bf7\u53c2\u9605 [Pyvista \u6587\u6863]() \u3002\r\n"
      ]
    },
    {
      "cell_type": "code",
      "execution_count": null,
      "metadata": {
        "collapsed": false
      },
      "outputs": [],
      "source": [
        "lines = mapdl.geometry.lines\nlines"
      ]
    },
    {
      "cell_type": "markdown",
      "metadata": {},
      "source": [
        "# Line Selection\r\n\r\n\u6709\u4e24\u79cd\u9009\u62e9\u7ebf\u7684\u65b9\u6cd5\uff0c\u4e00\u79cd\u662f\u65e7\u7684 \\\"\u4f20\u7edf\\\"\r\n\u98ce\u683c\uff0c\u53e6\u4e00\u79cd\u662f\u65b0\u7684\u98ce\u683c\u3002\u5bf9\u4e8e\u90a3\u4e9b\u719f\u6089\u73b0\u6709 MAPDL\r\n\u547d\u4ee4\u7684\u4eba\u6765\u8bf4\uff0c\u65e7\u5f0f\u547d\u4ee4\u5f88\u6709\u4ef7\u503c\uff0c\u800c\u65b0\u5f0f\u547d\u4ee4\u5219\u9002\u7528\u4e8e\u4ee5 pythonic\r\n\u65b9\u5f0f\u9009\u62e9\u7ebf\u6761\u3002\r\n\r\n\u6b64\u793a\u4f8b\u751f\u6210\u4e00\u7cfb\u5217\u968f\u673a\u7ebf\u6761\u5e76\u9009\u62e9\u5b83\u4eec\r\n"
      ]
    },
    {
      "cell_type": "code",
      "execution_count": null,
      "metadata": {
        "collapsed": false
      },
      "outputs": [],
      "source": [
        "mapdl.clear()\nmapdl.prep7()\n\n\ndef generate_random_line():\n    k0 = mapdl.k(\"\", *np.random.random(3))\n    k1 = mapdl.k(\"\", *np.random.random(3))\n    mapdl.l(k0, k1)\n\n\n# create 20 random lines\nfor _ in range(20):\n    generate_random_line()\n\n# Print the line numbers\nprint(mapdl.geometry.lnum)"
      ]
    },
    {
      "cell_type": "markdown",
      "metadata": {},
      "source": [
        "\u4f7f\u7528\u65e7\u5f0f\u547d\u4ee4\u6bcf\u9694\u4e00\u4e2a\u9009\u62e9\u3002\r\n"
      ]
    },
    {
      "cell_type": "code",
      "execution_count": null,
      "metadata": {
        "collapsed": false
      },
      "outputs": [],
      "source": [
        "mapdl.ksel(\"S\", \"KP\", \"\", 1, 20, 2)\nprint(mapdl.geometry.lnum)"
      ]
    },
    {
      "cell_type": "markdown",
      "metadata": {},
      "source": [
        "\u7528\u65b0\u5f0f\u547d\u4ee4\u6bcf\u9694\u4e00\u4e2a\u9009\u62e9\u3002\r\n\r\n\u8bf7\u6ce8\u610f\uff0c\u5728 MAPDL \u4e2d\uff0cItem ID \u4ee5 1 \u4e3a\u57fa\u7840\uff0c\u800c Python \u8303\u56f4\u4ee5 0 \u4e3a\u57fa\u7840\u3002\r\n"
      ]
    },
    {
      "cell_type": "code",
      "execution_count": null,
      "metadata": {
        "collapsed": false
      },
      "outputs": [],
      "source": [
        "mapdl.geometry.line_select(range(1, 21, 2))\nprint(mapdl.geometry.lnum)"
      ]
    },
    {
      "cell_type": "markdown",
      "metadata": {},
      "source": [
        "\u4ece\u5217\u8868\u4e2d\u9009\u62e9\u7ebf\r\n\r\n\u8bf7\u6ce8\u610f\uff0c\u5982\u679c\u60a8\u60f3\u67e5\u770b\u6240\u9009\u5185\u5bb9\uff0c\u53ef\u4ee5 `return_selected`\r\n\u3002\u8fd9\u5728\u4ece\u73b0\u6709\u533a\u57df\u91cd\u65b0\u9009\u62e9\u65f6\u975e\u5e38\u6709\u7528\u3002\r\n\r\n\u6ce8\u610f\uff0c\u8fd9\u91cc\u4e5f\u53ef\u4ee5\u4f7f\u7528 numpy \u6570\u7ec4\u3002\r\n"
      ]
    },
    {
      "cell_type": "code",
      "execution_count": null,
      "metadata": {
        "collapsed": false
      },
      "outputs": [],
      "source": [
        "items = mapdl.geometry.line_select([1, 5, 10, 20], return_selected=True)\nprint(items)"
      ]
    },
    {
      "cell_type": "markdown",
      "metadata": {},
      "source": [
        "# APDL Command: LPLOT\r\n\r\n\u5728\u663e\u793a\u5173\u952e\u70b9\u7f16\u53f7\u7684\u540c\u65f6\u7ed8\u5236\u5f69\u8272\u7ebf\u6761\u3002\r\n\r\n\u6240\u6709\u5e38\u89c1\u7684\u7ed8\u56fe\u65b9\u6cd5\u90fd\u6709\u591a\u79cd\u7ed8\u56fe\u9009\u9879\u3002\r\n"
      ]
    },
    {
      "cell_type": "code",
      "execution_count": null,
      "metadata": {
        "collapsed": false
      },
      "outputs": [],
      "source": [
        "mapdl.lplot(\n    show_keypoint_numbering=True,\n    color_lines=True,\n    show_line_numbering=False,\n    background=\"w\",\n    show_bounds=True,\n    line_width=5,\n    cpos=\"xy\",\n    font_size=26,\n)"
      ]
    },
    {
      "cell_type": "markdown",
      "metadata": {},
      "source": [
        "# Stop mapdl\r\n"
      ]
    },
    {
      "cell_type": "code",
      "execution_count": null,
      "metadata": {
        "collapsed": false
      },
      "outputs": [],
      "source": [
        "mapdl.exit()"
      ]
    }
  ],
  "metadata": {
    "kernelspec": {
      "display_name": "Python 3",
      "language": "python",
      "name": "python3"
    },
    "language_info": {
      "codemirror_mode": {
        "name": "ipython",
        "version": 3
      },
      "file_extension": ".py",
      "mimetype": "text/x-python",
      "name": "python",
      "nbconvert_exporter": "python",
      "pygments_lexer": "ipython3",
      "version": "3.10.1"
    }
  },
  "nbformat": 4,
  "nbformat_minor": 0
}