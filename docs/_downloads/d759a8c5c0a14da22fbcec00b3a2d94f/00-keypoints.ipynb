{
  "cells": [
    {
      "cell_type": "markdown",
      "metadata": {},
      "source": [
        "# Keypoints {#ref_basic-geometry-keypoints}\r\n\r\n\u672c\u4f8b\u6f14\u793a\u4e86\u5982\u4f55\u4f7f\u7528\u5173\u952e\u70b9\u547d\u4ee4\u521b\u5efa\u57fa\u672c\u51e0\u4f55\u4f53\u3002\r\n\r\n\u672c\u8282\u7684\u91cd\u70b9\u662f\u521b\u5efa\"\u5173\u952e\u70b9\"\u3002\r\n"
      ]
    },
    {
      "cell_type": "code",
      "execution_count": null,
      "metadata": {
        "collapsed": false
      },
      "outputs": [],
      "source": [
        "import numpy as np\n\nfrom ansys.mapdl.core import launch_mapdl\n\n# \u542f\u52a8 MAPDL \u5e76\u8fdb\u5165\u524d\u5904\u7406\nmapdl = launch_mapdl()\nmapdl.clear()\nmapdl.prep7()\nprint(mapdl)"
      ]
    },
    {
      "cell_type": "markdown",
      "metadata": {},
      "source": [
        "# APDL Command: K\r\n\r\n\u5728 `[0, 0, 0]` \u521b\u5efa\u4e00\u4e2a\u5173\u952e\u70b9\u3002\u8bf7\u6ce8\u610f\uff0c\u7b2c\u4e00\u4e2a\u503c\u662f\u7a7a\u5b57\u7b26\u4e32\uff0c\u4ee5\u4fbf MAPDL\r\n\u81ea\u52a8\u9009\u62e9\u5173\u952e\u70b9\u7f16\u53f7\u3002\r\n"
      ]
    },
    {
      "cell_type": "code",
      "execution_count": null,
      "metadata": {
        "collapsed": false
      },
      "outputs": [],
      "source": [
        "k0 = mapdl.k(\"\", 0, 0, 0)\nprint(k0)"
      ]
    },
    {
      "cell_type": "markdown",
      "metadata": {},
      "source": [
        "\u5728 (10, 11, 12) \u5904\u521b\u5efa\u5173\u952e\u70b9\uff0c\u540c\u65f6\u6307\u5b9a\u5173\u952e\u70b9\u7f16\u53f7\u3002\r\n"
      ]
    },
    {
      "cell_type": "code",
      "execution_count": null,
      "metadata": {
        "collapsed": false
      },
      "outputs": [],
      "source": [
        "k1 = mapdl.k(2, 1, 0, 0)\nprint(k1)"
      ]
    },
    {
      "cell_type": "markdown",
      "metadata": {},
      "source": [
        "# APDL Command: KBETW\r\n\r\n\u5728\u4e24\u4e2a\u5173\u952e\u70b9\u4e4b\u95f4\u521b\u5efa\u5173\u952e\u70b9\r\n"
      ]
    },
    {
      "cell_type": "code",
      "execution_count": null,
      "metadata": {
        "collapsed": false
      },
      "outputs": [],
      "source": [
        "k2 = mapdl.kbetw(kp1=k0, kp2=k1)\nprint(k2)"
      ]
    },
    {
      "cell_type": "markdown",
      "metadata": {},
      "source": [
        "# APDL Command: KCENTER\r\n\r\n\u5728\u7531\u4e09\u4e2a\u4f4d\u7f6e\u5b9a\u4e49\u7684\u5706\u5f27\u4e2d\u5fc3\u521b\u5efa\u5173\u952e\u70b9\u3002\r\n\u8bf7\u6ce8\u610f\uff0c\u5728\u751f\u6210\u8fd9\u4e2a\u51e0\u4f55\u4f53\u4e4b\u524d\uff0c\u6211\u4eec\u9996\u5148\u8981 clear mapdl\r\n"
      ]
    },
    {
      "cell_type": "code",
      "execution_count": null,
      "metadata": {
        "collapsed": false
      },
      "outputs": [],
      "source": [
        "mapdl.clear()\nmapdl.prep7()\nk0 = mapdl.k(\"\", 0, 1, 0)\nk1 = mapdl.k(\"\", 1, 0, 0)\nk2 = mapdl.k(\"\", 0, -1, 0)\nk3 = mapdl.kcenter(\"KP\", k0, k1, k2)\nprint([k0, k1, k2, k3])"
      ]
    },
    {
      "cell_type": "markdown",
      "metadata": {},
      "source": [
        "# Keypoint IDs\r\n\r\n\u8fd4\u56de\u5173\u952e\u70b9 ID \u7684\u6570\u7ec4\r\n\u8bf7\u6ce8\u610f\uff0c\u8fd9\u4e0e\u6570\u7ec4`[k0, k1, k2, k3]`\u76f8\u5339\u914d\uff08\u7531\u4e8e\u6392\u5e8f\uff09\r\n"
      ]
    },
    {
      "cell_type": "code",
      "execution_count": null,
      "metadata": {
        "collapsed": false
      },
      "outputs": [],
      "source": [
        "knum = mapdl.geometry.knum\nknum"
      ]
    },
    {
      "cell_type": "markdown",
      "metadata": {},
      "source": [
        "# Keypoints geometry\r\n\r\n\u83b7\u53d6\u5305\u542b\u5173\u952e\u70b9\u7684 VTK `MultiBlock` \u3002\u8be5 VTK\r\n\u7f51\u683c\u53ef\u4ee5\u4fdd\u5b58\u6216\u7ed8\u5236\u3002\u66f4\u591a\u4fe1\u606f\uff0c\u8bf7\u8bbf\u95ee [Pyvista \u6587\u6863]() \u3002\r\n"
      ]
    },
    {
      "cell_type": "code",
      "execution_count": null,
      "metadata": {
        "collapsed": false
      },
      "outputs": [],
      "source": [
        "keypoints = mapdl.geometry.keypoints\nkeypoints"
      ]
    },
    {
      "cell_type": "markdown",
      "metadata": {},
      "source": [
        "# Keypoint Coordinates\r\n\r\n\u8fd4\u56de\u5173\u952e\u70b9\u4f4d\u7f6e\u6570\u7ec4\r\n"
      ]
    },
    {
      "cell_type": "code",
      "execution_count": null,
      "metadata": {
        "collapsed": false
      },
      "outputs": [],
      "source": [
        "kloc = mapdl.geometry.get_keypoints()\nkloc"
      ]
    },
    {
      "cell_type": "markdown",
      "metadata": {},
      "source": [
        "# APDL Command: KDIST\r\n\r\n\u8ba1\u7b97\u4e24\u4e2a\u5173\u952e\u70b9\u4e4b\u95f4\u7684\u8ddd\u79bb\u3002\u8bf7\u6ce8\u610f\uff0c\u60a8\u53ef\u4ee5\u6839\u636e `kloc` \u81ea\u884c\u8ba1\u7b97\u3002\r\n"
      ]
    },
    {
      "cell_type": "code",
      "execution_count": null,
      "metadata": {
        "collapsed": false
      },
      "outputs": [],
      "source": [
        "dist = mapdl.kdist(k0, k1)\ndist"
      ]
    },
    {
      "cell_type": "markdown",
      "metadata": {},
      "source": [
        "# Keypoint Selection\r\n\r\n\u6709\u4e24\u79cd\u9009\u62e9\u5173\u952e\u70b9\u7684\u65b9\u6cd5\uff0c\u4e00\u79cd\u662f\u65e7\u7684 \\\"\u4f20\u7edf\\\"\r\n\u98ce\u683c\uff0c\u53e6\u4e00\u79cd\u662f\u65b0\u7684\u98ce\u683c\u3002\u5bf9\u4e8e\u90a3\u4e9b\u719f\u6089\u73b0\u6709 MAPDL\r\n\u547d\u4ee4\u7684\u4eba\u6765\u8bf4\uff0c\u65e7\u5f0f\u65b9\u6cd5\u5f88\u6709\u4ef7\u503c\uff0c\u800c\u65b0\u5f0f\u65b9\u6cd5\u5219\u9002\u7528\u4e8e\u4ee5 pythonic\r\n\u65b9\u5f0f\u9009\u62e9\u5173\u952e\u70b9\u3002\r\n\r\n\u672c\u4f8b\u751f\u6210\u4e00\u7cfb\u5217\u968f\u673a\u5173\u952e\u70b9\uff0c\u5e76\u9009\u62e9\u5b83\u4eec\r\n"
      ]
    },
    {
      "cell_type": "code",
      "execution_count": null,
      "metadata": {
        "collapsed": false
      },
      "outputs": [],
      "source": [
        "mapdl.clear()\nmapdl.prep7()\n\n# \u521b\u5efa 20 \u4e2a\u968f\u673a\u5173\u952e\u70b9\nfor _ in range(20):\n    mapdl.k(\"\", *np.random.random(3))\n\n# \u6253\u5370\u5173\u952e\u70b9\u7f16\u53f7\nprint(mapdl.geometry.knum)"
      ]
    },
    {
      "cell_type": "markdown",
      "metadata": {},
      "source": [
        "\u4f7f\u7528\"\u65e7\u65b9\u6cd5\"\u547d\u4ee4\u9009\u62e9\u6bcf\u9694\u4e00\u4e2a\u5173\u952e\u70b9\u3002\r\n"
      ]
    },
    {
      "cell_type": "code",
      "execution_count": null,
      "metadata": {
        "collapsed": false
      },
      "outputs": [],
      "source": [
        "mapdl.ksel(\"S\", \"KP\", \"\", 1, 20, 2)\nprint(mapdl.geometry.knum)"
      ]
    },
    {
      "cell_type": "markdown",
      "metadata": {},
      "source": [
        "\u4f7f\u7528\"\u65b0\u6837\u5f0f\"\u547d\u4ee4\u9009\u62e9\u6bcf\u9694\u4e00\u4e2a\u5173\u952e\u70b9\u3002\r\n\r\n**Note that the item IDs are 1 based in MAPDL, while Python ranges are 0\r\nbased.**\r\n"
      ]
    },
    {
      "cell_type": "code",
      "execution_count": null,
      "metadata": {
        "collapsed": false
      },
      "outputs": [],
      "source": [
        "mapdl.geometry.keypoint_select(range(1, 21, 2))\nprint(mapdl.geometry.knum)"
      ]
    },
    {
      "cell_type": "markdown",
      "metadata": {},
      "source": [
        "\u4ece\u5217\u8868\u4e2d\u9009\u62e9\u5173\u952e\u70b9\r\n\r\n\u8bf7\u6ce8\u610f\uff0c\u5982\u679c\u60a8\u60f3\u67e5\u770b\u6240\u9009\u5185\u5bb9\uff0c\u53ef\u4ee5 `return_selected`\r\n\u3002\u8fd9\u5728\u4ece\u73b0\u6709\u533a\u57df\u91cd\u65b0\u9009\u62e9\u65f6\u975e\u5e38\u6709\u7528\u3002\r\n\r\n\u6ce8\u610f\uff0c\u8fd9\u91cc\u4e5f\u53ef\u4ee5\u4f7f\u7528 numpy \u6570\u7ec4\u3002\r\n"
      ]
    },
    {
      "cell_type": "code",
      "execution_count": null,
      "metadata": {
        "collapsed": false
      },
      "outputs": [],
      "source": [
        "items = mapdl.geometry.keypoint_select([1, 5, 10, 20], return_selected=True)\nprint(items)"
      ]
    },
    {
      "cell_type": "markdown",
      "metadata": {},
      "source": [
        "# APDL Command: KPLOT\r\n\r\n\u7ed8\u5236\u5173\u952e\u70b9\uff0c\u540c\u65f6\u663e\u793a\u5173\u952e\u70b9\u7f16\u53f7\r\n\r\n\u6240\u6709\u5e38\u89c1\u7684\u7ed8\u56fe\u65b9\u6cd5\u90fd\u6709\u591a\u79cd\u7ed8\u56fe\u9009\u9879\u3002\r\n"
      ]
    },
    {
      "cell_type": "code",
      "execution_count": null,
      "metadata": {
        "collapsed": false
      },
      "outputs": [],
      "source": [
        "mapdl.kplot(\n    show_keypoint_numbering=True,\n    background=\"white\",\n    show_bounds=True,\n    font_size=26,\n)"
      ]
    },
    {
      "cell_type": "markdown",
      "metadata": {},
      "source": [
        "# Stop mapdl\r\n"
      ]
    },
    {
      "cell_type": "code",
      "execution_count": null,
      "metadata": {
        "collapsed": false
      },
      "outputs": [],
      "source": [
        "mapdl.exit()"
      ]
    }
  ],
  "metadata": {
    "kernelspec": {
      "display_name": "Python 3",
      "language": "python",
      "name": "python3"
    },
    "language_info": {
      "codemirror_mode": {
        "name": "ipython",
        "version": 3
      },
      "file_extension": ".py",
      "mimetype": "text/x-python",
      "name": "python",
      "nbconvert_exporter": "python",
      "pygments_lexer": "ipython3",
      "version": "3.10.1"
    }
  },
  "nbformat": 4,
  "nbformat_minor": 0
}