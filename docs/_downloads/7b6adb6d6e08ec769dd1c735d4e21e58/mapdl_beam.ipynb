{
  "cells": [
    {
      "cell_type": "markdown",
      "metadata": {},
      "source": [
        "# MAPDL 2D Beam {#ref_mapdl_beam}\r\n\r\n\u672c\u4f8b\u6765\u81ea Paletikrishna Chaitanya\u3001Sambanarajesh Kumar \u548c Datti Srinivas\r\n\u5408\u8457\u7684 *\\\"Finite element analysis using ansys 11.0\\\"* \u4e00\u4e66\u3002PHI Learning\r\nPvt. Ltd., 1 Jan 2010.\r\n"
      ]
    },
    {
      "cell_type": "markdown",
      "metadata": {},
      "source": [
        "\u542f\u52a8\u5177\u6709\u4ea4\u4e92\u5f0f\u7ed8\u56fe\u529f\u80fd\u7684 MAPDL\r\n"
      ]
    },
    {
      "cell_type": "code",
      "execution_count": null,
      "metadata": {
        "collapsed": false
      },
      "outputs": [],
      "source": [
        "from ansys.mapdl.core import launch_mapdl\n\nmapdl = launch_mapdl()\nmapdl.fcomp(\"rst\", 0)  # \u6307\u5b9a\u538b\u7f29\u7ea7\u522b"
      ]
    },
    {
      "cell_type": "markdown",
      "metadata": {},
      "source": [
        "\u5b9a\u4e49\u5de5\u5b57\u94a2\r\n"
      ]
    },
    {
      "cell_type": "code",
      "execution_count": null,
      "metadata": {
        "collapsed": false
      },
      "outputs": [],
      "source": [
        "mapdl.prep7()\nmapdl.et(1, \"BEAM188\")\nmapdl.keyopt(1, 4, 1)  # \u6a2a\u5411\u526a\u5e94\u529b\u8f93\u51fa\n\n# \u6750\u6599\u7279\u6027\nmapdl.mp(\"EX\", 1, 2e7)  # N/cm2\nmapdl.mp(\"PRXY\", 1, 0.27)  #  Poisson's ratio\n\n# \u4ee5\u5398\u7c73\u4e3a\u5355\u4f4d\u7684\u6881\u7279\u6027\nsec_num = 1\nmapdl.sectype(sec_num, \"BEAM\", \"I\", \"ISection\", 3)\nmapdl.secoffset(\"CENT\")\nbeam_info = mapdl.secdata(15, 15, 29, 2, 2, 1)  # \u5c3a\u5bf8\u5355\u4f4d\u4e3a\u5398\u7c73"
      ]
    },
    {
      "cell_type": "markdown",
      "metadata": {},
      "source": [
        "\u5728 MAPDL \u4e2d\u521b\u5efa\u8282\u70b9\r\n"
      ]
    },
    {
      "cell_type": "code",
      "execution_count": null,
      "metadata": {
        "collapsed": false
      },
      "outputs": [],
      "source": [
        "mapdl.n(1, 0, 0, 0)\nmapdl.n(12, 110, 0, 0)\nmapdl.n(23, 220, 0, 0)\nmapdl.fill(1, 12, 10)\nmapdl.fill(12, 23, 10)\n\n# \u5217\u51fa\u8282\u70b9\u5750\u6807\nprint(f'\u8282\u70b9\u5750\u6807\u4e3a\uff1a {mapdl.mesh.nodes}')\n\n# \u5217\u51fa\u8282\u70b9\u7f16\u53f7\nprint(f'\u8282\u70b9\u7f16\u53f7\u4e3a\uff1a {mapdl.mesh.nnum}')\n\n# \u4f7f\u7528 VTK \u7ed8\u5236\u8282\u70b9\u56fe\nmapdl.nplot(vtk=True, nnum=True, cpos=\"xy\", show_bounds=True, point_size=10)"
      ]
    },
    {
      "cell_type": "markdown",
      "metadata": {},
      "source": [
        "\u5728\u8282\u70b9\u4e4b\u95f4\u521b\u5efa\u5355\u5143 \u6211\u4eec\u53ef\u4ee5\u624b\u52a8\u521b\u5efa\u5355\u5143\uff0c\u56e0\u4e3a\u6211\u4eec\u77e5\u9053\u5355\u5143\u662f\u8fde\u7eed\u7684\r\n"
      ]
    },
    {
      "cell_type": "code",
      "execution_count": null,
      "metadata": {
        "collapsed": false
      },
      "outputs": [],
      "source": [
        "for node in mapdl.mesh.nnum[:-1]:\n    mapdl.e(node, node + 1)\n\n# \u6253\u5370\u6765\u81ea MAPDL \u7684\u5355\u5143\nprint(mapdl.elist())"
      ]
    },
    {
      "cell_type": "markdown",
      "metadata": {},
      "source": [
        "\u4ee5\u6570\u7ec4\u7684\u5f62\u5f0f\u8bbf\u95ee\u5b83\u4eec \u8bf7\u53c2\u9605\u6709\u5173 `mapdl.mesh.elem`\r\n\u7684\u6587\u6863\uff0c\u4e86\u89e3\u5982\u4f55\u89e3\u91ca\u5404\u4e2a\u5355\u5143\r\n"
      ]
    },
    {
      "cell_type": "code",
      "execution_count": null,
      "metadata": {
        "collapsed": false
      },
      "outputs": [],
      "source": [
        "for elem in mapdl.mesh.elem:\n    print(elem)"
      ]
    },
    {
      "cell_type": "markdown",
      "metadata": {},
      "source": [
        "\u5b9a\u4e49\u8fb9\u754c\u6761\u4ef6\r\n"
      ]
    },
    {
      "cell_type": "code",
      "execution_count": null,
      "metadata": {
        "collapsed": false
      },
      "outputs": [],
      "source": [
        "# \u53ea\u5141\u8bb8\u5728 X \u548c Z \u65b9\u5411\u79fb\u52a8\nfor const in [\"UX\", \"UY\", \"ROTX\", \"ROTZ\"]:\n    mapdl.d(\"all\", const)\n\n# \u53ea\u9650\u5236 Z \u65b9\u5411\u4e0a\u7684\u8282\u70b9 1 \u548c 23\nmapdl.d(1, \"UZ\")\nmapdl.d(23, \"UZ\")\n\n# \u5728\u8282\u70b9 12 \u4e0a\u65bd\u52a0 -Z \u65b9\u5411\u7684\u529b\nmapdl.f(12, \"FZ\", -22840)"
      ]
    },
    {
      "cell_type": "markdown",
      "metadata": {},
      "source": [
        "\u8fd0\u884c\u9759\u6001\u5206\u6790\r\n"
      ]
    },
    {
      "cell_type": "code",
      "execution_count": null,
      "metadata": {
        "collapsed": false
      },
      "outputs": [],
      "source": [
        "mapdl.run(\"/solu\")\nmapdl.antype(\"static\")\nprint(mapdl.solve())"
      ]
    },
    {
      "cell_type": "markdown",
      "metadata": {},
      "source": [
        "# Stop mapdl\r\n"
      ]
    },
    {
      "cell_type": "code",
      "execution_count": null,
      "metadata": {
        "collapsed": false
      },
      "outputs": [],
      "source": [
        "mapdl.exit()"
      ]
    }
  ],
  "metadata": {
    "kernelspec": {
      "display_name": "Python 3",
      "language": "python",
      "name": "python3"
    },
    "language_info": {
      "codemirror_mode": {
        "name": "ipython",
        "version": 3
      },
      "file_extension": ".py",
      "mimetype": "text/x-python",
      "name": "python",
      "nbconvert_exporter": "python",
      "pygments_lexer": "ipython3",
      "version": "3.10.1"
    }
  },
  "nbformat": 4,
  "nbformat_minor": 0
}