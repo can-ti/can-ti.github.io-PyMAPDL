{
  "cells": [
    {
      "cell_type": "markdown",
      "metadata": {},
      "source": [
        "# \u6dfb\u52a0\u4e00\u4e2a\u65b0\u7684 Gallery Example {#ref_how_to_add_an_example_reference_key}\r\n\r\n\u8be5\u793a\u4f8b\u6f14\u793a\u4e86\u5982\u4f55\u6dfb\u52a0\u65b0\u793a\u4f8b\uff0c\u540c\u65f6\u4e5f\u662f\u521b\u5efa\u793a\u4f8b\u65f6\u53ef\u4f7f\u7528\u7684\u6a21\u677f\u3002\r\n\r\n\u4efb\u4f55\u65b0\u793a\u4f8b\u7684\u9876\u90e8\u90fd\u5e94\u5305\u542b\u8be5\u6ce8\u91ca\u5757\u3002\u6bcf\u4e2a\u793a\u4f8b\u90fd\u5e94\u6709\u4ee5\u4e0b\u683c\u5f0f\u7684 reference\r\ntag/key\uff1a\r\n\r\n`.. _ref_my_example:`\r\n\r\n`.._ref_`\r\n\u662f\u5fc5\u987b\u7684\u3002\u540e\u9762\u7684\u5185\u5bb9\u90fd\u662f\u5f15\u7528\u6807\u8bb0\u3002\u6309\u7167\u60ef\u4f8b\uff0c\u6211\u4eec\u5c06\u6240\u6709\u5f15\u7528\u90fd\u653e\u5728\r\n`snake_case` \u4e2d\u3002\r\n\r\n\u8fd9\u4e00\u90e8\u5206\u5e94\u7b80\u8981\u6982\u8ff0\u793a\u4f8b\u7684\u5185\u5bb9\u548c/\u6216\u6f14\u793a\u3002\u5e94\u4fee\u6539\u6807\u9898\uff0c\u4ee5\u53cd\u6620\u793a\u4f8b\u6240\u6d89\u53ca\u7684\u4e3b\u9898\u3002\r\n\r\n\u65b0\u7684\u793a\u4f8b\u5e94\u4ee5 python \u811a\u672c\u7684\u5f62\u5f0f\u6dfb\u52a0\u5230\uff1a\r\n\r\n`PyMAPDL/examples/XY-example-folder-name/`\r\n\r\n::: note\r\n::: title\r\nNote\r\n:::\r\n\r\n\u9664\u975e\u7edd\u5bf9\u5fc5\u8981\uff0c\u5426\u5219\u8bf7\u907f\u514d\u521b\u5efa\u65b0\u6587\u4ef6\u5939\u3002\u5982\u679c\u6709\u7591\u95ee\uff0c\u8bf7\u5c06\u793a\u4f8b\u653e\u5728\u6700\u63a5\u8fd1\u5176\u5de5\u4f5c\u7684\u6587\u4ef6\u5939\u4e2d\uff0c\u5176\u786e\u5207\u4f4d\u7f6e\u53ef\u5728\u62c9\u53d6\u8bf7\u6c42\u4e2d\u63d0\u4f9b\u5efa\u8bae\u3002\r\n\u5982\u679c *\u5fc5\u987b* \u521b\u5efa\u4e00\u4e2a\u65b0\u6587\u4ef6\u5939\uff0c\u8bf7\u786e\u4fdd\u6dfb\u52a0\u4e00\u4e2a `README.txt`\r\n\uff0c\u5176\u4e2d\u5305\u542b\u6587\u4ef6\u5939\u7684\u5f15\u7528\u3001\u6807\u9898\u548c\u4e00\u53e5\u8bdd\u63cf\u8ff0\u3002\u5426\u5219 Sphinx \u5c06\u5ffd\u7565\u65b0\u6587\u4ef6\u5939\u3002\r\n:::\r\n\r\n\u793a\u4f8b\u6587\u4ef6\u540d\u7684\u683c\u5f0f\u53ef\u4ee5\u4e3a\uff1a\r\n\r\n`XY-example-name.py`\r\n\r\n\u5176\u4e2d `XY` \u662f\u793a\u4f8b\u7684\u7f16\u53f7\u3002\u5982\u679c\u5df2\u7ecf\u6709\u4e09\u4e2a\u7f16\u53f7\u5206\u522b\u4e3a `00` \u3001 `01` \u548c\r\n`` 02` \u7684\u793a\u4f8b\uff0c\u5219\u60a8\u7684\u793a\u4f8b\u5fc5\u987b\u968f\u540e\u4f7f\u7528\u524d\u7f00 ``03\\`\\` \u3002\r\n\r\n\u524d\u8a00\u5185\u5bb9\u7ed3\u675f\u540e\uff0c\u7b2c\u4e00\u4e2a\u4ee3\u7801\u5757\u5373\u5f00\u59cb\u3002\r\n"
      ]
    },
    {
      "cell_type": "code",
      "execution_count": null,
      "metadata": {
        "collapsed": false
      },
      "outputs": [],
      "source": [
        "from ansys.mapdl.core import launch_mapdl\n\n# start MAPDL\nmapdl = launch_mapdl()\nprint(mapdl)\n\n# Your code goes here...\n# mapdl.prep7()\n# mapdl..."
      ]
    },
    {
      "cell_type": "markdown",
      "metadata": {},
      "source": [
        "# Section Title\r\n\r\n\u4ee3\u7801\u5757\u53ef\u4ee5\u7528\u6587\u672c \\\"Sections\\\" \u6765\u5206\u5272\uff0c\u800c\u6587\u672c \\\"Section\\\" \u4e5f\u4f1a\u88ab\u8f6c\u8bd1\u4e3a\r\nrestructured text\u3002\r\n\r\n\u8fd9\u4e5f\u5c06\u88ab\u8f6c\u8bd1\u6210\u751f\u6210\u7684 jupyter lab \u4e2d\u7684 markdown \u5355\u5143\u3002 \u5404 Sections\r\n\u53ef\u5305\u542b\u4e0e\u793a\u4f8b\u6709\u5173\u7684\u4efb\u4f55\u4fe1\u606f\uff0c\u5982\u5206\u6b65\u6ce8\u91ca\u6216\u6709\u5173\u52a8\u673a\u7684\u8bf4\u660e\u7b49\u3002\r\n\r\n\u5728 jupyter lab \u4e2d\uff0c\u5982\u679c\u4ee3\u7801\u5757\u7684\u672b\u5c3e\u6ca1\u6709\u6307\u5b9a\u4ee3\u7801\uff08\u5982\u4e0a\u4e00\u4e2a\u4ee3\u7801\u5757\u4e2d\u7684\r\n`mapdl` \uff09\uff0c\u8f93\u51fa\u5c06\u6839\u636e\u5176 `__repr__` \u751f\u6210\u5e76\u6253\u5370\u5230\u5c4f\u5e55\u4e0a\u3002 \u5426\u5219\uff0c\u53ef\u4ee5\u4f7f\u7528\r\n`print()` \u8f93\u51fa `__str__` \u3002\r\n"
      ]
    },
    {
      "cell_type": "code",
      "execution_count": null,
      "metadata": {
        "collapsed": false
      },
      "outputs": [],
      "source": [
        "# .. note::\n#    \n#    \u7c7b\u7684 ``_repr_()`` \u65b9\u6cd5\u5b9a\u4e49\u4e86\u5b9e\u4f8b\u5316\u5bf9\u8c61\u7684\u8f93\u51fa\u4fe1\u606f\uff0c\u91cd\u5199\u8be5\u65b9\u6cd5\uff0c\u53ef\u4ee5\u8f93\u51fa\u6211\u4eec\u60f3\u8981\u7684\u4fe1\u606f\uff0c\u5bf9\u7c7b\u7684\u5b9e\u4f8b\u5316\u5bf9\u8c61\u6709\u66f4\u597d\u7684\u4e86\u89e3\u3002\n\n# more code...\nmapdl.clear()\nmapdl.prep7()\nprint(mapdl)"
      ]
    },
    {
      "cell_type": "markdown",
      "metadata": {},
      "source": [
        "# Plots and images\r\n\r\n\u5982\u679c\u4f7f\u7528 mapdl \u7ed8\u56fe\u547d\u4ee4\uff0c\u7ed3\u679c\u5c06\u81ea\u52a8\u751f\u6210\u5e76\u663e\u793a\u5728\u9875\u9762\u4e2d\u3002\u5c31\u50cf\u8fd9\u6837\r\n"
      ]
    },
    {
      "cell_type": "code",
      "execution_count": null,
      "metadata": {
        "collapsed": false
      },
      "outputs": [],
      "source": [
        "mapdl.block(0, 1, 0, 1, 0, 1)\nmapdl.vplot()"
      ]
    },
    {
      "cell_type": "markdown",
      "metadata": {},
      "source": [
        "# Further Plots and images\r\n\r\nMatplotlib \u56fe\u5f62\u4e5f\u4f1a\u5728 html \u4e2d\u5448\u73b0\u3002\r\n"
      ]
    },
    {
      "cell_type": "code",
      "execution_count": null,
      "metadata": {
        "collapsed": false
      },
      "outputs": [],
      "source": [
        "import matplotlib.pyplot as plt\n\nfig = plt.figure()\nax = fig.add_subplot(111)\nx = list(range(10))\ny = [i**2 + 3 * i - 1 for i in x]\nax.plot(x, y)\nax.set_xlabel(\"x\")\nax.set_ylabel(\"y\")\nplt.show()"
      ]
    },
    {
      "cell_type": "markdown",
      "metadata": {},
      "source": [
        "# Animations\r\n\r\n\u60a8\u751a\u81f3\u53ef\u4ee5\u521b\u5efa\u52a8\u753b\u3002\u8bf7\u53c2\u9605 `ref_pyvista_mesh`{.interpreted-text\r\nrole=\"ref\"} \u83b7\u53d6\u793a\u4f8b\u3002\u987a\u4fbf\u8bf4\u4e00\u4e0b\uff0c\u8fd9\u4e5f\u662f\u4f60\u94fe\u63a5\u5230\u53e6\u4e00\u4e2a\u4f8b\u5b50\u7684\u65b9\u6cd5\u3002\r\n\r\n# Making a Pull Request\r\n\r\n\u793a\u4f8b\u5b8c\u6210\u5e76\u5728\u672c\u5730\u9a8c\u8bc1\u6784\u5efa\u540e\uff0c\u60a8\u5c31\u53ef\u4ee5\u63d0\u4ea4\u62c9\u53d6\u8bf7\u6c42\r\n(PR)\u3002\u6839\u636e\u6b64\u5904\u7684\u5206\u652f\u547d\u540d\u89c4\u5219\uff0c\u5305\u542b\u793a\u4f8b\u7684\u5206\u652f\u5e94\u4ee5 `doc/`\r\n\u4f5c\u4e3a\u524d\u7f00\uff1a`contributing`{.interpreted-text role=\"ref\"} \u3002\r\n\r\n\u8bf7\u6ce8\u610f\uff0c\u60a8\u53ea\u9700\u521b\u5efa python \u6e90\u793a\u4f8b\u6587\u4ef6 (.py) \u5373\u53ef\u3002jupyter lab\u3001\u793a\u4f8b html\r\n\u548c\u6f14\u793a\u811a\u672c\u90fd\u5c06\u901a\u8fc7 `sphinx-gallery` \u81ea\u52a8\u751f\u6210\u3002\r\n"
      ]
    },
    {
      "cell_type": "markdown",
      "metadata": {},
      "source": [
        "Stopping mapdl\r\n"
      ]
    },
    {
      "cell_type": "code",
      "execution_count": null,
      "metadata": {
        "collapsed": false
      },
      "outputs": [],
      "source": [
        "mapdl.exit()"
      ]
    }
  ],
  "metadata": {
    "kernelspec": {
      "display_name": "Python 3",
      "language": "python",
      "name": "python3"
    },
    "language_info": {
      "codemirror_mode": {
        "name": "ipython",
        "version": 3
      },
      "file_extension": ".py",
      "mimetype": "text/x-python",
      "name": "python",
      "nbconvert_exporter": "python",
      "pygments_lexer": "ipython3",
      "version": "3.10.1"
    }
  },
  "nbformat": 4,
  "nbformat_minor": 0
}