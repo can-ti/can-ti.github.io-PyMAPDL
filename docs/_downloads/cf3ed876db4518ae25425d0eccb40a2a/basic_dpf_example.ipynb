{
  "cells": [
    {
      "cell_type": "markdown",
      "metadata": {},
      "source": [
        "# \u4f7f\u7528 PyMAPDL \u7684 DPF-Core \u57fa\u672c\u7528\u6cd5 {#ref_dpf_basic_example}\r\n\r\n\u672c\u4f8b\u6539\u7f16\u81ea [DPF-Core\r\n\u57fa\u672c\u7528\u6cd5\u793a\u4f8b](https://dpf.docs.pyansys.com/version/stable/examples/00-basic/00-basic_example.html)\r\n\uff0c \u5c55\u793a\u4e86\u5982\u4f55\u5728 [DPF](https://dpf.docs.pyansys.com/)\r\n\u4e2d\u6253\u5f00\u7ed3\u679c\u6587\u4ef6\uff0c\u5e76\u8fdb\u884c\u4e00\u4e9b\u57fa\u672c\u7684\u540e\u5904\u7406\u3002\r\n\r\n\u5982\u679c\u5b89\u88c5\u4e86 Ansys 2021 R1\uff0c\u542f\u52a8 DPF \u5c31\u975e\u5e38\u7b80\u5355\u4e86\uff0c\u56e0\u4e3a DPF-Core\r\n\u4f1a\u8d1f\u8d23\u542f\u52a8\u540e\u5904\u7406 Ansys \u6587\u4ef6\u6240\u9700\u7684\u6240\u6709\u670d\u52a1\u3002\r\n\r\n\u9996\u5148\uff0c\u4ee5 `dpf_core` \u7684\u5f62\u5f0f\u5bfc\u5165 DPF-Core \u6a21\u5757\uff0c\u5e76\u5bfc\u5165\u968f\u9644\u7684\u793a\u4f8b\u6587\u4ef6\u3002\r\n"
      ]
    },
    {
      "cell_type": "code",
      "execution_count": null,
      "metadata": {
        "collapsed": false
      },
      "outputs": [],
      "source": [
        "import tempfile\n\nfrom ansys.dpf import core as dpf\n\nfrom ansys.mapdl.core import launch_mapdl\nfrom ansys.mapdl.core.examples import vmfiles"
      ]
    },
    {
      "cell_type": "markdown",
      "metadata": {},
      "source": [
        "# Create model\r\n\r\n\u8fd0\u884c MAPDL \u9a8c\u8bc1\u624b\u518c\u4e2d\u7684\u793a\u4f8b\r\n"
      ]
    },
    {
      "cell_type": "code",
      "execution_count": null,
      "metadata": {
        "collapsed": false
      },
      "outputs": [],
      "source": [
        "mapdl = launch_mapdl()\n\nvm5 = vmfiles[\"vm5\"]\noutput = mapdl.input(vm5)\n\nprint(output)\n\n# \u5982\u679c\u5728\u672c\u5730\u5de5\u4f5c\uff0c\u5219\u65e0\u9700\u6267\u884c\u4ee5\u4e0b\u6b65\u9aa4\ntemp_directory = tempfile.gettempdir()\nprint(f'\u9ed8\u8ba4\u4e34\u65f6\u6587\u4ef6\u5730\u5740\uff1a {temp_directory}')\n\n# \u5c06 RST \u6587\u4ef6\u4e0b\u8f7d\u5230\u5f53\u524d\u6587\u4ef6\u5939\nrst_path = mapdl.download_result(temp_directory)"
      ]
    },
    {
      "cell_type": "markdown",
      "metadata": {},
      "source": [
        "\u63a5\u4e0b\u6765\uff0c\u6253\u5f00\u751f\u6210\u7684 RST \u6587\u4ef6\u5e76\u6253\u5370\u51fa\r\n`Model <ansys.dpf.core.model.Model>`{.interpreted-text role=\"class\"}\r\n\u5bf9\u8c61\u3002 `Model <ansys.dpf.core.model.Model>`{.interpreted-text\r\nrole=\"class\"}\r\n\u7c7b\u901a\u8fc7\u8ddf\u8e2a\u7ed3\u679c\u6587\u4ef6\u4f7f\u7528\u7684\u8fd0\u7b97\u7b26\u548c\u6570\u636e\u6e90\uff0c\u6709\u52a9\u4e8e\u7ec4\u7ec7\u7ed3\u679c\u7684\u8bbf\u95ee\u65b9\u6cd5\u3002\r\n\r\n\u6253\u5370\u6a21\u578b\u663e\u793a\uff1a\r\n\r\n-   Analysis type \u5206\u6790\u7c7b\u578b\r\n-   Available results \u53ef\u7528\u7ed3\u679c\r\n-   Size of the mesh \u7f51\u683c\u5c3a\u5bf8\r\n-   Number of results \u7ed3\u679c\u6570\u91cf\r\n"
      ]
    },
    {
      "cell_type": "markdown",
      "metadata": {},
      "source": [
        "\u5982\u679c\u8981\u4f7f\u7528\u8fdc\u7a0b\u670d\u52a1\u5668\uff0c\u53ef\u80fd\u9700\u8981\u5148\u4e0a\u4f20 `RST` \u6587\u4ef6\uff0c\u7136\u540e\u518d\u4f7f\u7528\u5b83\u3002\r\n\u7136\u540e\u4f60\u5c31\u53ef\u4ee5\u521b\u5efa\r\n`DPF Model <ansys.dpf.core.model.Model>`{.interpreted-text role=\"class\"}\r\n\u3002\r\n"
      ]
    },
    {
      "cell_type": "code",
      "execution_count": null,
      "metadata": {
        "collapsed": false
      },
      "outputs": [],
      "source": [
        "dpf.core.make_tmp_dir_server(dpf.SERVER)\n\nif dpf.SERVER.local_server:\n    model = dpf.Model(rst_path)\nelse:\n    server_file_path = dpf.upload_file_in_tmp_folder(rst_path)\n    model = dpf.Model(server_file_path)\n\nprint(model)"
      ]
    },
    {
      "cell_type": "markdown",
      "metadata": {},
      "source": [
        "# Model Metadata\r\n\r\n\u53ef\u4ee5\u901a\u8fc7\u5f15\u7528\u6a21\u578b\u7684\r\n`metadata <ansys.dpf.core.model.Model.metadata>`{.interpreted-text\r\nrole=\"attr\"} \u5c5e\u6027\u4ece\u6a21\u578b\u4e2d\u63d0\u53d6\u7279\u5b9a\u5143\u6570\u636e\u3002 \u4f8b\u5982\uff0c\u53ea\u6253\u5370\r\n`result_info <ansys.dpf.core.model.Metadata.result_info>`{.interpreted-text\r\nrole=\"attr\"} \u5c5e\u6027\uff1a\r\n"
      ]
    },
    {
      "cell_type": "code",
      "execution_count": null,
      "metadata": {
        "collapsed": false
      },
      "outputs": [],
      "source": [
        "metadata = model.metadata\nprint(metadata.result_info)"
      ]
    },
    {
      "cell_type": "markdown",
      "metadata": {},
      "source": [
        "\u6253\u5370\r\n`mesh region\uff08\u7f51\u683c\u533a\u57df\uff09 <ansys.dpf.core.meshed_region.MeshedRegion>`{.interpreted-text\r\nrole=\"class\"} \uff1a\r\n"
      ]
    },
    {
      "cell_type": "code",
      "execution_count": null,
      "metadata": {
        "collapsed": false
      },
      "outputs": [],
      "source": [
        "print(metadata.meshed_region)"
      ]
    },
    {
      "cell_type": "markdown",
      "metadata": {},
      "source": [
        "\u8981\u6253\u5370\u7ed3\u679c\u7684\u65f6\u95f4\u6216\u9891\u7387\uff0c\u8bf7\u4f7f\u7528\r\n`time_freq_support <ansys.dpf.core.time_freq_support.TimeFreqSupport>`{.interpreted-text\r\nrole=\"class\"}\uff1a\r\n"
      ]
    },
    {
      "cell_type": "code",
      "execution_count": null,
      "metadata": {
        "collapsed": false
      },
      "outputs": [],
      "source": [
        "print(metadata.time_freq_support)"
      ]
    },
    {
      "cell_type": "markdown",
      "metadata": {},
      "source": [
        "# Extracting Displacement Results\r\n\r\n\u53ef\u4ee5\u901a\u8fc7 `Results <ansys.dpf.core.results.Results>`{.interpreted-text\r\nrole=\"class\"} \u5c5e\u6027\u8bbf\u95ee\u6a21\u578b\u7684\u6240\u6709\u7ed3\u679c\uff0c \u8be5\u5c5e\u6027\u8fd4\u56de\r\n`ansys.dpf.core.results.Results`{.interpreted-text role=\"class\"}\r\n\u7c7b\u3002\u8be5\u7c7b\u5305\u542b\u7279\u5b9a\u7ed3\u679c\u6587\u4ef6\u53ef\u7528\u7684 DPF \u7ed3\u679c\u8fd0\u7b97\u7b26\uff0c\u4f7f\u7528 `print(results)`\r\n\u6253\u5370\u5bf9\u8c61\u65f6\u4f1a\u5217\u51fa\u8fd9\u4e9b\u8fd0\u7b97\u7b26\u3002\r\n\r\n\u8fd9\u91cc\uff0c`displacement <ansys.dpf.core.operators.result.displacement.displacement>`{.interpreted-text\r\nrole=\"class\"} \u8fd0\u7b97\u7b26\u4e0e\r\n`DataSources\uff08\u6570\u636e\u6e90\uff09 <ansys.dpf.core.data_sources.DataSources>`{.interpreted-text\r\nrole=\"class\"} \u76f8\u8054\uff0c \u8fd9\u4f1a\u5728\u8fd0\u884c\r\n`results.displacement() <ansys.dpf.core.operators.result.displacement.displacement>`{.interpreted-text\r\nrole=\"class\"} \u65f6\u81ea\u52a8\u8fdb\u884c\u3002\r\n\u9ed8\u8ba4\u60c5\u51b5\u4e0b\uff0c`displacement <ansys.dpf.core.operators.result.displacement.displacement>`{.interpreted-text\r\nrole=\"class\"}\r\n\u8fd0\u7b97\u7b26\u8fde\u63a5\u5230\u7b2c\u4e00\u4e2a\u7ed3\u679c\u96c6\uff0c\u5bf9\u4e8e\u6b64\u9759\u6001\u7ed3\u679c\u800c\u8a00\uff0c\u5b83\u662f\u552f\u4e00\u7684\u7ed3\u679c\u3002\r\n"
      ]
    },
    {
      "cell_type": "code",
      "execution_count": null,
      "metadata": {
        "collapsed": false
      },
      "outputs": [],
      "source": [
        "results = model.results\ndisplacements = results.displacement()\nfields = displacements.outputs.fields_container()\n\n# \u6700\u540e\uff0c\u63d0\u53d6\u4f4d\u79fb\u573a\u6570\u636e\uff1a\ndisp = fields[0].data\ndisp"
      ]
    },
    {
      "cell_type": "markdown",
      "metadata": {},
      "source": [
        "# Plot displacements\r\n\r\n\u60a8\u53ef\u4ee5\u4f7f\u7528\u4ee5\u4e0b\u65b9\u6cd5\u6253\u5370\u4e0a\u9762\u7684\u4f4d\u79fb\u573a\uff1a\r\n"
      ]
    },
    {
      "cell_type": "code",
      "execution_count": null,
      "metadata": {
        "collapsed": false
      },
      "outputs": [],
      "source": [
        "model.metadata.meshed_region.plot(fields, cpos=\"xy\")"
      ]
    },
    {
      "cell_type": "markdown",
      "metadata": {},
      "source": [
        "\u6216\u4f7f\u7528\r\n"
      ]
    },
    {
      "cell_type": "code",
      "execution_count": null,
      "metadata": {
        "collapsed": false
      },
      "outputs": [],
      "source": [
        "fields[0].plot(cpos=\"xy\")"
      ]
    },
    {
      "cell_type": "markdown",
      "metadata": {},
      "source": [
        "\u5982\u679c\u60a8\u5728\u7f51\u683c\u6216\u7ed3\u679c\u4e0a\u4f7f\u7528\u4e86\r\n`ansys.dpf.core.scoping.Scoping`{.interpreted-text role=\"class\"}\r\n\u65b9\u6cd5\uff0c\u8fd9\u79cd\u65b9\u6cd5\u4f1a\u7279\u522b\u6709\u7528\u3002\r\n"
      ]
    },
    {
      "cell_type": "markdown",
      "metadata": {},
      "source": [
        "# Close session\r\n\r\nStop MAPDL session.\r\n"
      ]
    },
    {
      "cell_type": "code",
      "execution_count": null,
      "metadata": {
        "collapsed": false
      },
      "outputs": [],
      "source": [
        "mapdl.exit()"
      ]
    }
  ],
  "metadata": {
    "kernelspec": {
      "display_name": "Python 3",
      "language": "python",
      "name": "python3"
    },
    "language_info": {
      "codemirror_mode": {
        "name": "ipython",
        "version": 3
      },
      "file_extension": ".py",
      "mimetype": "text/x-python",
      "name": "python",
      "nbconvert_exporter": "python",
      "pygments_lexer": "ipython3",
      "version": "3.10.1"
    }
  },
  "nbformat": 4,
  "nbformat_minor": 0
}