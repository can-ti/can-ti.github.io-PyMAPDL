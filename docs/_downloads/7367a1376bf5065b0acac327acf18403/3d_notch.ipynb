{
  "cells": [
    {
      "cell_type": "markdown",
      "metadata": {},
      "source": [
        "# \u7f3a\u53e3\u677f\u7684 3D \u5e94\u529b\u96c6\u4e2d\u5206\u6790 {#ref_3d_plane_stress_concentration}\r\n\r\n\u672c\u6559\u7a0b\u662f 2D \u5e73\u9762\u793a\u4f8b `ref_plane_stress_concentration`{.interpreted-text\r\nrole=\"ref\"} \u7684 3D \u63a8\u8bba\u3002\r\n\u4e0d\u8fc7\uff0c\u6b64\u793a\u4f8b\u9a8c\u8bc1\u4e86\u5728\u6709\u9650\u5bbd\u5ea6\u8584\u677f\u4e0a\u5efa\u7acb\u76f8\u5bf9\u5355\u7f3a\u53e3\u6a21\u578b\u65f6\u7684\u5e94\u529b\u96c6\u4e2d\u56e0\u5b50\r\n$K-t$ \u3002\r\n\r\n\u9996\u5148\uff0c\u5c06 MAPDL \u4f5c\u4e3a\u670d\u52a1\u542f\u52a8\uff0c\u5e76\u7981\u7528\u9664\u9519\u8bef\u4fe1\u606f\u4e4b\u5916\u7684\u6240\u6709\u529f\u80fd\u3002\r\n"
      ]
    },
    {
      "cell_type": "code",
      "execution_count": null,
      "metadata": {
        "collapsed": false
      },
      "outputs": [],
      "source": [
        "from matplotlib import pyplot as plt\n\nimport numpy as np\nimport pyvista as pv\n\nfrom ansys.mapdl.core import launch_mapdl\n\nmapdl = launch_mapdl(loglevel=\"ERROR\")"
      ]
    },
    {
      "cell_type": "markdown",
      "metadata": {},
      "source": [
        "# Geometry\r\n\r\n\u521b\u5efa\u4e00\u4e2a\u77e9\u5f62\u533a\u57df\uff0c\u4e0a\u4e0b\u5404\u6709\u4e24\u4e2a\u51f9\u69fd\u3002\r\n"
      ]
    },
    {
      "cell_type": "code",
      "execution_count": null,
      "metadata": {
        "collapsed": false
      },
      "outputs": [],
      "source": [
        "length = 0.4\nwidth = 0.1\n\nnotch_depth = 0.04\nnotch_radius = 0.01\n\n# \u521b\u5efa\u534a\u4e2a\u5706\u5f27\nmapdl.prep7()\n\ncirc0_kp = mapdl.k(x=length / 2, y=width + notch_radius) # \u77e9\u5f62\u4e2d\u5fc3\u5750\u6807\ncirc_line_num = mapdl.circle(circ0_kp, notch_radius)\ncirc_line_num = circ_line_num[2:]  # \u53ea\u5173\u6ce8\u5e95\u90e8\u5706\u5f27\n\n# \u521b\u5efa\u4e00\u6761\u7ebf\u5e76\u5411\u4e0b\u62d6\u52a8\u9876\u90e8\u5706\ncirc0_kp = mapdl.k(x=0, y=0)\nk1 = mapdl.k(x=0, y=-notch_depth)\nl0 = mapdl.l(circ0_kp, k1)\nmapdl.adrag(*circ_line_num, nlp1=l0)\n\n# \u5e95\u90e8\u51f9\u69fd\u4e5f\u662f\u5982\u6b64 (except upwards)\ncirc1_kp = mapdl.k(x=length / 2, y=-notch_radius)\ncirc_line_num = mapdl.circle(circ1_kp, notch_radius)\ncirc_line_num = circ_line_num[:2]  # \u53ea\u5173\u6ce8\u9876\u90e8\u5706\u5f27\n\n# \u521b\u5efa\u4e00\u6761\u7ebf\uff0c\u5c06\u9876\u90e8\u5706\u5708\u5411\u4e0a\u62d6\u52a8\nk0 = mapdl.k(x=0, y=0)\nk1 = mapdl.k(x=0, y=notch_depth)\nl0 = mapdl.l(k0, k1)\nmapdl.adrag(*circ_line_num, nlp1=l0)\n\nrect_anum = mapdl.blc4(width=length, height=width)\n\n# \u8bf7\u6ce8\u610f pyansys \u662f\u5982\u4f55\u89e3\u6790\u8f93\u51fa\u5e76\u8fd4\u56de\u6bcf\u6761\u547d\u4ee4\u521b\u5efa\u7684 area \u7f16\u53f7\u7684\u3002\u8fd9\u53ef\u4ee5\u7528\u6765\u5bf9\u8fd9\u4e9b\u533a\u57df\u6267\u884c\u5e03\u5c14\u8fd0\u7b97\uff0c\u5c06\u5706\u4ece\u77e9\u5f62\u4e2d\u526a\u5207\u51fa\u6765\u3002\n# plate_with_hole_anum = mapdl.asba(rect_anum, circ_anum)\ncut_area = mapdl.asba(rect_anum, \"ALL\")  # cut all areas except the plate\n\nplotter = pv.Plotter(shape=(1, 3))\n\nplotter.subplot(0, 0)\nmapdl.lsla(\"S\")\nmapdl.lplot(vtk=True, show_keypoint_numbering=True, plotter=plotter)\nmapdl.lsel(\"all\")\n\n# \u4f7f\u7528 vtk/pyvista \u7ed8\u5236 area \u56fe\nplotter.subplot(0, 1)\nmapdl.aplot(\n    vtk=True, show_area_numbering=True, show_lines=True, cpos=\"xy\", plotter=plotter\n)\n\n# \u63a5\u4e0b\u6765\uff0c\u6324\u51fa area \u4ee5\u521b\u5efa\u4f53\nthickness = 0.01\nmapdl.vext(cut_area, dz=thickness)\n\n# \u68c0\u67e5 volume \u7ed8\u56fe\nplotter.subplot(0, 2)\nmapdl.vplot(\n    vtk=True, show_lines=True, show_axes=True, smooth_shading=True, plotter=plotter\n)\n\nplotter.show()"
      ]
    },
    {
      "cell_type": "markdown",
      "metadata": {},
      "source": [
        "# Meshing\r\n\r\n\u672c\u793a\u4f8b\u5c06\u4f7f\u7528 PLANE183 \u5355\u5143\uff0c\u56e0\u4e3a\u53ea\u8981\u5c06 KEYOPTION(3) \u8bbe\u7f6e\u4e3a 3\r\n\u5e76\u63d0\u4f9b\u539a\u5ea6\uff0c\u5c31\u53ef\u4ee5\u4f7f\u7528\u5e73\u9762\u5355\u5143\u5bf9\u8584\u677f\u8fdb\u884c\u5efa\u6a21\u3002\r\n\r\n\u901a\u8fc7\u4e3a\u5b54\u9644\u8fd1\u7684\u7ebf\u6761\u8bbe\u7f6e `LESIZE` \uff0c\u4e3a\u7f51\u683c\u5168\u5c40\u5927\u5c0f\u8bbe\u7f6e `ESIZE`\r\n\uff0c\u5728\u5b54\u9644\u8fd1\u4f7f\u7528\u8f83\u9ad8\u7684\u5bc6\u5ea6\u5bf9\u677f\u6750\u8fdb\u884c\u7f51\u683c\u5212\u5206\uff0c\u800c\u5728\u677f\u6750\u7684\u5176\u4f59\u90e8\u5206\u4f7f\u7528\u8f83\u4f4e\u7684\u5bc6\u5ea6\u3002\r\n\r\n\u7ebf\u6761\u7f16\u53f7\u53ef\u901a\u8fc7\u4f7f\u7528 `lplot` \u68c0\u67e5\u6765\u786e\u5b9a\r\n"
      ]
    },
    {
      "cell_type": "code",
      "execution_count": null,
      "metadata": {
        "collapsed": false
      },
      "outputs": [],
      "source": [
        "# \u5b9a\u4e49\u539a\u5ea6\u4e3a PLANE183 \u7684\u5355\u5143\u7c7b\u578b\n\n# \u786e\u4fdd\u5b54\u5468\u56f4\u6709 25 \u4e2a\u5355\u5143\nnotch_esize = np.pi * notch_radius * 2 / 50\nplate_esize = 0.01\n\n# \u589e\u52a0\u7f3a\u53e3\u5904\u7684\u7f51\u683c\u5bc6\u5ea6\n# \u4f7f\u7528 aplot \u786e\u5b9a\u7684\u7ebf\u6761\u548c area \u7f16\u53f7\n\nmapdl.asel(\"S\", \"AREA\", vmin=1, vmax=1)\nmapdl.aplot(vtk=True, show_line_numbering=True)\n\n\nmapdl.lsel(\"NONE\")\nfor line in [7, 8, 20, 21]:\n    mapdl.lsel(\"A\", \"LINE\", vmin=line, vmax=line)\nmapdl.lesize(\"ALL\", notch_esize, kforc=1)\nmapdl.lsel(\"ALL\")\n\n# \u51cf\u5c11\u7f51\u683c\u6269\u5c55\u9762\u79ef\u3002\u8fd9\u6837\u53ef\u4ee5\u786e\u4fdd\u5b54\u9644\u8fd1\u7684\u7f51\u683c\u4fdd\u6301\u7cbe\u7ec6\nmapdl.mopt(\"EXPND\", 0.7)  # default 1\n\n# mesh several elements through the plate\nesize = notch_esize * 5\nif esize > thickness / 2:\n    esize = thickness / 2  # \u539a\u5ea6\u65b9\u5411\u81f3\u5c11 2 \u4e2a\u5355\u5143\n\nmapdl.esize()  # \u8fd9\u5f88\u96be\u5b9e\u73b0\u81ea\u52a8\u5316\nmapdl.et(1, \"SOLID186\")\nmapdl.vsweep(\"all\")\nmapdl.eplot(vtk=True, show_edges=True, show_axes=False, line_width=2, background=\"w\")"
      ]
    },
    {
      "cell_type": "markdown",
      "metadata": {},
      "source": [
        "# Material Properties and Boundary Conditions\r\n\r\n\u5728 X \u65b9\u5411\u56fa\u5b9a\u677f\u7684\u5de6\u4fa7\uff0c\u5e76\u5728 X \u6b63\u65b9\u5411\u8bbe\u7f6e 1 kN \u7684\u529b\u3002\r\n"
      ]
    },
    {
      "cell_type": "code",
      "execution_count": null,
      "metadata": {
        "collapsed": false
      },
      "outputs": [],
      "source": [
        "# \u672c\u4f8b\u5c06\u4f7f\u7528\u56fd\u9645\u5355\u4f4d\u5236\u3002\nmapdl.units(\"SI\")  # SI - International system (m, kg, s, K).\n\n# \u5b9a\u4e49\u6750\u6599\uff08SI\u4e2d\u7684\u6807\u79f0\u94a2\uff09\nmapdl.mp(\"EX\", 1, 210e9)  # Elastic moduli in Pa (kg/(m*s**2))\nmapdl.mp(\"DENS\", 1, 7800)  # Density in kg/m3\nmapdl.mp(\"NUXY\", 1, 0.3)  # Poisson's Ratio\n\n# \u56fa\u5b9a\u5de6\u4fa7\u8282\u70b9\nmapdl.nsel(\"S\", \"LOC\", \"X\", 0)\nmapdl.d(\"ALL\", \"UX\")\n\n# \u5728\u677f\u7684\u5de6\u4fa7 Y \u548c Z \u65b9\u5411\u56fa\u5b9a\u51e0\u4e2a\u8282\u70b9\u3002\u5426\u5219\uff0c\u7f51\u683c\u5c06\u88ab\u5141\u8bb8\u5728 Y \u65b9\u5411\u79fb\u52a8\uff0c\u6210\u4e3a\u4e00\u4e2a\u4e0d\u9002\u5f53\u7684\u7ea6\u675f\u7f51\u683c\u3002\nmapdl.nsel(\"R\", \"LOC\", \"Y\", width / 2)\nmapdl.d(\"ALL\", \"UY\")\nmapdl.d(\"ALL\", \"UZ\")\n\n# \u5728\u677f\u7684\u53f3\u4fa7\u65bd\u52a0\u4e00\u4e2a\u529b\u3002\u5728\u672c\u4f8b\u4e2d\uff0c\u6211\u4eec\u9009\u62e9\u677f\u6700\u53f3\u4fa7\u7684\u8282\u70b9\u3002\nmapdl.nsel(\"S\", \"LOC\", \"X\", length)\n\n# Verify that only the nodes at length have been selected:\n# assert np.unique(mapdl.mesh.nodes[:, 0]) == length\n\n# \u63a5\u4e0b\u6765\uff0c\u4e3a\u8fd9\u4e9b\u8282\u70b9\u8026\u5408 DOF\u3002\u8fd9\u6837\uff0c\u6211\u4eec\u5c31\u53ef\u4ee5\u4e3a\u4e00\u4e2a\u8282\u70b9\u63d0\u4f9b\u4e00\u4e2a\u529b\uff0c\u8fd9\u4e2a\u529b\u5c06\u5206\u6563\u5230\u8026\u5408\u96c6\u7684\u6240\u6709\u8282\u70b9\u4e0a\u3002\nmapdl.cp(5, \"UX\", \"ALL\")\n\n# \u5728\u8be5\u7ec4\u4e2d\u9009\u62e9\u4e00\u4e2a\u8282\u70b9\u5e76\u5bf9\u5176\u65bd\u529b \u6211\u4eec\u4f7f\u7528 \"R\" \u4ece\u5f53\u524d\u8282\u70b9\u7ec4\u4e2d\u91cd\u65b0\u9009\u62e9\u8282\u70b9\nmapdl.nsel(\"R\", \"LOC\", \"Y\", width / 2)  # selects more than one\nsingle_node = mapdl.mesh.nnum[0]\nmapdl.nsel(\"S\", \"NODE\", vmin=single_node, vmax=single_node)\nmapdl.f(\"ALL\", \"FX\", 1000)\n\n# \u6700\u540e\uff0c\u8bf7\u52a1\u5fc5\u518d\u6b21\u9009\u62e9\u6240\u6709\u8282\u70b9\nmapdl.allsel(mute=True)"
      ]
    },
    {
      "cell_type": "markdown",
      "metadata": {},
      "source": [
        "# Solve the Static Problem\r\n\r\n\u6c42\u89e3\u9759\u6001\u5206\u6790\r\n"
      ]
    },
    {
      "cell_type": "code",
      "execution_count": null,
      "metadata": {
        "collapsed": false
      },
      "outputs": [],
      "source": [
        "mapdl.run(\"/SOLU\")\nmapdl.antype(\"STATIC\")\nmapdl.solve()\nmapdl.finish(mute=True)"
      ]
    },
    {
      "cell_type": "markdown",
      "metadata": {},
      "source": [
        "# Post-Processing\r\n\r\n\u9759\u6001\u7ed3\u679c\u53ef\u4ee5\u5728 MAPDL \u5185\u6216 MAPDL \u5916\u4f7f\u7528 `pyansys` \u8fdb\u884c\u540e\u5904\u7406\u3002\r\n\u672c\u4f8b\u5c55\u793a\u4e86\u5982\u4f55\u63d0\u53d6 von Mises \u5e94\u529b\u5e76\u4f7f\u7528 `pyansys` \u7ed3\u679c\u9605\u8bfb\u5668\u7ed8\u5236\u66f2\u7ebf\u3002\r\n"
      ]
    },
    {
      "cell_type": "code",
      "execution_count": null,
      "metadata": {
        "collapsed": false
      },
      "outputs": [],
      "source": [
        "# \u4ece ``mapdl`` \u5b9e\u4f8b\u4e2d\u6293\u53d6\u7ed3\u679c\nresult = mapdl.result\nresult.plot_principal_nodal_stress(\n    0,\n    \"SEQV\",\n    lighting=False,\n    background=\"w\",\n    show_edges=True,\n    text_color=\"k\",\n    add_text=False,\n)\n\nnnum, stress = result.principal_nodal_stress(0)\nvon_mises = stress[:, -1]  # von-Mises stress is the right most column\n\n# Must use nanmax as stress is not computed at mid-side nodes\nmax_stress = np.nanmax(von_mises)"
      ]
    },
    {
      "cell_type": "markdown",
      "metadata": {},
      "source": [
        "# Compute the Stress Concentration\r\n\r\n\u5e94\u529b\u96c6\u4e2d $K_t$\r\n\u662f\u5b54\u7684\u6700\u5927\u5e94\u529b\u4e0e\u8fdc\u573a\u5e94\u529b\u6216\u8fdc\u79bb\u5b54\u7684\u70b9\u7684\u5e73\u5747\u622a\u9762\u5e94\u529b\u4e4b\u6bd4\u3002\u5206\u6790\u65f6\uff0c\u53ef\u4ee5\u7528\u4ee5\u4e0b\u65b9\u6cd5\u8ba1\u7b97\uff1a\r\n\r\n$\\sigma_{nom} = \\frac{F}{wt}$\r\n\r\nWhere\r\n\r\n-   $F$ is the force\r\n-   $w$ is the width of the plate\r\n-   $t$ is the thickness of the plate.\r\n\r\n\u5b9e\u9a8c\u4e2d\uff0c\u8ba1\u7b97\u65b9\u6cd5\u662f\u53d6\u5e73\u677f\u6700\u53f3\u4fa7\u8282\u70b9\u7684\u5e73\u5747\u503c\u3002\r\n"
      ]
    },
    {
      "cell_type": "code",
      "execution_count": null,
      "metadata": {
        "collapsed": false
      },
      "outputs": [],
      "source": [
        "# \u6211\u4eec\u5728\u8fd9\u91cc\u4f7f\u7528 `nanmean` \u83b7\u53d6\u5e73\u5747\u503c\nmask = result.mesh.nodes[:, 0] == length\nfar_field_stress = np.nanmean(von_mises[mask])\nprint(\"Far field von Mises stress: %e\" % far_field_stress)\n# \u8fd9\u51e0\u4e4e\u6b63\u597d\u7b49\u4e8e 10000000.0 \u5e15\u7684\u5206\u6790\u503c"
      ]
    },
    {
      "cell_type": "markdown",
      "metadata": {},
      "source": [
        "\u7531\u4e8e\u5b54\u6a2a\u622a\u9762\u4e0a\u7684\u9884\u671f\u6807\u79f0\u5e94\u529b\u4f1a\u968f\u7740\u5b54\u5c3a\u5bf8\u7684\u589e\u5927\u800c\u589e\u5927\uff0c\u65e0\u8bba\u5e94\u529b\u96c6\u4e2d\u4e0e\u5426\uff0c\r\n\u90fd\u5fc5\u987b\u5bf9\u5e94\u529b\u8fdb\u884c\u8c03\u6574\uff0c\u4ee5\u83b7\u5f97\u6b63\u786e\u7684\u5e94\u529b\u3002\u8be5\u5e94\u529b\u6839\u636e\u5bbd\u5ea6\u4e0e\u4fee\u6b63\u622a\u9762\u5bbd\u5ea6\u4e4b\u6bd4\u8fdb\u884c\u8c03\u6574\u3002\r\n"
      ]
    },
    {
      "cell_type": "code",
      "execution_count": null,
      "metadata": {
        "collapsed": false
      },
      "outputs": [],
      "source": [
        "adj = width / (width - notch_depth * 2)\nstress_adj = far_field_stress * adj\n\n# \u7136\u540e\uff0c\u5e94\u529b\u96c6\u4e2d\u7cfb\u6570\u5c31\u662f\u6700\u5927\u5e94\u529b\u9664\u4ee5\u8c03\u6574\u540e\u7684\u8fdc\u573a\u5e94\u529b\u3002\nstress_con = max_stress / stress_adj\nprint(\"Stress Concentration: %.2f\" % stress_con)"
      ]
    },
    {
      "cell_type": "markdown",
      "metadata": {},
      "source": [
        "# Batch Analysis\r\n\r\n\u4e0a\u8ff0\u811a\u672c\u53ef\u7528\u4e8e\u8ba1\u7b97\u5404\u79cd\u5b54\u5f84\u7684\u5e94\u529b\u96c6\u4e2d\u3002\u5bf9\u4e8e\u6bcf\u4e2a\u6279\u5904\u7406\uff0cMAPDL\r\n\u90fd\u4f1a\u91cd\u7f6e\uff0c\u5e76\u751f\u6210\u76f8\u5e94\u51e0\u4f55\u4f53\u3002\r\n\r\n::: note\r\n::: title\r\nNote\r\n:::\r\n\r\n\u8be5\u793a\u4f8b\u6682\u65f6\u7981\u7528\u8be5\u90e8\u5206\u662f\u4e3a\u4e86\u51cf\u5c11\u672c\u793a\u4f8b\u7684\u6267\u884c\u65f6\u95f4\u3002\u8bf7\u901a\u8fc7\u8bbe\u7f6e\r\n`RUN_BATCH = TRUE` \u542f\u7528\u8be5\u90e8\u5206\u3002\r\n:::\r\n"
      ]
    },
    {
      "cell_type": "code",
      "execution_count": null,
      "metadata": {
        "collapsed": false
      },
      "outputs": [],
      "source": [
        "RUN_BATCH = False\n\n# \u6279\u5904\u7406\u7684\u8ba1\u7b97\u51fd\u6570\u5982\u4e0b\uff1a\n\n\ndef compute_stress_con(ratio):\n    notch_depth = ratio * width / 2\n\n    mapdl.clear()\n    mapdl.prep7()\n\n    # Notch circle.\n    circ0_kp = mapdl.k(x=length / 2, y=width + notch_radius)\n    circ_line_num = mapdl.circle(circ0_kp, notch_radius)\n    circ_line_num = circ_line_num[2:]  # only concerned with the bottom arcs\n\n    circ0_kp = mapdl.k(x=0, y=0)\n    k1 = mapdl.k(x=0, y=-notch_depth)\n    l0 = mapdl.l(circ0_kp, k1)\n    mapdl.adrag(*circ_line_num, nlp1=l0)\n\n    circ1_kp = mapdl.k(x=length / 2, y=-notch_radius)\n    circ_line_num = mapdl.circle(circ1_kp, notch_radius)\n    circ_line_num = circ_line_num[:2]  # only concerned with the top arcs\n\n    k0 = mapdl.k(x=0, y=0)\n    k1 = mapdl.k(x=0, y=notch_depth)\n    l0 = mapdl.l(k0, k1)\n    mapdl.adrag(*circ_line_num, nlp1=l0)\n\n    rect_anum = mapdl.blc4(width=length, height=width)\n    cut_area = mapdl.asba(rect_anum, \"ALL\")  # cut all areas except the plate\n\n    mapdl.allsel()\n    mapdl.vext(cut_area, dz=thickness)\n\n    notch_esize = np.pi * notch_radius * 2 / 50\n    plate_esize = 0.01\n\n    mapdl.asel(\"S\", \"AREA\", vmin=1, vmax=1)\n\n    mapdl.lsel(\"NONE\")\n    for line in [7, 8, 20, 21]:\n        mapdl.lsel(\"A\", \"LINE\", vmin=line, vmax=line)\n\n    mapdl.ksel(\"NONE\")\n    mapdl.ksel(\n        \"S\",\n        \"LOC\",\n        \"X\",\n        length / 2 - notch_radius * 1.1,\n        length / 2 + notch_radius * 1.1,\n    )\n    mapdl.lslk(\"S\", 1)\n    mapdl.lesize(\"ALL\", notch_esize, kforc=1)\n    mapdl.lsel(\"ALL\")\n\n    mapdl.mopt(\"EXPND\", 0.7)  # default 1\n\n    esize = notch_esize * 5\n    if esize > thickness / 2:\n        esize = thickness / 2  # minimum of two elements through\n\n    mapdl.esize()  # this is tough to automate\n    mapdl.et(1, \"SOLID186\")\n    mapdl.vsweep(\"all\")\n\n    mapdl.allsel()\n\n    # \u5982\u679c\u8981\u6253\u5370\u51e0\u4f55\u4f53\u548c\u7f51\u683c\u56fe\uff0c\u8bf7\u53d6\u6d88\u6ce8\u91ca\u3002\n    # mapdl.vplot(savefig=f'vplot-{ratio}.png', off_screen=True)\n    # mapdl.eplot(savefig=f'eplot-{ratio}.png', off_screen=True)\n\n    mapdl.units(\"SI\")  # SI - International system (m, kg, s, K).\n\n    mapdl.mp(\"EX\", 1, 210e9)  # Elastic moduli in Pa (kg/(m*s**2))\n    mapdl.mp(\"DENS\", 1, 7800)  # Density in kg/m3\n    mapdl.mp(\"NUXY\", 1, 0.3)  # Poisson's Ratio\n\n    mapdl.nsel(\"S\", \"LOC\", \"X\", 0)\n    mapdl.d(\"ALL\", \"UX\")\n\n    mapdl.nsel(\"R\", \"LOC\", \"Y\", width / 2)\n    mapdl.d(\"ALL\", \"UY\")\n    mapdl.d(\"ALL\", \"UZ\")\n\n    mapdl.nsel(\"S\", \"LOC\", \"X\", length)\n    mapdl.cp(5, \"UX\", \"ALL\")\n\n    mapdl.nsel(\"R\", \"LOC\", \"Y\", width / 2)  # selects more than one\n    single_node = mapdl.mesh.nnum[0]\n    mapdl.nsel(\"S\", \"NODE\", vmin=single_node, vmax=single_node)\n    mapdl.f(\"ALL\", \"FX\", 1000)\n\n    mapdl.allsel(mute=True)\n\n    mapdl.run(\"/SOLU\")\n    mapdl.antype(\"STATIC\")\n    mapdl.solve()\n    mapdl.finish()\n\n    result = mapdl.result\n    _, stress = result.principal_nodal_stress(0)\n    von_mises = stress[:, -1]  # von-Mises stress is the right most column\n    max_stress = np.nanmax(von_mises)\n\n    mask = result.mesh.nodes[:, 0] == length\n    far_field_stress = np.nanmean(von_mises[mask])\n\n    adj = width / (width - notch_depth * 2)\n    stress_adj = far_field_stress * adj\n\n    return max_stress / stress_adj"
      ]
    },
    {
      "cell_type": "markdown",
      "metadata": {},
      "source": [
        "\u8fd0\u884c\u6279\u5904\u7406\u5e76\u8bb0\u5f55\u5e94\u529b\u96c6\u4e2d\r\n"
      ]
    },
    {
      "cell_type": "code",
      "execution_count": null,
      "metadata": {
        "collapsed": false
      },
      "outputs": [],
      "source": [
        "if RUN_BATCH:\n    k_t_exp = []\n    ratios = np.linspace(0.05, 0.75, 9)\n    print(\"    Ratio  : Stress Concentration (K_t)\")\n    for ratio in ratios:\n        stress_con = compute_stress_con(ratio)\n        print(\"%10.4f : %10.4f\" % (ratio, stress_con))\n        k_t_exp.append(stress_con)"
      ]
    },
    {
      "cell_type": "markdown",
      "metadata": {},
      "source": [
        "# Analytical Solution\r\n\r\n\u5e94\u529b\u96c6\u4e2d\u901a\u5e38\u662f\u901a\u8fc7\u53c2\u8003\u8868\u683c\u7ed3\u679c\u6216\u5404\u79cd\u51e0\u4f55\u5f62\u72b6\u7684\u591a\u9879\u5f0f\u62df\u5408\u5f97\u5230\u7684\u3002 \u6839\u636e\r\n*Roark\\'s Formulas for Stress and Strain* \uff08Warren C. Young \u548c Richard\r\nG. Budynas\uff0c\u7b2c\u4e03\u7248\uff0cMcGraw-Hill\uff09\uff0c\u5355\u8f74\u62c9\u4f38\u8584\u677f\u4e0a\u4e24\u4e2a U\r\n\u5f62\u7f3a\u53e3\u7684\u5206\u6790\u65b9\u7a0b\u4e3a\uff1a\r\n\r\n$$K_t = C_1 + C_2 \\left(\\dfrac{2h}{D}\\right) + C_3 \\left(\\dfrac{2h}{D}\\right)^2 + C_4 \\left(\\dfrac{2h}{D}\\right)^3$$\r\n\r\nwhere:\r\n\r\n$$\\begin{aligned}\r\n\\begin{array}{c|c|c}\r\n& 0.1 \\leq h/r \\leq 2.0                 & 2.0 \\leq h/r \\leq 50.0 \\\\ \\hline\r\nC_1 & 0.85 + 2.628 \\sqrt{h/r} - 0.413 h/r   & 0.833 + 2.069 \\sqrt{h/r} - 0.009 h/r \\\\\r\nC_2 & -1.119 - 4.826 \\sqrt{h/r} + 2.575 h/r & 2.732 - 4.157   \\sqrt{h/r} + 0.176 h/r \\\\\r\nC_3 & 3.563 - 0.514 \\sqrt{h/r} - 2.402 h/r  & -8.859 + 5.327 \\sqrt{h/r} - 0.32 h/r \\\\\r\nC_4 & -2.294 + 2.713 \\sqrt{h/r} + 0.240 h/r & 6.294 - 3.239 \\sqrt{h/r} + 0.154 h/r\r\n\\end{array}\r\n\\end{aligned}$$\r\n\r\nWhere:\r\n\r\n-   $K_t$ \u662f\u5e94\u529b\u96c6\u4e2d\u5ea6\r\n-   $r$ \u662f\u51f9\u69fd\u534a\u5f84\r\n-   $h$ \u662f\u51f9\u69fd\u6df1\u5ea6\r\n-   $D$ \u662f\u677f\u7684\u5bbd\u5ea6\r\n\r\n\u672c\u4f8b\u4e2d\u7684\u6bd4\u7387\u4e3a $2h/D$\u3002\r\n\r\n\u8fd9\u4e9b\u516c\u5f0f\u901a\u8fc7\u4ee5\u4e0b\u51fd\u6570\u8fdb\u884c\u8f6c\u6362\uff1a\r\n"
      ]
    },
    {
      "cell_type": "code",
      "execution_count": null,
      "metadata": {
        "collapsed": false
      },
      "outputs": [],
      "source": [
        "def calc_teor_notch(ratio):\n    notch_depth = ratio * width / 2\n    h = notch_depth\n    r = notch_radius\n    D = width\n\n    if 0.1 <= h / r <= 2.0:\n        c1 = 0.85 + 2.628 * (h / r) ** 0.5 - 0.413 * h / r\n        c2 = -1.119 - 4.826 * (h / r) ** 0.5 + 2.575 * h / r\n        c3 = 3.563 - 0.514 * (h / r) ** 0.5 - 2.402 * h / r\n        c4 = -2.294 + 2.713 * (h / r) ** 0.5 + 0.240 * h / r\n    elif 2.0 <= h / r <= 50.0:\n        c1 = 0.833 + 2.069 * (h / r) ** 0.5 - 0.009 * h / r\n        c2 = 2.732 - 4.157 * (h / r) ** 0.5 + 0.176 * h / r\n        c3 = -8.859 + 5.327 * (h / r) ** 0.5 - 0.32 * h / r\n        c4 = 6.294 - 3.239 * (h / r) ** 0.5 + 0.154 * h / r\n\n    return c1 + c2 * (2 * h / D) + c3 * (2 * h / D) ** 2 + c4 * (2 * h / D) ** 3"
      ]
    },
    {
      "cell_type": "markdown",
      "metadata": {},
      "source": [
        "\u7528\u4e8e\u8ba1\u7b97\u7ed9\u5b9a\u6bd4\u7387\u7684\u5e94\u529b\u96c6\u4e2d\u7cfb\u6570\uff1a\r\n"
      ]
    },
    {
      "cell_type": "code",
      "execution_count": null,
      "metadata": {
        "collapsed": false
      },
      "outputs": [],
      "source": [
        "if RUN_BATCH:\n    print(\"    Ratio  : Stress Concentration (K_t)\")\n    k_t_anl = []\n    for ratio in ratios:\n        stress_con = calc_teor_notch(ratio)\n        print(\"%10.4f : %10.4f\" % (ratio, stress_con))\n        k_t_anl.append(stress_con)"
      ]
    },
    {
      "cell_type": "markdown",
      "metadata": {},
      "source": [
        "# Analytical Comparison\r\n\r\n\u5982\u4e0b\u56fe\u6240\u793a\uff0c\u5728\u4f7f\u7528 PLANE183 \u5355\u5143\u65f6\uff0cMAPDL\r\n\u4e0e\u8be5\u51e0\u4f55\u5f62\u72b6\u7684\u5df2\u77e5\u8868\u683c\u7ed3\u679c\u975e\u5e38\u543b\u5408\u3002\r\n\u6839\u636e\u677f\u7684\u9ad8\u5ea6\u548c\u5bbd\u5ea6\u4e4b\u95f4\u7684\u6bd4\u4f8b\uff0c\u7ed3\u679c\u7684\u62df\u5408\u7a0b\u5ea6\u53ef\u80fd\u4f1a\u6709\u6240\u4e0d\u540c\u3002\r\n"
      ]
    },
    {
      "cell_type": "code",
      "execution_count": null,
      "metadata": {
        "collapsed": false
      },
      "outputs": [],
      "source": [
        "if RUN_BATCH:\n    plt.plot(ratios, k_t_anl, label=r\"$K_t$ Analytical\")\n    plt.plot(ratios, k_t_exp, label=r\"$K_t$ ANSYS\")\n    plt.legend()\n    plt.show()"
      ]
    },
    {
      "cell_type": "markdown",
      "metadata": {},
      "source": [
        "# Stop mapdl\r\n"
      ]
    },
    {
      "cell_type": "code",
      "execution_count": null,
      "metadata": {
        "collapsed": false
      },
      "outputs": [],
      "source": [
        "mapdl.exit()"
      ]
    }
  ],
  "metadata": {
    "kernelspec": {
      "display_name": "Python 3",
      "language": "python",
      "name": "python3"
    },
    "language_info": {
      "codemirror_mode": {
        "name": "ipython",
        "version": 3
      },
      "file_extension": ".py",
      "mimetype": "text/x-python",
      "name": "python",
      "nbconvert_exporter": "python",
      "pygments_lexer": "ipython3",
      "version": "3.10.1"
    }
  },
  "nbformat": 4,
  "nbformat_minor": 0
}