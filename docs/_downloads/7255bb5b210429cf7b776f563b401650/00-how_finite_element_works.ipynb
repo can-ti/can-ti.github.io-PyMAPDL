{
  "cells": [
    {
      "cell_type": "markdown",
      "metadata": {},
      "source": [
        "# \u5efa\u7acb\u6709\u9650\u5143\u6a21\u578b {#build_element_example}\r\n\r\n\u4f7f\u7528\u7b49\u53c2\u6570\u516c\u5f0f\u4e3a\u56db\u8fb9\u5f62\u5355\u5143\u5efa\u7acb\u4e86\u6709\u9650\u5143\u6a21\u578b\uff0c\u5e76\u7528 PyMAPDL \u8fdb\u884c\u4e86\u9a8c\u8bc1\u3002\r\n\r\n\u4e3a\u4e86\u7528\u4e00\u4e2a\u5177\u4f53\u7684\u4f8b\u5b50\u6765\u8bf4\u660e\uff0c\u6211\u4eec\u4ee5\u4e00\u4e2a\u4e8c\u7ef4\u5355\u5143\u4e3a\u4f8b\uff0c\u8be5\u5355\u5143\u7531\u4ee5\u4e0b (x, y)\r\n\u8282\u70b9\u4f4d\u7f6e\u3001\u5404\u5411\u540c\u6027\u6750\u6599\uff08\u6768\u6c0f\u6a21\u91cf\u4e3a 30e6 psi\uff0c\u6ce2\u4f9d\u65af\u7279\u6bd4\u4e3a\r\n0.25\uff09\u548c\u5355\u4f4d\u539a\u5ea6\u63cf\u8ff0\uff0c \u63d0\u4f9b\u4e86 Daryl Logan \u7684\u300a\u6709\u9650\u5143\u6cd5\u7b2c\u4e00\u8bfe\u300b\uff08\u7b2c 2\r\n\u7248\uff0cPWS \u51fa\u7248\u793e\uff0c1993 \u5e74\uff09\u4e2d\u8ba8\u8bba\u5185\u5bb9\u7684\u5b9e\u9645\u5e94\u7528\u3002\r\n"
      ]
    },
    {
      "cell_type": "code",
      "execution_count": null,
      "metadata": {
        "collapsed": false
      },
      "outputs": [],
      "source": [
        "import itertools\n\nimport matplotlib.pyplot as plt\nimport numpy as np\n\nnp.set_printoptions(linewidth=120) # \u8fd9\u4e9b\u9009\u9879\u51b3\u5b9a\u4e86\u6d6e\u70b9\u6570\u3001\u6570\u7ec4\u548c\u5176\u4ed6 NumPy \u5bf9\u8c61\u7684\u663e\u793a\u65b9\u5f0f\u3002"
      ]
    },
    {
      "cell_type": "markdown",
      "metadata": {},
      "source": [
        "# \u4e8c\u7ef4\u7ebf\u6027\u77e9\u5f62\u5355\u5143\u521a\u5ea6\u77e9\u9635\u7684\u63a8\u5bfc\r\n\r\n\u7528\u4ee5\u4e0b\u5750\u6807\u5efa\u7acb\u4e00\u4e2a\u57fa\u672c\u7684\u4e8c\u7ef4\u5355\u5143\r\n\r\n$$\\begin{aligned}\r\n\\begin{matrix}\r\n(1, 2) \\\\ (8, 0) \\\\ (9, 4) \\\\ (4, 5)\r\n\\end{matrix}\r\n\\end{aligned}$$\r\n"
      ]
    },
    {
      "cell_type": "code",
      "execution_count": null,
      "metadata": {
        "collapsed": false
      },
      "outputs": [],
      "source": [
        "node_xy = [(1, 2), (8, 0), (9, 4), (4, 5)]\nnode_ids = list(range(1, 1 + 4))\nnodes = np.array(node_xy, dtype=float)\n\n\ndef plot_my_mesh(nodes, points=None):\n    fig = plt.figure(figsize=(6, 6))\n    ax = plt.gca()\n    plt.scatter(nodes[:, 0], nodes[:, 1])\n    if points is not None:\n        plot_pts = points if points.ndim > 1 else points[None, :]\n        plt.scatter(plot_pts[:, 0], plot_pts[:, 1])\n    nodes_around = np.reshape(np.take(nodes, range(10), mode=\"wrap\"), (-1, 2))\n    plt.plot(nodes_around[:, 0], nodes_around[:, 1])\n    for i, n in enumerate(nodes):\n        ax.annotate(i + 1, n + np.array([0.1, 0.1]))\n    plt.xlim(0, 10)\n    plt.ylim(0, 6)\n    plt.box(False)\n    ax.set_aspect(1)\n    plt.show()\n\n\nplot_my_mesh(nodes)"
      ]
    },
    {
      "cell_type": "markdown",
      "metadata": {},
      "source": [
        "\u6211\u4eec\u5c06\u521b\u5efa\u4e00\u4e2a\u5355\u5143\u7c7b `MyElementDemo` \u6765\u627f\u8f7d\u672c\u6f14\u793a\u6240\u9700\u7684\u6240\u6709\u6570\u636e\u548c\u65b9\u6cd5\u3002\r\n\u867d\u7136\u6211\u4eec\u53ef\u4ee5\u4e00\u6b21\u6027\u5bf9\u6574\u4e2a\u7c7b\u8fdb\u884c\u7f16\u7a0b\uff08\u5982\u672c\u7ec3\u4e60\u5e95\u90e8\u6240\u505a\u7684\uff09\uff0c\u4f46\u6211\u4eec\u5c06\u9010\u4e2a\u6dfb\u52a0\u6570\u636e\u548c\u65b9\u6cd5\uff0c\u4ee5\u4fbf\u5bf9\u5176\u542b\u4e49\u8fdb\u884c\u6ce8\u91ca\u3002\r\n\u6211\u4eec\u5c06\u521b\u5efa\u8be5\u7c7b\u7684\u4e00\u4e2a\u5b9e\u4f8b\uff0c\u5e76\u5c06\u5176\u79f0\u4e3a `my_elem` \u4ee5\u8868\u793a\u6211\u4eec\u7684\u7279\u5b9a\u5355\u5143\u793a\u4f8b\r\n"
      ]
    },
    {
      "cell_type": "code",
      "execution_count": null,
      "metadata": {
        "collapsed": false
      },
      "outputs": [],
      "source": [
        "class MyElementDemo:\n    def __init__(self, nodes):\n        self.nodes = nodes\n\n\nmy_elem = MyElementDemo(nodes)"
      ]
    },
    {
      "cell_type": "markdown",
      "metadata": {},
      "source": [
        "# \u5f62\u51fd\u6570\r\n\r\n\u901a\u8fc7\u5355\u5143\u5f62\u72b6\u51fd\u6570\uff0c\u6211\u4eec\u53ef\u4ee5\u5c06\u67d0\u4e9b\u91cf\uff08\u4f8b\u5982\u4f4d\u79fb\u5206\u91cf\uff09\u4ece\u89d2\u8282\u70b9\u63d2\u503c\u5230\u6574\u4e2a\u5355\u5143\u7684\u4efb\u610f\u70b9\u3002\r\n\u8fd9\u6837\uff0c\u5f53\u7ed3\u6784\u53d1\u751f\u53d8\u5f62\u65f6\uff0c\u6211\u4eec\u4e0d\u4ec5\u53ef\u4ee5\u77e5\u9053\u8282\u70b9\u5904\u7684\u4f4d\u79fb\uff0c\u8fd8\u53ef\u4ee5\u77e5\u9053\u5185\u90e8\u4efb\u610f\u70b9\u7684\u4f4d\u79fb\u3002\r\n\r\n\u7b49\u53c2\u516c\u5f0f\u7684\u7279\u522b\u4e4b\u5904\u5728\u4e8e\u4e3a\u6211\u4eec\u7684\u4e8c\u7ef4\u5355\u5143\u9009\u62e9\u4e00\u4e2a\u5178\u578b\u5f62\u72b6\u3002\u6211\u4eec\u5047\u8bbe\u4efb\u4f55\u4e8c\u7ef4\u56db\u8fb9\u5f62\u90fd\u53ef\u4ee5\u6620\u5c04\u4e3a\u6b63\u65b9\u5f62\uff0c\u4f8b\u5982\r\n${\\rm I\\!R}^2$ \u4e2d\u7684\u4e00\u4e2a\u57df\uff0c\u5982 $s\\in [-1,1]$ \u548c $t\\in [-1,1]$\u3002\r\n\u6211\u4eec\u5728\u8be5\u6b63\u65b9\u5f62\u4e0a\u63a8\u5bfc\u51fa\u6240\u6709\u7269\u7406\u91cf\uff0c\u5e76\u5229\u7528\u6620\u5c04\u5c06\u5b83\u4eec\u7684\u503c\u8f6c\u6362\u4e3a\u5355\u5143\u7684\u5b9e\u9645\u5f62\u72b6\u3002\r\n\u8fd9\u79cd\u53d8\u6362\u5c06\u6709\u52a9\u4e8e\u7b80\u5316\u8ba1\u7b97\u6240\u9700\u7684\u79ef\u5206\uff0c\u4ee5\u6d4b\u91cf\u79bb\u6563\u8282\u70b9\u79fb\u52a8\u548c\u5f62\u72b6\u53d8\u5f62\u65f6\uff0c\u5e94\u53d8\u80fd\u662f\u5982\u4f55\u5728\u6574\u4e2a\u5355\u5143\u7684\u8fde\u7eed\u4f53\u4e2d\u7d2f\u79ef\u7684\u3002\r\n\r\n\u5bf9\u4e8e\u7b49\u53c2\u4e8c\u7ef4\u5355\u5143\uff0c\u6211\u4eec\u5b9a\u4e49\u4e86\u4ee5\u4e0b 4 \u4e2a\u5f62\u72b6\u51fd\u6570\uff1a\r\n\r\n$$\\begin{aligned}\r\n\\begin{matrix}\r\nN_1 = \\frac{(1-s)\\cdot(1-t)}{4} \\\\\r\nN_2 = \\frac{(1+s)\\cdot(1-t)}{4} \\\\\r\nN_3 = \\frac{(1+s)\\cdot(1+t)}{4} \\\\\r\nN_4 = \\frac{(1-s)\\cdot(1+t)}{4}\r\n\\end{matrix}\r\n\\end{aligned}$$\r\n\r\n\u8fd9\u4e9b\u51fd\u6570\u7684\u6784\u5efa\u65b9\u5f0f\u662f\uff0c\u8282\u70b9 $i$\r\n\u4e0a\u7684\u51fd\u6570\u5728\u6240\u6709\u5176\u4ed6\u8282\u70b9\u4e0a\u6d88\u5931\uff0c\u5e76\u4e14\u5b83\u4eec\u7684\u548c\u5728\u57df\u4e2d\u7684\u6240\u6709\u70b9\u4e0a\u90fd\u4e3a 1\u3002\r\n\r\n\u4e3a\u4e86\u597d\u73a9\uff0c\u8ba9\u6211\u4eec\u7ed8\u5236\u4e00\u4e0b\u5b83\u4eec\uff0c\u770b\u770b\u5b83\u4eec\u5404\u81ea\u5bf9\u5355\u5143\u7684\u63d2\u503c\u6709\u4ec0\u4e48\u8d21\u732e\r\n"
      ]
    },
    {
      "cell_type": "code",
      "execution_count": null,
      "metadata": {
        "collapsed": false
      },
      "outputs": [],
      "source": [
        "s = np.linspace(-1, 1, 11)\nt = np.linspace(-1, 1, 11)\nS, T = np.meshgrid(s, t)\n\nfig = plt.figure(figsize=(10, 10))\n\nax1 = fig.add_subplot(2, 2, 1, projection=\"3d\")\nax1.plot_surface(S, T, 0.25 * (1 - S) * (1 - T))\nax1.title.set_text(r\"N1\")\n\nax2 = fig.add_subplot(2, 2, 2, projection=\"3d\")\nax2.plot_surface(S, T, 0.25 * (1 + S) * (1 - T))\nax2.title.set_text(r\"N2\")\n\nax3 = fig.add_subplot(2, 2, 3, projection=\"3d\")\nax3.plot_surface(S, T, 0.25 * (1 + S) * (1 + T))\nax3.title.set_text(r\"N3\")\n\nax4 = fig.add_subplot(2, 2, 4, projection=\"3d\")\nax4.plot_surface(S, T, 0.25 * (1 - S) * (1 + T))\nax4.title.set_text(r\"N4\")\n\nfig.tight_layout()\nplt.show()"
      ]
    },
    {
      "cell_type": "markdown",
      "metadata": {},
      "source": [
        "\u8ba9\u6211\u4eec\u5c06\u5f62\u72b6\u51fd\u6570\u65b9\u6cd5\u6dfb\u52a0\u5230\u6211\u4eec\u7684\u7c7b\u4e2d\r\n"
      ]
    },
    {
      "cell_type": "code",
      "execution_count": null,
      "metadata": {
        "collapsed": false
      },
      "outputs": [],
      "source": [
        "def shape_functions(self, s, t):\n    return 0.25 * np.array(\n        [\n            (1 - s) * (1 - t),\n            (1 + s) * (1 - t),\n            (1 + s) * (1 + t),\n            (1 - s) * (1 + t),\n        ],\n        dtype=float,\n    )\n\n\nMyElementDemo.shape_functions = shape_functions"
      ]
    },
    {
      "cell_type": "markdown",
      "metadata": {},
      "source": [
        "\u8981\u5c06\u4e00\u4e2a\u91cf\uff08\u5982\u4f4d\u7f6e\uff09\u4ece\u8282\u70b9\u63d2\u503c\u5230\u6574\u4e2a\u5355\u5143\u4e2d\u7684\u4efb\u610f\u70b9\uff0c\u6211\u4eec\u53ef\u4ee5\u4f7f\u7528\u4ee5\u4e0b\u64cd\u4f5c\u3002\r\n\r\n$$\\begin{aligned}\r\n\\begin{bmatrix}\r\nx \\\\ y \\end{bmatrix} =\r\n\\begin{bmatrix}\r\nN_{1}(s, t) & 0 & N_{2}(s, t) & 0 & N_{3}(s, t) & 0 & N_{4}(s, t) & 0 \\\\\r\n0 & N_{1}(s, t) & 0 & N_{2}(s, t) & 0 & N_{3}(s, t) & 0 & N_{4}(s, t)\r\n\\end{bmatrix} \\cdot\r\n\\begin{bmatrix}\r\n{}^1x \\\\ {}^1y \\\\ {}^2x \\\\ {}^2y \\\\ {}^3x \\\\ {}^3y \\\\ {}^4x \\\\ {}^4y\r\n\\end{bmatrix}\r\n\\end{aligned}$$\r\n\r\n$$\\mathbf{X}_{\\text{throughout}} = \\mathbf{N} \\cdot \\mathbf{X}_{\\text{nodal}}$$\r\n"
      ]
    },
    {
      "cell_type": "code",
      "execution_count": null,
      "metadata": {
        "collapsed": false
      },
      "outputs": [],
      "source": [
        "def N(self, s, t):\n    n_vec = self.shape_functions(s, t)\n    return np.array(\n        [\n            [n_vec[0], 0, n_vec[1], 0, n_vec[2], 0, n_vec[3], 0],\n            [0, n_vec[0], 0, n_vec[1], 0, n_vec[2], 0, n_vec[3]],\n        ]\n    )\n\n\nMyElementDemo.N = N"
      ]
    },
    {
      "cell_type": "markdown",
      "metadata": {},
      "source": [
        "\u4e3a\u4e86\u4e86\u89e3\u8fd9\u4e00\u70b9\u7684\u7528\u5904\uff0c\u8ba9\u6211\u4eec\u6765\u63d2\u503c\u4e00\u4e9b\u5e38\u89c1\u7684\u70b9\u3002\r\n\u6211\u4eec\u7684\u7b49\u53c2\u5355\u5143\u7684\u4e2d\u5fc3\u70b9\u4e3a $(s,t) = (0, 0)$\r\n\u3002\u8ba9\u6211\u4eec\u770b\u770b\u63d2\u503c\u662f\u5982\u4f55\u5f97\u5230\u5b9e\u5355\u5143\u4e2d\u7684\u7b49\u4ef7\u70b9\u7684\uff1a\r\n"
      ]
    },
    {
      "cell_type": "code",
      "execution_count": null,
      "metadata": {
        "collapsed": false
      },
      "outputs": [],
      "source": [
        "def interpolate_nodal_values(self, s, t, nodal_values):\n    return self.N(s, t).dot(nodal_values.flatten())\n\n\nMyElementDemo.interpolate_nodal_values = interpolate_nodal_values\n\nmy_points = my_elem.interpolate_nodal_values(0, 0, nodes)\nmy_points"
      ]
    },
    {
      "cell_type": "markdown",
      "metadata": {},
      "source": [
        "\u7ed8\u5236\u7f51\u683c\r\n"
      ]
    },
    {
      "cell_type": "code",
      "execution_count": null,
      "metadata": {
        "collapsed": false
      },
      "outputs": [],
      "source": [
        "plot_my_mesh(nodes, my_elem.interpolate_nodal_values(0, 0, nodes))"
      ]
    },
    {
      "cell_type": "markdown",
      "metadata": {},
      "source": [
        "# \u9ad8\u65af\u79ef\u5206\r\n\r\n\u9ad8\u65af\u79ef\u5206\u662f\u4e00\u79cd\u7528\u6709\u9650\u548c $\\sum w_i f(x_i)$ \u8fd1\u4f3c\u51fd\u6570 $\\int f(x) dx$\r\n\u7684\u79ef\u5206\u7684\u65b9\u6cd5\u3002 \u901a\u8fc7\u5728\u57df\u4e2d\u7684\u6709\u9650\u4f4d\u7f6e\u5bf9\u51fd\u6570 $f(x)$\r\n\u8fdb\u884c\u91c7\u6837\uff0c\u5e76\u9002\u5f53\u7f29\u653e\u5176\u503c\uff0c\u5c31\u53ef\u4ee5\u5f97\u5230\u79ef\u5206\u7684\u4f30\u8ba1\u503c\u3002 \u4e8b\u5b9e\u8bc1\u660e\uff0c\u53d6\u6837\u70b9\r\n$x_i$ \u53ca\u5176\u6743\u91cd\u503c $w_i$ \u5b58\u5728\u6700\u4f73\u4f4d\u7f6e\u3002\r\n\u5bf9\u4e8e\u6211\u4eec\u7684\u7b49\u53c2\u6570\u5355\u5143\u57df\u4e2d\u7684\u4e8c\u7ef4\u51fd\u6570\uff0c\u5373 $(s,t) \\in {\\rm I\\!R}^2$ \u4e14\r\n$s \\in [-1,1]$ \u548c $t\\in [-1,1]$, 4 \u4e2a\u70b9\u79ef\u5206\u7684\u6700\u4f73\u4f4d\u7f6e\u662f\uff1a\r\n"
      ]
    },
    {
      "cell_type": "code",
      "execution_count": null,
      "metadata": {
        "collapsed": false
      },
      "outputs": [],
      "source": [
        "gauss_pts = (\n    np.array([[-1, -1], [1, -1], [1, 1], [-1, 1]], dtype=float) * 0.57735026918962\n)\n\nMyElementDemo.gauss_pts = gauss_pts\nMyElementDemo.gauss_pts"
      ]
    },
    {
      "cell_type": "markdown",
      "metadata": {},
      "source": [
        "Their locations in the element of interest\r\n"
      ]
    },
    {
      "cell_type": "code",
      "execution_count": null,
      "metadata": {
        "collapsed": false
      },
      "outputs": [],
      "source": [
        "gauss_pt_locs = np.stack(\n    [\n        my_elem.interpolate_nodal_values(*gauss_pt, nodes)\n        for gauss_pt in MyElementDemo.gauss_pts\n    ]\n)\n\nplot_my_mesh(nodes, gauss_pt_locs)"
      ]
    },
    {
      "cell_type": "markdown",
      "metadata": {},
      "source": [
        "# Strain calculation\r\n\r\n\u5e94\u53d8\u901a\u8fc7\u7ebf\u6027\u5fae\u5206\u7b97\u5b50\u4e0e\u4f4d\u79fb\u76f8\u5173\u3002\u5bf9\u4e8e\u4e8c\u7ef4\u7ed3\u6784\uff0c\u6211\u4eec\u53ea\u8003\u8651\u5176\u5e73\u9762\u5185\u5206\u91cf\uff1a\r\n\r\n$$\\begin{aligned}\r\n\\mathbf{\\varepsilon} =\r\n\\begin{bmatrix}\r\n\\varepsilon_x \\\\ \\varepsilon_y \\\\ \\gamma_{xy}\r\n\\end{bmatrix}\r\n=\r\n\\begin{bmatrix}\r\n\\frac{\\partial u_x}{\\partial x} \\\\ \\frac{\\partial u_y}{\\partial y} \\\\\r\n\\frac{\\partial u_x}{\\partial y} + \\frac{\\partial u_y}{\\partial x}\r\n\\end{bmatrix}\r\n\\end{aligned}$$\r\n\r\n\u5e76\u63a8\u65ad\u51fa\u5fae\u5206\u7b97\u5b50\u5982\u4e0b\r\n\r\n$$\\begin{aligned}\r\n\\begin{bmatrix}\r\n\\varepsilon_x \\\\ \\varepsilon_y \\\\ \\gamma_{xy}\r\n\\end{bmatrix}\r\n=\r\n\\begin{bmatrix}\r\n\\frac{\\partial \\left( ... \\right)}{\\partial x} & 0 \\\\\r\n0 & \\frac{\\partial \\left( ... \\right)}{\\partial y} \\\\\r\n\\frac{\\partial \\left( ... \\right)}{\\partial y} & \\frac{\\partial \\left( ... \\right)}{\\partial x}\r\n\\end{bmatrix} \\cdot\r\n\\begin{bmatrix}\r\nu_x \\\\ u_y\r\n\\end{bmatrix}\r\n\\end{aligned}$$\r\n"
      ]
    },
    {
      "cell_type": "markdown",
      "metadata": {},
      "source": [
        "\u6211\u4eec\u56de\u987e\u4e00\u4e0b\uff0c\u7531\u4e8e\u5f62\u51fd\u6570\uff0c\u6574\u4e2a\u5355\u5143\u7684\u4f4d\u79fb\r\n$begin{bmatrix}u_x & u_y\\end{bmatrix}^T$ \u662f\u5df2\u77e5\u7684\u3002 \u56e0\u6b64\r\n\r\n$$\\begin{aligned}\r\n\\begin{bmatrix}\r\nu_x \\\\ u_y \\end{bmatrix} =\r\n\\begin{bmatrix}\r\nN_{1}(s, t) & 0 & N_{2}(s, t) & 0 & N_{3}(s, t) & 0 & N_{4}(s, t) & 0 \\\\\r\n0 & N_{1}(s, t) & 0 & N_{2}(s, t) & 0 & N_{3}(s, t) & 0 & N_{4}(s, t)\r\n\\end{bmatrix} \\cdot\r\n\\begin{bmatrix}\r\n{}^1u_x \\\\ {}^1u_y \\\\ {}^2u_x \\\\ {}^2u_y \\\\ {}^3u_x \\\\ {}^3u_y \\\\ {}^4u_x \\\\ {}^4u_y\r\n\\end{bmatrix}\r\n\\end{aligned}$$\r\n\r\n$$\\mathbf{u}_{\\text{throughout}} = \\mathbf{N} \\cdot \\mathbf{u}_{\\text{nodal}}$$\r\n"
      ]
    },
    {
      "cell_type": "markdown",
      "metadata": {},
      "source": [
        "\u4e3a\u4e86\u5c06\u5f62\u51fd\u6570\u7eb3\u5165\u4e0a\u8ff0\u5e94\u53d8\u8868\u8fbe\u5f0f\uff0c\u6211\u4eec\u9700\u8981\u5c06\u76f8\u5bf9\u4e8e $x$ \u548c $y$\r\n\u7684\u5fae\u5206\u7b97\u5b50\u66ff\u6362\u4e3a\u4ee5 $s$ \u548c $t$ \u8868\u793a\u7684\u7b49\u4ef7\u7b97\u5b50\u3002\r\n\u8fd9\u5c31\u9700\u8981\u4f7f\u7528\u94fe\u5f0f\u6cd5\u5219\uff0c\u800c\u5728\u591a\u5143\u5fae\u79ef\u5206\u4e2d\uff0cJacobian\r\n\u77e9\u9635\uff08\u53ca\u5176\u884c\u5217\u5f0f\uff09\u4e3a\u94fe\u5f0f\u6cd5\u5219\u63d0\u4f9b\u4e86\u4fbf\u5229\uff1a\r\n\r\n$$\\begin{aligned}\r\n\\begin{bmatrix}\r\n\\varepsilon_x \\\\ \\varepsilon_y \\\\ \\gamma_{xy}\r\n\\end{bmatrix}\r\n=\r\n\\frac{1}{\\det{\\mathbf{J}}} \\begin{bmatrix}\r\n\\frac{\\partial y}{\\partial t} \\frac{\\partial \\left( ... \\right)}{\\partial s} - \\frac{\\partial y}{\\partial s} \\frac{\\partial \\left( ... \\right)}{\\partial t} & 0 \\\\\r\n0 & \\frac{\\partial x}{\\partial s} \\frac{\\partial \\left( ... \\right)}{\\partial t} - \\frac{\\partial x}{\\partial t} \\frac{\\partial \\left( ... \\right)}{\\partial s} \\\\\r\n\\frac{\\partial x}{\\partial s} \\frac{\\partial \\left( ... \\right)}{\\partial t} - \\frac{\\partial x}{\\partial t} \\frac{\\partial \\left( ... \\right)}{\\partial s} & \\frac{\\partial y}{\\partial t} \\frac{\\partial \\left( ... \\right)}{\\partial s} - \\frac{\\partial y}{\\partial s} \\frac{\\partial \\left( ... \\right)}{\\partial t}\r\n\\end{bmatrix} \\cdot\r\n\\begin{bmatrix}\r\nu_x \\\\ u_y\r\n\\end{bmatrix}\r\n\\end{aligned}$$\r\n\r\n$$\\mathbf{\\varepsilon} =\r\n\\mathbf{D} \\cdot \\mathbf{u_{\\text{throughout}}}$$\r\n\r\n\u56e0\u6b64\uff1a\r\n\r\n$$\\begin{aligned}\r\n\\begin{bmatrix}\r\n\\varepsilon_x \\\\ \\varepsilon_y \\\\ \\gamma_{xy}\r\n\\end{bmatrix}\r\n=\r\n\\mathbf{D} \\cdot \\mathbf{N} \\cdot \\mathbf{u_{\\text{nodal}}}\r\n=\r\n\\mathbf{B} \\cdot  \\mathbf{u_{\\text{nodal}}}\r\n\\end{aligned}$$\r\n\r\n\u5176\u4e2d\r\n\r\n$$\\begin{aligned}\r\n\\mathbf{D}=\r\n\\frac{1}{\\det{\\mathbf{J}}} \\begin{bmatrix}\r\n\\frac{\\partial y}{\\partial t} \\frac{\\partial \\left( ... \\right)}{\\partial s} - \\frac{\\partial y}{\\partial s} \\frac{\\partial \\left( ... \\right)}{\\partial t} & 0 \\\\\r\n0 & \\frac{\\partial x}{\\partial s} \\frac{\\partial \\left( ... \\right)}{\\partial t} - \\frac{\\partial x}{\\partial t} \\frac{\\partial \\left( ... \\right)}{\\partial s} \\\\\r\n\\frac{\\partial x}{\\partial s} \\frac{\\partial \\left( ... \\right)}{\\partial t} - \\frac{\\partial x}{\\partial t} \\frac{\\partial \\left( ... \\right)}{\\partial s} & \\frac{\\partial y}{\\partial t} \\frac{\\partial \\left( ... \\right)}{\\partial s} - \\frac{\\partial y}{\\partial s} \\frac{\\partial \\left( ... \\right)}{\\partial t}\r\n\\end{bmatrix}\r\n\\end{aligned}$$\r\n\r\nand\r\n\r\n$$\\begin{aligned}\r\n\\mathbf{J}=\r\n\\begin{bmatrix}\r\n\\frac{\\partial x}{\\partial s} & \\frac{\\partial y}{\\partial s} \\\\\r\n\\frac{\\partial x}{\\partial t} & \\frac{\\partial y}{\\partial t}\r\n\\end{bmatrix}\r\n\\end{aligned}$$\r\n"
      ]
    },
    {
      "cell_type": "markdown",
      "metadata": {},
      "source": [
        "# Implementation: Jacobians\r\n\r\n\u5728\u5f62\u51fd\u6570\u7684\u5e2e\u52a9\u4e0b\uff0c\u5c06\u4f4d\u7f6e $x$ \u548c $y$\r\n\u7684\u8868\u8fbe\u5f0f\u66ff\u6362\u4e3a\u8282\u70b9\u4f4d\u7f6e\u7684\u51fd\u6570\uff0c\u5c31\u53ef\u4ee5\u5f97\u5230\u96c5\u5404\u6bd4\u3002\u7ed3\u679c\u76f8\u5f53\u4e8e\u4e0b\u9762\u7684\u53cc\u7ebf\u6027\u5f62\u5f0f\uff1a\r\n\r\n$$\\begin{aligned}\r\n\\begin{aligned}\r\n\\det{\\mathbf{J}} &=\r\n\\frac{1}{8}\r\n\\begin{bmatrix}{}^1x & {}^2x & {}^3x & {}^4x \\end{bmatrix} \\cdot\r\n\\begin{bmatrix}\r\n0 & 1 - t & t-s & s-1 \\\\\r\nt-1 & 0 & s+1 & -s-t \\\\\r\ns-t & -s-1 & 0 & t+1 \\\\\r\n1-s & s+t & -t-1 & 0 \\\\\r\n\\end{bmatrix} \\cdot\r\n\\begin{bmatrix}{}^1y \\\\ {}^2y \\\\ {}^3y \\\\ {}^4y \\end{bmatrix}\r\n\\\\&=\r\n\\mathbf{X_{\\text{locs}}}^T \\cdot\r\n\\begin{bmatrix}\r\n0 & 1 - t & t-s & s-1 \\\\\r\nt-1 & 0 & s+1 & -s-t \\\\\r\ns-t & -s-1 & 0 & t+1 \\\\\r\n1-s & s+t & -t-1 & 0 \\\\\r\n\\end{bmatrix} \\cdot\r\n\\mathbf{Y_{\\text{locs}}}\r\n\\end{aligned}\r\n\\end{aligned}$$\r\n"
      ]
    },
    {
      "cell_type": "markdown",
      "metadata": {},
      "source": [
        "\u6211\u4eec\u73b0\u5728\u5df2\u7ecf\u51c6\u5907\u597d\u5728\u6211\u4eec\u7684\u5355\u5143\u4e2d\u5b9e\u65bd\u5b83\u4e86\r\n"
      ]
    },
    {
      "cell_type": "code",
      "execution_count": null,
      "metadata": {
        "collapsed": false
      },
      "outputs": [],
      "source": [
        "def J(self, s, t):\n    upper = np.array(\n        [\n            [0, -t + 1, +t - s, +s - 1],\n            [0, 0, +s + 1, -s - t],\n            [0, 0, 0, +t + 1],\n            [0, 0, 0, 0],\n        ],\n        dtype=float,\n    )\n    temp = upper - upper.T\n    return 1.0 / 8 * self.nodes[:, 0].dot(temp).dot(self.nodes[:, 1])\n\n\nMyElementDemo.J = J"
      ]
    },
    {
      "cell_type": "markdown",
      "metadata": {},
      "source": [
        "\u63a5\u4e0b\u6765\uff0c\u6211\u4eec\u5c06\u7814\u7a76\u96c5\u5404\u5e03\u56e0\u5b50\u5728\u5355\u5143\u5185\u90e8\u662f\u5982\u4f55\u53d8\u5316\u7684\u3002 First for our\r\nsubject element:\r\n"
      ]
    },
    {
      "cell_type": "code",
      "execution_count": null,
      "metadata": {
        "collapsed": false
      },
      "outputs": [],
      "source": [
        "my_elem.J(-1, -1), my_elem.J(0, 0), my_elem.J(1, 1)"
      ]
    },
    {
      "cell_type": "markdown",
      "metadata": {},
      "source": [
        "# Implementation: B Matrix\r\n\r\nSimilarly, we can implement our expression for the B matrix, which\r\nconverts nodal displacements $\\mathbf{u_{\\text{nodal}}}$ to strains\r\n$\\mathbf{\\varepsilon}$, by substituting the D operator, the shape\r\nfunctions and nodal locations:\r\n\r\n$$\\begin{aligned}\r\n\\begin{bmatrix}\r\n\\varepsilon_x \\\\ \\varepsilon_y \\\\ \\gamma_{xy}\r\n\\end{bmatrix}\r\n=\r\n\\mathbf{B} \\cdot  \\mathbf{u_{\\text{nodal}}}\r\n\\end{aligned}$$\r\n\r\n$$\\mathbf{B} = \\frac{1}{\\det{\\mathbf{J}}}\r\n\\begin{bmatrix}\r\n\\mathbf{B_1} & \\mathbf{B_2} & \\mathbf{B_3} & \\mathbf{B_4}\r\n\\end{bmatrix}$$\r\n\r\nwhere\r\n\r\n$$\\begin{aligned}\r\n\\mathbf{B_i} =\r\n\\begin{bmatrix}\r\na \\frac{\\partial N_i}{\\partial s} - b \\frac{\\partial N_i}{\\partial t} & 0 \\\\\r\n0 & c \\frac{\\partial N_i}{\\partial t} - d \\frac{\\partial N_i}{\\partial s} \\\\\r\nc \\frac{\\partial N_i}{\\partial t} - d \\frac{\\partial N_i}{\\partial s} & a \\frac{\\partial N_i}{\\partial s} - b \\frac{\\partial N_i}{\\partial t}\r\n\\end{bmatrix}\r\n\\end{aligned}$$\r\n\r\nand\r\n\r\n$$\\begin{aligned}\r\n\\begin{bmatrix}\r\nd & c\\\\\r\na & b\r\n\\end{bmatrix}=\r\n\\frac{1}{4}\r\n\\begin{bmatrix} \\mathbf{X_{\\text{locs}}}^T \\\\ \\mathbf{Y_{\\text{locs}}}^T \\end{bmatrix}  \\cdot\r\n\\begin{bmatrix} \\mathbf{S} & \\mathbf{T} \\end{bmatrix}\r\n\\end{aligned}$$\r\n\r\nfor\r\n\r\n$$\\begin{aligned}\r\n\\mathbf{S} = \\begin{bmatrix} s - 1 \\\\ -(s+1) \\\\ s+1 \\\\ -(s-1) \\end{bmatrix}\r\n\\end{aligned}$$\r\n\r\n$$\\begin{aligned}\r\n\\mathbf{T} = \\begin{bmatrix} t - 1 \\\\ -(t-1) \\\\ t+1 \\\\ -(s+1) \\end{bmatrix}\r\n\\end{aligned}$$\r\n"
      ]
    },
    {
      "cell_type": "code",
      "execution_count": null,
      "metadata": {
        "collapsed": false
      },
      "outputs": [],
      "source": [
        "def grad_N(self, s, t):\n    return 0.25 * np.array(\n        [\n            [-(1 - t), +(1 - t), +(1 + t), -(1 + t)],\n            [-(1 - s), -(1 + s), +(1 + s), +(1 - s)],\n        ],\n        dtype=float,\n    )\n\n\ndef B(self, s, t):\n    j = self.J(s, t)\n    S = np.array([-1 + s, -1 - s, +1 + s, +1 - s], dtype=float)\n    T = np.array([-1 + t, +1 - t, +1 + t, -1 - t], dtype=float)\n    [d, c], [a, b] = (\n        0.25 * np.c_[self.nodes[:, 0], self.nodes[:, 1]].T.dot(np.c_[S, T])\n    ).tolist()\n    n = self.grad_N(s, t)\n\n    def _bi_(i):\n        return np.array(\n            [\n                [a * n[0, i] - b * n[1, i], 0],\n                [0, c * n[1, i] - d * n[0, i]],\n                [c * n[1, i] - d * n[0, i], a * n[0, i] - b * n[1, i]],\n            ],\n            dtype=float,\n        )\n\n    return 1.0 / j * np.c_[_bi_(0), _bi_(1), _bi_(2), _bi_(3)]\n\n\nMyElementDemo.grad_N = grad_N\nMyElementDemo.B = B\n\nmy_elem.B(0, 0)"
      ]
    },
    {
      "cell_type": "markdown",
      "metadata": {},
      "source": [
        "# Stress Calculation\r\n\r\nThe leap from strains to stresses involves the constitutive model, i.e.,\r\nthe material properties. This demo assumes a very simple case, i.e., a\r\nlinear isotropic material which converts strains to stresses according\r\nto the following matrix:\r\n\r\n$$\\mathbf{\\sigma}\r\n=\r\n\\mathbf{C} \\cdot \\mathbf{\\varepsilon}$$\r\n\r\n$$\\begin{aligned}\r\n\\begin{bmatrix}\r\n\\sigma_x \\\\ \\sigma_y \\\\ \\tau_{xy}\r\n\\end{bmatrix}\r\n=\r\n\\begin{bmatrix}\r\n1 & \\nu & 0 \\\\\r\n\\nu & 1 & 0 \\\\\r\n0 & 0 & 1\r\n\\end{bmatrix}\r\n\\begin{bmatrix}\r\n\\varepsilon_x \\\\ \\varepsilon_y \\\\ \\gamma_{xy}\r\n\\end{bmatrix}\r\n\\end{aligned}$$\r\n"
      ]
    },
    {
      "cell_type": "code",
      "execution_count": null,
      "metadata": {
        "collapsed": false
      },
      "outputs": [],
      "source": [
        "class Isotropic:\n    def __init__(self, ex, nu):\n        self.nu = nu\n        self.ex = ex\n\n    def evaluate(self):\n        d = np.array(\n            [[1, self.nu, 0], [self.nu, 1, 0], [0, 0, (1 - self.nu) / 2.0]],\n            dtype=float,\n        )\n\n        return d * (self.ex / (1 - self.nu**2))\n\n\nisotropic = Isotropic(30e6, 0.25)"
      ]
    },
    {
      "cell_type": "markdown",
      "metadata": {},
      "source": [
        "Stiffness Calculation\r\n\r\nThe total energy of a system $E$, comprising an element on which nodal\r\nforces $\\mathbf{F}_{\\text{nodal}}$ are applied and undergoes nodal\r\ndeformation $\\mathbf{u}_{\\text{nodal}}$ is:\r\n\r\n$$E = - \\mathbf{F}_{\\text{nodal}} \\cdot \\mathbf{u}_{\\text{nodal}} + \\frac{1}{2} \\iiint_V{} \\mathbf{\\varepsilon}^T \\cdot \\mathbf{\\sigma} \\,dV$$\r\n\r\nThe first term stems from the work by the force at the nodes while the\r\nsecond measures the strain energy density accumulated throughout the\r\nelement volume as it deforms.\r\n\r\nAs we saw, both stress and strain relate back to the nodal displacements\r\nthrough the B (courtesy of the shape functions), i.e.,\r\n$\\mathbf{\\varepsilon} = \\mathbf{B} \\cdot \\mathbf{u}_{\\text{nodal}}$ and\r\n$\\mathbf{\\sigma} = \\mathbf{C} \\cdot \\mathbf{B} \\cdot\r\n\\mathbf{u}_{\\text{nodal}}$ thus:\r\n\r\n$$E = -\\mathbf{F}_{\\text{nodal}} \\cdot \\mathbf{u}_{\\text{nodal}} + \\frac{1}{2} \\iiint_V{} \\mathbf{u}_{\\text{nodal}}^T \\cdot \\mathbf{B}^T \\cdot \\mathbf{C} \\cdot \\mathbf{B} \\cdot \\mathbf{u}_{\\text{nodal}} \\,dV$$\r\n"
      ]
    },
    {
      "cell_type": "markdown",
      "metadata": {},
      "source": [
        "Our assumed linear shape functions are not as rich as the true functions\r\ngoverning the actual deformation of the structure in real life. Imagine\r\na Taylor expansion: our linear shape function captures up to the first\r\npolynomial term, whereas the true shape function could have arbitrarily\r\nmany beyond that. One way this shows up is in the total energy of our\r\nsystem. When constrained to use our limited fidelity shape functions the\r\nsystem will accumulate a higher total energy than that of the true\r\nsolution it is meant to approximate. To seek the best approximation, it\r\nmakes sense to find a minimum of this total energy relative to the\r\npossible solutions, i.e., nodal displacements\r\n$\\mathbf{u}_{\\text{nodal}}$. Loyal to our calculus roots, we look for\r\nthe minimum by taking the corresponding partial derivative:\r\n\r\n$$\\frac{\\partial E}{\\partial \\mathbf{u}_{\\text{nodal}}} = -\\mathbf{F}_{\\text{nodal}} + \\frac{1}{2} \\iiint_V{} \\mathbf{B}^T \\cdot \\mathbf{C} \\cdot \\mathbf{B} \\cdot \\mathbf{u}_{\\text{nodal}} \\,dV =0$$\r\n\r\n$$\\mathbf{F}_{\\text{nodal}}  = \\frac{1}{2} \\iiint_V{} \\mathbf{B}^T \\cdot \\mathbf{C} \\cdot \\mathbf{B} \\cdot \\mathbf{u}_{\\text{nodal}} \\,dV = \\mathbf{K} \\cdot \\mathbf{u}_{\\text{nodal}}$$\r\n\r\nThus, we\\'ve unlocked the Hooke\\'s law stiffness hidden in the integral:\r\n\r\n$$\\mathbf{K} = \\iiint_V{} \\mathbf{B}^T \\cdot \\mathbf{C} \\cdot \\mathbf{B} \\,dV$$\r\n"
      ]
    },
    {
      "cell_type": "markdown",
      "metadata": {},
      "source": [
        "For our planar element, assumed to have constant thickness $h$ and area\r\n$A$:\r\n\r\n$$\\mathbf{K} = h \\iint_A{} \\mathbf{B}^T \\cdot \\mathbf{C} \\cdot \\mathbf{B} \\,dA=h \\iint_A{} \\mathbf{B}^T \\cdot \\mathbf{C} \\cdot \\mathbf{B}   \\,dx \\,dy = h \\iint_A{} \\mathbf{B}^T \\cdot \\mathbf{C} \\cdot \\mathbf{B} \\cdot \\det(\\mathbf{J})  \\,ds \\,dt$$\r\n\r\nAnd the integral can be approximated by Gaussian quadrature through a\r\nweighted sum with the optimal sampling points for $\\mathbf{B}$:\r\n\r\n$$\\mathbf{K}\\approx\r\nh \\sum_{(s,t) \\in \\text{Gauss}} w(s,t) \\cdot \\mathbf{B}^T(s,t) \\cdot \\mathbf{C} \\cdot \\mathbf{B}(s,t) \\cdot \\det(\\mathbf{J}(s,t))$$\r\n\r\nThus the use of an isoparametric formulation allowed us to make this\r\nintegration easy, since the domain of integration is constant,\r\nregardless of the shape of the 2D quadrilateral at hand.\r\n"
      ]
    },
    {
      "cell_type": "code",
      "execution_count": null,
      "metadata": {
        "collapsed": false
      },
      "outputs": [],
      "source": [
        "def K(self, C):\n    tot = np.zeros((self.ndof, self.ndof), dtype=float)\n    for st in self.gauss_pts:\n        B = self.B(*(st.tolist()))\n        J = self.J(*(st.tolist()))\n        tot += B.T.dot(C).dot(B) * J\n\n    return tot\n\n\nMyElementDemo.K = K\nMyElementDemo.ndof = 8"
      ]
    },
    {
      "cell_type": "code",
      "execution_count": null,
      "metadata": {
        "collapsed": false
      },
      "outputs": [],
      "source": [
        "stiffness = my_elem.K(isotropic.evaluate())\nprint(stiffness)"
      ]
    },
    {
      "cell_type": "code",
      "execution_count": null,
      "metadata": {
        "collapsed": false
      },
      "outputs": [],
      "source": [
        "stiffness_scaled = np.round(stiffness / 1e4)\nprint(stiffness_scaled)"
      ]
    },
    {
      "cell_type": "markdown",
      "metadata": {},
      "source": [
        "# Putting it all together\r\n\r\nCreating [Elem2D]{.title-ref} class.\r\n"
      ]
    },
    {
      "cell_type": "code",
      "execution_count": null,
      "metadata": {
        "collapsed": false
      },
      "outputs": [],
      "source": [
        "class Elem2D:\n    gauss_pts = (\n        np.array([[-1, -1], [1, -1], [1, 1], [-1, 1]], dtype=float) * 0.57735026918962\n    )\n    nnodes = 4\n    ndof = 8\n\n    def __init__(self, nodes):\n        self.nodes = nodes\n\n    def B(self, s, t):\n        j = self.J(s, t)\n        S = np.array([-1 + s, -1 - s, +1 + s, +1 - s], dtype=float)\n        T = np.array([-1 + t, +1 - t, +1 + t, -1 - t], dtype=float)\n        [d, c], [a, b] = (\n            0.25 * np.c_[self.nodes[:, 0], self.nodes[:, 1]].T.dot(np.c_[S, T])\n        ).tolist()\n        n = self.__grad_Ni(s, t)\n\n        def _bi_(i):\n            return np.array(\n                [\n                    [a * n[0, i] - b * n[1, i], 0],\n                    [0, c * n[1, i] - d * n[0, i]],\n                    [c * n[1, i] - d * n[0, i], a * n[0, i] - b * n[1, i]],\n                ],\n                dtype=float,\n            )\n\n        return 1.0 / j * np.c_[_bi_(0), _bi_(1), _bi_(2), _bi_(3)]\n\n    def __Ni(self, s, t):\n        return 0.25 * np.array(\n            [\n                (1 - s) * (1 - t),\n                (1 + s) * (1 - t),\n                (1 + s) * (1 + t),\n                (1 - s) * (1 + t),\n            ],\n            dtype=float,\n        )\n\n    def __grad_Ni(self, s, t):\n        return 0.25 * np.array(\n            [\n                [-(1 - t), +(1 - t), +(1 + t), -(1 + t)],\n                [-(1 - s), -(1 + s), +(1 + s), +(1 - s)],\n            ],\n            dtype=float,\n        )\n\n    def J(self, s, t):\n        upper = np.array(\n            [\n                [0, -t + 1, +t - s, +s - 1],\n                [0, 0, +s + 1, -s - t],\n                [0, 0, 0, +t + 1],\n                [0, 0, 0, 0],\n            ],\n            dtype=float,\n        )\n        temp = upper - upper.T\n        return 1.0 / 8 * self.nodes[:, 0].dot(temp).dot(self.nodes[:, 1])\n\n    def k(self, C):\n        tot = np.zeros((self.ndof, self.ndof), dtype=float)\n        for st in self.gauss_pts:\n            B = self.B(*(st.tolist()))\n            J = self.J(*(st.tolist()))\n            tot += B.T.dot(C).dot(B) * J\n\n        return tot\n\n    def N(self, s, t):\n        n_vec = self.___Ni(s, t)\n        return np.array(\n            [\n                [n_vec[0], 0, n_vec[1], 0, n_vec[2], 0, n_vec[3], 0],\n                [0, n_vec[0], 0, n_vec[1], 0, n_vec[2], 0, n_vec[3]],\n            ]\n        )\n\n    def M(self, rho):\n        tot = np.zeros((8, 8), dtype=float)\n        for st in self.gauss_pts:\n            n_array = self.N(*(st.tolist()))\n            tot += n_array.T.dot(n_array)\n\n        return tot"
      ]
    },
    {
      "cell_type": "markdown",
      "metadata": {},
      "source": [
        "Isotropic class definition\r\n"
      ]
    },
    {
      "cell_type": "code",
      "execution_count": null,
      "metadata": {
        "collapsed": false
      },
      "outputs": [],
      "source": [
        "class Isotropic:\n    def __init__(self, ex, nu):\n        self.nu = nu\n        self.ex = ex\n\n    def evaluate(self):\n        d = np.array(\n            [[1, self.nu, 0], [self.nu, 1, 0], [0, 0, (1 - self.nu) / 2.0]],\n            dtype=float,\n        )\n\n        return d * (self.ex / (1 - self.nu**2))"
      ]
    },
    {
      "cell_type": "markdown",
      "metadata": {},
      "source": [
        "Applying the created classes.\r\n"
      ]
    },
    {
      "cell_type": "code",
      "execution_count": null,
      "metadata": {
        "collapsed": false
      },
      "outputs": [],
      "source": [
        "isotropic = Isotropic(30e6, 0.25)\nelem = Elem2D(nodes)\n\nstiffness = elem.k(isotropic.evaluate())\n\nstiffness_scaled = np.round(stiffness / 1e4)\nprint(stiffness_scaled)"
      ]
    },
    {
      "cell_type": "markdown",
      "metadata": {},
      "source": [
        "# Element in PyMAPDL\r\n\r\nNow let\\'s obtain the same stiffness matrix from MAPDL\r\n\r\nlaunch PyMAPDL\r\n"
      ]
    },
    {
      "cell_type": "code",
      "execution_count": null,
      "metadata": {
        "collapsed": false
      },
      "outputs": [],
      "source": [
        "from ansys.mapdl.core import launch_mapdl\n\nmapdl = launch_mapdl()\nmapdl.clear()"
      ]
    },
    {
      "cell_type": "markdown",
      "metadata": {},
      "source": [
        "Create a use a 2-D 4-Node Structural Solid element with matching\r\nmaterial properties.\r\n"
      ]
    },
    {
      "cell_type": "code",
      "execution_count": null,
      "metadata": {
        "collapsed": false
      },
      "outputs": [],
      "source": [
        "mapdl.prep7()\nmapdl.et(1, 182)\nmapdl.mp(\"ex\", 1, 30e6)  # Young's modulus\nmapdl.mp(\"nuxy\", 1, 0.25)  # Poisson's ratio\nmapdl.mp(\"dens\", 1, 1)\n# unit density"
      ]
    },
    {
      "cell_type": "markdown",
      "metadata": {},
      "source": [
        "Create the nodes at the same locations as above.\r\n"
      ]
    },
    {
      "cell_type": "code",
      "execution_count": null,
      "metadata": {
        "collapsed": false
      },
      "outputs": [],
      "source": [
        "for i, n in zip(node_ids, nodes):\n    mapdl.n(i, *n)"
      ]
    },
    {
      "cell_type": "markdown",
      "metadata": {},
      "source": [
        "Setup our element with the corresponding material properties.\r\n"
      ]
    },
    {
      "cell_type": "code",
      "execution_count": null,
      "metadata": {
        "collapsed": false
      },
      "outputs": [],
      "source": [
        "_ = mapdl.e(*node_ids)  # Using '_ =' to hide output."
      ]
    },
    {
      "cell_type": "markdown",
      "metadata": {},
      "source": [
        "Setup the static analysis.\r\n"
      ]
    },
    {
      "cell_type": "code",
      "execution_count": null,
      "metadata": {
        "collapsed": false
      },
      "outputs": [],
      "source": [
        "mapdl.slashsolu()\nmapdl.antype(\"static\", \"new\")"
      ]
    },
    {
      "cell_type": "markdown",
      "metadata": {},
      "source": [
        "Solve and permit one degree of freedom of each mode to be free per\r\nsolution.\r\n"
      ]
    },
    {
      "cell_type": "code",
      "execution_count": null,
      "metadata": {
        "collapsed": false
      },
      "outputs": [],
      "source": [
        "dof_list = list(itertools.product(node_ids, [\"ux\", \"uy\"]))\n\nfor node_id, dof in dof_list:\n    mapdl.d(\"all\", \"all\")\n    mapdl.d(node_id, dof, 1)\n    mapdl.solve()\n\nmapdl.finish()"
      ]
    },
    {
      "cell_type": "markdown",
      "metadata": {},
      "source": [
        "The columns of the stiffness matrix appear as nodal force reactions\r\n"
      ]
    },
    {
      "cell_type": "code",
      "execution_count": null,
      "metadata": {
        "collapsed": false
      },
      "outputs": [],
      "source": [
        "results = []\n\nfor i, _ in enumerate(dof_list):\n    mapdl.post1()\n    mapdl.set(i + 1)\n    prrsol_f = mapdl.prrsol(\"f\").to_array()[:, 1:]  # Omitting node column (0)\n    results.append(prrsol_f)\n\nfor txt in results:\n    print(txt)\n    print(\"=\" * 80)"
      ]
    },
    {
      "cell_type": "markdown",
      "metadata": {},
      "source": [
        "Now, apply this to the whole matrix and output it.\r\n"
      ]
    },
    {
      "cell_type": "code",
      "execution_count": null,
      "metadata": {
        "collapsed": false
      },
      "outputs": [],
      "source": [
        "stiffness_mapdl = np.array(results)\nstiffness_mapdl = stiffness_mapdl.reshape(8, 8)\nstiffnes_mapdl_scaled = np.round(stiffness_mapdl / 1e4)\nprint(stiffnes_mapdl_scaled)"
      ]
    },
    {
      "cell_type": "markdown",
      "metadata": {},
      "source": [
        "Which is identical to the stiffness matrix obtained from our academic\r\nformulation.\r\n"
      ]
    },
    {
      "cell_type": "code",
      "execution_count": null,
      "metadata": {
        "collapsed": false
      },
      "outputs": [],
      "source": [
        "print(stiffness_scaled)"
      ]
    },
    {
      "cell_type": "markdown",
      "metadata": {},
      "source": [
        "Show that the stiffness matrix in MAPDL matches what we derived.\r\n"
      ]
    },
    {
      "cell_type": "code",
      "execution_count": null,
      "metadata": {
        "collapsed": false
      },
      "outputs": [],
      "source": [
        "if np.allclose(stiffnes_mapdl_scaled, stiffness_scaled):\n    print(\"Both matrices are the equal within tolerance.\")"
      ]
    },
    {
      "cell_type": "markdown",
      "metadata": {},
      "source": [
        "# Stop mapdl\r\n"
      ]
    },
    {
      "cell_type": "code",
      "execution_count": null,
      "metadata": {
        "collapsed": false
      },
      "outputs": [],
      "source": [
        "mapdl.exit()"
      ]
    }
  ],
  "metadata": {
    "kernelspec": {
      "display_name": "Python 3",
      "language": "python",
      "name": "python3"
    },
    "language_info": {
      "codemirror_mode": {
        "name": "ipython",
        "version": 3
      },
      "file_extension": ".py",
      "mimetype": "text/x-python",
      "name": "python",
      "nbconvert_exporter": "python",
      "pygments_lexer": "ipython3",
      "version": "3.10.1"
    }
  },
  "nbformat": 4,
  "nbformat_minor": 0
}