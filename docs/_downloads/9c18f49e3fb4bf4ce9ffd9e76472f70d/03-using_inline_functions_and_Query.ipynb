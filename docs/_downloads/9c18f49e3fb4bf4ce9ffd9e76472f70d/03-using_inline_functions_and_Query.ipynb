{
  "cells": [
    {
      "cell_type": "markdown",
      "metadata": {},
      "source": [
        "# \u4f7f\u7528\u5185\u8054\u51fd\u6570\uff08Query\uff09 {#ref_how_to_use_query}\r\n\r\n\u672c\u4f8b\u5411\u60a8\u5c55\u793a\u5982\u4f55\u4f7f\u7528 PyMAPDL \u4e2d\u7684\u5185\u8054\u51fd\u6570\uff08Inline Functions\uff09\u3002\r\n\r\n\u50cf `UX` \u8fd9\u6837\u7684\u5185\u8054\u51fd\u6570\u5df2\u7ecf\u4f5c\u4e3a `mapdl.inline_functions.Query`\r\n\u5bf9\u8c61\u7684\u65b9\u6cd5\u5728 PyMAPDL \u4e2d\u5b9e\u73b0\u3002\u5728\u672c\u4f8b\u4e2d\uff0c\u6211\u4eec\u5c06\u5efa\u7acb\u4e00\u4e2a\u7b80\u5355\u7684\u6a21\u62df\uff0c\u5e76\u4f7f\u7528\r\n`Query` \u6f14\u793a\u5176\u90e8\u5206\u529f\u80fd\u3002\r\n\r\n\u9996\u5148\uff0c\u4f7f\u7528 `mapdl` \u5c5e\u6027 `queries` \u83b7\u53d6\u4e0b\u9762\r\n`ansys.mapdl.core.inline_functions.Query`{.interpreted-text\r\nrole=\"class\"} \u7684\u5b9e\u4f8b\u3002\r\n"
      ]
    },
    {
      "cell_type": "code",
      "execution_count": null,
      "metadata": {
        "collapsed": false
      },
      "outputs": [],
      "source": [
        "from ansys.mapdl.core import launch_mapdl\n\nmapdl = launch_mapdl()\n\n# clear at the start and enter the preprocessing routine\nmapdl.clear()\nmapdl.prep7()\nq = mapdl.queries"
      ]
    },
    {
      "cell_type": "markdown",
      "metadata": {},
      "source": [
        "# Setup Mesh\r\n\r\n-   \u5c06\u5355\u5143\u7c7b\u578b `SOLID5` \u5206\u914d\u7ed9\u5355\u5143\u7c7b\u578b 1\r\n-   \u521b\u5efa\u4e00\u4e2a\u957f\u65b9\u4f53 `mapdl.block` \u5c3a\u5bf8\u4e3a 10 x 20 x 30\r\n-   \u5c06\u5355\u5143\u5927\u5c0f\u8bbe\u7f6e\u4e3a 2\r\n-   \u5bf9\u957f\u65b9\u4f53\u8fdb\u884c\u7f51\u683c\u5212\u5206\r\n-   \u7ed8\u5236\u521b\u5efa\u7684\u5355\u5143\u56fe\r\n"
      ]
    },
    {
      "cell_type": "code",
      "execution_count": null,
      "metadata": {
        "collapsed": false
      },
      "outputs": [],
      "source": [
        "mapdl.et(1, \"SOLID5\")\nmapdl.block(0, 10, 0, 20, 0, 30)\nmapdl.esize(2)\nmapdl.vmesh(\"ALL\")\nmapdl.eplot()"
      ]
    },
    {
      "cell_type": "markdown",
      "metadata": {},
      "source": [
        "# Setup Boundary Conditions\r\n\r\n-   \u4e3a\u6750\u6599 1 \u6307\u5b9a\u5f39\u6027\u6a21\u91cf\u4e3a 21e9\r\n-   \u6cca\u677e\u6bd4\u4e3a 0.3\r\n-   \u9009\u62e9\u957f\u65b9\u4f53 `z = 30` \u7aef\u7684\u6240\u6709\u8282\u70b9\r\n-   \u7ea6\u675f\u9009\u533a\u4e2d\u6240\u6709\u8282\u70b9\u7684\u5168\u90e8\u81ea\u7531\u5ea6\r\n-   \u9009\u62e9 `z = 0` \u7aef\u7684\u6240\u6709\u8282\u70b9\r\n-   \u5bf9\u8fd9\u4e9b\u8282\u70b9\u65bd\u52a0 10000 \u7684 X \u65b9\u5411\u529b\r\n-   \u5b8c\u6210\u524d\u5904\u7406\r\n"
      ]
    },
    {
      "cell_type": "code",
      "execution_count": null,
      "metadata": {
        "collapsed": false
      },
      "outputs": [],
      "source": [
        "mapdl.mp(\"EX\", 1, 21e9)\nmapdl.mp(\"PRXY\", 1, 0.3)\nmapdl.nsel(\"S\", \"LOC\", \"Z\", 30)\nmapdl.d(\"ALL\", \"UX\")\nmapdl.d(\"ALL\", \"UY\")\nmapdl.d(\"ALL\", \"UZ\")\nmapdl.nsel(\"S\", \"LOC\", \"Z\", 0)\nmapdl.f(\"ALL\", \"FX\", 10000)\nmapdl.finish()"
      ]
    },
    {
      "cell_type": "markdown",
      "metadata": {},
      "source": [
        "# Setup Boundary Conditions\r\n\r\n-   \u8fdb\u5165\u6c42\u89e3\u5c42\uff08 `mapdl.slashsolu` \u547d\u4ee4\u4e5f\u9002\u7528\uff09\r\n-   \u5c06\u5206\u6790\u7c7b\u578b\u8bbe\u7f6e\u4e3a `STATIC`\r\n-   \u9009\u62e9\u6240\u6709\u8282\u70b9\r\n-   \u6c42\u89e3\u6a21\u578b\r\n-   \u5b8c\u6210\u6c42\u89e3\r\n"
      ]
    },
    {
      "cell_type": "code",
      "execution_count": null,
      "metadata": {
        "collapsed": false
      },
      "outputs": [],
      "source": [
        "mapdl.run(\"/SOLU\")\nmapdl.antype(\"STATIC\")\nmapdl.allsel()\nmapdl.solve()\nmapdl.finish(mute=True)"
      ]
    },
    {
      "cell_type": "markdown",
      "metadata": {},
      "source": [
        "# Post-Processing\r\n\r\n-   \u4ece `mapdl` \u5b9e\u4f8b\u83b7\u53d6\u7ed3\u679c\r\n-   \u7ed8\u5236\u7b49\u6548\u5e94\u529b\u7ed3\u679c\u56fe\r\n-   \u663e\u793a\u8fb9\u7f18\uff0c\u4ee5\u4fbf\u6211\u4eec\u53ef\u4ee5\u770b\u5230\u5355\u5143\u7684\u8fb9\u754c\r\n-   \u4f7f\u7528 \"plasma\" \u989c\u8272\u8d34\u56fe\uff0c\u56e0\u4e3a\u5b83\u5728\u611f\u77e5\u4e0a\u662f\u4e00\u81f4\u7684\r\n"
      ]
    },
    {
      "cell_type": "code",
      "execution_count": null,
      "metadata": {
        "collapsed": false
      },
      "outputs": [],
      "source": [
        "result = mapdl.result\nresult.plot_principal_nodal_stress(0, \"SEQV\", show_edges=True, cmap=\"plasma\")"
      ]
    },
    {
      "cell_type": "markdown",
      "metadata": {},
      "source": [
        "# Using `Query`\r\n\r\n-   \u4f7f\u7528 `Query` \u83b7\u53d6\u8ddd\u79bb (5, 0, 0) \u548c (5, 10, 0) \u6700\u8fd1\u7684\u8282\u70b9\r\n-   \u4f7f\u7528 `Query` \u5b9e\u4f8b\u68c0\u67e5 x\u3001y \u548c z \u4f4d\u79fb\u3002\r\n-   \u4ee5\u683c\u5f0f\u5316\u5b57\u7b26\u4e32\u6253\u5370\u7ed3\u679c\u3002\r\n"
      ]
    },
    {
      "cell_type": "code",
      "execution_count": null,
      "metadata": {
        "collapsed": false
      },
      "outputs": [],
      "source": [
        "node1 = q.node(5.0, 0.0, 0.0)\nnode2 = q.node(5.0, 10.0, 0.0)\n\nfor node in [node1, node2]:\n    x_displacement = q.ux(node)\n    y_displacement = q.uy(node)\n    z_displacement = q.uz(node)\n\n    message = f\"\"\"\n    ************************\n    Displacement at Node {node}:\n    ************************\n    X | {x_displacement}\n    Y | {y_displacement}\n    Z | {z_displacement}\n\n    \"\"\"\n    print(message)"
      ]
    },
    {
      "cell_type": "markdown",
      "metadata": {},
      "source": [
        "# Stop mapdl\r\n"
      ]
    },
    {
      "cell_type": "code",
      "execution_count": null,
      "metadata": {
        "collapsed": false
      },
      "outputs": [],
      "source": [
        "mapdl.exit()"
      ]
    }
  ],
  "metadata": {
    "kernelspec": {
      "display_name": "Python 3",
      "language": "python",
      "name": "python3"
    },
    "language_info": {
      "codemirror_mode": {
        "name": "ipython",
        "version": 3
      },
      "file_extension": ".py",
      "mimetype": "text/x-python",
      "name": "python",
      "nbconvert_exporter": "python",
      "pygments_lexer": "ipython3",
      "version": "3.10.1"
    }
  },
  "nbformat": 4,
  "nbformat_minor": 0
}