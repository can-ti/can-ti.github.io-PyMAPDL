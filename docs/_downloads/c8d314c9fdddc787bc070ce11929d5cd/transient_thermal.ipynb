{
  "cells": [
    {
      "cell_type": "markdown",
      "metadata": {},
      "source": [
        "# \u77ac\u6001\u70ed\u529b\u5b66\u5206\u6790 {#ref_thermal_transient}\r\n\r\n\u6b64\u793a\u4f8b\u6f14\u793a\u5982\u4f55\u4e86\u4f7f\u7528 PyMAPDL\r\n\u8f93\u5165\u968f\u65f6\u95f4\u53d8\u5316\u7684\u6e29\u5ea6\u8868\uff0c\u4ee5\u6539\u53d8\u6881\u7684\u6e29\u5ea6\u3002\u5b83\u4f7f\u7528\u5bf9\u6d41\u7cfb\u6570\u548c\u4f53\u79ef\u6e29\u5ea6\u72ec\u7acb\u53d8\u5316\u7684\u5bf9\u6d41\u8f7d\u8377\u3002\r\n\r\n\u793a\u4f8b\u6539\u7f16\u81ea\uff1a\r\n<https://www.simutechgroup.com/tips-and-tricks/fea-articles/97-fea-tips-tricks-thermal-transient>\r\n\r\nThanks SimuTech!\r\n"
      ]
    },
    {
      "cell_type": "code",
      "execution_count": null,
      "metadata": {
        "collapsed": false
      },
      "outputs": [],
      "source": [
        "import matplotlib.pyplot as plt\nimport numpy as np\n\nfrom ansys.mapdl.core import launch_mapdl\n\nmapdl = launch_mapdl(loglevel=\"ERROR\")\n\nmapdl.clear()\nmapdl.prep7()\n\n# \u6750\u6599\u6027\u80fd -- \u82f1\u5236 1020 \u94a2\nmapdl.units(\"BIN\")  # U.S. Customary system using inches (in, lbf*s2/in, s, \u00b0F).\nmapdl.mp(\"EX\", 1, 30023280.0)\nmapdl.mp(\"NUXY\", 1, 0.290000000)\nmapdl.mp(\"ALPX\", 1, 8.388888889e-06)\nmapdl.mp(\"DENS\", 1, 7.346344000e-04)\nmapdl.mp(\"KXX\", 1, 6.252196000e-04)\nmapdl.mp(\"C\", 1, 38.6334760)\n\n# \u4f7f\u7528\u70ed\u5355\u5143\u7c7b\u578b\nmapdl.et(1, \"SOLID70\")"
      ]
    },
    {
      "cell_type": "markdown",
      "metadata": {},
      "source": [
        "# Geometry and Mesh\r\n\r\n\u521b\u5efa\u4e00\u4e2a\u5927\u5c0f\u4e3a 5x1x1 \u82f1\u5bf8\u7684\u5757\u5e76\u5bf9\u5176\u8fdb\u884c\u7f51\u683c\u5212\u5206\r\n"
      ]
    },
    {
      "cell_type": "code",
      "execution_count": null,
      "metadata": {
        "collapsed": false
      },
      "outputs": [],
      "source": [
        "mapdl.block(0, 5, 0, 1, 0, 1)\nmapdl.lesize(\"ALL\", 0.2, layer1=1)\n\nmapdl.mshape(0, \"3D\")\nmapdl.mshkey(1)\nmapdl.vmesh(1)\nmapdl.eplot()"
      ]
    },
    {
      "cell_type": "markdown",
      "metadata": {},
      "source": [
        "# Setup the Solution\r\n\r\n\u6c42\u89e3\u77ac\u6001\u5206\u6790\uff0c\u540c\u65f6\u589e\u52a0\u548c\u51cf\u5c11\u8377\u8f7d\u3002\r\n\r\n\u8bf7\u6ce8\u610f\u4e0b\u6bb5\u4ee3\u7801\u7247\u6bb5\u4e2d\u7684\u6c42\u89e3\u65f6\u95f4\u547d\u4ee4\u3002\u6700\u7ec8 TIME \u8bbe\u7f6e\u4e3a 1000 \u79d2\u3002\u5728 DELTIM\r\n\u547d\u4ee4\u4e2d\uff0c\u65f6\u95f4\u5b50\u6b65\u7684\u5927\u5c0f\u5141\u8bb8\u4ece\u6700\u5c11 2 \u79d2\u5230\u6700\u591a 50 \u79d2\u4e0d\u7b49\u3002 \u7b2c\u4e00\u4e2a\u5b50\u6b65\u4e3a 10\r\n\u79d2\u3002\u81ea\u52a8\u65f6\u95f4\u6b65\u7684\u5927\u5c0f\u5c06\u5728\u4e24\u4e2a\u6781\u7aef\u4e4b\u95f4\u6539\u53d8\u3002\r\n\r\n\u4e0e\u65f6\u95f4\u76f8\u5173\u7684\u5bf9\u6d41\u7cfb\u6570\u503c\u4f7f\u7528\u8868\u683c\u6570\u7ec4\u3002\u65f6\u95f4\u653e\u5728\u7b2c\u96f6\u5217\uff0c\u76f8\u5173\u7684\u5bf9\u6d41\u7cfb\u6570\u653e\u5728\u7b2c\u4e00\u5217\u3002\r\n"
      ]
    },
    {
      "cell_type": "code",
      "execution_count": null,
      "metadata": {
        "collapsed": false
      },
      "outputs": [],
      "source": [
        "mapdl.run(\"/SOLU\")\nmapdl.antype(4)  # \u77ac\u6001\u5206\u6790\nmapdl.trnopt(\"FULL\")  # \u5168\u77ac\u6001\u5206\u6790\nmapdl.kbc(0)  # ramp loads up and down\n\n# \u65f6\u95f4\u6b65\nend_time = 1500\nmapdl.time(end_time)  # end time for load step\nmapdl.autots(\"ON\")  # use automatic time stepping\n\n\n# \u8bbe\u7f6e\uff0c\u5176\u4e2d subset \u65f6\u95f4\u4e3a 10 \u79d2\uff0c\u65f6\u95f4\nmapdl.deltim(10, 2, 25)  # \u5b50\u6b65\u957f\uff08\u79d2\uff09\n#                          -- \u5c0f\u4e8e\u4e0b\u8868\u6570\u7ec4\u4e2d\u6700\u5c0f\u65f6\u95f4\u53d8\u5316\u7684\u6700\u5c0f\u503c\n\n# \u521b\u5efa\u5bf9\u6d41\u65f6\u95f4\u548c\u7cfb\u6570\u8868\uff0c\u5e76\u5c06\u5176\u8f6c\u5165 MAPDL\nmy_conv = np.array(\n    [\n        [0, 0.001],  # start time\n        [120, 0.001],  # end of first \"flat\" zone\n        [130, 0.005],  # ramps up in 10 seconds\n        [700, 0.005],  # end of second \"flat zone\n        [710, 0.002],  # ramps down in 10 seconds\n        [end_time, 0.002],\n    ]\n)  # end of third \"flat\" zone\nmapdl.load_table(\"my_conv\", my_conv, \"TIME\")\n\n\n# Create a table of bulk temperatures for a given time and transfer to MAPDL\nmy_bulk = np.array(\n    [\n        [0, 100],  # start time\n        [120, 100],  # end of first \"flat\" zone\n        [500, 300],  # ramps up in 380 seconds\n        [700, 300],  # hold temperature for 200 seconds\n        [900, 75],  # temperature ramps down for 200 seconds\n        [end_time, 75],\n    ]\n)  # end of second \"flat\" zone\nmapdl.load_table(\"my_bulk\", my_bulk, \"TIME\")"
      ]
    },
    {
      "cell_type": "markdown",
      "metadata": {},
      "source": [
        "# The Transient Thermal Solve\r\n\r\n\u8be5\u6a21\u578b\u5c06\u5728\u4e00\u4e2a\u65f6\u95f4\u6b65\u957f\u5185\u6c42\u89e3\u3002\u56e0\u6b64\uff0c\u9700\u8981\u4f7f\u7528 `TSRES`\r\n\u547d\u4ee4\u5f3a\u5236\u6c42\u89e3\u5668\u5728\u4e0a\u8ff0\u4e24\u4e2a\u8868\u9635\u5217\u7684\u6bcf\u4e2a\u65f6\u95f4\u70b9\u90fd\u5305\u542b\u4e00\u4e2a `SOLVE` \u3002\r\n\u8fd9\u6837\u53ef\u4ee5\u786e\u4fdd\u77ac\u6001\u5206\u6790\u9075\u5faa\u968f\u65f6\u95f4\u53d8\u5316\u7684\u66f2\u7ebf\u3002\u5728 `TSRES`\r\n\u65f6\u95f4\u70b9\u4e4b\u95f4\u7684\u4e2d\u95f4\u89e3\u5c06\u6839\u636e `DELTIM` \u547d\u4ee4\u548c ANSYS\r\n\u6c42\u89e3\u5668\u7684\u81ea\u52a8\u65f6\u95f4\u6b65\u8fdb\u51b3\u5b9a\u5305\u542b\u5728\u5185\u3002\r\n\r\n\u5728\u672c\u4f8b\u4e2d\uff0c\u4e0a\u56fe\u4e2d\u7684 `TSRES`\r\n\u6570\u7ec4\u7684\u65f6\u95f4\u662f\u624b\u52a8\u786e\u5b9a\u7684\u3002\u5728\u66f4\u590d\u6742\u7684\u5efa\u6a21\u60c5\u51b5\u4e0b\uff0c\u53ef\u4ee5\u4f7f\u7528\u4e00\u7ec4 APDL\r\n\u547d\u4ee4\u5bf9\u9009\u5b9a\u7684\u8868\u6570\u7ec4\u6761\u76ee\u81ea\u52a8\u6267\u884c\u8fd9\u4e00\u8fc7\u7a0b\uff0c\u5305\u62ec\u68c0\u67e5\u65f6\u95f4\u95f4\u9694\u662f\u5426\u8fc7\u77ed\u3002\r\n\r\nResults at substeps will be wanted if the intermediate solutions of the\r\ntime-transient analysis are to be available for post-processing review.\r\nThe `OUTRES` command is used to control how much is written to the\r\nresults file. In this example the OUTRES command will be used to simply\r\nwrite out all results for all substeps. In work with large models and\r\nmay substeps, too much data will be written if such a strategy is\r\nemployed for `OUTRES`, and other options will need to be considered.\r\nNote that one option for the `OUTRES` command is to control times at\r\nwhich results are written with a Table Array, much as is used in the\r\n`TSRES` command, but typically for a larger number of time points,\r\nalthough including those of the TSRES array.\r\n\r\nThe initial condition starting temperature is controlled for this\r\nexample with the `TUNIF` command. Note that thermal transient analyses\r\ncan also have a starting temperature profile formed by a static thermal\r\n`SOLVE`. If a user neglects to set an initial temperature in ANSYS\r\nMechanical APDL, a value of zero will be used, which is often not what\r\nis desired.\r\n\r\nThe thermal convective loads are applied with an SF family command---in\r\nthis example a convective load is applied to the end face of the solid\r\nmodel by the SFA command, using the Table Array entries for convection\r\nand bulk temperature that were developed above. The Table Array names\r\nare surrounded with percent signs (%). A SOLVE is then performed.\r\n"
      ]
    },
    {
      "cell_type": "code",
      "execution_count": null,
      "metadata": {
        "collapsed": false
      },
      "outputs": [],
      "source": [
        "# Force transient solve to include the times within the conv and bulk arrays\n# my_tres = np.unique(np.vstack((my_bulk[:, 0], my_conv[:, 0])))[0]  # same as\nmapdl.parameters[\"my_tsres\"] = [120, 130, 500, 700, 710, 900, end_time]\nmapdl.tsres(\"%my_tsres%\")\n\nmapdl.outres(\"ERASE\")\nmapdl.outres(\"ALL\", \"ALL\")\n\nmapdl.eqslv(\"SPARSE\")  # use sparse solver\nmapdl.tunif(75)  # force uniform starting temperature (otherwise zero)\n\n# apply the convective load (convection coefficient plus bulk temperature)\n# use \"%\" around table array names\nmapdl.sfa(6, 1, \"CONV\", \"%my_conv%\", \" %my_bulk%\")\n\n# solve\nmapdl.solve()"
      ]
    },
    {
      "cell_type": "markdown",
      "metadata": {},
      "source": [
        "# Post-Processing\r\n\r\nOpen up the result file using `ansys.mapdl.reader` result =\r\nmapdl.thermal_result\r\n"
      ]
    },
    {
      "cell_type": "code",
      "execution_count": null,
      "metadata": {
        "collapsed": false
      },
      "outputs": [],
      "source": [
        "mapdl.post1()"
      ]
    },
    {
      "cell_type": "markdown",
      "metadata": {},
      "source": [
        "# Visualize a Slice\r\n\r\nVisualize a slice through the dataset using `pyvista` for more details\r\nvisit [pyvista documentation]().\r\n"
      ]
    },
    {
      "cell_type": "code",
      "execution_count": null,
      "metadata": {
        "collapsed": false
      },
      "outputs": [],
      "source": [
        "# get the temperature of the 30th result set\nmapdl.set(1, 30)\ntemp = mapdl.post_processing.nodal_temperature()\n\n# Load this result into the underlying VTK grid\ngrid = mapdl.mesh._grid\ngrid[\"temperature\"] = temp\n\n# generate a single horizontal slice slice along the XY plane\nsingle_slice = grid.slice(normal=[0, 0, 1], origin=[0, 0, 0.5])\nsingle_slice.plot(scalars=\"temperature\")"
      ]
    },
    {
      "cell_type": "markdown",
      "metadata": {},
      "source": [
        "# Visualize Several Slices\r\n\r\nThis shows how you can visualize a series of slices through a dataset\r\n"
      ]
    },
    {
      "cell_type": "code",
      "execution_count": null,
      "metadata": {
        "collapsed": false
      },
      "outputs": [],
      "source": [
        "# get the temperature of a different result set\nmapdl.set(1, 120)\ntemp = mapdl.post_processing.nodal_temperature()\n\n# Load this result into the underlying VTK grid\ngrid = mapdl.mesh._grid\ngrid[\"temperature\"] = temp\n\n# generate a single horizontal slice slice along the XY plane\nslices = grid.slice_along_axis(7, \"y\")\nslices.plot(scalars=\"temperature\", lighting=False, show_edges=True)"
      ]
    },
    {
      "cell_type": "markdown",
      "metadata": {},
      "source": [
        "# Temperature at a Single Point\r\n\r\nExtract the temperature at a single node and plot it with respect to the\r\ninput temperatures using `ansys.mapdl`\r\n\r\nHere, we use the `get_value` command which is very similar to the `*GET`\r\ncommand, except it immediately returns the value as a python accessible\r\nvariable, rather than storing it to a MAPDL value.\r\n"
      ]
    },
    {
      "cell_type": "code",
      "execution_count": null,
      "metadata": {
        "collapsed": false
      },
      "outputs": [],
      "source": [
        "# for example, the temperature of Node 12 is can be retrieved simply with:\nmapdl.get_value(\"node\", 12, \"TEMP\")\n\n# note that this is similar to # *GET, Par, NODE, N, Item1, IT1NUM, Item2, IT2NUM\n# See the MAPDL reference for all the items you can obtain using *GET"
      ]
    },
    {
      "cell_type": "markdown",
      "metadata": {},
      "source": [
        "Here, we extract the temperature of the node across for each solution\r\n"
      ]
    },
    {
      "cell_type": "code",
      "execution_count": null,
      "metadata": {
        "collapsed": false
      },
      "outputs": [],
      "source": [
        "nsets = mapdl.post_processing.nsets\nnode_temp = []\nfor i in range(1, 1 + nsets):\n    mapdl.set(1, i)\n    node_temp.append(mapdl.get_value(\"node\", 12, \"TEMP\"))\n\n# here are the first 10 temperatures\nnode_temp[:10]"
      ]
    },
    {
      "cell_type": "markdown",
      "metadata": {},
      "source": [
        "Alternatively, you can simply grab the data for the node from the entire\r\nresponse. This is less efficient as the entire data set is sent back for\r\neach result.\r\n"
      ]
    },
    {
      "cell_type": "code",
      "execution_count": null,
      "metadata": {
        "collapsed": false
      },
      "outputs": [],
      "source": [
        "# get the index of node 12 in MAPDL\nidx = np.nonzero(mapdl.mesh.nnum == 12)[0][0]\n\n# get the temperature at that index for each result\nnode_temp_from_post = []\nfor i in range(1, 1 + nsets):\n    mapdl.set(1, i)\n    node_temp_from_post.append(mapdl.post_processing.nodal_temperature()[idx])\n\n# Again, the first 10 temperatures\nnode_temp_from_post[:10]"
      ]
    },
    {
      "cell_type": "markdown",
      "metadata": {},
      "source": [
        "Plot the temperature as a function of time\r\n"
      ]
    },
    {
      "cell_type": "code",
      "execution_count": null,
      "metadata": {
        "collapsed": false
      },
      "outputs": [],
      "source": [
        "time_values = mapdl.post_processing.time_values\nplt.plot(time_values, node_temp, label=\"Node 12\")\nplt.plot(my_bulk[:, 0], my_bulk[:, 1], \":\", label=\"Input\")\nplt.legend()\nplt.xlabel(\"Time (seconds)\")\nplt.ylabel(\"Temperature ($^\\circ$F)\")\nplt.show()"
      ]
    },
    {
      "cell_type": "markdown",
      "metadata": {},
      "source": [
        "# Stop mapdl\r\n"
      ]
    },
    {
      "cell_type": "code",
      "execution_count": null,
      "metadata": {
        "collapsed": false
      },
      "outputs": [],
      "source": [
        "mapdl.exit()"
      ]
    }
  ],
  "metadata": {
    "kernelspec": {
      "display_name": "Python 3",
      "language": "python",
      "name": "python3"
    },
    "language_info": {
      "codemirror_mode": {
        "name": "ipython",
        "version": 3
      },
      "file_extension": ".py",
      "mimetype": "text/x-python",
      "name": "python",
      "nbconvert_exporter": "python",
      "pygments_lexer": "ipython3",
      "version": "3.10.1"
    }
  },
  "nbformat": 4,
  "nbformat_minor": 0
}