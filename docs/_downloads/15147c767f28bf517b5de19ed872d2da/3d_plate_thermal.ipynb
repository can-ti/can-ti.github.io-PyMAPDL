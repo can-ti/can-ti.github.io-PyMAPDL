{
  "cells": [
    {
      "cell_type": "markdown",
      "metadata": {},
      "source": [
        "# pyMAPDL \u57fa\u672c\u70ed\u529b\u5b66\u5206\u6790 {#ref_3d_plate_thermal}\r\n\r\n\u672c\u4f8b\u6f14\u793a\u4e86\u5982\u4f55\u4f7f\u7528 MAPDL \u5728 pyMAPDL\r\n\u4e2d\u521b\u5efa\u677f\u5757\u3001\u65bd\u52a0\u70ed\u8fb9\u754c\u6761\u4ef6\u3001\u6c42\u89e3\u5e76\u7ed8\u5236\u66f2\u7ebf\u3002\r\n\r\n\u9996\u5148\uff0c\u5c06 MAPDL \u4f5c\u4e3a\u670d\u52a1\u542f\u52a8\uff0c\u5e76\u7981\u7528\u9664\u9519\u8bef\u4fe1\u606f\u4e4b\u5916\u7684\u6240\u6709\u529f\u80fd\u3002\r\n"
      ]
    },
    {
      "cell_type": "code",
      "execution_count": null,
      "metadata": {
        "collapsed": false
      },
      "outputs": [],
      "source": [
        "from ansys.mapdl.core import launch_mapdl\n\nmapdl = launch_mapdl()"
      ]
    },
    {
      "cell_type": "markdown",
      "metadata": {},
      "source": [
        "# Geometry and Material Properties\r\n\r\n\u521b\u5efa\u4e00\u4e2a\u7b80\u5355\u7684\u6a2a\u6881\uff0c\u6307\u5b9a\u6750\u6599\u5c5e\u6027\u5e76\u5bf9\u5176\u8fdb\u884c\u7f51\u683c\u5212\u5206\u3002\r\n"
      ]
    },
    {
      "cell_type": "code",
      "execution_count": null,
      "metadata": {
        "collapsed": false
      },
      "outputs": [],
      "source": [
        "mapdl.prep7()\nmapdl.mp(\"kxx\", 1, 45)\nmapdl.et(1, 90)\nmapdl.block(-0.3, 0.3, -0.46, 1.34, -0.2, -0.2 + 0.02)\nmapdl.vsweep(1)\nmapdl.eplot()"
      ]
    },
    {
      "cell_type": "markdown",
      "metadata": {},
      "source": [
        "# Boundary Conditions\r\n\r\n\u8bbe\u7f6e\u70ed\u8fb9\u754c\u6761\u4ef6\r\n"
      ]
    },
    {
      "cell_type": "code",
      "execution_count": null,
      "metadata": {
        "collapsed": false
      },
      "outputs": [],
      "source": [
        "mapdl.asel(\"S\", vmin=3)\nmapdl.nsla()\nmapdl.d(\"all\", \"temp\", 5)\nmapdl.asel(\"S\", vmin=4)\nmapdl.nsla()\nmapdl.d(\"all\", \"temp\", 100)\nout = mapdl.allsel()"
      ]
    },
    {
      "cell_type": "markdown",
      "metadata": {},
      "source": [
        "# Solve\r\n\r\n\u6c42\u89e3\u70ed\u529b\u5b66\u9759\u6001\u5206\u6790\u5e76\u6253\u5370\u7ed3\u679c\r\n"
      ]
    },
    {
      "cell_type": "code",
      "execution_count": null,
      "metadata": {
        "collapsed": false
      },
      "outputs": [],
      "source": [
        "mapdl.vsweep(1)\nmapdl.run(\"/SOLU\")\nprint(mapdl.solve())\nout = mapdl.finish()"
      ]
    },
    {
      "cell_type": "markdown",
      "metadata": {},
      "source": [
        "# Post-Processing using MAPDL\r\n\r\n\u901a\u8fc7 MAPDL \u76f4\u63a5\u83b7\u53d6\u7ed3\u679c\uff0c\u67e5\u770b\u6881\u7684\u70ed\u529b\u5b66\u7ed3\u679c\u3002\r\n"
      ]
    },
    {
      "cell_type": "code",
      "execution_count": null,
      "metadata": {
        "collapsed": false
      },
      "outputs": [],
      "source": [
        "mapdl.post1()\nmapdl.set(1, 1)\nmapdl.post_processing.plot_nodal_temperature()"
      ]
    },
    {
      "cell_type": "markdown",
      "metadata": {},
      "source": [
        "\u6216\u8005\uff0c\u4e5f\u53ef\u4ee5\u4f7f\u7528 pyansys \u8bfb\u53d6\u7ed3\u679c\u6587\u4ef6\u7684\u7ed3\u679c\u5bf9\u8c61\r\n"
      ]
    },
    {
      "cell_type": "code",
      "execution_count": null,
      "metadata": {
        "collapsed": false
      },
      "outputs": [],
      "source": [
        "result = mapdl.result\nnnum, temp = result.nodal_temperature(0)\n# \u8fd9\u7b49\u540c\u4e8e pyansys.read_binary(mapdl._result_file)\nprint(nnum, temp)"
      ]
    },
    {
      "cell_type": "markdown",
      "metadata": {},
      "source": [
        "# Stop mapdl\r\n"
      ]
    },
    {
      "cell_type": "code",
      "execution_count": null,
      "metadata": {
        "collapsed": false
      },
      "outputs": [],
      "source": [
        "mapdl.exit()"
      ]
    }
  ],
  "metadata": {
    "kernelspec": {
      "display_name": "Python 3",
      "language": "python",
      "name": "python3"
    },
    "language_info": {
      "codemirror_mode": {
        "name": "ipython",
        "version": 3
      },
      "file_extension": ".py",
      "mimetype": "text/x-python",
      "name": "python",
      "nbconvert_exporter": "python",
      "pygments_lexer": "ipython3",
      "version": "3.10.1"
    }
  },
  "nbformat": 4,
  "nbformat_minor": 0
}