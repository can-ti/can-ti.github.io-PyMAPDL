{
  "cells": [
    {
      "cell_type": "markdown",
      "metadata": {},
      "source": [
        "# Primitives {#ref_basic-geometry-primitives}\r\n\r\n\u6b64\u793a\u4f8b\u663e\u793a\u7528\u4e8e\u521b\u5efa volume \u7684\u4e0d\u540c\u547d\u4ee4\uff0c\u4f8b\u5982\u5757\u3001\u5706\u67f1\u4f53\u7b49\u3002\r\n"
      ]
    },
    {
      "cell_type": "code",
      "execution_count": null,
      "metadata": {
        "collapsed": false
      },
      "outputs": [],
      "source": [
        "from ansys.mapdl.core import launch_mapdl\n\n# start MAPDL and enter the pre-processing routine\nmapdl = launch_mapdl()\nmapdl.clear()\nmapdl.prep7()\nprint(mapdl)"
      ]
    },
    {
      "cell_type": "markdown",
      "metadata": {},
      "source": [
        "# APDL Command: BLC4\r\n\r\n\u901a\u8fc7\u89d2\u70b9\u521b\u5efa\u77e9\u5f62 area \u6216\u957f\u65b9\u4f53 volume \u3002\r\n\r\n\u4ece `(0.25, 0.25)` \u5f00\u59cb\u521b\u5efa\u4e00\u4e2a `(0.5 x 0.5)` \u77e9\u5f62\r\n"
      ]
    },
    {
      "cell_type": "code",
      "execution_count": null,
      "metadata": {
        "collapsed": false
      },
      "outputs": [],
      "source": [
        "mapdl.clear()\nmapdl.prep7()\n\nanum1 = mapdl.blc4(0.25, 0.25, 0.5, 0.5)\nmapdl.aplot(show_lines=True, line_width=5, show_bounds=True, cpos=\"xy\")"
      ]
    },
    {
      "cell_type": "markdown",
      "metadata": {},
      "source": [
        "\u521b\u5efa\u4e00\u4e2a\u5c3a\u5bf8\u4e3a `(1 x 4 x 9)` \u7684 volume\uff0c volume \u7684\u4e00\u89d2\u4f4d\u4e8e\u5f53\u524d\u5de5\u4f5c\u5e73\u9762\u7684\r\n`(0, 0)` \u3002\r\n\r\n\u8be5\u65b9\u6cd5\u8fd4\u56de volume \u7f16\u53f7\u3002\r\n"
      ]
    },
    {
      "cell_type": "code",
      "execution_count": null,
      "metadata": {
        "collapsed": false
      },
      "outputs": [],
      "source": [
        "mapdl.clear()\nmapdl.prep7()\n\nvnum = mapdl.blc4(width=1, height=4, depth=9)\nmapdl.vplot(show_lines=True)"
      ]
    },
    {
      "cell_type": "markdown",
      "metadata": {},
      "source": [
        "# APDL Command: BLC5\r\n\r\n\u901a\u8fc7\u4e2d\u5fc3\u70b9\u548c\u89d2\u70b9\u521b\u5efa\u77e9\u5f62 area \u6216\u5757 volume\u3002\r\n\r\n\u8fd9\u4e0e BLC4 \u4e0d\u540c\uff0c\u56e0\u4e3a\u5b83\u63cf\u8ff0\u7684\u662f\u4e2d\u5fc3\u70b9\u800c\u4e0d\u662f\u89d2\u70b9\u3002\r\n\r\n\u521b\u5efa\u4e00\u4e2a\u4ee5 `(0, 0)` \u4e3a\u4e2d\u5fc3\u3001\u5bbd 0.5\u3001\u9ad8 0.5 \u7684\u6b63\u65b9\u5f62\u3002\r\n"
      ]
    },
    {
      "cell_type": "code",
      "execution_count": null,
      "metadata": {
        "collapsed": false
      },
      "outputs": [],
      "source": [
        "mapdl.clear()\nmapdl.prep7()\n\nanum1 = mapdl.blc5(width=0.5, height=0.5)\nmapdl.aplot(show_lines=True, line_width=5, show_bounds=True, cpos=\"xy\")"
      ]
    },
    {
      "cell_type": "markdown",
      "metadata": {},
      "source": [
        "\u521b\u5efa\u4e00\u4e2a\u5c3a\u5bf8\u4e3a `1 x 4 x 9` \u7684\u56fe\u5757\uff0c\u5176\u9876\u70b9\u4f4d\u4e8e\u5f53\u524d\u5de5\u4f5c\u5e73\u9762\u7684 `(0, 0)` \u3002\r\n\r\n\u8be5\u65b9\u6cd5\u8fd4\u56de volume \u7f16\u53f7\u3002\r\n"
      ]
    },
    {
      "cell_type": "code",
      "execution_count": null,
      "metadata": {
        "collapsed": false
      },
      "outputs": [],
      "source": [
        "mapdl.clear()\nmapdl.prep7()\n\nvnum = mapdl.blc5(width=1, height=4, depth=9)\nmapdl.vplot(show_lines=True, show_bounds=True)"
      ]
    },
    {
      "cell_type": "markdown",
      "metadata": {},
      "source": [
        "# APDL Command: BLOCK\r\n\r\n\u6839\u636e\u5de5\u4f5c\u5e73\u9762\u5750\u6807\u521b\u5efa\u5927\u5c0f\u4e3a `(1 x 2 x 3)` \u7684\u56fe\u5757 volume\r\n"
      ]
    },
    {
      "cell_type": "code",
      "execution_count": null,
      "metadata": {
        "collapsed": false
      },
      "outputs": [],
      "source": [
        "mapdl.clear()\nmapdl.prep7()\n\nvnum = mapdl.block(0, 1, 0, 2, 1, 4)\nmapdl.vplot(\n    show_lines=False,\n    show_bounds=True,\n    color=(0.5, 0.5, 0.5),\n    background=(0.8, 0.8, 0.8),\n)"
      ]
    },
    {
      "cell_type": "markdown",
      "metadata": {},
      "source": [
        "# APDL Command: CON4\r\n\r\n\u5728\u5de5\u4f5c\u5e73\u9762\u7684\u4efb\u610f\u4f4d\u7f6e\u521b\u5efa\u9525\u5f62 volume\u3002\r\n\r\n\u521b\u5efa\u4e00\u4e2a\u5e95\u90e8\u534a\u5f84\u4e3a 3\u3001\u9ad8\u4e3a 10 \u7684\u5706\u9525\u4f53\u3002\r\n"
      ]
    },
    {
      "cell_type": "code",
      "execution_count": null,
      "metadata": {
        "collapsed": false
      },
      "outputs": [],
      "source": [
        "mapdl.clear()\nmapdl.prep7()\n\nvnum = mapdl.con4(rad1=3, rad2=0, depth=10)\nmapdl.vplot(show_lines=False, quality=6, show_bounds=True)"
      ]
    },
    {
      "cell_type": "markdown",
      "metadata": {},
      "source": [
        "# APDL Command: CONE\r\n\r\n\u4ee5\u5de5\u4f5c\u5e73\u9762\u539f\u70b9\u4e3a\u4e2d\u5fc3\uff0c\u521b\u5efa\u4e00\u4e2a\u9525\u5f62 volume\u3002\uff08CONE \\-- conical\r\n/\\'k\u0251n\u026akl/)\r\n\r\n\u4ee5 `(0, 0)` \u4e3a\u4e2d\u5fc3\uff0c\u521b\u5efa\u4e00\u4e2a\u5e95\u90e8\u534a\u5f84\u4e3a 3\u3001\u9876\u90e8\u534a\u5f84\u4e3a 1\u3001\u9ad8\u5ea6\u4e3a 10\r\n\u7684\u56db\u5206\u4e4b\u4e00\u5706\u9525\u3002\r\n"
      ]
    },
    {
      "cell_type": "code",
      "execution_count": null,
      "metadata": {
        "collapsed": false
      },
      "outputs": [],
      "source": [
        "mapdl.clear()\nmapdl.prep7()\n\nvnum = mapdl.cone(rbot=5, rtop=1, z1=0, z2=10, theta1=180, theta2=90)\nmapdl.vplot(show_lines=False, quality=6, show_bounds=True)"
      ]
    },
    {
      "cell_type": "markdown",
      "metadata": {},
      "source": [
        "# APDL Command: CYL4\r\n\r\n\u5728\u5de5\u4f5c\u5e73\u9762\u7684\u4efb\u610f\u4f4d\u7f6e\u521b\u5efa\u5706\u5f62 area \u6216\u5706\u67f1\u5f62 volume\u3002\uff08cylinder\r\n/\u02c8s\u025c\u02d0rkj\u0259l\u0259r/\uff09\r\n\r\n\u4ee5\u539f\u70b9\u4e3a\u4e2d\u5fc3\uff0c\u521b\u5efa\u4e00\u6761\u5916\u534a\u5f84\u4e3a 2\u3001\u5185\u534a\u5f84\u4e3a 1 \u7684\u534a\u5f27\u3002\r\n\r\n\u6ce8\u610f\u5173\u952e\u5b57\u53c2\u6570 `depth` \u662f\u672a\u8bbe\u7f6e\u7684\uff0c\u8fd9\u5c06\u751f\u6210 area \u800c\u4e0d\u662f volume\r\n\u3002\u5c06\u6df1\u5ea6\u8bbe\u7f6e\u4e3a\u5927\u4e8e 0 \u7684\u503c\u5c06\u751f\u6210 volume\u3002\r\n"
      ]
    },
    {
      "cell_type": "code",
      "execution_count": null,
      "metadata": {
        "collapsed": false
      },
      "outputs": [],
      "source": [
        "mapdl.clear()\nmapdl.prep7()\n\nanum = mapdl.cyl4(xcenter=0, ycenter=0, rad1=1, theta1=0, rad2=2, theta2=180)\nmapdl.aplot(show_lines=True, line_width=5, show_bounds=True, cpos=\"xy\")"
      ]
    },
    {
      "cell_type": "markdown",
      "metadata": {},
      "source": [
        "\u4ee5\u539f\u70b9\u4e3a\u4e2d\u5fc3\u521b\u5efa\u4e00\u4e2a\u4f53\u79ef\u534a\u5f27\uff0c\u5916\u534a\u5f84\u4e3a 2\uff0c\u5185\u534a\u5f84\u4e3a 1\uff0c\u539a\u5ea6\u4e3a 0.55\u3002\r\n"
      ]
    },
    {
      "cell_type": "code",
      "execution_count": null,
      "metadata": {
        "collapsed": false
      },
      "outputs": [],
      "source": [
        "mapdl.clear()\nmapdl.prep7()\n\nanum = mapdl.cyl4(\n    xcenter=0, ycenter=0, rad1=1, theta1=0, rad2=2, theta2=180, depth=0.55\n)\nmapdl.vplot(show_bounds=True)"
      ]
    },
    {
      "cell_type": "markdown",
      "metadata": {},
      "source": [
        "# APDL Command: CYL5\r\n\r\n\u901a\u8fc7\u7aef\u70b9\u521b\u5efa\u5706\u5f62 area \u6216\u5706\u67f1\u5f62 volume\u3002\r\n\r\n\u521b\u5efa\u4e00\u4e2a\u5706\uff0c\u5706\u7684\u4e00\u70b9\u4f4d\u4e8e `(1, 1)` \uff0c\u53e6\u4e00\u70b9\u4f4d\u4e8e `(2, 2)` \u3002\r\n"
      ]
    },
    {
      "cell_type": "code",
      "execution_count": null,
      "metadata": {
        "collapsed": false
      },
      "outputs": [],
      "source": [
        "mapdl.clear()\nmapdl.prep7()\n\nanum = mapdl.cyl5(xedge1=1, yedge1=1, xedge2=2, yedge2=2)\nmapdl.aplot(show_lines=True, line_width=5, show_bounds=True, cpos=\"xy\")"
      ]
    },
    {
      "cell_type": "markdown",
      "metadata": {},
      "source": [
        "\u521b\u5efa\u4e00\u4e2a\u5706\u67f1\u4f53\uff0c\u5706\u7684\u4e00\u70b9\u4f4d\u4e8e `(X, Y) == (1, 1)` \uff0c\u53e6\u4e00\u70b9\u4f4d\u4e8e\r\n`(X, Y) == (2, 2)` \uff0c\u9ad8\u4e3a 3\u3002\r\n"
      ]
    },
    {
      "cell_type": "code",
      "execution_count": null,
      "metadata": {
        "collapsed": false
      },
      "outputs": [],
      "source": [
        "mapdl.clear()\nmapdl.prep7()\n\nvnum = mapdl.cyl5(xedge1=1, yedge1=1, xedge2=2, yedge2=2, depth=5)\nmapdl.vplot(show_lines=False, quality=6, show_bounds=True)"
      ]
    },
    {
      "cell_type": "markdown",
      "metadata": {},
      "source": [
        "# APDL Command: CYLIND\r\n\r\n\u521b\u5efa\u4e00\u4e2a\u4ee5\u5de5\u4f5c\u5e73\u9762\u539f\u70b9\u4e3a\u4e2d\u5fc3\u7684\u5706\u67f1 volume\u3002\r\n\r\n\u521b\u5efa\u4e00\u4e2a\u5185\u534a\u5f84\u4e3a 0.9\u3001\u5916\u534a\u5f84\u4e3a 1.0\u3001\u9ad8\u4e3a 5 \u7684\u7a7a\u5fc3\u5706\u67f1\u4f53\r\n"
      ]
    },
    {
      "cell_type": "code",
      "execution_count": null,
      "metadata": {
        "collapsed": false
      },
      "outputs": [],
      "source": [
        "mapdl.clear()\nmapdl.prep7()\n\nvnum = mapdl.cylind(0.9, 1, z1=0, z2=5)\nmapdl.vplot(show_lines=False, quality=4, show_bounds=True)"
      ]
    },
    {
      "cell_type": "markdown",
      "metadata": {},
      "source": [
        "# APDL Command: PCIRC\r\n\r\n\u521b\u5efa\u4e00\u4e2a\u4ee5\u5de5\u4f5c\u5e73\u9762\u539f\u70b9\u4e3a\u4e2d\u5fc3\u7684\u5706\u5f62\u533a\u57df\u3002\r\n\r\n\u5728\u672c\u4f8b\u4e2d\uff0c\u521b\u5efa\u4e86\u4e00\u4e2a\u5185\u534a\u5f84\u4e3a 0.95\u3001\u5916\u534a\u5f84\u4e3a 1 \u7684\u5706\u5f62 area \u3002\r\n"
      ]
    },
    {
      "cell_type": "code",
      "execution_count": null,
      "metadata": {
        "collapsed": false
      },
      "outputs": [],
      "source": [
        "mapdl.clear()\nmapdl.prep7()\n\nanum = mapdl.pcirc(0.95, 1)\nmapdl.aplot(show_bounds=True)"
      ]
    },
    {
      "cell_type": "markdown",
      "metadata": {},
      "source": [
        "# APDL Command: RECTNG\r\n\r\n\u5728\u5de5\u4f5c\u5e73\u9762\u7684\u4efb\u610f\u4f4d\u7f6e\u521b\u5efa\u4e00\u4e2a\u77e9\u5f62 area\u3002 (rectangular /rek\\'t\u00e6\u014bgj\u028al\u0259/)\r\n\r\n\u5728\u6b64\u793a\u4f8b\u4e2d\uff0c\u521b\u5efa\u4e86\u4e00\u4e2a\u77e9\u5f62\uff0c\u8be5\u77e9\u5f62\u7684\u4e00\u4e2a\u89d2\u4f4d\u4e8e `(0.5, 0.5)`\r\n\uff0c\u53e6\u4e00\u4e2a\u89d2\u4f4d\u4e8e `(1.5, 2.5)` \u3002\r\n"
      ]
    },
    {
      "cell_type": "code",
      "execution_count": null,
      "metadata": {
        "collapsed": false
      },
      "outputs": [],
      "source": [
        "mapdl.clear()\nmapdl.prep7()\n\nanum = mapdl.rectng(0.5, 1.5, 0.5, 2.5)\nmapdl.aplot(show_bounds=True)"
      ]
    },
    {
      "cell_type": "markdown",
      "metadata": {},
      "source": [
        "# APDL Command: SPH4\r\n\r\n\u5728\u5de5\u4f5c\u5e73\u9762\u7684\u4efb\u610f\u4f4d\u7f6e\u521b\u5efa\u7403\u5f62\u4f53\u3002 (spherical /\u02c8sfer\u026akl/)\r\n\r\n\u672c\u4f8b\u521b\u5efa\u4e86\u4e00\u4e2a\u7a7a\u5fc3\u7403\u4f53\uff0c\u4ee5 `(0, 0)` \u4e3a\u4e2d\u5fc3\uff0c\u5185\u534a\u5f84\u4e3a 0.9\uff0c\u5916\u534a\u5f84\u4e3a 1.0\u3002\r\n"
      ]
    },
    {
      "cell_type": "code",
      "execution_count": null,
      "metadata": {
        "collapsed": false
      },
      "outputs": [],
      "source": [
        "mapdl.clear()\nmapdl.prep7()\n\nvnum = mapdl.sph4(0, 0, rad1=0.9, rad2=1.0)\nmapdl.vplot(show_lines=False, show_bounds=True, smooth_shading=True)"
      ]
    },
    {
      "cell_type": "markdown",
      "metadata": {},
      "source": [
        "# APDL Command: SPHERE\r\n\r\n\u5728\u5de5\u4f5c\u5e73\u9762\u7684\u4efb\u610f\u4f4d\u7f6e\u521b\u5efa\u7403\u5f62\u4f53\u3002\r\n\r\n\u672c\u4f8b\u521b\u5efa\u4e86\u4e00\u4e2a\u534a\u7a7a\u5fc3\u7403\u4f53\uff0c\u5185\u534a\u5f84\u4e3a 0.9\uff0c\u5916\u534a\u5f84\u4e3a 1.0\u3002\r\n"
      ]
    },
    {
      "cell_type": "code",
      "execution_count": null,
      "metadata": {
        "collapsed": false
      },
      "outputs": [],
      "source": [
        "mapdl.clear()\nmapdl.prep7()\n\nvnum = mapdl.sphere(rad1=0.95, rad2=1.0, theta1=90, theta2=270)\nmapdl.vplot(show_lines=False, quality=4, show_bounds=True)"
      ]
    },
    {
      "cell_type": "markdown",
      "metadata": {},
      "source": [
        "# APDL Command: SPH5\r\n\r\n\u5728\u5de5\u4f5c\u5e73\u9762\u7684\u4efb\u610f\u4f4d\u7f6e\u521b\u5efa\u7403\u5f62\u4f53\u3002\r\n\r\n\u8be5\u793a\u4f8b\u521b\u5efa\u4e86\u4e00\u4e2a\u7403\u4f53\uff0c\u5176\u4e2d\u4e00\u4e2a\u70b9\u4f4d\u4e8e `(1, 1)` \uff0c\u53e6\u4e00\u4e2a\u70b9\u4f4d\u4e8e `(2, 2)` \u3002\r\n"
      ]
    },
    {
      "cell_type": "code",
      "execution_count": null,
      "metadata": {
        "collapsed": false
      },
      "outputs": [],
      "source": [
        "mapdl.clear()\nmapdl.prep7()\n\nvnum = mapdl.sph5(xedge1=1, yedge1=1, xedge2=2, yedge2=2)\nmapdl.vplot(show_lines=False, show_bounds=True, smooth_shading=True)"
      ]
    },
    {
      "cell_type": "markdown",
      "metadata": {},
      "source": [
        "# APDL Command: TORUS\r\n\r\n\u521b\u5efa\u73af\u5f62\u4f53\u79ef\u3002 (toroidal /t\u0254:\\'r\u0254id\u0259l/)\r\n\r\n\u6b64\u793a\u4f8b\u521b\u5efa\u4e86\u4e00\u4e2a\u5185\u5c0f\u534a\u5f84\u4e3a 1\u3001\u4e2d\u95f4\u534a\u5f84\u4e3a 2\u3001\u5927\u534a\u5f84\u4e3a 5 \u7684\u73af\u9762\u3002\u6570\u503c 0 \u548c\r\n180 \u5b9a\u4e49\u4e86\u73af\u7684\u8d77\u59cb\u89d2\u548c\u7ec8\u6b62\u89d2\u3002\r\n"
      ]
    },
    {
      "cell_type": "code",
      "execution_count": null,
      "metadata": {
        "collapsed": false
      },
      "outputs": [],
      "source": [
        "mapdl.clear()\nmapdl.prep7()\n\nvnum = mapdl.torus(rad1=5, rad2=1, rad3=2, theta1=0, theta2=180)\nmapdl.vplot(show_lines=False, show_bounds=True, smooth_shading=False)"
      ]
    },
    {
      "cell_type": "markdown",
      "metadata": {},
      "source": [
        "# Stop mapdl\r\n"
      ]
    },
    {
      "cell_type": "code",
      "execution_count": null,
      "metadata": {
        "collapsed": false
      },
      "outputs": [],
      "source": [
        "mapdl.exit()"
      ]
    }
  ],
  "metadata": {
    "kernelspec": {
      "display_name": "Python 3",
      "language": "python",
      "name": "python3"
    },
    "language_info": {
      "codemirror_mode": {
        "name": "ipython",
        "version": 3
      },
      "file_extension": ".py",
      "mimetype": "text/x-python",
      "name": "python",
      "nbconvert_exporter": "python",
      "pygments_lexer": "ipython3",
      "version": "3.10.1"
    }
  },
  "nbformat": 4,
  "nbformat_minor": 0
}