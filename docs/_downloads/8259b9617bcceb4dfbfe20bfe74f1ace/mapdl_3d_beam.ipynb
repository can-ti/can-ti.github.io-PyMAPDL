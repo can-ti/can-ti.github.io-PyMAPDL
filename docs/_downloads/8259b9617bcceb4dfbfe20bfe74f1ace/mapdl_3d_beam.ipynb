{
  "cells": [
    {
      "cell_type": "markdown",
      "metadata": {},
      "source": [
        "# MAPDL 3D Beam {#ref_3d_beam}\r\n\r\n\u8fd9\u662f\u4e00\u4e2a\u7b80\u5355\u7684\u793a\u4f8b\uff0c\u52a0\u8f7d\u5305\u542b\u6881\u7684\u6863\u6848\u6587\u4ef6\uff0c\u7136\u540e\u4f7f\u7528\u7b80\u5316\u7684\r\n`modal_analysis` \u65b9\u6cd5\u8fd0\u884c\u6a21\u6001\u5206\u6790\u3002\r\n\r\n\u9996\u5148\uff0c\u5c06 MAPDL \u4f5c\u4e3a\u4e00\u9879\u670d\u52a1\u542f\u52a8\u3002\r\n"
      ]
    },
    {
      "cell_type": "code",
      "execution_count": null,
      "metadata": {
        "collapsed": false
      },
      "outputs": [],
      "source": [
        "from ansys.mapdl.reader import examples\n\nfrom ansys.mapdl.core import launch_mapdl\n\nmapdl = launch_mapdl()\n\n# \u52a0\u8f7d\u5b58\u50a8\u4e3a\u793a\u4f8b\u6863\u6848\u6587\u4ef6\u7684\u6881\u5e76\u5bf9\u5176\u8fdb\u884c\u7f51\u683c\u5212\u5206\nmapdl.cdread(\"db\", examples.hexarchivefile)\nmapdl.esel(\"s\", \"ELEM\", vmin=5, vmax=20)\nmapdl.cm(\"ELEM_COMP\", \"ELEM\")\nmapdl.nsel(\"s\", \"NODE\", vmin=5, vmax=20)\nmapdl.cm(\"NODE_COMP\", \"NODE\")\n\n# \u8fb9\u754c\u6761\u4ef6\nmapdl.allsel()\n\n# \u5047\u8bbe\u94a2\u6750\u6027\u80fd\nmapdl.prep7()\nmapdl.mp(\"EX\", 1, 200e9)  # Elastic moduli in Pa (kg/(m*s**2))\nmapdl.mp(\"DENS\", 1, 7800)  # Density in kg/m3\nmapdl.mp(\"NUXY\", 1, 0.3)  # Poissons Ratio\nmapdl.emodif(\"ALL\", \"MAT\", 1)\n\n# \u8fb9\u754c\u6761\u4ef6\n\n# \u56fa\u5b9a\u6881\u7684\u4e00\u7aef\nmapdl.nsel(\"S\", \"LOC\", \"Z\")\nmapdl.d(\"all\", \"all\")\nmapdl.allsel()\n\n# \u7ed8\u5236\u8fb9\u754c\u6761\u4ef6\nmapdl.nplot(plot_bc=True)"
      ]
    },
    {
      "cell_type": "code",
      "execution_count": null,
      "metadata": {
        "collapsed": false
      },
      "outputs": [],
      "source": [
        "mapdl.mxpand(elcalc=\"YES\")\nmapdl.modal_analysis(nmode=6)"
      ]
    },
    {
      "cell_type": "markdown",
      "metadata": {},
      "source": [
        "\u4f7f\u7528 pyansys \u7ed3\u679c\u5bf9\u8c61\u67e5\u770b\u7ed3\u679c\r\n"
      ]
    },
    {
      "cell_type": "code",
      "execution_count": null,
      "metadata": {
        "collapsed": false
      },
      "outputs": [],
      "source": [
        "result = mapdl.result\nprint(result)"
      ]
    },
    {
      "cell_type": "markdown",
      "metadata": {},
      "source": [
        "\u83b7\u53d6\u8282\u70b9\u4f4d\u79fb\u503c\r\n"
      ]
    },
    {
      "cell_type": "code",
      "execution_count": null,
      "metadata": {
        "collapsed": false
      },
      "outputs": [],
      "source": [
        "nnum, disp = result.nodal_displacement(0)\n\n# \u6253\u5370\u8282\u70b9\u6570\u636e 50 - 59\nfor i in range(49, 59):\n    print(nnum[i], disp[i])"
      ]
    },
    {
      "cell_type": "markdown",
      "metadata": {},
      "source": [
        "\u7ed8\u5236\u6a21\u6001\u7ed3\u679c\r\n"
      ]
    },
    {
      "cell_type": "code",
      "execution_count": null,
      "metadata": {
        "collapsed": false
      },
      "outputs": [],
      "source": [
        "result.plot_nodal_displacement(0, show_edges=True)"
      ]
    },
    {
      "cell_type": "markdown",
      "metadata": {},
      "source": [
        "\u4e3a\u6a21\u6001\u7ed3\u679c\u5236\u4f5c\u52a8\u753b\r\n"
      ]
    },
    {
      "cell_type": "code",
      "execution_count": null,
      "metadata": {
        "collapsed": false
      },
      "outputs": [],
      "source": [
        "result.animate_nodal_solution(0, show_edges=True, loop=False, displacement_factor=10, movie_filename='demo.gif')"
      ]
    },
    {
      "cell_type": "markdown",
      "metadata": {},
      "source": [
        "# Stop mapdl\r\n"
      ]
    },
    {
      "cell_type": "code",
      "execution_count": null,
      "metadata": {
        "collapsed": false
      },
      "outputs": [],
      "source": [
        "mapdl.exit()"
      ]
    }
  ],
  "metadata": {
    "kernelspec": {
      "display_name": "Python 3",
      "language": "python",
      "name": "python3"
    },
    "language_info": {
      "codemirror_mode": {
        "name": "ipython",
        "version": 3
      },
      "file_extension": ".py",
      "mimetype": "text/x-python",
      "name": "python",
      "nbconvert_exporter": "python",
      "pygments_lexer": "ipython3",
      "version": "3.10.1"
    }
  },
  "nbformat": 4,
  "nbformat_minor": 0
}