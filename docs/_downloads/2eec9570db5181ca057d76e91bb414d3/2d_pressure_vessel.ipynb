{
  "cells": [
    {
      "cell_type": "markdown",
      "metadata": {},
      "source": [
        "# 2D \u538b\u529b\u5bb9\u5668\u5206\u6790 {#2d_pressure_vessel_example}\r\n\r\n\u672c\u4f8b\u6f14\u793a\u5982\u4f55\u521b\u5efa\u4e00\u4e2a\u57fa\u672c\u538b\u529b\u5bb9\u5668\u5e76\u5bf9\u5176\u65bd\u52a0\u73af\u5411\u538b\u529b\u3002\r\n\r\n## Objective\r\n\r\n\u5728\u672c\u4f8b\u4e2d\uff0c\u6211\u4eec\u5c06\u5bf9\u7ba1\u9053\u8fdb\u884c\u5185\u538b\u5e94\u529b\u5206\u6790\u3002\u7531\u4e8e\u51e0\u4f55\u5f62\u72b6\u548c\u8d1f\u8f7d\u7684\u5bf9\u79f0\u6027\uff0c\u6cbf\u8f74\u5411\u7684\u5e94\u53d8\u53ef\u4ee5\u5ffd\u7565\u4e0d\u8ba1\uff0c\u56e0\u6b64\u6211\u4eec\u5c06\u6b64\u7cfb\u7edf\u5efa\u6a21\u4e3a\u4e8c\u7ef4\u5e73\u9762\u5e94\u53d8\u3002\r\n\r\n## Procedure\r\n\r\n-   \u542f\u52a8 MAPDL \u5b9e\u4f8b\r\n-   \u4f7f\u7528 PyMAPDL \u5c06\u6a21\u578b\u8bbe\u7f6e\u4e3a Python \u51fd\u6570\r\n-   \u81ea\u52a8\u8fdb\u884c\u7f51\u683c\u6536\u655b\u7814\u7a76\r\n-   \u7ed8\u5236\u611f\u5174\u8da3\u7684\u7ed3\u679c\r\n\r\n## Additional Packages Used\r\n\r\n-   [Matplotlib](https://matplotlib.org) \u7528\u4e8e\u7ed8\u56fe\u3002\r\n-   [NumPy](https://numpy.org) \u7528\u4e8e\u4f7f\u7528 NumPy \u6570\u7ec4\u3002\r\n\r\n## Problem Figure\r\n\r\n![Basic Pressure Vessel](../../../images/2d_pressure.png){width=\"400px\"}\r\n"
      ]
    },
    {
      "cell_type": "markdown",
      "metadata": {},
      "source": [
        "# Launch MAPDL\r\n"
      ]
    },
    {
      "cell_type": "code",
      "execution_count": null,
      "metadata": {
        "collapsed": false
      },
      "outputs": [],
      "source": [
        "import numpy as np\nimport matplotlib.pyplot as plt\n\nfrom ansys.mapdl.core import launch_mapdl\n\n# start mapdl\nmapdl = launch_mapdl()"
      ]
    },
    {
      "cell_type": "markdown",
      "metadata": {},
      "source": [
        "\u4f7f\u7528 Python \u51fd\u6570\u8bbe\u7f6e\u7ba1\u9053\u6a2a\u622a\u9762\r\n\r\n\u6211\u4eec\u5728\u8fd9\u91cc\u4f7f\u7528\u4e00\u4e2a\u51fd\u6570\uff0c\u8fd9\u6837\u5c31\u53ef\u4ee5\u4f7f\u7528\u53c2\u6570\u91cd\u5efa\u7ba1\u9053\uff0c\u800c\u4e0d\u7528\u591a\u6b21\u8c03\u7528\u811a\u672c\u3002\r\n"
      ]
    },
    {
      "cell_type": "code",
      "execution_count": null,
      "metadata": {
        "collapsed": false
      },
      "outputs": [],
      "source": [
        "def pipe_plane_strain(e, nu, inn_radius, out_radius, press, aesize):\n    \"\"\"Create 2D cross section modeling a pipe.\"\"\"\n\n    # \u91cd\u7f6e mapdl\n    mapdl.clear()\n    mapdl.prep7()\n\n    # \u5b9a\u4e49\u5355\u5143\u5c5e\u6027\n    # Quad 4 node 182 with keyoption 3 = 2 (\u5e73\u9762\u5e94\u53d8\u516c\u5f0f)\n    mapdl.et(1, \"PLANE182\", kop3=2)\n\n    # Create geometry\n    # create a quadrant of the pressure vessel\n    # We perform plane strain analysis on one quadrant (0deg - 90deg) of the\n    # pressure vessel\n    mapdl.pcirc(inn_radius, out_radius, theta1=0, theta2=90)\n    mapdl.components[\"PIPE_PROFILE\"] = \"AREA\" # \u521b\u5efa\u7ec4\u4ef6 \u201cPIPE_PROFILE\u201d\uff0c\u7559\u4e00\u4e0b\u8fd9\u91cc\u7684\u5199\u6cd5\u3002 \u2014\u2014\u2014\u2014ff\n\n    # Define material properties\n    mapdl.mp(\"EX\", 1, e)  # Youngs modulus\n    mapdl.mp(\"PRXY\", 1, nu)  # Poissons ratio\n\n    # Define mesh controls\n    mapdl.aesize(\"ALL\", aesize)\n    mapdl.mshape(0, \"2D\")  # mesh the area with 2D Quad elements\n    mapdl.mshkey(1)  # free mesh\n    mapdl.cmsel(\"S\", \"PIPE_PROFILE\")  # Select the area component to be meshed\n    mapdl.amesh(\"ALL\")\n\n    # \u521b\u5efa\u7528\u4e8e\u5b9a\u4e49\u8f7d\u8377\u548c\u7ea6\u675f\u7684\u7ec4\u4ef6\n    mapdl.nsel(\"S\", \"LOC\", \"X\", 0)  # \u9009\u62e9\u5de6\u4e0a\u8fb9\u7f18\u7684\u8282\u70b9\n    mapdl.components[\"X_FIXED\"] = \"NODES\"  # \u521b\u5efa\u8282\u70b9\u7ec4\u4ef6\n\n    mapdl.nsel(\"S\", \"LOC\", \"Y\", 0)  # \u9009\u62e9\u53f3\u4e0b\u8fb9\u7f18\u7684\u8282\u70b9\n    mapdl.components[\"Y_FIXED\"] = \"NODES\"  # Create nodal component\n    mapdl.allsel()\n\n    mapdl.lsel(\"S\", \"RADIUS\", vmin=rad1)  # \u9009\u62e9\u6cbf\u5185\u5f84\u7684\u7ebf\n    mapdl.components[\"PRESSURE_EDGE\"] = \"LINE\"  # Create a line component\n    mapdl.allsel()\n\n    # Define solution controls\n    mapdl.slashsolu()  # Enter solution\n    mapdl.antype(\"STATIC\", \"NEW\")  # Specify a new static analysis (Optional)\n\n    mapdl.d(\"X_FIXED\", \"UX\", 0)  # Fix the selected nodes in X direction\n    mapdl.d(\"Y_FIXED\", \"UY\", 0)  # Fix the selected nodes in Y direction\n\n    # \u5c06\u6d3b\u52a8\u7b1b\u5361\u5c14\u5750\u6807\u7cfb\u66f4\u6539\u4e3a\u5706\u67f1\u5750\u6807\u7cfb\n    mapdl.csys(1)\n\n    # \u5bf9\u6240\u9009\u8fb9\u7f18\u65bd\u52a0\u5747\u5300\u538b\u529b\u8d1f\u8377\n    mapdl.sfl(\"PRESSURE_EDGE\", \"PRES\", press)\n\n    # Solve the model\n    mapdl.allsel()\n    mapdl.solve()\n    mapdl.finish()\n\n    # Enter post-processor\n    mapdl.post1()\n    mapdl.set(1, 1)  # Select the first load step\n\n    max_eqv_stress = np.max(mapdl.post_processing.nodal_eqv_stress()) # \u83b7\u53d6\u8282\u70b9\u5904\u7684\u7b49\u6548\u5e94\u529b\u503c\uff0c\u5e76\u5c06\u5176\u5b58\u50a8\u5728 max_eqv_stress \u53d8\u91cf\u4e2d\u3002\n    all_dof = mapdl.mesh.nnum_all # \u83b7\u53d6\u6240\u6709\u8282\u70b9\u7684\u7f16\u53f7\uff08\u53d8\u91cf\u7c7b\u578b\uff1a\u6570\u7ec4\uff09\uff0c\u5e76\u5c06\u5176\u5b58\u50a8\u5728 all_dof \u53d8\u91cf\u4e2d\u3002\n    num_dof = all_dof.size # \u83b7\u53d6\u6240\u6709\u8282\u70b9\u7684\u6570\u91cf\n\n    return num_dof, max_eqv_stress"
      ]
    },
    {
      "cell_type": "markdown",
      "metadata": {},
      "source": [
        "# Perform the mesh convergence study\r\n"
      ]
    },
    {
      "cell_type": "code",
      "execution_count": null,
      "metadata": {
        "collapsed": false
      },
      "outputs": [],
      "source": [
        "# \u5b9a\u4e49\u6a21\u578b\u8f93\u5165\u53c2\u6570\nrad1 = 175  # Internal radius\nrad2 = 200  # External radius\npressure = 100\n\ne = 2e5  # Young's modulus\nnu = 0.3  # Poisson's ratio\n\n# \u5b9a\u4e49\u7f51\u683c\u6536\u655b\u53c2\u6570\nnum_dof = []\nmax_stress = []\n\n# \u5355\u5143\u5c3a\u5bf8\u5927\u5c0f\uff1a\u4f7f\u7528 logspace\uff0c\u56e0\u4e3a\u7f51\u683c\u662f\u6309\u5bf9\u6570\u6536\u655b\u7684\nesizes = np.logspace(1.4, 0, 20)\n\n# \u8fd0\u884c\u7f51\u683c\u6536\u655b\u5e76\u5373\u65f6\u8f93\u51fa\u7ed3\u679c\nfor esize in esizes:\n    dof, eqv_stress = pipe_plane_strain(e, nu, rad1, rad2, pressure, esize)\n    num_dof.append(dof)\n    max_stress.append(eqv_stress)\n    print(f\"DOF: {dof:5d}   Stress: {eqv_stress:.2f} MPa\")"
      ]
    },
    {
      "cell_type": "markdown",
      "metadata": {},
      "source": [
        "# Plot mesh convergence results\r\n\r\n\u753b\u4e00\u6761\u865a\u7ebf\u8868\u793a\u6536\u655b\u503c\r\n"
      ]
    },
    {
      "cell_type": "code",
      "execution_count": null,
      "metadata": {
        "collapsed": false
      },
      "outputs": [],
      "source": [
        "plt.plot(num_dof, max_stress, \"b-o\")\nplt.plot([num_dof[0], num_dof[-1]], [max_stress[-1], max_stress[-1]], \"r:\")\nplt.title(\"Mesh Convergence Study\")\nplt.xlabel(\"Number of DOF\")\nplt.ylabel(\"Maximum eqv. Stress (MPa)\")\nplt.show()"
      ]
    },
    {
      "cell_type": "markdown",
      "metadata": {},
      "source": [
        "Resume results from last analysis from mesh convergence study\r\n"
      ]
    },
    {
      "cell_type": "code",
      "execution_count": null,
      "metadata": {
        "collapsed": false
      },
      "outputs": [],
      "source": [
        "# \u7ed8\u5236\u6700\u7ec8\u7684\u7f51\u683c\nmapdl.allsel(\"ALL\")\nmapdl.eplot(\n    title=\"Element Plot\",\n    line_width=1,\n    show_bounds=True,\n    cpos=\"xy\",\n    background=\"w\",\n)"
      ]
    },
    {
      "cell_type": "markdown",
      "metadata": {},
      "source": [
        "# Plot nodal displacement\r\n\r\n\u8f93\u5165\u540e\u5904\u7406 (/POST1) \u5e76\u9009\u62e9\u7b2c\u4e00\u4e2a\u8377\u8f7d\u6b65\r\n"
      ]
    },
    {
      "cell_type": "code",
      "execution_count": null,
      "metadata": {
        "collapsed": false
      },
      "outputs": [],
      "source": [
        "mapdl.post1()\nmapdl.set(1, 1)\n\nmapdl.post_processing.plot_nodal_displacement(\n    component=\"NORM\",\n    cpos=\"xy\",\n    cmap=\"magma\",\n)"
      ]
    },
    {
      "cell_type": "markdown",
      "metadata": {},
      "source": [
        "# Plot nodal equivalent stress\r\n"
      ]
    },
    {
      "cell_type": "code",
      "execution_count": null,
      "metadata": {
        "collapsed": false
      },
      "outputs": [],
      "source": [
        "mapdl.post_processing.plot_nodal_eqv_stress(cpos=\"xy\", cmap=\"plasma\")"
      ]
    },
    {
      "cell_type": "markdown",
      "metadata": {},
      "source": [
        "# Stop mapdl\r\n"
      ]
    },
    {
      "cell_type": "code",
      "execution_count": null,
      "metadata": {
        "collapsed": false
      },
      "outputs": [],
      "source": [
        "mapdl.exit()"
      ]
    }
  ],
  "metadata": {
    "kernelspec": {
      "display_name": "Python 3",
      "language": "python",
      "name": "python3"
    },
    "language_info": {
      "codemirror_mode": {
        "name": "ipython",
        "version": 3
      },
      "file_extension": ".py",
      "mimetype": "text/x-python",
      "name": "python",
      "nbconvert_exporter": "python",
      "pygments_lexer": "ipython3",
      "version": "3.10.1"
    }
  },
  "nbformat": 4,
  "nbformat_minor": 0
}