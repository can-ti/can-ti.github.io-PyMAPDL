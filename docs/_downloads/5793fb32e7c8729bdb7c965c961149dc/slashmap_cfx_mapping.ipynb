{
  "cells": [
    {
      "cell_type": "markdown",
      "metadata": {},
      "source": [
        "# \u5c06 CFX \u538b\u529b\u6570\u636e\u6620\u5c04\u5230\u7ed3\u6784\u53f6\u7247 {#ref_cfx_mapping}\r\n\r\n\u672c\u6d4b\u8bd5\u7684\u76ee\u7684\u662f\u5728 PyMAPDL \u4e2d\u6f14\u793a CFX \u538b\u529b\u6570\u636e\u4e0e 11 \u4e2a\u53f6\u7247\u7ed3\u6784\u6a21\u578b\u7684\u6620\u5c04\u3002\r\n\r\n## Description\r\n\r\n\u5bf9 11 \u4e2a\u53f6\u7247\u6a21\u578b\u548c\u4e00\u4e2a\u865a\u6784\u7684\u5706\u76d8\u8fdb\u884c\u4e86\u5efa\u6a21\u3002\u4f7f\u7528 CFX\r\n\u751f\u6210\u7684\u538b\u529b\u6570\u636e\u4f5c\u4e3a\u8f93\u5165\u3002\r\n\r\n\u6d4b\u8bd5\u4f7f\u7528 CFX\r\n\u5bfc\u51fa\u7684\u538b\u529b\u6570\u636e\u8fdb\u884c\u6620\u5c04\u3002\u538b\u529b\u6587\u4ef6\u5bf9\u5e94\u4e8e\u67d0\u79cd\u632f\u52a8\u53f6\u7247\u6a21\u6001\uff08\u632f\u52a8\u6a21\u6001 1 \u7ea6\r\n534 Hz\uff09\u548c\u67d0\u79cd\u538b\u529b\u6a21\u6001\uff08\u538b\u529b\u6a21\u6001 1 \u4e5f\u662f 534 Hz \u6a21\u6001\uff09\u3002\r\n\u7136\u800c\uff0c\u7531\u4e8e\u7f3a\u4e4f\u5176\u4ed6\u6a21\u6001\u7684\u6570\u636e\uff0c\u540c\u4e00\u6587\u4ef6\u5c06\u88ab\u5047\u5b9a\u4e3a\u4ee3\u8868\u5176\u4ed6\u6a21\u6001\u7ec4\u5408\uff08\u632f\u52a8\u6a21\u6001\r\n2 \u538b\u529b\u6a21\u6001 2\uff09\uff08\u632f\u52a8\u6a21\u6001 1 \u538b\u529b\u6a21\u6001 2\uff09\uff08\u632f\u52a8\u6a21\u6001 2 \u538b\u529b\u6a21\u6001 1\uff09\u3002\r\n"
      ]
    },
    {
      "cell_type": "code",
      "execution_count": null,
      "metadata": {
        "collapsed": false
      },
      "outputs": [],
      "source": [
        "from datetime import datetime\n\nfrom ansys.mapdl.core import launch_mapdl\nfrom ansys.mapdl.core.examples import download_cfx_mapping_example_data"
      ]
    },
    {
      "cell_type": "markdown",
      "metadata": {},
      "source": [
        "# Downloading files\r\n"
      ]
    },
    {
      "cell_type": "code",
      "execution_count": null,
      "metadata": {
        "collapsed": false
      },
      "outputs": [],
      "source": [
        "files_path = download_cfx_mapping_example_data()\n\ndb_file_path = files_path[\"model\"]\npressure_file_path = files_path[\"data\"]"
      ]
    },
    {
      "cell_type": "markdown",
      "metadata": {},
      "source": [
        "# Launch MAPDL service\r\n"
      ]
    },
    {
      "cell_type": "code",
      "execution_count": null,
      "metadata": {
        "collapsed": false
      },
      "outputs": [],
      "source": [
        "mapdl = launch_mapdl()\n\nmapdl.title(\n    \"Verify Pressure Data Mapping exported from CFX on Structural 11 Blade Model\"\n)"
      ]
    },
    {
      "cell_type": "markdown",
      "metadata": {},
      "source": [
        "# Upload files to the instance\r\n\r\nUploading files\r\n"
      ]
    },
    {
      "cell_type": "code",
      "execution_count": null,
      "metadata": {
        "collapsed": false
      },
      "outputs": [],
      "source": [
        "mapdl.upload(db_file_path)\nmapdl.upload(pressure_file_path)"
      ]
    },
    {
      "cell_type": "markdown",
      "metadata": {},
      "source": [
        "# Pressure mapping\r\n\r\nResume the database from the example mapping file\r\n"
      ]
    },
    {
      "cell_type": "code",
      "execution_count": null,
      "metadata": {
        "collapsed": false
      },
      "outputs": [],
      "source": [
        "mapdl.resume(\"ExampleMapping\", \"db\")\nmapdl.esel(\"s\", \"type\", \"\", 1)\nmapdl.cm(\"BladeElem\", \"elem\")\n\n# Write CDB file\nmapdl.allsel()\nmapdl.cdwrite(\"all\", \"baseModel\", \"cdb\")\nmapdl.finish()\n\n# Start the mapping processor and record the start time\nstart_time = datetime.now()\nmapdl.slashmap()  # mapdl.slashmap(**kwargs); Enters the mapping processor.\nprint(\"Enter the Mapping Processor\")\n\n# Specifies the target nodes for mapping pressures onto surface effect elements.\nmapdl.run(\"target,pressure_faces\")\n\n# Specifies the file type and pressure type for the subsequent import of source points and pressures.\nmapdl.ftype(filetype=\"cfxtbr\", prestype=\"1\")\n# Read the CFX exported file containing pressure data Blade 2, Export Surface 1\nmapdl.read(fname=\"11_blades_mode_1_ND_0.csv\")\n\n# Perform the pressure mapping from source points to target surface elements.\n# Interpolation is done on a surface (default).\nprint(mapdl.map(kdim=\"2\", kout=\"1\"))"
      ]
    },
    {
      "cell_type": "markdown",
      "metadata": {},
      "source": [
        "# Plot mapping\r\n\r\nPlot the geometries and mappings\r\n"
      ]
    },
    {
      "cell_type": "code",
      "execution_count": null,
      "metadata": {
        "collapsed": false
      },
      "outputs": [],
      "source": [
        "mapdl.show(\"png,rev\")\nmapdl.plgeom(item=\"BOTH\")  # Plot both target and source geometries (default).\nmapdl.plmap(item=\"target\")\nmapdl.plmap(item=\"target\", imagkey=\"1\")\nmapdl.plmap(item=\"source\")\nmapdl.plmap(item=\"source\", imagkey=\"1\")\nmapdl.plmap(item=\"both\")\nmapdl.plmap(item=\"both\", imagkey=\"1\")\n\n# Close the plot and write the mapped data to a file\nmapdl.show(\"close\")\nmapdl.writemap(\"mappedHI.dat\")\n\n# Print the mapping completion message and duration\nprint(\"Mapping Completed\")\nend_time = datetime.now()\nc = end_time - start_time\nseconds = c.total_seconds()\nprint(\"\\nDuration in seconds for Mapping is  : \", seconds)\n\nmapdl.eplot()"
      ]
    },
    {
      "cell_type": "markdown",
      "metadata": {},
      "source": [
        "Stop MAPDL\r\n"
      ]
    },
    {
      "cell_type": "code",
      "execution_count": null,
      "metadata": {
        "collapsed": false
      },
      "outputs": [],
      "source": [
        "mapdl.finish()\nmapdl.exit()"
      ]
    }
  ],
  "metadata": {
    "kernelspec": {
      "display_name": "Python 3",
      "language": "python",
      "name": "python3"
    },
    "language_info": {
      "codemirror_mode": {
        "name": "ipython",
        "version": 3
      },
      "file_extension": ".py",
      "mimetype": "text/x-python",
      "name": "python",
      "nbconvert_exporter": "python",
      "pygments_lexer": "ipython3",
      "version": "3.10.1"
    }
  },
  "nbformat": 4,
  "nbformat_minor": 0
}