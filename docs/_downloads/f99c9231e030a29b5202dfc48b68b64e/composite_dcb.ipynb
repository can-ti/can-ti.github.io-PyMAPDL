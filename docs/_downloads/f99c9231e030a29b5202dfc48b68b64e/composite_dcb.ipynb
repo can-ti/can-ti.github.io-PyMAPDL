{
  "cells": [
    {
      "cell_type": "markdown",
      "metadata": {},
      "source": [
        "# \u57fa\u4e8e\u9ecf\u7ed3\u5355\u5143(\u6216\u79f0\u5185\u805a\u5355\u5143)\u7684\u53cc\u60ac\u81c2\u6881\u8bd5\u9a8c\u9759\u529b\u6a21\u62df {#ref_dcb_test_composite_delamination}\r\n\r\n\u8fd9\u662f\u4e00\u4e2a\u7ecf\u5178\u7684\u53cc\u60ac\u81c2\u6881\u8bd5\u9a8c\uff0c\u5e38\u7528\u4e8e\u7814\u7a76\u590d\u5408\u6750\u6599\u677f\u7684 I \u578b\u754c\u9762\u8131\u5c42\u3002\r\n\r\n## Description\r\n\r\n### Objective\r\n\r\n\u672c\u4f8b\u5c55\u793a\u4e86\u5982\u4f55\u4f7f\u7528 PyMAPDL \u6a21\u62df\u590d\u5408\u6750\u6599\u7684\u5206\u5c42\u3002PyDPF\r\n\u6a21\u5757\u8fd8\u7528\u4e8e\u5bf9\u7ed3\u679c\u8fdb\u884c\u540e\u5904\u7406\u3002\r\n\r\n### Problem figure\r\n\r\n<figure>\r\n<img src=\"../../../images/dcb_test.png\" width=\"400\"\r\nalt=\"../../../images/dcb_test.png\" />\r\n<figcaption><strong>Source</strong>: <a\r\nhref=\"https://www.wikiwand.com/en/Delamination\">https://www.wikiwand.com/en/Delamination</a></figcaption>\r\n</figure>\r\n\r\n### Procedure\r\n\r\n-   \u542f\u52a8 MAPDL \u5b9e\u4f8b\u3002\r\n-   \u8bbe\u7f6e\u6a21\u578b\u3002\r\n-   \u6c42\u89e3\u6a21\u578b\u3002\r\n-   \u4f7f\u7528 PyMAPDL \u7ed8\u5236\u7ed3\u679c\u3002\r\n-   \u4f7f\u7528 PyDPF \u7ed8\u5236\u7ed3\u679c\u3002\r\n-   \u7ed8\u5236\u53cd\u4f5c\u7528\u529b\u3002\r\n\r\n### Additional packages\r\n\r\n\u8fd9\u4e9b\u9644\u52a0\u8f6f\u4ef6\u5305\u5c06\u88ab\u5bfc\u5165\u4f7f\u7528\uff1a\r\n\r\n-   [Matplotlib](https://matplotlib.org) \u7528\u4e8e\u7ed8\u56fe\r\n-   [Pandas](https://pandas.pydata.org/) \u7528\u4e8e\u6570\u636e\u5206\u6790\u548c\u5904\u7406\r\n"
      ]
    },
    {
      "cell_type": "markdown",
      "metadata": {},
      "source": [
        "# Start MAPDL as a service\r\n\r\n\u672c\u793a\u4f8b\u9996\u5148\u5bfc\u5165\u6240\u9700\u7684\u8f6f\u4ef6\u5305\uff0c\u7136\u540e\u542f\u52a8 Ansys Mechanical APDL\u3002\r\n"
      ]
    },
    {
      "cell_type": "code",
      "execution_count": null,
      "metadata": {
        "collapsed": false
      },
      "outputs": [],
      "source": [
        "import os\nimport tempfile\n\nfrom ansys.dpf import core as dpf\nimport matplotlib.pyplot as plt\nimport numpy as np\nimport pyvista as pv\n\nfrom ansys.mapdl import core as pymapdl\n\n# \u5c06 MAPDL \u4f5c\u4e3a\u670d\u52a1\u542f\u52a8\nmapdl = pymapdl.launch_mapdl()\nprint(mapdl)"
      ]
    },
    {
      "cell_type": "markdown",
      "metadata": {},
      "source": [
        "# Set geometrical inputs\r\n\r\n\u8bbe\u7f6e\u6a21\u578b\u7684\u51e0\u4f55\u8f93\u5165\u3002\r\n"
      ]
    },
    {
      "cell_type": "code",
      "execution_count": null,
      "metadata": {
        "collapsed": false
      },
      "outputs": [],
      "source": [
        "length = 75.0\npre_crack = 10.0\nwidth = 25.0\nheight = 1.7\nd = 10.0\n# \u5728\u9009\u53d6\u51e0\u4f55\u5b9e\u4f53\u65f6\u4e3a\u907f\u514d\u820d\u5165\u8bef\u5dee\u800c\u5b9a\u4e49\u7684\u5c0f\u91cf\neps = 1e-1"
      ]
    },
    {
      "cell_type": "markdown",
      "metadata": {},
      "source": [
        "# Set up the model\r\n\r\n\u901a\u8fc7\u9009\u62e9\u6a21\u62df\u7684\u5355\u4f4d\u5236\u548c\u5355\u5143\u7c7b\u578b\u6765\u8bbe\u7f6e\u6a21\u578b\u3002\u7531\u4e8e\u672c\u4f8b\u9009\u62e9\u4e86\u5168\u4e09\u7ef4\u65b9\u6cd5\uff0c\u56e0\u6b64\u4f7f\u7528\r\n`SOLID186` \u5355\u5143\u5bf9\u4f53\u79ef\u8fdb\u884c\u7f51\u683c\u5212\u5206\uff0c \u5e76\u4f7f\u7528 `TARGE170` \u548c `CONTA174`\r\n\u5bf9\u63a5\u89e6\u9762\u4e4b\u95f4\u7684\u5185\u805a\u5355\u5143\u8fdb\u884c\u5efa\u6a21\u3002\r\n\r\n## Define material parameters\r\n\r\n\u590d\u5408\u677f\u91c7\u7528\u540c\u8d28\u7ebf\u6027\u5f39\u6027\u6b63\u4ea4\u7279\u6027\u5efa\u6a21\uff0c\u800c\u5185\u805a\u5355\u5143\u5219\u91c7\u7528\u53cc\u7ebf\u6027\u5185\u805a\u6cd5\u5219\u3002\r\n"
      ]
    },
    {
      "cell_type": "code",
      "execution_count": null,
      "metadata": {
        "collapsed": false
      },
      "outputs": [],
      "source": [
        "# \u8fdb\u5165\u524d\u5904\u7406\u5668\u5e76\u5b9a\u4e49\u5355\u5143\u7cfb\u7edf\nmapdl.prep7()\nmapdl.units(\"mpa\")\n\n# \u5b9a\u4e49 SOLID185\u3001TARGE170 \u548c CONTA174 \u5355\u5143\u4ee5\u53ca\u5355\u5143\u5927\u5c0f\nmapdl.et(1, 185)\nmapdl.et(2, 170)\nmapdl.et(3, 174)\nmapdl.esize(10.0)\n\n# \u5b9a\u4e49\u590d\u5408\u677f\u7684\u6750\u6599\u5c5e\u6027\nmapdl.mp(\"ex\", 1, 61340)\nmapdl.mp(\"dens\", 1, 1.42e-09)\nmapdl.mp(\"nuxy\", 1, 0.1)\n\n# \u5b9a\u4e49\u53cc\u7ebf\u6027\u5185\u805a\u5b9a\u5f8b\nmapdl.mp(\"mu\", 2, 0)\nmapdl.tb(\"czm\", 2, 1, \"\", \"bili\")\nmapdl.tbtemp(25.0)\nmapdl.tbdata(1, 50.0, 0.5, 50, 0.5, 0.01, 2)"
      ]
    },
    {
      "cell_type": "markdown",
      "metadata": {},
      "source": [
        "# Create the geometry in the model and meshing\r\n\r\n\u4e24\u5757\u677f\u88ab\u751f\u6210\u4e3a\u4e24\u4e2a\u5e73\u884c\u516d\u9762\u4f53\u3002\u7136\u540e\u5206\u914d\u590d\u5408\u6750\u6599\u5c5e\u6027\u548c\u4e09\u7ef4\u5355\u5143\u3002\r\n"
      ]
    },
    {
      "cell_type": "code",
      "execution_count": null,
      "metadata": {
        "collapsed": false
      },
      "outputs": [],
      "source": [
        "# \u751f\u6210\u4e24\u5757\u590d\u5408\u677f\nvnum0 = mapdl.block(0.0, length + pre_crack, 0.0, width, 0.0, height)\nvnum1 = mapdl.block(0.0, length + pre_crack, 0.0, width, height, 2 * height)\n\n# \u6307\u5b9a\u6750\u6599\u5c5e\u6027\u548c\u5355\u5143\u7c7b\u578b\nmapdl.mat(1)\nmapdl.type(1)\n\n# \u8fdb\u884c\u7f51\u683c\u5212\u5206\nmapdl.vmesh(vnum0)\nmapdl.vmesh(vnum1)\nmapdl.eplot()"
      ]
    },
    {
      "cell_type": "markdown",
      "metadata": {},
      "source": [
        "# Generate cohesive elements in between the contact surfaces\r\n\r\n\u5185\u805a\u5355\u5143\u7684\u751f\u6210\u662f\u5efa\u6a21\u65b9\u6cd5\u4e2d\u6700\u7cbe\u7ec6\u7684\u90e8\u5206\u3002\u9996\u5148\uff0c\u786e\u5b9a\u4e24\u4e2a\u63a5\u89e6\u9762\uff0c\u5e76\u5c06\u5176\u5b9a\u4e49\u4e3a\u4e00\u4e2a\u7ec4\u4ef6\uff08\u672c\u4f8b\u4e2d\u5206\u522b\u4e3a\r\n[cm_1]{.title-ref} \u548c [cm_2]{.title-ref} \uff09\u3002 \u7136\u540e\uff0c\u8bbe\u7f6e `CONTA174` \u548c\r\n`TARGE170`\r\n\u5355\u5143\u7684\u5b9e\u5e38\u6570\u53ca\u5176\u5173\u952e\u9009\u9879\uff0c\u4ee5\u6355\u6349\u6b63\u786e\u7684\u884c\u4e3a\u3002\u8fd9\u4e9b\u53c2\u6570\u7684\u8bf4\u660e\u53ef\u5728 Ansys\r\n\u5355\u5143\u6587\u6863\u4e2d\u627e\u5230\u3002 \u6700\u540e\uff0c\u5728\u5404\u81ea\u7684\u8868\u9762 [cm_1]{.title-ref} \u548c\r\n[cm_2]{.title-ref} \u4e0a\u751f\u6210\u5355\u5143\u3002\r\n"
      ]
    },
    {
      "cell_type": "code",
      "execution_count": null,
      "metadata": {
        "collapsed": false
      },
      "outputs": [],
      "source": [
        "# \u786e\u5b9a\u4e24\u4e2a\u63a5\u89e6\u533a\u57df\u5e76\u5c06\u5176\u5206\u914d\u7ed9\u7ec4\u4ef6\nmapdl.allsel()\nmapdl.asel(\"s\", \"loc\", \"z\", 1.7)\nareas = mapdl.geometry.anum\nmapdl.geometry.area_select(areas[0], \"r\")\nmapdl.nsla(\"r\", 1)\nmapdl.nsel(\"r\", \"loc\", \"x\", pre_crack, length + pre_crack + eps)\nmapdl.components[\"cm_1\"] = \"node\"\n\nmapdl.allsel()\nmapdl.asel(\"s\", \"loc\", \"z\", 1.7)\nareas = mapdl.geometry.anum\nmapdl.geometry.area_select(areas[1], \"r\")\nmapdl.nsla(\"r\", 1)\nmapdl.nsel(\"r\", \"loc\", \"x\", pre_crack, length + pre_crack + eps)\nmapdl.components[\"cm_2\"] = \"node\"\n\n# \u5728\u751f\u6210 TARGE170 \u5355\u5143\u4e4b\u524d\u8bc6\u522b\u6240\u6709\u5355\u5143\nmapdl.allsel()\nmapdl.components[\"_elemcm\"] = \"elem\"\nmapdl.mat(2)\n\n# \u6307\u5b9a\u5b9e\u5e38\u6570\u548c key \u9009\u9879\nmapdl.r(3, \"\", \"\", 1.0, 0.1, 0, \"\")\nmapdl.rmore(\"\", \"\", 1.0e20, 0.0, 1.0, \"\")\nmapdl.rmore(0.0, 0.0, 1.0, \"\", 1.0, 0.5)\nmapdl.rmore(0.0, 1.0, 1.0, 0.0, \"\", 1.0)\nmapdl.rmore(\"\", \"\", \"\", \"\", \"\", 1.0)\nmapdl.keyopt(3, 4, 0)\nmapdl.keyopt(3, 5, 0)\nmapdl.keyopt(3, 7, 0)\nmapdl.keyopt(3, 8, 0)\nmapdl.keyopt(3, 9, 0)\nmapdl.keyopt(3, 10, 0)\nmapdl.keyopt(3, 11, 0)\nmapdl.keyopt(3, 12, 3)\nmapdl.keyopt(3, 14, 0)\nmapdl.keyopt(3, 18, 0)\nmapdl.keyopt(3, 2, 0)\nmapdl.keyopt(2, 5, 0)\n\n# \u5728 cm_1 \u4e0a\u751f\u6210 TARGE170 \u5355\u5143\nmapdl.nsel(\"s\", \"\", \"\", \"cm_1\")\nmapdl.components[\"_target\"] = \"node\"\nmapdl.type(2)\nmapdl.esln(\"s\", 0)\nmapdl.esurf()\n\n# \u5728 cm_2 \u4e0a\u751f\u6210 CONTA174 \u5355\u5143\nmapdl.cmsel(\"s\", \"_elemcm\")\nmapdl.nsel(\"s\", \"\", \"\", \"cm_2\")\nmapdl.components[\"_contact\"] = \"node\"\nmapdl.type(3)\nmapdl.esln(\"s\", 0)\nmapdl.esurf()"
      ]
    },
    {
      "cell_type": "markdown",
      "metadata": {},
      "source": [
        "# Generate boundary conditions\r\n\r\n\u6307\u5b9a\u8fb9\u754c\u6761\u4ef6\uff0c\u590d\u5236\u5b9e\u9645\u6d4b\u8bd5\u6761\u4ef6\u3002\u56fa\u5b9a\u4e24\u5757\u590d\u5408\u677f\u7684\u4e00\u7aef\uff0c\u9632\u6b62\u5176\u6cbf x\u3001y \u548c z\r\n\u8f74\u5e73\u79fb\u3002\u5728\u677f\u7684\u53e6\u4e00\u7aef\uff0c\u5e94\u7528\u4f4d\u79fb\u6761\u4ef6\u6765\u6a21\u62df\u754c\u9762\u88c2\u7f1d\u5f00\u53e3\u3002\r\n\u8fd9\u4e9b\u6761\u4ef6\u9002\u7528\u4e8e\u5206\u522b\u4f4d\u4e8e\u4ee5\u4e0b (x, y, z)\r\n\u5750\u6807\u7684\u51e0\u4f55\u8fb9\u7f18\u5bf9\u5e94\u7684\u9876\u90e8\u548c\u5e95\u90e8\u8282\u70b9\uff1a`` (0.0, `y`, 0.0) `` \u548c\r\n`` (0.0, `y`, 3.4) `` \u3002\r\n\u4e3a\u4e86\u66f4\u5feb\u5730\u8bc6\u522b\u627f\u53d7\u53cd\u4f5c\u7528\u529b\u7684\u8282\u70b9\uff0c\u4e3a\u8fd9\u4e9b\u8282\u70b9\u7ec4\u5206\u914d\u4e86\u4e24\u4e2a\u4e0d\u540c\u7684\u7ec4\u4ef6\u3002\r\n"
      ]
    },
    {
      "cell_type": "code",
      "execution_count": null,
      "metadata": {
        "collapsed": false
      },
      "outputs": [],
      "source": [
        "# \u5e94\u7528\u4e24\u4e2a\u4f4d\u79fb\u6761\u4ef6\nmapdl.allsel()\nmapdl.nsel(type_=\"s\", item=\"loc\", comp=\"x\", vmin=0.0, vmax=0.0)\nmapdl.nsel(type_=\"r\", item=\"loc\", comp=\"z\", vmin=2 * height, vmax=2 * height)\nmapdl.d(node=\"all\", lab=\"uz\", value=d)\nmapdl.components[\"top_nod\"] = \"node\"\n\nmapdl.allsel()\nmapdl.nsel(type_=\"s\", item=\"loc\", comp=\"x\", vmin=0.0, vmax=0.0)\nmapdl.nsel(type_=\"r\", item=\"loc\", comp=\"z\", vmin=0.0, vmax=0.0)\nmapdl.d(node=\"all\", lab=\"uz\", value=-10)\nmapdl.components[\"bot_nod\"] = \"node\"\n\n# \u5e94\u7528\u56fa\u5b9a\u6761\u4ef6\nmapdl.allsel()\nmapdl.nsel(\n    type_=\"s\",\n    item=\"loc\",\n    comp=\"x\",\n    vmin=length + pre_crack,\n    vmax=length + pre_crack,\n)\nmapdl.d(node=\"all\", lab=\"ux\", value=0.0)\nmapdl.d(node=\"all\", lab=\"uy\", value=0.0)\nmapdl.d(node=\"all\", lab=\"uz\", value=0.0)\n\nmapdl.eplot(\n    plot_bc=True,\n    bc_glyph_size=3,\n    title=\"\",\n)"
      ]
    },
    {
      "cell_type": "markdown",
      "metadata": {},
      "source": [
        "# Solve the non-linear static analysis\r\n\r\n\u8fd0\u884c\u975e\u7ebf\u6027\u9759\u6001\u5206\u6790\u3002\u4e3a\u4f7f\u88c2\u7f1d\u5f00\u88c2\u8fc7\u7a0b\u987a\u5229\u8fdb\u884c\u5e76\u4fc3\u8fdb\u9759\u6001\u6c42\u89e3\u5668\u7684\u6536\u655b\uff0c\u8bbe\u7f6e\r\n100 \u4e2a\u5b50\u6b65\u3002\r\n"
      ]
    },
    {
      "cell_type": "code",
      "execution_count": null,
      "metadata": {
        "collapsed": false
      },
      "outputs": [],
      "source": [
        "# \u8fdb\u5165\u6c42\u89e3\u5668\u5e76\u5b9a\u4e49\u5206\u6790\u8bbe\u7f6e\nmapdl.allsel()\nmapdl.finish()\nmapdl.run(\"/SOLU\")\nmapdl.antype(\"static\")\n\n# \u6fc0\u6d3b\u975e\u7ebf\u6027\u51e0\u4f55\nmapdl.nlgeom(\"on\")\n\n# \u8bbe\u7f6e\u8377\u8f7d\u5b50\u6b65\nmapdl.autots(key=\"on\")\nmapdl.nsubst(nsbstp=100, nsbmx=100, nsbmn=100)\nmapdl.kbc(key=0)\nmapdl.outres(\"all\", \"all\")\n\n# Solve\noutput = mapdl.solve()"
      ]
    },
    {
      "cell_type": "markdown",
      "metadata": {},
      "source": [
        "# Postprocessing\r\n\r\n\u4f7f\u7528 PyMAPDL \u548c PyDPF \u8fdb\u884c\u540e\u5904\u7406\u3002\r\n\r\n## Postprocess results using PyMAPDL\r\n\r\n\u672c\u8282\u4ecb\u7ecd\u5982\u4f55\u4f7f\u7528 PyMAPDL\r\n\u5bf9\u7ed3\u679c\u8fdb\u884c\u540e\u5904\u7406\u3002\u7531\u4e8e\u6d4b\u91cf\u5206\u5c42\u957f\u5ea6\u975e\u5e38\u91cd\u8981\uff0c\u56e0\u6b64\u9700\u8981\u7ed8\u5236\u5185\u805a\u635f\u4f24\u53c2\u6570\u3002\u867d\u7136\u635f\u4f24\u53c2\u6570\u662f\u4e00\u4e2a\u5355\u5143\u53c2\u6570\uff0c\u4f46\u7ed3\u679c\u662f\u4ee5\u8282\u70b9\u7ed3\u679c\u7684\u5f62\u5f0f\u63d0\u4f9b\u7684\u3002\r\n\u56e0\u6b64\uff0c\u8fd9\u91cc\u53ea\u5217\u51fa\u4e86 4 \u8282\u70b9\u5185\u805a\u5355\u5143 `NMISC = 70`\r\n\u4e2d\u4e00\u4e2a\u8282\u70b9\u7684\u7ed3\u679c\u3002\u5176\u4ed6\u8282\u70b9\u7684\u7ed3\u679c\u89c1 `NMISC = 71\u300172\u300173` \u3002\r\n\u60a8\u53ef\u4ee5\u901a\u8fc7\u8868\u683c\uff08\u6216\u6570\u7ec4\uff09\u7684\u5f62\u5f0f\u4ece\u6c42\u89e3\u6a21\u578b\u4e2d\u83b7\u53d6\u5b9e\u9645\u7684\u635f\u4f24\u53c2\u6570\u8282\u70b9\u503c\u3002\r\n"
      ]
    },
    {
      "cell_type": "code",
      "execution_count": null,
      "metadata": {
        "collapsed": false
      },
      "outputs": [],
      "source": [
        "# \u8fdb\u5165\u540e\u5904\u7406\u5668\nmapdl.post1()\n\n# \u9009\u62e9\u5b50\u6b65\nmapdl.set(1, 100)\n\n# \u9009\u62e9 ``CONTA174`` \u5355\u5143\nmapdl.allsel()\nmapdl.esel(\"s\", \"ename\", \"\", 174)\n\n# \u7ed8\u5236\u5355\u5143\u503c\nmapdl.post_processing.plot_element_values(\n    \"nmisc\", 70, scalar_bar_args={\"title\": \"Cohesive Damage\"}\n)\n\n# \u63d0\u53d6\u635f\u4f24\u53c2\u6570\u7684\u8282\u70b9\u503c\nmapdl.allsel()\nmapdl.esel(\"s\", \"ename\", \"\", 174)\nmapdl.etable(\"damage\", \"nmisc\", 70)\n\ndamage_df = mapdl.pretab(\"damage\").to_dataframe()"
      ]
    },
    {
      "cell_type": "markdown",
      "metadata": {},
      "source": [
        "# Postprocessing results using PyDPF\r\n\r\n\u4f7f\u7528 PyDPF \u5c06\u6574\u4e2a\u6a21\u62df\u8fc7\u7a0b\u4e2d\u7684\u88c2\u7f1d\u5f00\u53e3\u4ee5\u52a8\u753b\u7684\u5f62\u5f0f\u53ef\u89c6\u5316\u3002\r\n"
      ]
    },
    {
      "cell_type": "code",
      "execution_count": null,
      "metadata": {
        "collapsed": false
      },
      "outputs": [],
      "source": [
        "temp_directory = tempfile.gettempdir()\nrst_path = mapdl.download_result(temp_directory)\n\ndpf.core.make_tmp_dir_server(dpf.SERVER)\n\nif dpf.SERVER.local_server:\n    path_source = rst_path\nelse:\n    path_source = dpf.upload_file_in_tmp_folder(rst_path)\n\n# \u5efa\u7acb\u6a21\u578b\nmodel = dpf.Model(path_source)\n\n# \u83b7\u53d6\u6574\u4e2a\u6a21\u578b\u7684\u7f51\u683c\nmeshed_region = model.metadata.meshed_region\n\n# \u83b7\u53d6\u5185\u805a\u5355\u5143\u7f51\u683c\nmesh_scoping_cohesive = dpf.mesh_scoping_factory.named_selection_scoping(\n    \"CM_1\", model=model\n)\n\nresult_mesh = dpf.operators.mesh.from_scoping(\n    scoping=mesh_scoping_cohesive, inclusive=0, mesh=meshed_region\n).eval()\n\n# \u83b7\u53d6\u6bcf\u4e2a\u7f51\u683c\u7684\u5750\u6807\u5b57\u6bb5\nmesh_field = meshed_region.field_of_properties(dpf.common.nodal_properties.coordinates)\nmesh_field_cohesive = result_mesh.field_of_properties(\n    dpf.common.nodal_properties.coordinates\n)\n\n# \u83b7\u53d6 NMISC \u7ed3\u679c\u7684\u7d22\u5f15\nnmisc_index = 70\n\n# \u751f\u6210\u635f\u4f24\u7ed3\u679c\u8fd0\u7b97\u7b26\ndata_src = dpf.DataSources(path_source)\ndam_op = dpf.operators.result.nmisc(data_sources=data_src, item_index=70)\n\n# \u751f\u6210\u4f4d\u79fb\u8fd0\u7b97\u7b26\ndisp_op = model.results.displacement()\n\n# \u521b\u5efa\u6c42\u548c\u8fd0\u7b97\u7b26\uff0c\u8ba1\u7b97\u7b2c n \u6b65\u7684\u66f4\u65b0\u5750\u6807\nadd_op = dpf.operators.math.add(fieldA=mesh_field)\nadd_op_cohesive = dpf.operators.math.add(fieldA=mesh_field_cohesive)\n\n# \u5b9e\u4f8b\u5316 PyVista \u7ed8\u56fe\u4eea\u5e76\u5f00\u59cb\u521b\u5efa GIF\nplotter = pv.Plotter(notebook=False, off_screen=True)\nplotter.open_gif(\"dcb.gif\")\n\n# \u5c06\u6881\u7f51\u683c\u6dfb\u52a0\u5230\u573a\u666f\nmesh_beam = meshed_region.grid\nplotter.add_mesh(\n    mesh_beam,\n    lighting=False,\n    show_edges=True,\n    scalar_bar_args={\"title\": \"Cohesive Damage\"},\n    clim=[0, 1],\n    opacity=0.3,\n)\n\n\n# \u5c06\u63a5\u89e6\u7f51\u683c\u6dfb\u52a0\u5230\u573a\u666f\nmesh_contact = result_mesh.grid\nplotter.add_mesh(\n    mesh_contact,\n    opacity=0.9,\n    scalar_bar_args={\"title\": \"Cohesive Damage\"},\n    clim=[0, 1],\n    scalars=np.zeros((mesh_contact.n_cells)),\n)\nfor i in range(1, 100):\n    # \u83b7\u53d6\u4f4d\u79fb\n    disp = model.results.displacement(time_scoping=i).eval()\n    # \u83b7\u53d6\u66f4\u65b0\u7684\u5750\u6807\n    add_op.inputs.fieldB.connect(disp[0])\n    disp_result = add_op.outputs.field()\n    # \u83b7\u53d6\u5185\u805a\u5c42\u7684\u4f4d\u79fb\n    disp = model.results.displacement(\n        time_scoping=i, mesh_scoping=mesh_scoping_cohesive\n    ).eval()\n    # \u83b7\u53d6\u5185\u805a\u5c42\u7684\u66f4\u65b0\u5750\u6807\n    add_op_cohesive.inputs.fieldB.connect(disp[0])\n    disp_cohesive = add_op_cohesive.outputs.field()\n    # \u83b7\u53d6\u635f\u4f24\u533a\u57df\n    dam_op.inputs.time_scoping([i])\n    cohesive_damage = dam_op.outputs.fields_container()[0]\n    # \u66f4\u65b0\u5750\u6807\u548c\u6807\u91cf\n    plotter.update_coordinates(disp_result.data, mesh=mesh_beam, render=False)\n    plotter.update_coordinates(disp_cohesive.data, mesh=mesh_contact, render=False)\n    plotter.update_scalars(cohesive_damage.data, mesh=mesh_contact, render=False)\n    plotter.write_frame()\n\nplotter.close()"
      ]
    },
    {
      "cell_type": "markdown",
      "metadata": {},
      "source": [
        "\u7ed8\u5236\u5e95\u90e8\u8282\u70b9\u7684\u53cd\u4f5c\u7528\u529b\u56fe\r\n"
      ]
    },
    {
      "cell_type": "code",
      "execution_count": null,
      "metadata": {
        "collapsed": false
      },
      "outputs": [],
      "source": [
        "mesh_scoping = model.metadata.named_selection(\"BOT_NOD\")\nf_tot = []\nd_tot = []\nfor i in range(0, 100):\n    force_eval = model.results.element_nodal_forces(\n        time_scoping=i, mesh_scoping=mesh_scoping\n    ).eval()\n    force = force_eval[0].data\n    f_tot += [np.sum(force[:, 2])]\n    d = abs(\n        model.results.displacement(time_scoping=i, mesh_scoping=mesh_scoping)\n        .eval()[0]\n        .data[0]\n    )\n    d_tot += [d[2]]\n\nd_tot[0] = 0\nf_tot[0] = 0\n\nfig, ax = plt.subplots()\n\nplt.plot(d_tot, f_tot, \"b\")\nplt.ylabel(\"Force [N]\")\nplt.xlabel(\"Displacement [mm]\")\nplt.show()"
      ]
    },
    {
      "cell_type": "markdown",
      "metadata": {},
      "source": [
        "# Animate results using PyDPF with .animate() method\r\n\r\n\u4f7f\u7528 PyDPF \u65b9\u6cd5\r\n`FieldsContainer.animate() <ansys.dpf.core.fields_container.FieldsContainer.animate>`{.interpreted-text\r\nrole=\"func\"} \u5728\u6574\u4e2a\u6a21\u62df\u8fc7\u7a0b\u4e2d\u4ee5\u52a8\u753b\u5f62\u5f0f\u76f4\u89c2\u663e\u793a\u88c2\u7f1d\u6269\u5c55\u7684\u8fc7\u7a0b\u3002\r\n"
      ]
    },
    {
      "cell_type": "code",
      "execution_count": null,
      "metadata": {
        "collapsed": false
      },
      "outputs": [],
      "source": [
        "disp = model.results.displacement.on_all_time_freqs.eval()\ncamera_pos = disp.animate(\n    scale_factor=1.0,\n    save_as=\"dcb_animate.gif\",\n    return_cpos=True,\n    show_axes=True,\n)"
      ]
    },
    {
      "cell_type": "markdown",
      "metadata": {},
      "source": [
        "Exit MAPDL\r\n"
      ]
    },
    {
      "cell_type": "code",
      "execution_count": null,
      "metadata": {
        "collapsed": false
      },
      "outputs": [],
      "source": [
        "mapdl.exit()\n\ntry:\n    os.remove(path_source)\nexcept (FileNotFoundError, PermissionError):\n    pass"
      ]
    }
  ],
  "metadata": {
    "kernelspec": {
      "display_name": "Python 3",
      "language": "python",
      "name": "python3"
    },
    "language_info": {
      "codemirror_mode": {
        "name": "ipython",
        "version": 3
      },
      "file_extension": ".py",
      "mimetype": "text/x-python",
      "name": "python",
      "nbconvert_exporter": "python",
      "pygments_lexer": "ipython3",
      "version": "3.10.1"
    }
  },
  "nbformat": 4,
  "nbformat_minor": 0
}