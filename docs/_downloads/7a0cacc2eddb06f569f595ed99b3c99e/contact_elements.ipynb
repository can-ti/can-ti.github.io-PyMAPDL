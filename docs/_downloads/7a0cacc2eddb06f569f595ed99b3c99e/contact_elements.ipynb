{
  "cells": [
    {
      "cell_type": "markdown",
      "metadata": {},
      "source": [
        "# \u63a5\u89e6\u5355\u5143\u793a\u4f8b {#ref_contact_example}\r\n\r\n\u672c\u4f8b\u6f14\u793a\u5982\u4f55\u4e3a\u4e00\u822c\u63a5\u89e6\u95ee\u9898\u521b\u5efa\u63a5\u89e6\u5355\u5143\u3002\r\n\r\n\u9996\u5148\u542f\u52a8 MAPDL\u3002\r\n"
      ]
    },
    {
      "cell_type": "code",
      "execution_count": null,
      "metadata": {
        "collapsed": false
      },
      "outputs": [],
      "source": [
        "from ansys.mapdl import core as pymapdl\n\nmapdl = pymapdl.launch_mapdl()"
      ]
    },
    {
      "cell_type": "markdown",
      "metadata": {},
      "source": [
        "\u8fdb\u5165\u524d\u5904\u7406\u5668\uff0c\u521b\u5efa\u4e00\u4e2a\u7a0b\u5e8f\u5757\uff0c\u5e76\u7528\u56db\u9762\u4f53\u5355\u5143\u5bf9\u5176\u8fdb\u884c\u7f51\u683c\u5212\u5206\u3002\r\n"
      ]
    },
    {
      "cell_type": "code",
      "execution_count": null,
      "metadata": {
        "collapsed": false
      },
      "outputs": [],
      "source": [
        "mapdl.prep7()\n\nvnum0 = mapdl.block(0, 1, 0, 1, 0, 0.5)\n\nmapdl.et(1, 187)\nmapdl.esize(0.1)\n\nmapdl.vmesh(vnum0)\nmapdl.eplot()"
      ]
    },
    {
      "cell_type": "markdown",
      "metadata": {},
      "source": [
        "\u5728\u73b0\u6709\u56fe\u5757\u4e0a\u65b9\u518d\u6dfb\u52a0\u4e00\u4e2a\u4f53\u5757\uff0c\u5e76\u7528\u4e8c\u6b21\u516d\u9762\u4f53\u5355\u5143\u5bf9\u5176\u8fdb\u884c\u7f51\u683c\u5212\u5206\u3002\u786e\u4fdd\u8fd9\u4e9b\u4f53\u5757\u4e0d\u4f1a\u76f8\u78b0\uff0c\u65b9\u6cd5\u662f\u5c06\u5176\u8d77\u59cb\u4f4d\u7f6e\u7565\u9ad8\u4e8e\u73b0\u6709\u4f53\u5757\u3002\r\n\r\n\u8bf7\u6ce8\u610f\uff0c\u8fd9\u4e24\u4e2a\u56fe\u5757\u5e76\u4e0d\u63a5\u89e6\uff0c\u7f51\u683c\u4e5f\u4e0d\u89c4\u5219\u3002\r\n"
      ]
    },
    {
      "cell_type": "code",
      "execution_count": null,
      "metadata": {
        "collapsed": false
      },
      "outputs": [],
      "source": [
        "mapdl.esize(0.09)\nmapdl.et(2, 186)\nmapdl.type(2)\nvnum1 = mapdl.block(0, 1, 0, 1, 0.50001, 1)\nmapdl.vmesh(vnum1)\nmapdl.eplot()"
      ]
    },
    {
      "cell_type": "markdown",
      "metadata": {},
      "source": [
        "\u9009\u62e9\u4e24\u4e2a\u56fe\u5757\u4ea4\u53c9\u5904\u7684\u6240\u6709\u5355\u5143\u5e76\u751f\u6210\u63a5\u89e6\u5355\u5143\u3002\r\n"
      ]
    },
    {
      "cell_type": "code",
      "execution_count": null,
      "metadata": {
        "collapsed": false
      },
      "outputs": [],
      "source": [
        "mapdl.nsel(\"s\", \"loc\", \"z\", 0.5, 0.50001)\nmapdl.esln(\"s\")\noutput = mapdl.gcgen(\"NEW\", splitkey=\"SPLIT\", selopt=\"SELECT\")\nprint(output)"
      ]
    },
    {
      "cell_type": "markdown",
      "metadata": {},
      "source": [
        "\u7ed8\u5236\u63a5\u89e6\u5355\u5143\u5bf9\u3002\u4ece\u4e0a\u9762\u7684\u547d\u4ee4\u8f93\u51fa\u4e2d\u53ef\u4ee5\u770b\u51fa\uff0c\u65ad\u9762 ID \u5206\u522b\u4e3a 5 \u548c 6\u3002\r\n\r\n\u5728\u8fd9\u91cc\uff0c\u6211\u4eec\u5c06\u5355\u5143\u7f51\u683c\u7ed8\u5236\u6210\u7ebf\u6846\uff0c\u4ee5\u663e\u793a\u63a5\u89e6\u5bf9\u7684\u91cd\u53e0\u3002\r\n"
      ]
    },
    {
      "cell_type": "code",
      "execution_count": null,
      "metadata": {
        "collapsed": false
      },
      "outputs": [],
      "source": [
        "mapdl.esel(\"S\", \"SEC\", vmin=5, vmax=6)\nmapdl.eplot(style=\"wireframe\", line_width=3)"
      ]
    },
    {
      "cell_type": "markdown",
      "metadata": {},
      "source": [
        "# Stop mapdl\r\n"
      ]
    },
    {
      "cell_type": "code",
      "execution_count": null,
      "metadata": {
        "collapsed": false
      },
      "outputs": [],
      "source": [
        "mapdl.exit()"
      ]
    }
  ],
  "metadata": {
    "kernelspec": {
      "display_name": "Python 3",
      "language": "python",
      "name": "python3"
    },
    "language_info": {
      "codemirror_mode": {
        "name": "ipython",
        "version": 3
      },
      "file_extension": ".py",
      "mimetype": "text/x-python",
      "name": "python",
      "nbconvert_exporter": "python",
      "pygments_lexer": "ipython3",
      "version": "3.10.1"
    }
  },
  "nbformat": 4,
  "nbformat_minor": 0
}