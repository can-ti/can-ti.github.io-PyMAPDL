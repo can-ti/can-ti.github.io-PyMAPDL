{
  "cells": [
    {
      "cell_type": "markdown",
      "metadata": {},
      "source": [
        "# \u89d2\u94a2\u652f\u67b6\u7684\u9759\u6001\u5206\u6790 {#ref_static_analysis_bracket}\r\n\r\n\u672c\u4f8b\u6539\u7f16\u81ea Ansys APDL \u7ecf\u5178\u6559\u7a0b [Static Analysis of a Corner\r\nBracket\uff08\u89d2\u94a2\u652f\u67b6\u7684\u9759\u6001\u5206\u6790\uff09](https://ansyshelp.ansys.com/account/Secured?returnurl=/Views/Secured/corp/v231/en/ans_tut/structural_cb.html)\r\n\u3002\r\n\r\n## Problem specification\r\n\r\n  --------------- --------------------------------------------------------\r\n  Applicable      Ansys Multiphysics, Ansys Mechanical, Ansys Structural\r\n  Products:       \r\n\r\n  Level of        Easy\r\n  Difficulty:     \r\n\r\n  Interactive     60 to 90 minutes\r\n  Time Required:  \r\n\r\n  Discipline:     Structural\r\n\r\n  Analysis Type:  Linear static\r\n\r\n  Element Types   [PLANE183]()\r\n  Used:           \r\n\r\n  Features        Solid modeling including primitives, boolean operations,\r\n  Demonstrated:   and fillets; tapered pressure load deformed shape and\r\n                  stress displays; listing of reaction forces;\r\n\r\n  Help Resources: Structural Static Analysis and [PLANE183]()\r\n  --------------- --------------------------------------------------------\r\n\r\n## Problem description\r\n\r\n\u8fd9\u662f\u4e00\u4e2a\u7b80\u5355\u7684\u3001\u5355\u8377\u8f7d\u6b65\u7684\u89d2\u94a2\u652f\u67b6\u7ed3\u6784\u9759\u529b\u5206\u6790\u3002\u5de6\u4e0a\u65b9\u7684\u9500\u5b54\u5728\u5176\u6574\u4e2a\u5706\u5468\u4e0a\u53d7\u5230\u7ea6\u675f\uff08\u710a\u63a5\uff09\uff0c\r\n\u53f3\u4e0b\u65b9\u7684\u9500\u5b54\u5e95\u90e8\u53d7\u5230\u9525\u5f62\u538b\u529b\u8f7d\u8377\u3002\u4f7f\u7528\u7f8e\u56fd\u4e60\u60ef\u5355\u4f4d\u5236\u3002\u76ee\u7684\u662f\u6f14\u793a MAPDL\r\n\u5728\u5206\u6790\u4e2d\u7684\u5178\u578b\u5e94\u7528\u3002\r\n\r\n### Bracket model\r\n\r\n\u89d2\u652f\u67b6\u7684\u5c3a\u5bf8\u5982\u4e0b\u56fe\u6240\u793a\u3002\u652f\u67b6\u7531 A36 \u94a2\u5236\u6210\uff0c\u5176\u6768\u6c0f\u6a21\u91cf\u4e3a $3\\cdot10^7$ psi\r\n\uff0c\u6cca\u677e\u6bd4\u4e3a $0.27$ \u3002\r\n\r\n<figure>\r\n<img src=\"../../../images/bracket_dimensions.png\" width=\"400\"\r\nalt=\"../../../images/bracket_dimensions.png\" />\r\n<figcaption><strong>\u652f\u67b6\u578b\u53f7\u5c3a\u5bf8</strong></figcaption>\r\n</figure>\r\n\r\n### Approach and assumptions\r\n\r\n\u7531\u4e8e\u652f\u67b6\u5728 Z \u65b9\u5411\u7684\u539a\u5ea6\uff081/2 \u82f1\u5bf8\uff09\u6bd4\u5176 X \u548c Y\r\n\u65b9\u5411\u7684\u5c3a\u5bf8\u8584\uff0c\u800c\u4e14\u538b\u529b\u8f7d\u8377\u53ea\u4f5c\u7528\u5728 X-Y\r\n\u5e73\u9762\u4e0a\uff0c\u56e0\u6b64\u5728\u5206\u6790\u65f6\u5e94\u5047\u8bbe\u4e3a\u5e73\u9762\u5e94\u529b\u95ee\u9898\u3002\r\n\r\n\u8fd9\u79cd\u65b9\u6cd5\u662f\u4f7f\u7528\u5b9e\u4f53\u5efa\u6a21\u751f\u6210\u4e8c\u7ef4\u6a21\u578b\uff0c\u5e76\u81ea\u52a8\u7528\u8282\u70b9\u548c\u5355\u5143\u5bf9\u5176\u8fdb\u884c\u7f51\u683c\u5212\u5206\u3002\r\n\u53e6\u4e00\u79cd\u65b9\u6cd5\u662f\u76f4\u63a5\u521b\u5efa\u8282\u70b9\u548c\u5355\u5143\u3002\r\n"
      ]
    },
    {
      "cell_type": "markdown",
      "metadata": {},
      "source": [
        "# Launching MAPDL\r\n"
      ]
    },
    {
      "cell_type": "code",
      "execution_count": null,
      "metadata": {
        "collapsed": false
      },
      "outputs": [],
      "source": [
        "from ansys.mapdl.core import launch_mapdl\n\njobName = \"bracket\"  # optional\nmapdl = launch_mapdl(jobname=jobName)"
      ]
    },
    {
      "cell_type": "markdown",
      "metadata": {},
      "source": [
        "# Build the geometry\r\n\r\n## Define rectangles\r\n\r\n\u5728 Mechanical APDL\r\n\u4e2d\u521b\u5efa\u6a21\u578b\u51e0\u4f55\u4f53\u6709\u51e0\u79cd\u65b9\u6cd5\uff0c\u6709\u4e9b\u65b9\u6cd5\u6bd4\u5176\u4ed6\u65b9\u6cd5\u66f4\u65b9\u4fbf\u3002\u7b2c\u4e00\u6b65\u662f\u8ba4\u8bc6\u5230\u53ef\u4ee5\u4f7f\u7528\u77e9\u5f62\u548c\u5706\u5f62\u7ec4\u5408\u8f7b\u677e\u6784\u5efa\u652f\u67b6\u3002\r\n\r\n\u9009\u62e9\u4e00\u4e2a\u4efb\u610f\u7684\u5168\u5c40\u539f\u70b9\u4f4d\u7f6e\uff0c\u7136\u540e\u6839\u636e\u8be5\u539f\u70b9\u5b9a\u4e49\u77e9\u5f62\u548c\u5706\u5f62\u3002\u5728\u672c\u5206\u6790\u4e2d\uff0c\u4f7f\u7528\u5de6\u4e0a\u65b9\u5b54\u7684\u4e2d\u5fc3\u70b9\u3002\u9996\u5148\u5b9a\u4e49\u4e00\u4e2a\u76f8\u5bf9\u4e8e\u8be5\u4f4d\u7f6e\u7684\u77e9\u5f62\u3002\r\n\r\nAPDL \u547d\u4ee4\r\n`mapdl.rectng() <ansys.mapdl.core.Mapdl.rectng>`{.interpreted-text\r\nrole=\"meth\"} \u7528\u4e8e\u521b\u5efa\u4e00\u4e2a\u5177\u6709 `X1`, `X2` , `Y1` \u548c `Y2` \u5c3a\u5bf8\u7684\u77e9\u5f62\u3002 \u5728\r\nPyMAPDL \u4e2d\uff0c`mapdl() <ansys.mapdl.core.Mapdl>`{.interpreted-text\r\nrole=\"class\"} \u7c7b\u7528\u4e8e\u8c03\u7528 APDL \u547d\u4ee4\u3002\r\n\r\n### Dimension box 1\r\n\r\n\u8f93\u5165\u4ee5\u4e0b\u5185\u5bb9\uff1a\r\n\r\n``` python\r\nX1 = 0\r\nX2 = 6\r\nY1 = -1\r\nY2 = 1\r\n```\r\n\r\n\u6216\u8005\u4f7f\u7528 Python \u5217\u8868\u6765\u5b58\u50a8\u51e0\u4f55\u5c3a\u5bf8\uff1a\r\n"
      ]
    },
    {
      "cell_type": "code",
      "execution_count": null,
      "metadata": {
        "collapsed": false
      },
      "outputs": [],
      "source": [
        "box1 = [0, 6, -1, 1]"
      ]
    },
    {
      "cell_type": "markdown",
      "metadata": {},
      "source": [
        "# Dimension box 2\r\n\r\n\u8f93\u5165\u4ee5\u4e0b\u5185\u5bb9\uff1a\r\n"
      ]
    },
    {
      "cell_type": "code",
      "execution_count": null,
      "metadata": {
        "collapsed": false
      },
      "outputs": [],
      "source": [
        "box2 = [4, 6, -1, -3]"
      ]
    },
    {
      "cell_type": "markdown",
      "metadata": {},
      "source": [
        "`mapdl.prep7() <ansys.mapdl.core.Mapdl.prep7>`{.interpreted-text\r\nrole=\"meth\"} \u547d\u4ee4\u542f\u52a8 APDL \u524d\u5904\u7406\u5668\uff0c\u5f00\u59cb\u5efa\u7acb\u5206\u6790\u3002\r\n\u8fd9\u662f\u521b\u5efa\u6a21\u578b\u51e0\u4f55\u4f53\u7684\u5904\u7406\u5668\u3002\r\n"
      ]
    },
    {
      "cell_type": "code",
      "execution_count": null,
      "metadata": {
        "collapsed": false
      },
      "outputs": [],
      "source": [
        "mapdl.prep7()"
      ]
    },
    {
      "cell_type": "markdown",
      "metadata": {},
      "source": [
        "\u5229\u7528 Python \u7684 `list <python.list>`{.interpreted-text role=\"class\"} \u6216\r\n`dict <python.dict>`{.interpreted-text role=\"class\"} \u7c7b\u7b49 Python\r\n\u7279\u6027\uff0c\u53ef\u4ee5\u5c3d\u53ef\u80fd\u591a\u5730\u53c2\u6570\u5316\u3002\r\n\u597d\u7684\u505a\u6cd5\u662f\u5c06\u6240\u6709\u53c2\u6570\u653e\u5728\u8f93\u5165\u6587\u4ef6\u7684\u9876\u90e8\u6216\u9644\u8fd1\u3002\u4e0d\u8fc7\uff0c\u5728\u672c\u4e92\u52a8\u6559\u7a0b\u4e2d\uff0c\u8fd9\u4e9b\u53c2\u6570\u90fd\u662f\u5185\u8054\u7684\u3002\uff08\"\u5185\u8054\"\uff08inline\uff09\r\n\u8fd9\u4e2a\u8bcd\uff0c\u662f\u4ec0\u4e48\u610f\u601d\uff1f ------------ff\uff09\r\n"
      ]
    },
    {
      "cell_type": "code",
      "execution_count": null,
      "metadata": {
        "collapsed": false
      },
      "outputs": [],
      "source": [
        "# \u6784\u5efa\u60a8\u7684\u7acb\u65b9\u4f53\nmapdl.rectng(box1[0], box1[1], box1[2], box1[3])"
      ]
    },
    {
      "cell_type": "markdown",
      "metadata": {},
      "source": [
        "\u5728 Python \u4e2d\uff0c\u53ef\u4ee5\u5728\u51fd\u6570\u8c03\u7528\u4e2d\u4f7f\u7528 `*` \u6765\u89e3\u5305\u5bf9\u8c61\u3002\u4f8b\u5982\r\n"
      ]
    },
    {
      "cell_type": "code",
      "execution_count": null,
      "metadata": {
        "collapsed": false
      },
      "outputs": [],
      "source": [
        "mapdl.rectng(*box2)  # \u6253\u5370\u6240\u521b\u5efa area \u7684 ID\uff0cID = 2"
      ]
    },
    {
      "cell_type": "markdown",
      "metadata": {},
      "source": [
        "# Plot areas\r\n\r\nPyMAPDL \u7ed8\u56fe\u53ef\u4ee5\u901a\u8fc7\u4f20\u9012\u7ed9\u4e0d\u540c\u7ed8\u56fe\u65b9\u6cd5\u7684\u53c2\u6570\u6765\u63a7\u5236\uff0c\u4f8b\u5982\r\n`mapdl.aplot() <ansys.mapdl.core.Mapdl.aplot>`{.interpreted-text\r\nrole=\"meth\"} \u3002\r\n\r\narea \u56fe\u4e2d\u7684\u4e24\u4e2a\u77e9\u5f62\u989c\u8272\u76f8\u540c\u3002 \u8981\u66f4\u6e05\u695a\u5730\u533a\u5206 area \uff0c\u53ef\u4ee5\u6253\u5f00 area \u7f16\u53f7\uff08\r\n`show_area_numbering=True` )\u6216\u8005\u663e\u793a area \u989c\u8272\uff08 `color_area=True` )\u3002\r\n\u6709\u5173\u8be6\u7ec6\u4fe1\u606f\uff0c\u8bf7\u53c2\u9605\r\n`mapdl.aplot() <ansys.mapdl.core.Mapdl.aplot>`{.interpreted-text\r\nrole=\"meth\"} \u65b9\u6cd5\u3002\r\n"
      ]
    },
    {
      "cell_type": "code",
      "execution_count": null,
      "metadata": {
        "collapsed": false
      },
      "outputs": [],
      "source": [
        "mapdl.aplot(cpos=\"xy\", show_lines=True,)\nmapdl.aplot(cpos=\"xy\", show_lines=True, show_area_numbering=True,color_areas=True)"
      ]
    },
    {
      "cell_type": "markdown",
      "metadata": {},
      "source": [
        "::: note\r\n::: title\r\nNote\r\n:::\r\n\r\n\u5982\u679c\u4e0b\u8f7d\u4e86 [\u672c\u4f8b]() \u7684 Jupyter Notebook \u7248\u672c\uff0c\u5c31\u53ef\u4ee5\u5229\u7528 Jupyter\r\nNotebook \u7684\u529f\u80fd\u3002\u4f8b\u5982\uff0c\u4f60\u53ef\u4ee5\u53f3\u952e\u5355\u51fb\u547d\u4ee4\u6765\u663e\u793a\u4e0a\u4e0b\u6587\u5e2e\u52a9\u3002\r\n:::\r\n"
      ]
    },
    {
      "cell_type": "markdown",
      "metadata": {},
      "source": [
        "# Create first circle\r\n\r\n\u5229\u7528\u903b\u8f91\u548c\u5e03\u5c14\u51e0\u4f55\u8fd0\u7b97\uff0c\u60a8\u53ef\u4ee5\u4f7f\u7528\u539f\u59cb\u51e0\u4f55\u53c2\u6570\uff08 `box1` , `box2`\r\n\uff09\u6765\u5b9a\u4f4d\u5706\u3002\r\n\r\n\u5728\u652f\u67b6\u4e24\u7aef\u5404\u521b\u5efa\u4e00\u4e2a\u534a\u5706\u3002\u9996\u5148\u5728\u4e24\u7aef\u5404\u521b\u5efa\u4e00\u4e2a\u5168\u5706\uff0c\u7136\u540e\u4f7f\u7528\u5e03\u5c14\u6dfb\u52a0\u64cd\u4f5c\uff08\u5728\r\n[Subtract pin holes from bracket]() \u4e2d\u8ba8\u8bba\uff09\u5c06\u5706\u548c\u77e9\u5f62\u7ec4\u5408\u8d77\u6765\u3002\r\n\r\n\u521b\u5efa\u5706\u7684 APDL \u547d\u4ee4\u662f\r\n`mapdl.cyl4() <ansys.mapdl.core.Mapdl.cyl4>`{.interpreted-text\r\nrole=\"meth\"} \u3002\r\n\r\n\u7b2c\u4e00\u4e2a\u5706\u5f62\u533a\u57df\u4f4d\u4e8e\u5de6\u4fa7 X\u3001Y \u4f4d\u7f6e\uff0c\u534a\u5f84\u4e3a $1$ \u3002\r\n"
      ]
    },
    {
      "cell_type": "code",
      "execution_count": null,
      "metadata": {
        "collapsed": false
      },
      "outputs": [],
      "source": [
        "# \u521b\u5efa\u7b2c\u4e00\u4e2a\u5706\nradius = 1\ncircle1_X = box1[0]\ncircle1_Y = (box1[2] + box1[3]) / 2\nmapdl.cyl4(circle1_X, circle1_Y, radius)\n\nmapdl.aplot(vtk=True, cpos=\"xy\", show_lines=True)"
      ]
    },
    {
      "cell_type": "markdown",
      "metadata": {},
      "source": [
        "# Create second circle\r\n\r\n\u5728 X\u3001Y \u4f4d\u7f6e\u521b\u5efa\u7b2c\u4e8c\u4e2a\u5706\uff1a\r\n"
      ]
    },
    {
      "cell_type": "code",
      "execution_count": null,
      "metadata": {
        "collapsed": false
      },
      "outputs": [],
      "source": [
        "circle2_X = (box2[0] + box2[1]) / 2\ncircle2_Y = box2[3]"
      ]
    },
    {
      "cell_type": "markdown",
      "metadata": {},
      "source": [
        "\u4f7f\u7528\u8fd9\u4e9b\u53c2\u6570\u503c\u521b\u5efa\u65b0 area \uff0c\u5176\u534a\u5f84\u4e0e\u7b2c\u4e00\u4e2a\u5706\u5f62\u76f8\u540c\uff0c\u5373 $1$\u3002\r\n"
      ]
    },
    {
      "cell_type": "code",
      "execution_count": null,
      "metadata": {
        "collapsed": false
      },
      "outputs": [],
      "source": [
        "mapdl.cyl4(circle2_X, circle2_Y, radius)\nmapdl.aplot(vtk=True, cpos=\"xy\", show_lines=True)"
      ]
    },
    {
      "cell_type": "markdown",
      "metadata": {},
      "source": [
        "# Add areas\r\n\r\n\u73b0\u5728\u5df2\u7ecf\u5b9a\u4e49\u4e86\u6a21\u578b\u7684\u76f8\u5e94\u90e8\u5206\uff08\u77e9\u5f62\u548c\u5706\u5f62\uff09\uff0c\u5c06\u5b83\u4eec\u6dfb\u52a0\u5230\u4e00\u8d77\uff0c\u4f7f\u6a21\u578b\u6210\u4e3a\u4e00\u4e2a\u8fde\u7eed\u7684\u533a\u57df\u3002\r\n\u4f7f\u7528\u5e03\u5c14\u52a0\u64cd\u4f5c\r\n`mapdl.aadd() <ansys.mapdl.core.Mapdl.aadd>`{.interpreted-text\r\nrole=\"meth\"} \u5c06 area \u5408\u5e76\u5230\u4e00\u8d77\u3002\r\n\r\n\u4f7f\u7528 `all` \u53c2\u6570\u6dfb\u52a0\u6240\u6709 area\u3002\r\n"
      ]
    },
    {
      "cell_type": "code",
      "execution_count": null,
      "metadata": {
        "collapsed": false
      },
      "outputs": [],
      "source": [
        "mapdl.aadd(\"all\")  # \u8be5\u547d\u4ee4\u4f1a return \u5e03\u5c14\u8fd0\u7b97\u540e\u5f62\u6210 area \u7684 ID"
      ]
    },
    {
      "cell_type": "markdown",
      "metadata": {},
      "source": [
        "# Create line fillet\r\n\r\n\u4f7f\u7528\u534a\u5f84\u4e3a $0.4$ \u7684\u5706\u89d2\u53ef\u4ee5\u6539\u5584\u4e24\u4e2a\u65b9\u6846\u4e4b\u95f4\u7684\u76f4\u89d2\u3002\r\n\u60a8\u53ef\u4ee5\u9009\u62e9\u8be5\u533a\u57df\u5468\u56f4\u7684\u7ebf\u6761\uff0c\u7136\u540e\u521b\u5efa\u5706\u89d2\u3002\r\n\r\n\u4f7f\u7528 APDL `mapdl.lsel() <ansys.mapdl.core.Mapdl.lsel>`{.interpreted-text\r\nrole=\"meth\"} \u65b9\u6cd5\u9009\u62e9\u7ebf\u6761\u3002\u5728\u8fd9\u91cc\uff0c\u7ebf\u6761\u7684 X \u548c Y\r\n\u4f4d\u7f6e\u7528\u4e8e\u521b\u5efa\u65b9\u6846\uff0c\u4ee5\u521b\u5efa\u9009\u533a\u3002\r\n\r\n\u9009\u62e9\u7ebf\u6761\u540e\uff0c\u9700\u8981\u5c06\u5176\u5199\u5165\u4e00\u4e2a\u53c2\u6570\uff0c\u4ee5\u4fbf\u751f\u6210\u5706\u89d2\u7ebf\u3002 \u8fd9\u662f\u4f7f\u7528\r\n`mapdl.get() <ansys.mapdl.core.Mapdl.get>`{.interpreted-text\r\nrole=\"meth\"} \u65b9\u6cd5\u5b8c\u6210\u7684\u3002\r\n\r\n\u7531\u4e8e\u53ea\u9009\u62e9\u4e86\u4e00\u6761\u7ebf\uff0c\u56e0\u6b64\u53ef\u4ee5\u4f7f\u7528\r\n`mapdl.get() <ansys.mapdl.core.Mapdl.get>`{.interpreted-text\r\nrole=\"meth\"} \u65b9\u6cd5\u7684 `MAX` \u548c `NUM` \u53c2\u6570\u3002\r\n\r\n\u9009\u62e9\u7b2c\u4e00\u6761\u7ebf\u8fdb\u884c\u5706\u89d2\u5904\u7406\r\n"
      ]
    },
    {
      "cell_type": "code",
      "execution_count": null,
      "metadata": {
        "collapsed": false
      },
      "outputs": [],
      "source": [
        "line1 = mapdl.lsel(\"S\", \"LOC\", \"Y\", box1[2])\nl1 = mapdl.get(\"line1\", \"LINE\", 0, \"NUM\", \"MAX\")"
      ]
    },
    {
      "cell_type": "markdown",
      "metadata": {},
      "source": [
        "\u5982\u679c\u5c06\u547d\u4ee4\u5199\u5165 Python \u53c2\u6570 (`line1`)\uff0c\u5219\u521b\u5efa\u5706\u89d2\u7ebf\u65f6\u53ef\u4ee5\u4f7f\u7528 APDL \u53c2\u6570\r\n`` l1` \u6216 Python \u53c2\u6570 ``line1\\`\\` \u3002\r\n\r\n\u4e3a\u5706\u89d2\u9009\u62e9\u7b2c\u4e8c\u6761\u7ebf\u5e76\u521b\u5efa Python \u53c2\u6570\r\n"
      ]
    },
    {
      "cell_type": "code",
      "execution_count": null,
      "metadata": {
        "collapsed": false
      },
      "outputs": [],
      "source": [
        "line2 = mapdl.lsel(\"S\", \"LOC\", \"X\", box2[0])\nl2 = mapdl.get(\"line2\", \"LINE\", 0, \"NUM\", \"MAX\")"
      ]
    },
    {
      "cell_type": "markdown",
      "metadata": {},
      "source": [
        "\u9009\u4e2d\u4e24\u6761\u7ebf\u540e\uff0c\u53ef\u4ee5\u4f7f\u7528 PyMAPDL \u547d\u4ee4\r\n`mapdl.lfillt() <ansys.mapdl.core.Mapdl.lfillt>`{.interpreted-text\r\nrole=\"meth\"} \u5728\u4e24\u6761\u7ebf\u4e4b\u95f4\u751f\u6210\u5706\u89d2\u3002\r\n\r\n**\u6ce8\u610f**\\*\uff0c\u5982\u679c\u9009\u62e9\u4e86\u591a\u6761\u7ebf\uff0cPython \u53ef\u4ee5\u8fd4\u56de\u4e00\u4e2a\u5217\u8868\u3002\r\n"
      ]
    },
    {
      "cell_type": "markdown",
      "metadata": {},
      "source": [
        "\u5728\u8fd9\u91cc\uff0c\u60a8\u53ef\u4ee5\u6df7\u5408\u4f7f\u7528 APDL \u53c2\u6570\u5b57\u7b26\u4e32 `line1` \u548c Python \u53c2\u6570 `l2`\r\n\u6765\u521b\u5efa\u5706\u89d2\u7ebf\u3002\r\n\r\n\u4f7f\u7528\u6240\u9009\u7ebf\u6761\u521b\u5efa\u5706\u89d2\u7ebf\uff08\u53c2\u6570\u540d\u79f0\uff09\r\n"
      ]
    },
    {
      "cell_type": "code",
      "execution_count": null,
      "metadata": {
        "collapsed": false
      },
      "outputs": [],
      "source": [
        "fillet_radius = 0.4\nmapdl.allsel()\nline3 = mapdl.lfillt(\"line1\", l2, fillet_radius)\n\nmapdl.allsel()\nmapdl.lplot(vtk=True, cpos=\"xy\")"
      ]
    },
    {
      "cell_type": "markdown",
      "metadata": {},
      "source": [
        "# Create fillet area\r\n\r\n\u4f7f\u7528 `mapdl.al() <ansys.mapdl.core.Mapdl.al>`{.interpreted-text\r\nrole=\"meth\"} \u65b9\u6cd5\u521b\u5efa\u7531 `line1` \u3001 `line2` \u548c\u65b0\u521b\u5efa\u7684 `line3` \u6846\u5b9a\u7684\r\narea\u3002 \u8fd9\u4e09\u6761\u7ebf\u5c31\u662f\u8f93\u5165\u3002\u5982\u679c\u5168\u90e8\u9009\u4e2d\uff0c\u53ef\u4ee5\u4f7f\u7528 `'ALL'` \u53c2\u6570\u521b\u5efa area\u3002\r\n\r\n\u9996\u5148\uff0c\u60a8\u5fc5\u987b\u5728\u5706\u89d2\u533a\u57df\u91cd\u65b0\u9009\u62e9\u65b0\u521b\u5efa\u7684\u7ebf\u6761\u3002\u4e3a\u6b64\uff0c\u60a8\u53ef\u4ee5\u4f7f\u7528\r\n`fillet_radius` \u53c2\u6570\u548c\r\n`mapdl.lsel() <ansys.mapdl.core.Mapdl.lsel>`{.interpreted-text\r\nrole=\"meth\"} \u547d\u4ee4\u3002\r\n\r\n\u5bf9\u4e8e\u65b0\u521b\u5efa\u7684\u4e24\u6761\u76f4\u7ebf\uff0c\u957f\u5ea6\u4e0e `fillet_radius` \u503c\u76f8\u540c\u3002\u56e0\u6b64\uff0c\u53ef\u4ee5\u5728\r\n`mapdl.lsel() <ansys.mapdl.core.Mapdl.lsel>`{.interpreted-text\r\nrole=\"meth\"} \u547d\u4ee4\u4e2d\u4f7f\u7528\u957f\u5ea6\u53c2\u6570\u3002\r\n"
      ]
    },
    {
      "cell_type": "code",
      "execution_count": null,
      "metadata": {
        "collapsed": false
      },
      "outputs": [],
      "source": [
        "mapdl.allsel()\n\n# Select lines for the area\nmapdl.lsel(\"S\", \"LENGTH\", \"\", fillet_radius)"
      ]
    },
    {
      "cell_type": "markdown",
      "metadata": {},
      "source": [
        "\u6b64\u5916\uff0c\u60a8\u8fd8\u9700\u8981\u83b7\u53d6\u5706\u89d2\u7ebf\u672c\u8eab\uff08`line3`\uff09\u3002\u60a8\u53ef\u4ee5\u518d\u6b21\u4f7f\u7528\r\n`mapdl.lsel() <ansys.mapdl.core.Mapdl.lsel>`{.interpreted-text\r\nrole=\"meth\"} \u547d\u4ee4\uff0c \u5982\u679c\u6a21\u578b\u4e2d\u53ea\u6709\u4e00\u6761\u5177\u6709\u8be5\u534a\u5f84\u7684\u7ebf\uff0c\u53ef\u4ee5\u4f7f\u7528\r\n`'RADIUS'` \u53c2\u6570\uff0c\u6216\u8005\u66f4\u76f4\u63a5\u5730\u4f7f\u7528\u8be5\u7ebf\u7684\u53c2\u6570\u540d\u3002 \u6ce8\u610f `'A'`\r\n\u4ee5\u989d\u5916\u9009\u62e9\u9879\u76ee\u3002\r\n"
      ]
    },
    {
      "cell_type": "code",
      "execution_count": null,
      "metadata": {
        "collapsed": false
      },
      "outputs": [],
      "source": [
        "mapdl.lsel(\"A\", \"LINE\", \"\", line3)\n\n# plotting ares\nmapdl.lplot(vtk=True, cpos=\"xy\", show_line_numbering=True)"
      ]
    },
    {
      "cell_type": "markdown",
      "metadata": {},
      "source": [
        "\u7136\u540e\u4f7f\u7528 `mapdl.al() <ansys.mapdl.core.Mapdl.al>`{.interpreted-text\r\nrole=\"meth\"} \u547d\u4ee4\u4ece\u7ebf\u6761\u4e2d\u521b\u5efa area\u3002\r\n"
      ]
    },
    {
      "cell_type": "code",
      "execution_count": null,
      "metadata": {
        "collapsed": false
      },
      "outputs": [],
      "source": [
        "# Create the area\nmapdl.al(\"ALL\")  # \u6253\u5370\u65b0\u521b\u5efa\u533a\u57df\u7684 ID"
      ]
    },
    {
      "cell_type": "markdown",
      "metadata": {},
      "source": [
        "# Add areas together\r\n\r\n\u4f7f\u7528 `mapdl.aadd() <ansys.mapdl.core.Mapdl.aadd>`{.interpreted-text\r\nrole=\"meth\"} \u547d\u4ee4\u518d\u6b21\u8ffd\u52a0\u6240\u6709\u533a\u57df\u3002 \u56e0\u4e3a\u53ea\u6709\u4e24\u4e2a\u533a\u57df\u9700\u8981\u5408\u5e76\uff0c\u6240\u4ee5\u4f7f\u7528\r\n`'ALL'` \u53c2\u6570\u3002\r\n"
      ]
    },
    {
      "cell_type": "code",
      "execution_count": null,
      "metadata": {
        "collapsed": false
      },
      "outputs": [],
      "source": [
        "# Add the area to the main area\nmapdl.aadd(\"all\")\nmapdl.aplot(vtk=True, cpos=\"xy\", show_lines=True)"
      ]
    },
    {
      "cell_type": "markdown",
      "metadata": {},
      "source": [
        "# Create first pin hole\r\n\r\n\u7b2c\u4e00\u4e2a\u9500\u5b54\u4f4d\u4e8e\u7b2c\u4e00\u4e2a\u77e9\u5f62\u7684\u5de6\u4fa7\u3002\u56e0\u6b64\uff0c\u60a8\u53ef\u4ee5\u5229\u7528\u77e9\u5f62\u7684\u5c3a\u5bf8\u6765\u786e\u5b9a\u5706\u7684\u4f4d\u7f6e\u3002\r\n\r\n\u9500\u5b54\u7684 X \u503c\uff08\u4e2d\u5fc3\uff09\u4f4d\u4e8e `box1` \u7684\u7b2c\u4e00\u4e2a\u5750\u6807\u5904\uff08`X1`\uff09\u3002Y \u503c\u662f\u4e24\u4e2a `box1`\r\nY \u503c\u7684\u5e73\u5747\u503c\uff1a\r\n"
      ]
    },
    {
      "cell_type": "code",
      "execution_count": null,
      "metadata": {
        "collapsed": false
      },
      "outputs": [],
      "source": [
        "# \u521b\u5efa\u7b2c\u4e00\u4e2a\u9500\u5b54\npinhole_radius = 0.4\npinhole1_X = box1[0]\npinhole1_Y = (box1[2] + box1[3]) / 2\n\npinhole1 = mapdl.cyl4(pinhole1_X, pinhole1_Y, pinhole_radius)"
      ]
    },
    {
      "cell_type": "markdown",
      "metadata": {},
      "source": [
        "\u56e0\u4e3a\u6709\u4e24\u4e2a\u9500\u5b54\u5706\uff0c\u6240\u4ee5\u53ef\u4ee5\u4f7f\u7528\u8be5\u547d\u4ee4\u4e24\u6b21\u3002\r\n\r\n::: note\r\n::: title\r\nNote\r\n:::\r\n\r\n\u5176\u4e2d\u4e00\u4e9b\u533a\u57df\u88ab\u8bbe\u7f6e\u4e3a\u53c2\u6570\uff0c\u4ee5\u4fbf\u5728\u4ee5\u540e\u7684\u5206\u6790\u4e2d\u4f7f\u7528\u3002\u8fd9\u6837\uff0c\u60a8\u5c31\u53ef\u4ee5\u4f7f\u7528\r\n`mapdl.asll() <ansys.mapdl.core.Mapdl.asll>`{.interpreted-text\r\nrole=\"meth\"} \u547d\u4ee4\u521b\u5efa\u8fd9\u4e9b\u533a\u57df\u3002\r\n:::\r\n"
      ]
    },
    {
      "cell_type": "markdown",
      "metadata": {},
      "source": [
        "# Create second pin hole\r\n\r\n\u7b2c\u4e8c\u4e2a\u9500\u5b54\u4f4d\u4e8e\u7b2c\u4e8c\u4e2a\u957f\u65b9\u4f53\u7684\u5e95\u90e8\uff0c\u56e0\u6b64\u6211\u4eec\u53ef\u4ee5\u518d\u6b21\u4f7f\u7528\u957f\u65b9\u4f53 2\r\n\u7684\u5c3a\u5bf8\u6765\u5b9a\u4f4d\u5706\u3002 \u8be5\u9500\u5b54\u7684\u5c3a\u5bf8\u4e3a\uff1a\r\n"
      ]
    },
    {
      "cell_type": "code",
      "execution_count": null,
      "metadata": {
        "collapsed": false
      },
      "outputs": [],
      "source": [
        "pinhole2_X = (box2[0] + box2[1]) / 2\npinhole2_Y = box2[3]\n\npinhole2 = mapdl.cyl4(pinhole2_X, pinhole2_Y, pinhole_radius)\npinhole2_lines = mapdl.asll(\"S\", 0)"
      ]
    },
    {
      "cell_type": "markdown",
      "metadata": {},
      "source": [
        "# Subtract pin holes from bracket\r\n\r\n\u5982\u679c\u4f7f\u7528\r\n`mapdl.aplot() <ansys.mapdl.core.mapdl.aplot>`{.interpreted-text\r\nrole=\"meth\"} \u547d\u4ee4\u4e0e\u7ebf\u4e00\u8d77\u4f7f\u7528\uff0c\u6b64\u65f6\u5c06\u521b\u5efa\u4e24\u4e2a\u91cd\u53e0\u7684\u5706\u5f62\u533a\u57df\u3002 \u53ef\u4ee5\u4f7f\u7528\r\n`mapdl.asba() <ansys.mapdl.core.mapdl.asba>`{.interpreted-text\r\nrole=\"meth\"} \u547d\u4ee4\uff08\u7528\u4e8e\u51cf\u53bb area \u7684\u5e03\u5c14\u547d\u4ee4\uff09\u4ece\u957f\u65b9\u5f62\u4e2d\u5220\u9664\u5706\u3002\r\n"
      ]
    },
    {
      "cell_type": "code",
      "execution_count": null,
      "metadata": {
        "collapsed": false
      },
      "outputs": [],
      "source": [
        "# \u4ece\u652f\u67b6\u4e0a\u51cf\u53bb\u9500\u5b54 area\nmapdl.asba(\"all\", pinhole1)\nbracket = mapdl.asba(\"all\", pinhole2)\nmapdl.aplot(vtk=True, show_lines=True, cpos=\"xy\")"
      ]
    },
    {
      "cell_type": "markdown",
      "metadata": {},
      "source": [
        "# Model definition\r\n\r\n## Define material properties\r\n\r\n\u652f\u67b6\u53ea\u9700\u5b9a\u4e49\u4e00\u79cd\u6750\u6599\u5c5e\u6027\uff0c\u5373 A36 \u94a2\uff0c\u5e76\u7ed9\u51fa\u6768\u6c0f\u5f39\u6027\u6a21\u91cf\u548c\u6cca\u677e\u6bd4\u503c\u3002\r\n"
      ]
    },
    {
      "cell_type": "code",
      "execution_count": null,
      "metadata": {
        "collapsed": false
      },
      "outputs": [],
      "source": [
        "ex = 30e6  # Young's Modulus\nprxy = 0.27  # Poisson's ratio"
      ]
    },
    {
      "cell_type": "markdown",
      "metadata": {},
      "source": [
        "\u4f7f\u7528 `mapdl.mp() <ansys.mapdl.core.Mapdl.mp>`{.interpreted-text\r\nrole=\"meth\"} \u547d\u4ee4\u5728 PyMAPDL \u4e2d\u5b9a\u4e49\u6750\u6599\u5c5e\u6027\u3002\r\n"
      ]
    },
    {
      "cell_type": "code",
      "execution_count": null,
      "metadata": {
        "collapsed": false
      },
      "outputs": [],
      "source": [
        "mapdl.mp(\"EX\", 1, ex)\nmapdl.mp(\"PRXY\", 1, prxy)"
      ]
    },
    {
      "cell_type": "markdown",
      "metadata": {},
      "source": [
        "# Define element types and options\r\n\r\n\u60a8\u53ef\u4ee5\u4f7f\u7528 `mapdl.et() <ansys.mapdl.core.Mapdl.et>`{.interpreted-text\r\nrole=\"meth\"} \u547d\u4ee4\u6765\u9009\u62e9\u5355\u5143\u3002\r\n\r\n\u5728\u4efb\u4f55\u5206\u6790\u4e2d\uff0c\u60a8\u90fd\u8981\u4ece\u5355\u5143\u7c7b\u578b\u5e93\u4e2d\u9009\u62e9\u5355\u5143\uff0c\u5e76\u4e3a\u5206\u6790\u5b9a\u4e49\u5408\u9002\u7684\u5355\u5143\u3002\u5728\u672c\u4f8b\u4e2d\uff0c\u53ea\u4f7f\u7528\u4e86\u4e00\u79cd\u5355\u5143\u7c7b\u578b\uff1a[PLANE183]()\r\n\uff0c\u4e00\u79cd\u4e8c\u7ef4\u3001\u4e8c\u6b21\u65b9\u3001\u7ed3\u6784\u3001\u9ad8\u9636\u5355\u5143\u3002\r\n\r\n\u4f7f\u7528\u9ad8\u9636\u5355\u5143\u53ef\u4ee5\u83b7\u5f97\u6bd4\u4f4e\u9636\u5355\u5143\u66f4\u7c97\u7cd9\u7684\u7f51\u683c\uff0c\u540c\u65f6\u8fd8\u80fd\u4fdd\u6301\u6c42\u89e3\u7cbe\u5ea6\u3002\u6b64\u5916\uff0cMechanical\r\nAPDL\r\n\u8fd8\u80fd\u5728\u7f51\u683c\u4e2d\u751f\u6210\u4e00\u4e9b\u4e09\u89d2\u5f62\u5355\u5143\uff0c\u5426\u5219\u5728\u4f7f\u7528\u4f4e\u9636\u5355\u5143\u65f6\u5c31\u4f1a\u51fa\u73b0\u4e0d\u51c6\u786e\u7684\u60c5\u51b5\u3002\r\n\r\n## Options for [PLANE183]{.title-ref}\r\n\r\n\u6307\u5b9a\u5e26\u6709\u539a\u5ea6\u7684\u5e73\u9762\u5e94\u529b\u4f5c\u4e3a [PLANE183]() \u7684\u9009\u9879\u3002(\u539a\u5ea6\u5728 [Define real\r\nconstants]() \u4e2d\u5b9a\u4e49\u4e3a\u5b9e\u5e38\u6570\uff09\u3002\r\n\u4e3a\u5355\u5143\u884c\u4e3a\u9009\u62e9\u5e26\u6709\u539a\u5ea6\u9009\u9879\u7684\u5e73\u9762\u5e94\u529b\u3002\u539a\u5ea6\u9009\u9879\u901a\u8fc7\u5355\u5143 keyoption(3)\r\n\u8bbe\u7f6e\u3002\u66f4\u591a\u4fe1\u606f\uff0c\u8bf7\u53c2\u9605 Ansys \u5e2e\u52a9\u4e2d\u7684 [PLANE183]() \u5355\u5143\u5b9a\u4e49\u3002\r\n"
      ]
    },
    {
      "cell_type": "code",
      "execution_count": null,
      "metadata": {
        "collapsed": false
      },
      "outputs": [],
      "source": [
        "# \u5b9a\u4e49\u5177\u6709\u539a\u5ea6\u7684 ``PLANE183`` \u5355\u5143\u7c7b\u578b\nmapdl.et(1, \"PLANE183\", kop3=3) # return \u4e00\u4e2a int \u7c7b\u578b\u7684\u503c"
      ]
    },
    {
      "cell_type": "markdown",
      "metadata": {},
      "source": [
        "# Define real constants\r\n\r\n\u5047\u8bbe\u5e73\u9762\u5e94\u529b\u4e0e\u539a\u5ea6\u6709\u5173\uff0c\u8bf7\u5728 [PLANE183]() \u4e2d\u8f93\u5165\u539a\u5ea6\u4f5c\u4e3a\u5b9e\u5e38\u6570\uff1a\r\n\r\n\u60a8\u53ef\u4ee5\u4f7f\u7528 `mapdl.r() <ansys.mapdl.core.Mapdl.r>`{.interpreted-text\r\nrole=\"meth\"} \u547d\u4ee4\u6765\u8bbe\u7f6e\u5b9e\u5e38\u6570\u3002\r\n"
      ]
    },
    {
      "cell_type": "code",
      "execution_count": null,
      "metadata": {
        "collapsed": false
      },
      "outputs": [],
      "source": [
        "# \u8bbe\u7f6e\u5355\u5143\u539a\u5ea6\nthick = 0.5\nmapdl.r(1, thick)  # \u539a\u5ea6\u4e3a 0.5 \u957f\u5ea6\u5355\u4f4d"
      ]
    },
    {
      "cell_type": "markdown",
      "metadata": {},
      "source": [
        "# Mesh\r\n\r\n\u60a8\u53ef\u4ee5\u5728\u4e0d\u6307\u5b9a\u7f51\u683c\u5927\u5c0f\u63a7\u5236\u7684\u60c5\u51b5\u4e0b\u5bf9\u6a21\u578b\u8fdb\u884c\u7f51\u683c\u5212\u5206\u3002\u5982\u679c\u60a8\u4e0d\u786e\u5b9a\u5982\u4f55\u786e\u5b9a\u7f51\u683c\u5bc6\u5ea6\uff0c\u53ef\u4ee5\u8ba9\r\nMechanical APDL \u5e94\u7528\u9ed8\u8ba4\u7f51\u683c\u3002\r\n\u4f46\u5bf9\u4e8e\u6b64\u6a21\u578b\uff0c\u60a8\u9700\u8981\u6307\u5b9a\u4e00\u4e2a\u5168\u5c40\u5355\u5143\u5c3a\u5bf8\u6765\u63a7\u5236\u6574\u4f53\u7f51\u683c\u5bc6\u5ea6\u3002 \u4f7f\u7528\r\n`mapdl.esize() <ansys.mapdl.core.Mapdl.esize>`{.interpreted-text\r\nrole=\"meth\"} \u547d\u4ee4\u8bbe\u7f6e\u5168\u5c40\u5927\u5c0f\u63a7\u5236\u3002\u8bbe\u7f6e\u5927\u5c0f\u4e3a $0.5$\r\n\u6216\u7a0d\u5c0f\u7684\u503c\u4ee5\u6539\u5584\u7f51\u683c\u8d28\u91cf\u3002\r\n\r\n\u4f7f\u7528 `mapdl.amesh() <ansys.mapdl.core.Mapdl.amesh>`{.interpreted-text\r\nrole=\"meth\"}\r\n\u547d\u4ee4\u5c06\u8fd9\u4e9b\u533a\u57df\u7f51\u683c\u5316\u3002\u60a8\u7684\u7f51\u683c\u53ef\u80fd\u4e0e\u663e\u793a\u7684\u7f51\u683c\u7565\u6709\u4e0d\u540c\u3002\u5728\u540e\u5904\u7406\u8fc7\u7a0b\u4e2d\uff0c\u60a8\u53ef\u80fd\u4f1a\u770b\u5230\u7565\u6709\u4e0d\u540c\u7684\u7ed3\u679c\u3002\r\n\r\n\u73b0\u5728\u53ef\u4ee5\u4f7f\u7528\r\n`mapdl.eplot() <ansys.mapdl.core.Mapdl.eplot>`{.interpreted-text\r\nrole=\"meth\"} \u547d\u4ee4\u67e5\u770b\u7f51\u683c\u3002\r\n"
      ]
    },
    {
      "cell_type": "code",
      "execution_count": null,
      "metadata": {
        "collapsed": false
      },
      "outputs": [],
      "source": [
        "element_size = 0.5\nmapdl.esize(element_size)\nmapdl.amesh(bracket)\nmapdl.eplot(\n    vtk=True,\n    cpos=\"xy\",\n    show_edges=True,\n    show_axes=True,\n    line_width=2,\n    background=\"w\",\n)"
      ]
    },
    {
      "cell_type": "markdown",
      "metadata": {},
      "source": [
        "# Boundary conditions\r\n\r\n\u52a0\u8f7d\u662f `mapdl.solu() <ansys.mapdl.core.Mapdl.solu>`{.interpreted-text\r\nrole=\"meth\"} \u547d\u4ee4\u6216 APDL \u4e2d\u6c42\u89e3\u5668\u7684\u4e00\u90e8\u5206\u3002 \u4f46\u4e5f\u53ef\u4ee5\u4f7f\u7528\r\n`mapdl.prep7() <ansys.mapdl.core.Mapdl.prep7>`{.interpreted-text\r\nrole=\"meth\"} \u547d\u4ee4\u5728\u524d\u5904\u7406\u5668\u4e2d\u5b8c\u6210\u3002\r\n\r\n\u53ef\u4ee5\u901a\u8fc7\u8c03\u7528\r\n`mapdl.solution() <ansys.mapdl.core.solution.Solution>`{.interpreted-text\r\nrole=\"class\"} \u7c7b\u3001\u4f7f\u7528\r\n`mapdl.slashsolu() <ansys.mapdl.core.Mapdl.slashsolu>`{.interpreted-text\r\nrole=\"meth\"} \u547d\u4ee4 \u6216\u4f7f\u7528\r\n`mapdl.run(\"/solu\") <ansys.mapdl.core.Mapdl.run>`{.interpreted-text\r\nrole=\"meth\"} \u8c03\u7528 APDL `/SOLU` \u547d\u4ee4\u6765\u6fc0\u6d3b\u6c42\u89e3\u5668\u3002\r\n"
      ]
    },
    {
      "cell_type": "code",
      "execution_count": null,
      "metadata": {
        "collapsed": false
      },
      "outputs": [],
      "source": [
        "mapdl.allsel()\nmapdl.solution()"
      ]
    },
    {
      "cell_type": "markdown",
      "metadata": {},
      "source": [
        "\u4f7f\u7528 `mapdl.antype() <ansys.mapdl.core.Mapdl.antype>`{.interpreted-text\r\nrole=\"meth\"} \u547d\u4ee4\u8bbe\u7f6e\u5206\u6790\u7c7b\u578b\u3002\r\n"
      ]
    },
    {
      "cell_type": "code",
      "execution_count": null,
      "metadata": {
        "collapsed": false
      },
      "outputs": [],
      "source": [
        "mapdl.antype(\"STATIC\")"
      ]
    },
    {
      "cell_type": "markdown",
      "metadata": {},
      "source": [
        "# Apply displacement constraints\r\n\r\n\u8fd9\u662f\u4e3a\u6a21\u578b\u6dfb\u52a0\u8fb9\u754c\u6761\u4ef6\u7684\u5730\u65b9\u3002\u9996\u5148\uff0c\u60a8\u9700\u8981\u5728\u7b2c\u4e00\u4e2a\u9500\u5b54\u5904\u8bbe\u7f6e\r\ndisplacement = 0 \u6765\u56fa\u5b9a\u6a21\u578b\u3002\u60a8\u53ef\u4ee5\u76f4\u63a5\u5728\u7ebf\u6761\u4e0a\u5e94\u7528\u4f4d\u79fb\u7ea6\u675f\u3002\r\n\r\n\u5982\u679c\u4e0d\u4f7f\u7528\u56fe\u5f62\u754c\u9762\uff0c\u5219\u9700\u8981\u91cd\u65b0\u7ed8\u5236\u7ebf\u6761\u3002\u6216\u8005\u4f7f\u7528\u5e03\u5c14\u8fd0\u7b97\uff0c\u6839\u636e\u9500\u5b54\u4f4d\u7f6e/\u65b9\u6846\u53c2\u6570\u751f\u6210\u7ebf\u6761\u3002\r\n\u4f7f\u7528\u521b\u5efa\u7684\u53c2\u6570\uff0c\u53ef\u4ee5\u9009\u62e9\u7ebf\u6761\u5e76\u56fa\u5b9a\u4e00\u7aef\u3002\r\n\r\n\u4f7f\u7528 `mapdl.lsel() <ansys.mapdl.core.Mapdl.lsel>`{.interpreted-text\r\nrole=\"meth\"} \u547d\u4ee4\u548c [pinehole1]{.title-ref}\r\n\u53c2\u6570\u9009\u53d6\u5de6\u4fa7\u9500\u5b54\u5468\u56f4\u7684\u56db\u6761\u7ebf\u3002\r\n"
      ]
    },
    {
      "cell_type": "code",
      "execution_count": null,
      "metadata": {
        "collapsed": false
      },
      "outputs": [],
      "source": [
        "bc1 = mapdl.lsel(\n    \"S\", \"LOC\", \"X\", pinhole1_X - pinhole_radius, pinhole1_X + pinhole_radius\n)\nprint(f\"Number of lines selected : {len(bc1)}\")"
      ]
    },
    {
      "cell_type": "markdown",
      "metadata": {},
      "source": [
        "\u7136\u540e\u5728\u52a0\u8f7d\u65f6\uff0c\u4f7f\u7528\r\n`mapdl.nsll() <ansys.mapdl.core.Mapdl.nsll>`{.interpreted-text\r\nrole=\"meth\"} \u547d\u4ee4\u9009\u62e9\u5e76\u5c06\u8fb9\u754c\u6761\u4ef6\u5e94\u7528\u4e8e\u8fde\u63a5\u5230\u8fd9\u4e9b\u7ebf\u6761\u7684\u8282\u70b9\u3002\r\n"
      ]
    },
    {
      "cell_type": "code",
      "execution_count": null,
      "metadata": {
        "collapsed": false
      },
      "outputs": [],
      "source": [
        "fixNodes = mapdl.nsll(type_=\"S\")"
      ]
    },
    {
      "cell_type": "markdown",
      "metadata": {},
      "source": [
        "\u63a5\u4e0b\u6765\u4f7f\u7528 `mapdl.d() <ansys.mapdl.core.Mapdl.d>`{.interpreted-text\r\nrole=\"meth\"} \u547d\u4ee4\u5c06\u4f4d\u79fb\u8bbe\u4e3a\u96f6\uff08\u56fa\u5b9a\u7ea6\u675f\uff09\u3002\r\n"
      ]
    },
    {
      "cell_type": "code",
      "execution_count": null,
      "metadata": {
        "collapsed": false
      },
      "outputs": [],
      "source": [
        "# \u8bbe\u7f6e\u8fb9\u754c\u6761\u4ef6\nmapdl.d(\"ALL\", \"ALL\", 0)  # ``0`` \u4e0d\u662f\u5fc5\u8981\u7684\uff0c\u56e0\u4e3a\u9ed8\u8ba4\u503c\u5373\u662f 0\n\n# \u518d\u6b21\u9009\u62e9\u6240\u6709\u5185\u5bb9\nmapdl.allsel()"
      ]
    },
    {
      "cell_type": "markdown",
      "metadata": {},
      "source": [
        "# Apply pressure load\r\n\r\n\u5728\u53f3\u4e0b\u65b9\u7684\u9500\u5b54\u4e0a\u65bd\u52a0\u9525\u5f62\u538b\u529b\u8f7d\u8377\u3002\u5728\u8fd9\u91cc\uff0c\u9525\u5f62\u662f\u6307\u7ebf\u6027\u53d8\u5316\u3002 \u5728 MAPDL\r\n\u4e2d\u521b\u5efa\u5706\u65f6\uff0c\u6709\u56db\u6761\u7ebf\u5b9a\u4e49\u4e86\u5706\u7684\u5468\u957f\uff1b\u56e0\u6b64\uff0c\u5728\u6784\u6210\u5706\u4e0b\u534a\u90e8\u7684\u4e24\u6761\u7ebf\u4e0a\u65bd\u52a0\u538b\u529b\u3002\r\n\u7531\u4e8e\u538b\u529b\u4f1a\u4ece\u5706\u5e95\u90e8\u7684\u6700\u5927\u503c\uff08500 psi\uff09\u9010\u6e10\u51cf\u5c0f\u5230\u4e24\u4fa7\u7684\u6700\u5c0f\u503c\uff0850\r\npsi\uff09\uff0c\u56e0\u6b64\u5e94\u5206\u4e24\u6b65\u65bd\u52a0\u538b\u529b\uff0c\u6bcf\u6761\u7ebf\u7684\u51cf\u5c0f\u503c\u76f8\u53cd\u3002\r\n"
      ]
    },
    {
      "cell_type": "code",
      "execution_count": null,
      "metadata": {
        "collapsed": false
      },
      "outputs": [],
      "source": [
        "p1 = 50\np2 = 500"
      ]
    },
    {
      "cell_type": "markdown",
      "metadata": {},
      "source": [
        "MAPDL \u5bf9\u538b\u529b\u52a0\u8f7d\u7684\u7ea6\u5b9a\u662f\uff0c\u6b63\u52a0\u8f7d\u503c\u4ee3\u8868\u5bf9\u8868\u9762\u7684\u538b\u529b\uff08\u538b\u7f29\uff09\u3002\r\n\r\n\u8981\u9009\u53d6\u7ebf\u6761\uff0c\u8bf7\u4f7f\u7528\u524d\u4e00\u4e2a\u4ee3\u7801\u5355\u5143\u683c\u4e2d\u4f7f\u7528\u7684\r\n`mapdl.lsel() <ansys.mapdl.core.Mapdl.lsel>`{.interpreted-text\r\nrole=\"meth\"} \u547d\u4ee4\uff0c \u7136\u540e\u4f7f\u7528\r\n`mapdl.nsel() <ansys.mapdl.core.Mapdl.nsel>`{.interpreted-text\r\nrole=\"meth\"} \u547d\u4ee4\u5c06\u7ebf\u6761\u8f6c\u6362\u4e3a\u8282\u70b9\u9009\u62e9\u3002\r\n\r\n\u8bf7\u6ce8\u610f\uff0c\u6211\u4eec\u5bf9\u5168\u5706\u7684\u56db\u5206\u4e4b\u4e8c\u8fdb\u884c\u4e86\u7565\u4e3a\u590d\u6742\u7684\u6311\u9009\u3002\u9009\u62e9\u7ebf\u6761\u7684\u65b9\u6cd5\u662f\u9009\u62e9\u7b2c\u4e8c\u4e2a\u9500\u5b54\u5706\u7684\u4e0b\u534a\u90e8\u5206\u3002\r\n"
      ]
    },
    {
      "cell_type": "code",
      "execution_count": null,
      "metadata": {
        "collapsed": false
      },
      "outputs": [],
      "source": [
        "mapdl.lsel(\"S\", \"LOC\", \"Y\", pinhole2_Y - pinhole_radius, pinhole2_Y)"
      ]
    },
    {
      "cell_type": "markdown",
      "metadata": {},
      "source": [
        "\u73b0\u5728\u4ece\u8be5\u9009\u533a\u4e2d\u91cd\u65b0\u9009\u53d6\u5c0f\u4e8e\u9500\u5b54 X \u4e2d\u5fc3\u7684\u7ebf\u6761\u3002\r\n"
      ]
    },
    {
      "cell_type": "code",
      "execution_count": null,
      "metadata": {
        "collapsed": false
      },
      "outputs": [],
      "source": [
        "mapdl.lsel(\"R\", \"LOC\", \"X\", 0, pinhole2_X)\n\nmapdl.lplot(vtk=True, cpos=\"xy\")"
      ]
    },
    {
      "cell_type": "markdown",
      "metadata": {},
      "source": [
        "\u627e\u5230\u6b63\u786e\u7684\u7ebf\u6761\u540e\uff0c\u4f7f\u7528\r\n`mapdl.sf() <ansys.mapdl.core.Mapdl.sf>`{.interpreted-text role=\"meth\"}\r\n\u547d\u4ee4\u52a0\u8f7d\u5177\u6709\u4e0d\u540c\u8868\u9762\u8f7d\u8377\u7684\u7ebf\u6761\u3002\r\n"
      ]
    },
    {
      "cell_type": "code",
      "execution_count": null,
      "metadata": {
        "collapsed": false
      },
      "outputs": [],
      "source": [
        "# \u5728\u8fd9\u91cc\uff0c\u60a8\u5e94\u8be5\u52a0\u8f7d\u7b2c\u4e8c\u4e2a\u9500\u5b54\u4e0b\u534a\u90e8\u5206\u7684\u5de6\u4fa7\u3002\nmapdl.sf(\"ALL\", \"PRES\", p1, p2)\nmapdl.allsel()"
      ]
    },
    {
      "cell_type": "markdown",
      "metadata": {},
      "source": [
        "\u5bf9\u7b2c\u4e8c\u4e2a\u9500\u5b54\u91cd\u590d\u4e0a\u8ff0\u6b65\u9aa4\u3002\r\n"
      ]
    },
    {
      "cell_type": "code",
      "execution_count": null,
      "metadata": {
        "collapsed": false
      },
      "outputs": [],
      "source": [
        "mapdl.lsel(\"S\", \"LOC\", \"Y\", pinhole2_Y - pinhole_radius, pinhole2_Y)\nmapdl.lsel(\"R\", \"LOC\", \"X\", pinhole2_X, pinhole2_X + pinhole_radius)\n\nmapdl.lplot(\n    vtk=True,\n    cpos=\"xy\",\n    show_line_numbering=True,\n)\n\nmapdl.sf(\"ALL\", \"PRES\", p2, p1)\nmapdl.allsel()"
      ]
    },
    {
      "cell_type": "markdown",
      "metadata": {},
      "source": [
        "# Solution\r\n\r\n\u8981\u6c42\u89e3 Ansys FE \u5206\u6790\uff0c\u5fc5\u987b\u4f7f\u7528\r\n`mapdl.solution() <ansys.mapdl.core.solution.Solution>`{.interpreted-text\r\nrole=\"class\"} \u7c7b \u6216\r\n`mapdl.slashsolu() <ansys.mapdl.core.Mapdl.slashsolu>`{.interpreted-text\r\nrole=\"meth\"} \u547d\u4ee4\u6fc0\u6d3b\u6c42\u89e3\u5668\u3002\u8fd9\u5df2\u5728\u524d\u9762\u51e0\u6b65\u4e2d\u5b8c\u6210\u3002\r\n\r\n\u53ef\u4ee5\u4f7f\u7528\r\n`mapdl.solve() <ansys.mapdl.core.Mapdl.solve>`{.interpreted-text\r\nrole=\"meth\"} \u547d\u4ee4\u6c42\u89e3\u6a21\u578b\u4e86\u3002\r\n"
      ]
    },
    {
      "cell_type": "code",
      "execution_count": null,
      "metadata": {
        "collapsed": false
      },
      "outputs": [],
      "source": [
        "# \u6c42\u89e3\u6a21\u578b\noutput = mapdl.solve()\nprint(output)"
      ]
    },
    {
      "cell_type": "markdown",
      "metadata": {},
      "source": [
        "Mechanical APDL \u5728\u6570\u636e\u5e93\u548c\u7ed3\u679c\u6587\u4ef6 `Jobname.RST`{.interpreted-text\r\nrole=\"file\"} \u4e2d\u5b58\u50a8\u6b64\u5355\u8f7d\u8377\u6b65\u95ee\u9898\u7684\u7ed3\u679c\uff08\u6216\u5bf9\u4e8e\u70ed\u95ee\u9898\u5b58\u50a8\r\n`Jobname.RTH`{.interpreted-text role=\"file\"} \u6216\u5bf9\u4e8e\u78c1\u95ee\u9898\u5b58\u50a8\r\n`Jobname.RMG`{.interpreted-text role=\"file\"}\uff09\u3002\r\n\u6570\u636e\u5e93\u5728\u4efb\u4f55\u7ed9\u5b9a\u65f6\u95f4\u53ea\u80fd\u5305\u542b\u4e00\u7ec4\u7ed3\u679c\uff0c\u56e0\u6b64\u5728\u591a\u52a0\u8f7d\u6b65\u6216\u591a\u5b50\u6b65\u5206\u6790\u4e2d\uff0cMechanical\r\nAPDL \u4ec5\u5728\u6570\u636e\u5e93\u4e2d\u5b58\u50a8\u6700\u7ec8\u89e3\u51b3\u65b9\u6848\u3002\r\n\r\nMechanical APDL \u5c06\u6240\u6709\u6c42\u89e3\u7ed3\u679c\u5b58\u50a8\u5728\u7ed3\u679c\u6587\u4ef6\u4e2d\u3002\r\n\r\n# Review the results\r\n\r\n\u8fd9\u4e00\u6b65\u4ee3\u8868\u540e\u5904\u7406\u9636\u6bb5\u7684\u5f00\u59cb\u3002\r\n\r\n::: note\r\n::: title\r\nNote\r\n:::\r\n\r\n\u7531\u4e8e\u7f51\u683c\u7684\u5dee\u5f02\uff0c\u60a8\u770b\u5230\u7684\u7ed3\u679c\u53ef\u80fd\u4e0e\u663e\u793a\u7684\u7ed3\u679c\u7565\u6709\u4e0d\u540c\u3002\r\n:::\r\n\r\n## Enter the postprocessor\r\n\r\nAnsys APDL \u540e\u5904\u7406\u5668\u662f\u4f7f\u7528\r\n`mapdl.post1() <ansys.mapdl.core.Mapdl.post1>`{.interpreted-text\r\nrole=\"meth\"} \u547d\u4ee4\u8c03\u7528\u7684\u72ec\u7acb\u5904\u7406\u5668\u3002\r\n"
      ]
    },
    {
      "cell_type": "code",
      "execution_count": null,
      "metadata": {
        "collapsed": false
      },
      "outputs": [],
      "source": [
        "mapdl.post1()"
      ]
    },
    {
      "cell_type": "markdown",
      "metadata": {},
      "source": [
        "# Plot the deformed shape\r\n\r\n\u6b64\u5904 `mapdl.result <ansys.mapdl.core.Mapdl.result>`{.interpreted-text\r\nrole=\"class\"} \u7c7b\u7528\u4e8e\u68c0\u7d22\u7ed3\u679c\u548c\u7ed8\u56fe\u3002\r\n"
      ]
    },
    {
      "cell_type": "code",
      "execution_count": null,
      "metadata": {
        "collapsed": false
      },
      "outputs": [],
      "source": [
        "# \u7ed8\u5236\u4f4d\u79fb\u7ed3\u679c\nresult = mapdl.result\nresult_set = 0  # \u7ed8\u5236\u7b2c\u4e00\u4e2a\u8377\u8f7d\u6b65\u7ed3\u679c\ndisp_fact = 1e10\nresult.plot_nodal_displacement(\n    result_set,\n    cpos=\"xy\",\n    displacement_factor=5,\n    show_displacement=True,\n    show_edges=True,\n)"
      ]
    },
    {
      "cell_type": "markdown",
      "metadata": {},
      "source": [
        "# Plot the von Mises equivalent stress\r\n\r\n\u60a8\u8fd8\u53ef\u4ee5\u4f7f\u7528\r\n`mapdl.plot_principal_nodal_stress() <ansys.mapdl.core.Mapdl.plot_principal_nodal_stress>`{.interpreted-text\r\nrole=\"meth\"} \u547d\u4ee4\u751f\u6210\u5e94\u529b\u56fe\u3002\r\n"
      ]
    },
    {
      "cell_type": "code",
      "execution_count": null,
      "metadata": {
        "collapsed": false
      },
      "outputs": [],
      "source": [
        "result.plot_principal_nodal_stress(\n    0,\n    \"SEQV\",\n    cpos=\"xy\",\n    background=\"w\",\n    text_color=\"k\",\n    add_text=True,\n    show_edges=True,\n)"
      ]
    },
    {
      "cell_type": "markdown",
      "metadata": {},
      "source": [
        "\u83b7\u53d6 von Mises \u5e94\u529b\u3002\r\n"
      ]
    },
    {
      "cell_type": "code",
      "execution_count": null,
      "metadata": {
        "collapsed": false
      },
      "outputs": [],
      "source": [
        "nnum, stress = result.principal_nodal_stress(0) # \u8fd9\u91cc\u8fd4\u56de\u7684\u662f\u4e00\u4e2a tuple \n\n# Von Mises \u5e94\u529b\u662f\u5e94\u529b\u7ed3\u679c\u4e2d\u7684\u6700\u540e\u4e00\u5217\nvon_mises = stress[:, -1]"
      ]
    },
    {
      "cell_type": "markdown",
      "metadata": {},
      "source": [
        "# List reaction solution\r\n\r\n\u8981\u5217\u51fa FY \u53cd\u5e94\u529b\uff0c\u8bf7\u4f7f\u7528 APDL\r\n`mapdl.prrsol() <ansys.mapdl.core.Mapdl.prrsol>`{.interpreted-text\r\nrole=\"meth\"} \u547d\u4ee4\uff0c\u8be5\u547d\u4ee4\u4f1a\u6253\u5370\u53d7\u7ea6\u675f\u7684\u8282\u70b9\u53cd\u529b\u3002\r\n\r\n\u60a8\u53ef\u4ee5\u4f7f\u7528\r\n`to_dataframe <ansys.mapdl.core.commands.CommandListingOutput>`{.interpreted-text\r\nrole=\"meth\"} \u547d\u4ee4\u5c06\u8f93\u51fa\u8f6c\u6362\u4e3a dataframe \uff0c\u4ee5\u4fbf\u8fdb\u884c\u66f4\u9759\u6001\u7684\u6253\u5370\uff1a\r\n"
      ]
    },
    {
      "cell_type": "code",
      "execution_count": null,
      "metadata": {
        "collapsed": false
      },
      "outputs": [],
      "source": [
        "reactForces = mapdl.prrsol(lab=\"FY\").to_dataframe(columns=[\"NODE\", \"FY\"])\nprint(reactForces)"
      ]
    },
    {
      "cell_type": "markdown",
      "metadata": {},
      "source": [
        "\u663e\u793a\u7684\u6570\u503c\u5177\u6709\u4ee3\u8868\u6027\uff0c\u53ef\u80fd\u4e0e\u60a8\u83b7\u5f97\u7684\u6570\u503c\u4e0d\u540c\u3002\u5728\u4e00\u822c\u540e\u5904\u7406\u5668\u4e2d\uff0c\u8fd8\u6709\u8bb8\u591a\u5176\u4ed6\u9009\u9879\u53ef\u7528\u4e8e\u67e5\u770b\u7ed3\u679c\u3002\r\n\u60a8\u53ef\u4ee5\u5728\u5176\u4ed6\u6559\u7a0b\u4e2d\u770b\u5230\u5176\u4e2d\u4e00\u4e9b\u9009\u9879\uff0c\u5982 [Ansys \u6559\u7a0b\u6307\u5357]() (\u8fd9\u4e2a\u597d\u50cf\u9700\u8981\r\nAnsys \u8d26\u53f7\u624d\u80fd\u770b)\u3002\r\n"
      ]
    },
    {
      "cell_type": "markdown",
      "metadata": {},
      "source": [
        "# Exit Mechanical APDL\r\n\r\n\u5b8c\u6210\u540e\u9000\u51fa Mechanical APDL\u3002\r\n"
      ]
    },
    {
      "cell_type": "code",
      "execution_count": null,
      "metadata": {
        "collapsed": false
      },
      "outputs": [],
      "source": [
        "mapdl.exit()"
      ]
    },
    {
      "cell_type": "markdown",
      "metadata": {},
      "source": [
        "\r\n"
      ]
    }
  ],
  "metadata": {
    "kernelspec": {
      "display_name": "Python 3",
      "language": "python",
      "name": "python3"
    },
    "language_info": {
      "codemirror_mode": {
        "name": "ipython",
        "version": 3
      },
      "file_extension": ".py",
      "mimetype": "text/x-python",
      "name": "python",
      "nbconvert_exporter": "python",
      "pygments_lexer": "ipython3",
      "version": "3.10.1"
    }
  },
  "nbformat": 4,
  "nbformat_minor": 0
}