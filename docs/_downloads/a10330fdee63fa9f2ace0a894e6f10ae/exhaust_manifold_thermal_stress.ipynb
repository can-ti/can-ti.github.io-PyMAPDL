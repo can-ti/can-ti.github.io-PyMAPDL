{
  "cells": [
    {
      "cell_type": "markdown",
      "metadata": {},
      "source": [
        "# \u6392\u6c14\u6b67\u7ba1\u7684\u70ed\u7ed3\u6784\u5206\u6790 {#exhaust_mainfold_thermal_stress}\r\n\r\n\u672c\u4f8b\u8bf4\u660e\u5982\u4f55\u6620\u5c04 CFD \u5206\u6790\u7ed3\u679c\u5e76\u6267\u884c\u6709\u9650\u5143 (FE) \u5206\u6790\u3002\r\n\r\n## Objective\r\n\r\n\u5728\u672c\u4f8b\u4e2d\uff0c\u6211\u4eec\u5c06\u8fdb\u884c\u6709\u9650\u5143\u5206\u6790\uff0c\u8ba1\u7b97\u6392\u6c14\u6b67\u7ba1\u4e2d\u4ea7\u751f\u7684\u70ed\u5e94\u529b\u3002\u6b67\u7ba1\u7531\u7ed3\u6784\u94a2\u5236\u6210\uff0c\u5176\u4e2d\u7684\u6e29\u5ea6\u5206\u5e03\u901a\u8fc7\r\nCFD \u8fd0\u884c\u83b7\u5f97\u3002 \u6211\u4eec\u5bfc\u5165\u8fd9\u4e9b\u6570\u636e\u5e76\u5c06\u5176\u6620\u5c04\u5230 FE\r\n\u7f51\u683c\u4e0a\uff0c\u7136\u540e\u4f7f\u7528\u9ad8\u65af\u63d2\u503c\u5185\u6838\u5b9a\u4e49\u6bcf\u4e2a\u8282\u70b9\u7684\u70ed\u8d1f\u8377\u3002\r\n\r\n![Exhaust Manifold CFD Results](../../../images/manifold.gif){.align-center\r\nwidth=\"400px\"}\r\n\r\n## Procedure\r\n\r\n-   \u542f\u52a8 MAPDL \u5b9e\u4f8b\r\n-   \u5bfc\u5165\u51e0\u4f55\u4f53\u3001\u5206\u914d\u6750\u6599\u5c5e\u6027\u5e76\u751f\u6210 FE \u7f51\u683c\u3002\r\n-   \u5bfc\u5165\u6e29\u5ea6\u5206\u5e03\u5e76\u5c06\u5176\u6620\u5c04\u5230 FE \u7f51\u683c\u4e0a\r\n-   \u5b9a\u4e49\u8fb9\u754c\u6761\u4ef6\u5e76\u4f7f\u7528\u5bfc\u5165\u7684\u6e29\u5ea6\u5206\u5e03\u6765\u5b9a\u4e49\u70ed\u8d1f\u8377\u3002\r\n-   \u6c42\u89e3\u6a21\u578b\u5e76\u7ed8\u5236\u76f8\u5173\u7ed3\u679c\u3002\r\n\r\n## Additional Packages used\r\n\r\n-   [Numpy]() for using data as arrays\r\n-   [Pandas]() to import csv file (to install use: **pip install\r\n    pandas**)\r\n-   [PyVista]() for performing Gaussian interpolation\r\n\r\n## Boundary Conditions\r\n\r\n-   Highlighted faces are fully constrained.\r\n\r\n![Boundary Conditions used for FE Analysis](../../../images/manifold_boundary_conditions.png){.align-center\r\nwidth=\"800px\"}\r\n"
      ]
    },
    {
      "cell_type": "markdown",
      "metadata": {},
      "source": [
        "# Import all necessary modules and launch an instance of MAPDL\r\n"
      ]
    },
    {
      "cell_type": "code",
      "execution_count": null,
      "metadata": {
        "collapsed": false
      },
      "outputs": [],
      "source": [
        "import numpy as np\nimport pandas as pd\nimport pyvista as pv\n\nfrom ansys.mapdl.core import launch_mapdl\nfrom ansys.mapdl.core.examples import download_manifold_example_data\n\n# start mapdl\nmapdl = launch_mapdl()\nprint(mapdl)"
      ]
    },
    {
      "cell_type": "markdown",
      "metadata": {},
      "source": [
        "# Import geometry, assign material properties and generate a mesh.\r\n"
      ]
    },
    {
      "cell_type": "code",
      "execution_count": null,
      "metadata": {
        "collapsed": false
      },
      "outputs": [],
      "source": [
        "# download the necessary files\npaths = download_manifold_example_data()\ngeometry = paths[\"geometry\"]\nmapping_data = paths[\"mapping_data\"]\n\n# reset mapdl & import geometry\nmapdl.clear()\nmapdl.input(geometry)\n\n# Define element attributes\n# Second-order tetrahedral elements (SOLID187)\nmapdl.prep7()\nmapdl.et(1, \"SOLID187\")\n\n# Define material properties of structural steel\nE = 2e11  # Youngs modulus\nNU = 0.3  # Poisson's ratio\nCTE = 1.2e-5  # Coeff. of thermal expansion\nmapdl.mp(\"EX\", 1, E)\nmapdl.mp(\"PRXY\", 1, NU)\nmapdl.mp(\"ALPX\", 1, CTE)\n\n# Define mesh controls and generate mesh\nmapdl.esize(0.0075)\nmapdl.vmesh(\"all\")\n\n# Save mesh as VTK object\nprint(mapdl.mesh)\ngrid = mapdl.mesh.grid  # save mesh as a VTK object"
      ]
    },
    {
      "cell_type": "markdown",
      "metadata": {},
      "source": [
        "# Import and map temperature data to FE mesh\r\n"
      ]
    },
    {
      "cell_type": "code",
      "execution_count": null,
      "metadata": {
        "collapsed": false
      },
      "outputs": [],
      "source": [
        "# Import csv file and save data to a NumPy array\ntemperature_file = pd.read_csv(mapping_data, sep=\",\", header=None, low_memory=False)\ntemperature_data = temperature_file.values  # Save data to a NumPy array\nnd_temp_data = temperature_data[1:, 1:].astype(float)  # Change data type to Float\n\n# Map temperature data to FE mesh\n# Convert imported data into PolyData format\nwrapped = pv.PolyData(nd_temp_data[:, :3])  # Convert NumPy array to PolyData format\nwrapped[\"temperature\"] = nd_temp_data[\n    :, 3\n]  # Add a scalar variable 'temperature' to PolyData\n\n# Perform data mapping\ninter_grid = grid.interpolate(\n    wrapped,\n    sharpness=5,\n    radius=0.0001,\n    strategy=\"closest_point\",\n    progress_bar=True,\n)  # Map the imported data to MAPDL grid\ninter_grid.plot(show_edges=False)  # Plot the interpolated data on MAPDL grid\ntemperature_load_val = pv.convert_array(\n    pv.convert_array(inter_grid.active_scalars)\n)  # Save temperatures interpolated to each node as NumPy array\nnode_num = inter_grid.point_data[\"ansys_node_num\"]  # Save node numbers as NumPy array"
      ]
    },
    {
      "cell_type": "markdown",
      "metadata": {},
      "source": [
        "# Apply loads and boundary conditions and solve the model\r\n"
      ]
    },
    {
      "cell_type": "code",
      "execution_count": null,
      "metadata": {
        "collapsed": false
      },
      "outputs": [],
      "source": [
        "# Read all nodal coords. to an array & extract the X and Y min. bounds\narray_nodes = mapdl.mesh.nodes\nXmin = np.amin(array_nodes[:, 0])\nYmin = np.amin(array_nodes[:, 1])\n\n# Enter /SOLU processor to apply loads and BCs\nmapdl.finish()\nmapdl.slashsolu()\n\n# Enter non-interactive mode to assign thermal load at each node using imported data\nwith mapdl.non_interactive:\n    for node, temp in zip(node_num, temperature_load_val):\n        mapdl.bf(node, \"TEMP\", temp)\n# Use the X and Y min. bounds to select nodes from five surfaces that are to be fixed and created a component and fix all DOFs.\nmapdl.nsel(\"s\", \"LOC\", \"X\", Xmin)  # Select all nodes whose X coord.=Xmin\nmapdl.nsel(\n    \"a\", \"LOC\", \"Y\", Ymin\n)  # Select all nodes whose Y coord.=Ymin and add to previous selection\nmapdl.cm(\"fixed_nodes\", \"NODE\")  # Create a nodal component 'fixed_nodes'\nmapdl.allsel()  # Revert active selection to full model\nmapdl.d(\n    \"fixed_nodes\", \"all\", 0\n)  # Impose fully fixed constraint on component created earlier\n\n# Solve the model\noutput = mapdl.solve()\nprint(output)"
      ]
    },
    {
      "cell_type": "markdown",
      "metadata": {},
      "source": [
        "# Post-processing\r\n"
      ]
    },
    {
      "cell_type": "code",
      "execution_count": null,
      "metadata": {
        "collapsed": false
      },
      "outputs": [],
      "source": [
        "# Enter post-processor\nmapdl.post1()\nmapdl.set(1, 1)  # Select first load step\nmapdl.post_processing.plot_nodal_eqv_stress()  # Plot equivalent stress"
      ]
    },
    {
      "cell_type": "markdown",
      "metadata": {},
      "source": [
        "# Exit MAPDL instance\r\n"
      ]
    },
    {
      "cell_type": "code",
      "execution_count": null,
      "metadata": {
        "collapsed": false
      },
      "outputs": [],
      "source": [
        "mapdl.exit()"
      ]
    }
  ],
  "metadata": {
    "kernelspec": {
      "display_name": "Python 3",
      "language": "python",
      "name": "python3"
    },
    "language_info": {
      "codemirror_mode": {
        "name": "ipython",
        "version": 3
      },
      "file_extension": ".py",
      "mimetype": "text/x-python",
      "name": "python",
      "nbconvert_exporter": "python",
      "pygments_lexer": "ipython3",
      "version": "3.10.1"
    }
  },
  "nbformat": 4,
  "nbformat_minor": 0
}