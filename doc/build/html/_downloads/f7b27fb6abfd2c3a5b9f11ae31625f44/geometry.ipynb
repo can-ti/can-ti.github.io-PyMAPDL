{
  "cells": [
    {
      "cell_type": "markdown",
      "metadata": {},
      "source": [
        "\n\n# \u7ed8\u56fe\u548c\u7f51\u683c\u8bbf\u95ee\n\nPyMAPDL \u53ef\u4ee5\u52a0\u8f7d\u57fa\u672c\u7684 IGES \u51e0\u4f55\u56fe\u5f62\u8fdb\u884c\u5206\u6790\u3002\n\n\u672c\u793a\u4f8b\u6f14\u793a\u4e86\u5982\u4f55\u5c06\u57fa\u672c\u51e0\u4f55\u56fe\u5f62\u52a0\u8f7d\u5230 MAPDL \u4e2d\u8fdb\u884c\u5206\u6790\uff0c\u5e76\u6f14\u793a\u4e86\u5982\u4f55\u4f7f\u7528\u5185\u7f6e\u7684 Python \u7279\u5b9a\u7ed8\u56fe\u529f\u80fd\u3002\n\n\u8be5\u793a\u4f8b\u8fd8\u6f14\u793a\u4e86 PyMAPDL \u7684\u4e00\u4e9b\u66f4\u9ad8\u7ea7\u529f\u80fd\uff0c\u5305\u62ec\u901a\u8fc7 VTK \u76f4\u63a5\u8bbf\u95ee\u7f51\u683c\u3002\n"
      ]
    },
    {
      "cell_type": "code",
      "execution_count": null,
      "metadata": {
        "collapsed": false
      },
      "outputs": [],
      "source": [
        "import numpy as np\n\nfrom ansys.mapdl import core as pymapdl\nfrom ansys.mapdl.core import examples\n\nmapdl = pymapdl.launch_mapdl()"
      ]
    },
    {
      "cell_type": "markdown",
      "metadata": {},
      "source": [
        "## Load Geometry\n\u5728\u8fd9\u91cc\uff0c\u6211\u4eec\u4e0b\u8f7d\u4e00\u4e2a\u7b80\u5355\u7684\u652f\u67b6 IGES \u6587\u4ef6\u5e76\u5c06\u5176\u52a0\u8f7d\u5230 MAPDL \u4e2d\u3002\u6ce8\u610f ``igesin`` \u5fc5\u987b\u5728 AUX15 \u8fdb\u7a0b\u4e2d\u3002\n\n"
      ]
    },
    {
      "cell_type": "code",
      "execution_count": null,
      "metadata": {
        "collapsed": false
      },
      "outputs": [],
      "source": [
        "# \u6ce8\u610f\uff0c\u8be5\u65b9\u6cd5\u53ea\u8fd4\u56de\u6587\u4ef6\u8def\u5f84\nbracket_file = examples.download_bracket()\n\n# \u52a0\u8f7d\u652f\u67b6\uff0c\u7136\u540e\u6253\u5370\u51e0\u4f55\u56fe\u5f62\nmapdl.aux15()\nmapdl.igesin(bracket_file)\nprint(mapdl.geometry)"
      ]
    },
    {
      "cell_type": "markdown",
      "metadata": {},
      "source": [
        "## Plotting\nPyMAPDL \u4f7f\u7528 VTK \u548c pyvista \u4f5c\u4e3a\u7ed8\u56fe\u540e\u7aef\uff0c\u4ee5\u5b9e\u73b0\u8fdc\u7a0b\uff08\u4f7f\u7528 2021R1 \u53ca\u66f4\u65b0\u7248\u672c\uff09\u4ea4\u4e92\u5f0f\u7ed8\u56fe\u3002\n\u5e38\u89c1\u7684\u7ed8\u56fe\u65b9\u6cd5 (``kplot`` , ``lplot`` , ``aplot`` , ``eplot`` \u7b49) \u90fd\u6709\u76f8\u5e94 :func:`ansys.mapdl.core.plotting.general_plotter` \u51fd\u6570\n\u7684\u517c\u5bb9\u547d\u4ee4\u3002\u60a8\u53ef\u4ee5\u4f7f\u7528\u5404\u79cd\u5173\u952e\u5b57\u53c2\u6570\u914d\u7f6e\u6b64\u65b9\u6cd5\u3002\u4f8b\u5982\uff1a\n\n"
      ]
    },
    {
      "cell_type": "code",
      "execution_count": null,
      "metadata": {
        "collapsed": false
      },
      "outputs": [],
      "source": [
        "mapdl.lplot(\n    show_line_numbering=False,\n    background=\"k\",\n    line_width=3,\n    color=\"w\",\n    show_axes=False,\n    show_bounds=True,\n    title=\"\",\n    cpos=\"xz\",\n)"
      ]
    },
    {
      "cell_type": "markdown",
      "metadata": {},
      "source": [
        "\u60a8\u8fd8\u53ef\u4ee5\u914d\u7f6e\u4e00\u4e2a\u4e3b\u9898\uff0c\u4ee5\u4fbf\u5728\u591a\u4e2a\u7ed8\u56fe\u4e2d\u5b9e\u73b0\u4e00\u81f4\u7684\u7ed8\u56fe\u3002\u8fd9\u4e9b\u4e3b\u9898\u53c2\u6570\u4f1a\u8986\u76d6\u6240\u6709\u672a\u8bbe\u7f6e\u7684\u5173\u952e\u5b57\u53c2\u6570\u3002\u4f8b\u5982\n\n"
      ]
    },
    {
      "cell_type": "code",
      "execution_count": null,
      "metadata": {
        "collapsed": false
      },
      "outputs": [],
      "source": [
        "my_theme = pymapdl.MapdlTheme()\nmy_theme.background = \"white\"\nmy_theme.cmap = \"jet\"  # colormap\nmy_theme.axes.show = False\nmy_theme.show_scalar_bar = False\n\nmapdl.aplot(theme=my_theme, quality=8)"
      ]
    },
    {
      "cell_type": "markdown",
      "metadata": {},
      "source": [
        "## Accessesing Element and Nodes Pythonically\nPyMAPDL \u8fd8\u652f\u6301\u4f7f\u7528 `eplot` \u548c `nplot` \u7ed8\u5236\u5355\u5143\u548c\u8282\u70b9\u56fe\u3002\u9996\u5148\uff0c\u4f7f\u7528 SOLID187 \u5355\u5143\u5bf9\u652f\u67b6\u8fdb\u884c\u7f51\u683c\u5212\u5206\u3002\u8fd9\u4e9b\u5355\u5143\u975e\u5e38\u9002\u5408\u8fd9\u79cd\u51e0\u4f55\u5f62\u72b6\u548c\u9759\u6001\u7ed3\u6784\u5206\u6790\u3002\n\n"
      ]
    },
    {
      "cell_type": "code",
      "execution_count": null,
      "metadata": {
        "collapsed": false
      },
      "outputs": [],
      "source": [
        "# \u8bbe\u7f6e\u524d\u5904\u7406\u5668\u3001\u5355\u5143\u7c7b\u578b\u548c\u5927\u5c0f\uff0c\u5e76\u5bf9\u51e0\u4f55\u4f53\u8fdb\u884c\u7f51\u683c\u5212\u5206\nmapdl.prep7()\nmapdl.et(1, \"SOLID187\")\nmapdl.esize(0.075)\nmapdl.vmesh(\"all\")\n\n# \u6253\u5370\u7f51\u683c\u7279\u5f81\nprint(mapdl.mesh)"
      ]
    },
    {
      "cell_type": "markdown",
      "metadata": {},
      "source": [
        "\u60a8\u53ef\u4ee5\u901a\u8fc7 ``mesh.grid`` \u5c5e\u6027\u4ee5 VTK \u7f51\u683c\u7684\u5f62\u5f0f\u8bbf\u95ee\u5e95\u5c42\u6709\u9650\u5143\u7f51\u683c\u3002\n\n"
      ]
    },
    {
      "cell_type": "code",
      "execution_count": null,
      "metadata": {
        "collapsed": false
      },
      "outputs": [],
      "source": [
        "grid = mapdl.mesh.grid\ngrid"
      ]
    },
    {
      "cell_type": "markdown",
      "metadata": {},
      "source": [
        "\u8fd9\u4e2a UnstructuredGrid \u5305\u542b\u4e00\u4e2a\u529f\u80fd\u5f3a\u5927\u7684 API\uff0c\u5305\u62ec\u8bbf\u95ee\u8282\u70b9\u3001\u5355\u5143\u548c\u539f\u59cb\u8282\u70b9\u7f16\u53f7\u7684\u529f\u80fd\uff0c\u6240\u6709\u8fd9\u4e9b\u529f\u80fd\u90fd\u53ef\u4ee5\u7ed8\u5236\u7f51\u683c\uff0c\u5e76\u4e3a\u7f51\u683c\u6dfb\u52a0\u65b0\u7684\u5c5e\u6027\u548c\u6570\u636e\u3002\n\n"
      ]
    },
    {
      "cell_type": "code",
      "execution_count": null,
      "metadata": {
        "collapsed": false
      },
      "outputs": [],
      "source": [
        "grid.points  # same as mapdl.mesh.nodes"
      ]
    },
    {
      "cell_type": "markdown",
      "metadata": {},
      "source": [
        "\u4ee5 VTK \u683c\u5f0f\u8868\u793a\u7684\u5355\u5143\u683c\n\n"
      ]
    },
    {
      "cell_type": "code",
      "execution_count": null,
      "metadata": {
        "collapsed": false
      },
      "outputs": [],
      "source": [
        "grid.cells"
      ]
    },
    {
      "cell_type": "markdown",
      "metadata": {},
      "source": [
        "\u83b7\u53d6\u7f51\u683c\u7684\u8282\u70b9\u7f16\u53f7\n\n"
      ]
    },
    {
      "cell_type": "code",
      "execution_count": null,
      "metadata": {
        "collapsed": false
      },
      "outputs": [],
      "source": [
        "grid.point_data[\"ansys_node_num\"]"
      ]
    },
    {
      "cell_type": "markdown",
      "metadata": {},
      "source": [
        "\u5c06\u4efb\u610f\u6570\u636e\u4fdd\u5b58\u5230\u7f51\u683c\u4e2d\n\n"
      ]
    },
    {
      "cell_type": "code",
      "execution_count": null,
      "metadata": {
        "collapsed": false
      },
      "outputs": [],
      "source": [
        "# \u5fc5\u987b\u6839\u636e\u70b9\u6570\u8c03\u6574\u5927\u5c0f\ngrid.point_data[\"my_data\"] = np.arange(grid.n_points)\ngrid.point_data"
      ]
    },
    {
      "cell_type": "markdown",
      "metadata": {},
      "source": [
        "\u7528\u60a8\u9009\u62e9\u7684\u6807\u91cf\u7ed8\u5236\u8be5\u7f51\u683c\u3002\u7ed8\u5236\u65f6\u53ef\u4ee5\u4f7f\u7528\u76f8\u540c\u7684 MapdlTheme\uff0c\u56e0\u4e3a\u5b83\u4e0e\u7f51\u683c\u7ed8\u5236\u5668\u517c\u5bb9\u3002\n\n"
      ]
    },
    {
      "cell_type": "code",
      "execution_count": null,
      "metadata": {
        "collapsed": false
      },
      "outputs": [],
      "source": [
        "# make interesting scalars\nscalars = grid.points[:, 2]  # z coordinates\n\nsbar_kwargs = {\"color\": \"black\", \"title\": \"Z Coord\"}\ngrid.plot(\n    scalars=scalars,\n    show_scalar_bar=True,\n    scalar_bar_args=sbar_kwargs,\n    show_edges=True,\n    theme=my_theme,\n)"
      ]
    },
    {
      "cell_type": "markdown",
      "metadata": {},
      "source": [
        "\u8be5\u7f51\u683c\u8fd8\u80fd\u4ee5\u7d27\u51d1\u7684\u8de8\u5e73\u53f0 VTK \u683c\u5f0f\u4fdd\u5b58\u5230\u78c1\u76d8\u4e2d\uff0c\u5e76\u518d\u6b21\u7528 ``pyvista`` \u6216 ParaView \u52a0\u8f7d\u3002\n\n\n"
      ]
    },
    {
      "cell_type": "code",
      "execution_count": null,
      "metadata": {
        "collapsed": false
      },
      "outputs": [],
      "source": [
        "grid.save('my_mesh.vtk')\nimport pyvista\nimported_mesh = pyvista.read('my_mesh.vtk')"
      ]
    },
    {
      "cell_type": "markdown",
      "metadata": {},
      "source": [
        "## Stop mapdl\n\n\n"
      ]
    },
    {
      "cell_type": "code",
      "execution_count": null,
      "metadata": {
        "collapsed": false
      },
      "outputs": [],
      "source": [
        "mapdl.exit()"
      ]
    }
  ],
  "metadata": {
    "kernelspec": {
      "display_name": "Python 3",
      "language": "python",
      "name": "python3"
    },
    "language_info": {
      "codemirror_mode": {
        "name": "ipython",
        "version": 3
      },
      "file_extension": ".py",
      "mimetype": "text/x-python",
      "name": "python",
      "nbconvert_exporter": "python",
      "pygments_lexer": "ipython3",
      "version": "3.10.11"
    }
  },
  "nbformat": 4,
  "nbformat_minor": 0
}