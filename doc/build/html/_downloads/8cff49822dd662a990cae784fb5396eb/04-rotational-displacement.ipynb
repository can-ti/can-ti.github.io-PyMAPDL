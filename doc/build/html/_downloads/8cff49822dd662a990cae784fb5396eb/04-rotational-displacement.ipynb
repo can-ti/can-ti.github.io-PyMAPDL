{
  "cells": [
    {
      "cell_type": "markdown",
      "metadata": {},
      "source": [
        "# \u751f\u6210\u548c\u63d0\u53d6\u65cb\u8f6c\u4f4d\u79fb {#ref_rotational_displacement_example}\r\n\r\n\u5728\u672c\u4f8b\u4e2d\uff0c\u6211\u4eec\u5c06\u5c55\u793a\u5982\u4f55\u5904\u7406\u58f3\u4f53\u548c\u65cb\u8f6c\u4f4d\u79fb\u3002\r\n\r\n\u5e76\u975e\u6240\u6709\u5355\u5143\u7c7b\u578b\u90fd\u6709\u65cb\u8f6c\u81ea\u7531\u5ea6\uff0c\u4f46\u4e00\u822c\u6765\u8bf4\uff0c\\\"\u58f3\\\"\r\n\u5355\u5143\u90fd\u6709\u3002\u5728\u672c\u4f8b\u4e2d\uff0c\u6211\u4eec\u521b\u5efa\u4e00\u4e2a\u539a\u5ea6\u4e3a 0.1\r\n\u7684\u6b63\u65b9\u5f62\u5916\u58f3\uff0c\u7136\u540e\u5c06\u5176\u5f2f\u66f2\uff0c\u4ea7\u751f\u65cb\u8f6c\u4f4d\u79fb\u3002\r\n\r\n\u968f\u540e\uff0c\u6211\u4eec\u7ed8\u5236\u7d2f\u79ef\u4e3b\u5e94\u529b\u56fe\uff0c\u5e76\u4f7f\u7528\r\n`ansys.mapdl.core.inline_functions.Query`{.interpreted-text\r\nrole=\"class\"} \u63d0\u53d6\u6b63\u65b9\u5f62\u56db\u4e2a\u89d2\u7684\u65cb\u8f6c\u4f4d\u79fb\u7cbe\u786e\u503c\u3002\r\n"
      ]
    },
    {
      "cell_type": "code",
      "execution_count": null,
      "metadata": {
        "collapsed": false
      },
      "outputs": [],
      "source": [
        "# start MAPDL and enter the pre-processing routine\nfrom ansys.mapdl.core import launch_mapdl\n\nmapdl = launch_mapdl()\nmapdl.prep7()"
      ]
    },
    {
      "cell_type": "markdown",
      "metadata": {},
      "source": [
        "# Mesh Setup\r\n\r\n\u5728\u672c\u4f8b\u4e2d\uff0c\u6211\u4eec\u521b\u5efa\u4e86\u4e00\u4e2a\u7b80\u5355\u7684\u4e8c\u7ef4\u6b63\u65b9\u5f62\uff0c\u5c3a\u5bf8\u4e3a 1 x 1\uff0c\u5e76\u8d4b\u4e88\u5176\r\n`SHELL181` \u5355\u5143\u7c7b\u578b\uff0c\u56e0\u4e3a\u8be5\u7c7b\u578b\u5177\u6709\u65cb\u8f6c\u81ea\u7531\u5ea6\u3002\u63a5\u4e0b\u6765\u6211\u4eec\r\n\r\n-   \u7ed9\u51fa\u8be5\u6750\u6599\u7684\u5f39\u6027\u6a21\u91cf\u4e3a 2e5 (EX)\r\n-   \u5c06\u6750\u6599\u7684\u4e3b\u8981\u6cca\u677e\u6bd4\u5b9a\u4e3a 0.3 (PRXY)\r\n-   \u5c06\u622a\u9762\u7c7b\u578b\u8bbe\u7f6e\u4e3a \"SHELL\"\r\n-   \u5c06\u539a\u5ea6\u8bbe\u7f6e\u4e3a 0.1\r\n-   \u5c06\u5355\u5143\u5927\u5c0f\u8bbe\u7f6e\u4e3a 0.2\r\n-   \u5212\u5206\u7f51\u683c\r\n-   \u7ed8\u5236\u6a21\u578b\r\n"
      ]
    },
    {
      "cell_type": "code",
      "execution_count": null,
      "metadata": {
        "collapsed": false
      },
      "outputs": [],
      "source": [
        "mapdl.et(1, \"SHELL181\")\nmapdl.mp(\"EX\", 1, 2e5)\nmapdl.mp(\"PRXY\", 1, 0.3)\nmapdl.rectng(0, 1, 0, 1)\nmapdl.sectype(1, \"SHELL\")\nmapdl.secdata(0.1)\nmapdl.esize(0.2)\nmapdl.amesh(\"all\")\nmapdl.eplot()"
      ]
    },
    {
      "cell_type": "markdown",
      "metadata": {},
      "source": [
        "# Applying Boundary Conditions\r\n\r\n-   \u8fdb\u5165\u6c42\u89e3\u5c42\r\n-   \u5c06\u5206\u6790\u7c7b\u578b\u8bbe\u4e3a `STATIC` \u3002\r\n-   \u7ea6\u675f `x = 0` \u8282\u70b9\u7684\u6240\u6709\u81ea\u7531\u5ea6\r\n-   \u5728 `x = 1` \u5904\u65bd\u52a0 `uz = -0.1` \u7684\u4f4d\u79fb\r\n-   \u9009\u62e9\u6240\u6709\u8282\u70b9\r\n-   \u6c42\u89e3\u6a21\u578b\r\n"
      ]
    },
    {
      "cell_type": "code",
      "execution_count": null,
      "metadata": {
        "collapsed": false
      },
      "outputs": [],
      "source": [
        "mapdl.run(\"/SOLU\")\nmapdl.antype(\"STATIC\")\nmapdl.nsel(\"s\", \"loc\", \"x\", 0)\nmapdl.d(\"all\", \"all\")\nmapdl.nsel(\"s\", \"loc\", \"x\", 1)\nmapdl.d(\"all\", \"uz\", -0.1)\nmapdl.allsel(\"all\")\nmapdl.solve()"
      ]
    },
    {
      "cell_type": "markdown",
      "metadata": {},
      "source": [
        "# Plotting Stresses\r\n\r\n-   \u63d0\u53d6\u7ed3\u679c\r\n-   \u7ed8\u5236\u7d2f\u79ef (0) \u7b49\u6548\u5e94\u529b (SEQV) \u56fe\r\n-   \u5c06 colormap \u8bbe\u7f6e\u4e3a \\'plasma\\'\uff0c\u56e0\u4e3a\u5b83\u5728\u611f\u77e5\u4e0a\u662f\u4e00\u81f4\u7684\r\n-   \u663e\u793a\u4f4d\u79fb\uff0c\u4ee5\u4fbf\u6211\u4eec\u770b\u5230\u4efb\u4f55\u53d8\u5f62\r\n"
      ]
    },
    {
      "cell_type": "code",
      "execution_count": null,
      "metadata": {
        "collapsed": false
      },
      "outputs": [],
      "source": [
        "result = mapdl.result\nresult.plot_principal_nodal_stress(\n    0, \"SEQV\", show_edges=True, cmap=\"plasma\", show_displacement=True\n)"
      ]
    },
    {
      "cell_type": "markdown",
      "metadata": {},
      "source": [
        "# Extracting Rotational Displacements\r\n\r\n-   \u4ece `queries` \u5c5e\u6027\u83b7\u53d6\r\n    `ansys.mapdl.core.inline_functions.Query`{.interpreted-text\r\n    role=\"class\"} \u5b9e\u4f8b\r\n-   \u5728\u6b63\u65b9\u5f62\u7684\u56db\u4e2a\u89d2\u4e0a\u5b9a\u4f4d\u8282\u70b9\r\n-   \u5206\u522b\u63d0\u53d6\u6240\u6709 3 \u4e2a\u65cb\u8f6c\u4f4d\u79fb\u5206\u91cf\r\n-   \u5168\u90e8\u6253\u5370\u51fa\u6765\r\n"
      ]
    },
    {
      "cell_type": "code",
      "execution_count": null,
      "metadata": {
        "collapsed": false
      },
      "outputs": [],
      "source": [
        "q = mapdl.queries\n\nnode1 = q.node(0, 0, 0)\nnode2 = q.node(0, 1, 0)\nnode3 = q.node(1, 0, 0)\nnode4 = q.node(1, 1, 0)\n\nnodes = [node1, node2, node3, node4]\n\nrotations = [(q.rotx(n), q.roty(n), q.rotz(n)) for n in nodes]\n\nmessage = f\"\"\"\n(0,1) B _________ C (1,1)\n       |         |\n       |         |\n       |         |\n       |_________|\n(0,0) A           D (1,0)\n\nN | (x_rot_disp, y_rot_disp, z_rot_disp)\n--|------------------------------------\nA | {rotations[0][0]:11.6f},{rotations[0][1]:11.6f},{rotations[0][2]:11.6f}\nB | {rotations[1][0]:11.6f},{rotations[1][1]:11.6f},{rotations[1][2]:11.6f}\nC | {rotations[2][0]:11.6f},{rotations[2][1]:11.6f},{rotations[2][2]:11.6f}\nD | {rotations[3][0]:11.6f},{rotations[3][1]:11.6f},{rotations[3][2]:11.6f}\n\n\"\"\"\n\nprint(message)"
      ]
    },
    {
      "cell_type": "markdown",
      "metadata": {},
      "source": [
        "# Stop mapdl\r\n"
      ]
    },
    {
      "cell_type": "code",
      "execution_count": null,
      "metadata": {
        "collapsed": false
      },
      "outputs": [],
      "source": [
        "mapdl.exit()"
      ]
    }
  ],
  "metadata": {
    "kernelspec": {
      "display_name": "Python 3",
      "language": "python",
      "name": "python3"
    },
    "language_info": {
      "codemirror_mode": {
        "name": "ipython",
        "version": 3
      },
      "file_extension": ".py",
      "mimetype": "text/x-python",
      "name": "python",
      "nbconvert_exporter": "python",
      "pygments_lexer": "ipython3",
      "version": "3.10.1"
    }
  },
  "nbformat": 4,
  "nbformat_minor": 0
}