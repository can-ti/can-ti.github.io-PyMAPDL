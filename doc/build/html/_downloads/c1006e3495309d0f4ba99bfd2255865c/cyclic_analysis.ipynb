{
  "cells": [
    {
      "cell_type": "markdown",
      "metadata": {},
      "source": [
        "# \u5faa\u73af\u5bf9\u79f0\u5206\u6790 {#ref_cyclic_analysis_example}\r\n\r\n\u672c\u793a\u4f8b\u4f7f\u7528\u5faa\u73af\u6247\u5f62\u7684\u53c2\u6570\u51e0\u4f55\u521b\u5efa\u4e86\u4e00\u4e2a\u53f6\u76d8\uff0c\u7136\u540e\u5bf9\u8be5\u5faa\u73af\u6247\u5f62\u8fdb\u884c\u6a21\u6001\u5206\u6790\u3002\r\n\u7136\u540e\uff0c\u6211\u4eec\u4f7f\u7528\u4f20\u7edf\u7684 [MAPDL reader](https://readerdocs.pyansys.com/)\r\n\u5bf9\u7ed3\u679c\u8fdb\u884c\u540e\u5904\u7406\uff0c\u6700\u540e\u4f7f\u7528\u53c2\u6570\u5efa\u6a21\u5668\u751f\u6210\u53e6\u4e00\u4e2a\u5faa\u73af\u6a21\u578b\u3002\r\n\r\n\u6211\u4eec\u7684\u7b2c\u4e00\u9879\u4efb\u52a1\u662f\u521b\u5efa\u4e00\u4e2a\u5305\u542b 7 \u4e2a\u6247\u533a\u7684\u7b80\u5355\u5faa\u73af\u6a21\u578b\u3002\r\n\r\n![image](../../../images/cyclic_disc.png)\r\n\r\n\u9996\u5148\uff0c\u5c06 MAPDL \u4f5c\u4e3a\u670d\u52a1\u542f\u52a8\u3002\r\n"
      ]
    },
    {
      "cell_type": "code",
      "execution_count": null,
      "metadata": {
        "collapsed": false
      },
      "outputs": [],
      "source": [
        "import numpy as np\nimport pyvista as pv\n\nfrom ansys.mapdl.core import launch_mapdl\n\nmapdl = launch_mapdl()"
      ]
    },
    {
      "cell_type": "markdown",
      "metadata": {},
      "source": [
        "# Create the Cyclic Sector\r\n\r\n\u4e3a\u6211\u4eec\u7684\u5faa\u73af\u6a21\u578b\u521b\u5efa\u4e00\u4e2a \\\"\u6247\u5f62\\\"\u3002\r\n"
      ]
    },
    {
      "cell_type": "code",
      "execution_count": null,
      "metadata": {
        "collapsed": false
      },
      "outputs": [],
      "source": [
        "def gen_sector(mapdl, sectors): # \u8fd9\u91cc `mapdl` \u7adf\u7136\u53ef\u4ee5\u5f53\u4f5c\u4e00\u4e2a\u51fd\u6570\u91cc\u7684\u53c2\u6570\uff1f \u2014\u2014\u2014\u2014ff\n    \"\"\"\u5728 MAPDL \u4e2d\u751f\u6210\u4e00\u4e2a\u6247\u5f62\u3002\"\"\"\n\n    # \u539a\u5ea6\n    thickness = 0.003  # \u5355\u4f4d\uff1am\n    arc_end = 2 * np.pi / sectors\n    arc_cent = arc_end / 2\n\n    # \u534a\u5f84\n    rad = 0.01  # m\n    arc = pv.CircularArc(\n        [rad, 0, 0],\n        [np.cos(arc_end) * rad, np.sin(arc_end) * rad, 0],\n        [0, 0, 0],\n    )\n\n    # \u5185\u5706\n    kp_begin = [rad, 0, 0]\n    kp_end = [np.cos(arc_end) * rad, np.sin(arc_end) * rad, 0]\n    kp_center = [0, 0, 0]\n\n    # \u5916\u5706\n    out_rad = 5.2e-2\n\n    # \u6c42\u51fa\u89d2\u5ea6\uff0c\u4ee5\u83b7\u5f97\u672b\u7aef\u76f8\u540c\u7684\u5f27\u957f\n    cent_ang = arc.length / out_rad / 2\n\n    # \u5185\u5708\n    kp_beg_outer = [\n        np.cos(arc_cent - cent_ang) * out_rad,\n        np.sin(arc_cent - cent_ang) * out_rad,\n        0,\n    ]\n    kp_end_outer = [\n        np.cos(arc_cent + cent_ang) * out_rad,\n        np.sin(arc_cent + cent_ang) * out_rad,\n        0,\n    ]\n\n    mapdl.prep7()\n    mapdl.k(0, *kp_center) # \u8fd9\u91cc*kp_center \u5c06 kp_center \u5217\u8868\u4e2d\u7684\u5143\u7d20\u62c6\u5206\u4e3a\u5355\u72ec\u7684\u53c2\u6570\u4f20\u9012\u7ed9 mapdl.k \u51fd\u6570\u3002\n    mapdl.k(0, *kp_begin)\n    mapdl.k(0, *kp_end)\n    mapdl.k(0, *kp_beg_outer)\n    mapdl.k(0, *kp_end_outer)\n\n    # inner arc\n    mapdl.l(1, 2)  # left line\n    mapdl.l(1, 3)  # right line\n    lnum_inter = mapdl.l(2, 3)  # internal line\n    mapdl.al(\"all\")\n\n    # outer \"blade\"\n    lnum = [lnum_inter, mapdl.l(4, 5), mapdl.l(2, 4), mapdl.l(3, 5)]\n    mapdl.al(*lnum)\n\n    # \u6309 ``\u539a\u5ea6`` \u5728 Z \u65b9\u5411\u6324\u51fa\u6a21\u578b\n    mapdl.vext(\"all\", dz=thickness)\n\n# \u751f\u6210 7 \u6247\u5f62\u6a21\u578b\u4e2d\u7684\u4e00\u4e2a\u6247\u5f62\nsectors = 7\ngen_sector(mapdl, sectors)\n\n# Volume plot\nmapdl.vplot()"
      ]
    },
    {
      "cell_type": "markdown",
      "metadata": {},
      "source": [
        "# Make the Model Cyclic\r\n\r\n\u8fd0\u884c `Mapdl.cyclic`{.interpreted-text role=\"func\"} \u4f7f\u6a21\u578b\u5faa\u73af\u8fd0\u884c\r\n\r\n\u8bf7\u6ce8\u610f\u6247\u5f62\u7684\u6570\u91cf\u662f\u5982\u4f55\u5339\u914d\u7684\r\n"
      ]
    },
    {
      "cell_type": "code",
      "execution_count": null,
      "metadata": {
        "collapsed": false
      },
      "outputs": [],
      "source": [
        "output = mapdl.cyclic()\nprint(f\"Expected Sectors: {sectors}\")\nprint(output)"
      ]
    },
    {
      "cell_type": "markdown",
      "metadata": {},
      "source": [
        "# Generate the mesh\r\n\r\n\u4f7f\u7528\u56db\u9762\u4f53 SOLID186 \u751f\u6210\u6709\u9650\u5143\u7f51\u683c\u3002\r\n"
      ]
    },
    {
      "cell_type": "code",
      "execution_count": null,
      "metadata": {
        "collapsed": false
      },
      "outputs": [],
      "source": [
        "# \u5355\u5143\u5927\u5c0f\u4e3a 0.001\nesize = 0.001\n\nmapdl.et(1, 186)\nmapdl.esize(esize)\nmapdl.vsweep(\"all\")\n\n# \u7ed8\u5236\u6709\u9650\u5143\u7f51\u683c\nmapdl.eplot()"
      ]
    },
    {
      "cell_type": "markdown",
      "metadata": {},
      "source": [
        "# Apply Material Properties\r\n"
      ]
    },
    {
      "cell_type": "code",
      "execution_count": null,
      "metadata": {
        "collapsed": false
      },
      "outputs": [],
      "source": [
        "# \u5b9a\u4e49\u4e00\u79cd\u6750\u6599\uff08\u516c\u79f0\u94a2\uff0c\u5355\u4f4d\u4e3a SI\uff0c\u56fd\u9645\u5355\u4f4d\u5236\uff09\nmapdl.mp(\"EX\", 1, 210e9)  # Elastic moduli in Pa (kg/(m*s**2))\nmapdl.mp(\"DENS\", 1, 7800)  # Density in kg/m3\nmapdl.mp(\"NUXY\", 1, 0.3)  # Poisson's Ratio\n\n# \u5c06\u5176\u5e94\u7528\u4e8e\u6240\u6709\u5143\u7d20\nmapdl.emodif(\"ALL\", \"MAT\", 1)"
      ]
    },
    {
      "cell_type": "markdown",
      "metadata": {},
      "source": [
        "# Run the Modal Analysis\r\n\r\n\u8ba9\u6211\u4eec\u83b7\u53d6\u524d 10 \u9636\u6a21\u6001\u3002\u8bf7\u6ce8\u610f\uff0c\u8fd9\u5b9e\u9645\u4e0a\u662f\u6839\u636e\u5faa\u73af\u8fb9\u754c\u6761\u4ef6\u8ba1\u7b97\r\n`(\u6247\u533a/2)*nmode` \u3002\r\n"
      ]
    },
    {
      "cell_type": "code",
      "execution_count": null,
      "metadata": {
        "collapsed": false
      },
      "outputs": [],
      "source": [
        "output = mapdl.modal_analysis(nmode=10, freqb=1)\nprint(output)"
      ]
    },
    {
      "cell_type": "markdown",
      "metadata": {},
      "source": [
        "# Get the Results of the Cyclic Modal Analysis\r\n\r\n\u5c06\u6a21\u6001\u5206\u6790\u4e2d\u7684\u8c10\u6ce2\u53ef\u89c6\u5316\u3002\r\n\r\n\u66f4\u591a\u8be6\u60c5\uff0c\u8bf7\u53c2\u9605 [Validation of a Modal Work Approach for Forced\r\nResponse Analysis of Bladed\r\nDisks](https://www.mdpi.com/2076-3417/11/12/5437/pdf) \u6216 [Cyclic\r\nSymmetry Analysis\r\nGuide](https://ansyshelp.ansys.com/Views/Secured/corp/v222/en/pdf/Ansys_Mechanical_APDL_Cyclic_Symmetry_Analysis_Guide.pdf)\r\n\u3002\r\n\r\n::: note\r\n::: title\r\nNote\r\n:::\r\n\r\n\u5b83\u4f7f\u7528\u4f20\u7edf\u7684\u7ed3\u679c\u8bfb\u53d6\u5668(mapdl reader)\uff0c\u8be5\u8bfb\u53d6\u5668\u5c06\u5728\u67d0\u4e2a\u65f6\u5019\u5f03\u7528\uff0c\u8f6c\u800c\u4f7f\u7528\r\nDPF\uff0c\u4f46\u6211\u4eec\u73b0\u5728\u53ef\u4ee5\u7528\u5b83\u6765\u5236\u4f5c\u4e00\u4e9b\u7cbe\u5f69\u7684\u52a8\u753b\u3002\r\n:::\r\n\r\n\u6709\u5173\u5faa\u73af\u7ed3\u679c\u540e\u5904\u7406\u7684\u66f4\u591a\u8be6\u60c5\uff0c\u8bf7\u53c2\u9605\uff1a \\* [Understanding Nodal Diameters\r\nfrom a Cyclic Model\r\nAnalysis](https://reader.docs.pyansys.com/version/stable/examples/01-cyclic_results/academic_sector_nd.html)\r\n\\* [Cyclic symmetry\r\nexamples](https://dpf.docs.pyansys.com/version/stable/examples/11-cyclic-symmetry/index.html)\r\n"
      ]
    },
    {
      "cell_type": "code",
      "execution_count": null,
      "metadata": {
        "collapsed": false
      },
      "outputs": [],
      "source": [
        "# \u4ece MAPDL \u4e2d\u6293\u53d6\u7ed3\u679c\u5bf9\u8c61\nresult = mapdl.result\nprint(result)"
      ]
    },
    {
      "cell_type": "markdown",
      "metadata": {},
      "source": [
        "# List the Table of Harmonic Indices\r\n\r\n\u8fd9\u662f\u8c10\u6ce2\u6307\u6570\u8868\u3002\u8be5\u8868\u4e3a\u6bcf\u4e2a\u7d2f\u79ef\u6a21\u6001\u63d0\u4f9b\u4e86\u76f8\u5e94\u7684\u8c10\u6ce2\u6307\u6570\u3002\r\n"
      ]
    },
    {
      "cell_type": "code",
      "execution_count": null,
      "metadata": {
        "collapsed": false
      },
      "outputs": [],
      "source": [
        "print(\"C. Index   Harmonic Index\")\nfor i, hindex in zip(range(result.n_results), result.harmonic_indices):\n    print(f\"{i:3d}      {hindex:3d}\")"
      ]
    },
    {
      "cell_type": "markdown",
      "metadata": {},
      "source": [
        "# Generate an Animation of a Traveling Wave\r\n\r\n\u8fd9\u662f\u5faa\u73af\u5206\u6790\u4e2d\u7b2c\u4e00\u4e2a\u5f2f\u66f2\u7684\u8282\u70b9\u76f4\u5f84 1\u3002\r\n\r\n\u5728\u8282\u70b9\u76f4\u5f84\u4e3a 1\r\n\u7684\u60c5\u51b5\u4e0b\uff0c\u6211\u4eec\u53ef\u4ee5\u7528\u4ee5\u4e0b\u65b9\u6cd5\u5f97\u5230\u7b2c\u4e00\u9636\u6469\u5929\uff08\u901a\u5e38\u662f\u53f6\u7247\u8f6c\u5b50\u7684\u7b2c\u4e00\u79cd\u5f2f\u66f2\u6a21\u5f0f\uff09\uff1a\r\n\r\n`mode_num = np.nonzero(result.harmonic_indices == 1)[0][0]`\r\n"
      ]
    },
    {
      "cell_type": "code",
      "execution_count": null,
      "metadata": {
        "collapsed": false
      },
      "outputs": [],
      "source": [
        "pv.global_theme.background = \"w\"\n\n_ = result.animate_nodal_displacement(\n    11,\n    displacement_factor=5e-4,\n    movie_filename=\"traveling_wave11.gif\",\n    n_frames=30,\n    off_screen=True,\n    loop=False,\n    add_text=False,\n    show_scalar_bar=False,\n    cmap=\"jet\",\n)"
      ]
    },
    {
      "cell_type": "markdown",
      "metadata": {},
      "source": [
        "\u8fd9\u662f\u8282\u70b9\u76f4\u5f84 3 \u7684\u4e00\u9636\u626d\u8f6c\u6a21\u6001\u3002\r\n"
      ]
    },
    {
      "cell_type": "code",
      "execution_count": null,
      "metadata": {
        "collapsed": false
      },
      "outputs": [],
      "source": [
        "_ = result.animate_nodal_displacement(\n    36,\n    displacement_factor=2e-4,\n    movie_filename=\"traveling_wave36.gif\",\n    n_frames=30,\n    off_screen=True,\n    loop=False,\n    add_text=False,\n    show_scalar_bar=False,\n    cmap=\"jet\",\n)"
      ]
    },
    {
      "cell_type": "markdown",
      "metadata": {},
      "source": [
        "# Parametric Geometry\r\n\r\n\u7531\u4e8e\u6211\u4eec\u7684\u51e0\u4f55\u4f53\u521b\u5efa\u662f\u811a\u672c\u5316\u7684\uff0c\u56e0\u6b64\u53ef\u4ee5\u521b\u5efa\u4efb\u610f\u6570\u91cf\u7684 \\\"\u6247\u5f62\\\"\r\n\u7ed3\u6784\u3002\u8ba9\u6211\u4eec\u7528 20 \u4e2a\u6247\u5f62\u521b\u5efa\u4e00\u4e2a\u66f4\u6709\u8da3\u7684\u7ed3\u6784\u3002\r\n\r\n\u9996\u5148\uff0c\u786e\u4fdd\u6e05\u9664 MAPDL\uff0c\u4ee5\u4fbf\u6211\u4eec\u4ece\u5934\u5f00\u59cb\u3002\r\n"
      ]
    },
    {
      "cell_type": "code",
      "execution_count": null,
      "metadata": {
        "collapsed": false
      },
      "outputs": [],
      "source": [
        "mapdl.clear()\nmapdl.prep7()\n\n# \u751f\u6210 20 \u4e2a\u6247\u5f62\u6a21\u578b\u4e2d\u7684\u4e00\u4e2a\u6247\u5f62\ngen_sector(mapdl, 20)\n\n# make it cyclic\nmapdl.cyclic()\n\n# Mesh it\nesize = 0.001\nmapdl.et(1, 186)\nmapdl.esize(esize)\nmapdl.vsweep(\"all\")\n\n# apply materials\nmapdl.mp(\"EX\", 1, 210e9)  # Elastic moduli in Pa (kg/(m*s**2))\nmapdl.mp(\"DENS\", 1, 7800)  # Density in kg/m3\nmapdl.mp(\"NUXY\", 1, 0.3)  # Poisson's Ratio\nmapdl.emodif(\"ALL\", \"MAT\", 1)\n\n# Run the modal analysis\noutput = mapdl.modal_analysis(nmode=6, freqb=1)\n\n# \u4ece MAPDL \u4e2d\u6293\u53d6\u7ed3\u679c\u5bf9\u8c61\nresult = mapdl.result\nprint(result)"
      ]
    },
    {
      "cell_type": "markdown",
      "metadata": {},
      "source": [
        "# List the Table of Harmonic Indices\r\n\r\n\u8bf7\u6ce8\u610f\uff0c\u8fd9\u4e9b\u6a21\u5f0f\u7684\u8c10\u6ce2\u6307\u6570\u6700\u9ad8\u53ef\u8fbe 10\uff0c\u5373 N/2\uff0c\u5176\u4e2d N \u662f\u6247\u5f62\u6570\u3002\r\n"
      ]
    },
    {
      "cell_type": "code",
      "execution_count": null,
      "metadata": {
        "collapsed": false
      },
      "outputs": [],
      "source": [
        "print(\"C. Index   Harmonic Index\")\nfor i, hindex in zip(range(result.n_results), result.harmonic_indices):\n    print(f\"{i:3d}    {hindex:3d}\")"
      ]
    },
    {
      "cell_type": "markdown",
      "metadata": {},
      "source": [
        "# Plot First Bend for Nodal Diameter 2\r\n\r\n\u8bf7\u6ce8\u610f\uff0c\u7531\u4e8e\u8be5\u6a21\u6001\u5f62\u72b6\u7684\u8282\u70b9\u76f4\u5f84\u4e3a 2\uff0c\u56e0\u6b64\u53ef\u4ee5\u6e05\u695a\u5730\u770b\u5230\u4e24\u6761\u8282\u70b9\u7ebf\u3002\r\n"
      ]
    },
    {
      "cell_type": "code",
      "execution_count": null,
      "metadata": {
        "collapsed": false
      },
      "outputs": [],
      "source": [
        "result.plot_nodal_displacement(\n    12, cpos=\"xy\", cmap=\"jet\", show_scalar_bar=False, add_text=False\n)"
      ]
    },
    {
      "cell_type": "markdown",
      "metadata": {},
      "source": [
        "# Animate First Bend for Nodal Diameter 2\r\n\r\n\u6700\u540e\uff0c\u8ba9\u6211\u4eec\u4ee5\u6a21\u6001 12\r\n\u7684\u52a8\u753b\u6548\u679c\u7ed3\u675f\u672c\u793a\u4f8b\uff0c\u5b83\u5bf9\u5e94\u4e8e\u672c\u793a\u4f8b\u6a21\u578b\u7b2c\u4e8c\u4e2a\u8282\u70b9\u76f4\u5f84\u7684\u4e00\u9636\u5f2f\u66f2\u3002\r\n"
      ]
    },
    {
      "cell_type": "code",
      "execution_count": null,
      "metadata": {
        "collapsed": false
      },
      "outputs": [],
      "source": [
        "_ = result.animate_nodal_displacement(\n    12,\n    displacement_factor=2e-4,\n    movie_filename=\"traveling_wave12.gif\",\n    n_frames=30,\n    off_screen=True,\n    loop=False,\n    add_text=False,\n    show_scalar_bar=False,\n    cmap=\"jet\",\n)"
      ]
    }
  ],
  "metadata": {
    "kernelspec": {
      "display_name": "Python 3",
      "language": "python",
      "name": "python3"
    },
    "language_info": {
      "codemirror_mode": {
        "name": "ipython",
        "version": 3
      },
      "file_extension": ".py",
      "mimetype": "text/x-python",
      "name": "python",
      "nbconvert_exporter": "python",
      "pygments_lexer": "ipython3",
      "version": "3.10.1"
    }
  },
  "nbformat": 4,
  "nbformat_minor": 0
}