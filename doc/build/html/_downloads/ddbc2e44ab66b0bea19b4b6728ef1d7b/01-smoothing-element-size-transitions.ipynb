{
  "cells": [
    {
      "cell_type": "markdown",
      "metadata": {},
      "source": [
        "# MAPDL \u5355\u5143\u5c3a\u5bf8\u8f6c\u6362\u793a\u4f8b {#ref_element_size_transition}\r\n\r\n\u672c\u4f8b\u5411\u60a8\u5c55\u793a\u5982\u4f55\u4f7f\u7528 PyMAPDL \u63a7\u5236\u7f51\u683c\u5bc6\u5ea6\u3002\r\n\r\n\u5728\u5f88\u591a\u60c5\u51b5\u4e0b\uff0c\u60a8\u9700\u8981\u63a7\u5236\u5c40\u90e8\u9ad8\u5e94\u529b\u533a\u57df\u9644\u8fd1\u7684\u7f51\u683c\u5bc6\u5ea6\uff08\u5982\u6a21\u62df\u88c2\u7f1d\u3001\u6ee4\u6ce2\u652f\u67b6\u7b49\uff09\u3002\r\n\u8fd9\u901a\u5e38\u4f1a\u5728\u7f51\u683c\u4e2d\u5f15\u5165\u5355\u5143\u5c3a\u5bf8\u7684\u6025\u5267\u53d8\u5316\u3002\u672c\u4f8b\u4f7f\u7528\u7b80\u5355\u51e0\u4f55\u4f53\u6f14\u793a\u4e86\u51cf\u5c11\u8fd9\u79cd\u5f71\u54cd\u7684\u4e00\u79cd\u65b9\u6cd5\u3002\r\n\r\n\u9996\u5148\uff0c\u5c06 MAPDL \u4f5c\u4e3a\u670d\u52a1\u542f\u52a8\u3002\r\n"
      ]
    },
    {
      "cell_type": "code",
      "execution_count": null,
      "metadata": {
        "collapsed": false
      },
      "outputs": [],
      "source": [
        "from ansys.mapdl.core import launch_mapdl\n\nmapdl = launch_mapdl()\nprint(mapdl)"
      ]
    },
    {
      "cell_type": "markdown",
      "metadata": {},
      "source": [
        "# The Geometry (a box)\r\n\r\n\u672c\u4f8b\u4f7f\u7528\u975e\u5e38\u7b80\u5355\u7684\u51e0\u4f55\u56fe\u5f62\u3002\u5728\u672c\u4f8b\u4e2d\uff0c\u662f\u4e00\u4e2a\u6709 4 \u4e2a\u8fb9\u7684 3D box\u3002\r\n\u5269\u4e0b\u7684\u4e24\u4e2a\u8fb9\u662f\u5f00\u653e\u7684\uff0c\u6211\u4eec\u5c31\u5f97\u5230\u4e86\u4e00\u4e2a\u77e9\u5f62\u7ba1\uff0c\u5176\u5c3a\u5bf8\u4e3a 5 x 5 x\r\n1\u3002\u6211\u4eec\u4f7f\u7528 8 \u4e2a\u5173\u952e\u70b9\u521b\u5efa\uff0c\u7136\u540e\u6784\u5efa 4 \u4e2a area\u3002\r\n"
      ]
    },
    {
      "cell_type": "code",
      "execution_count": null,
      "metadata": {
        "collapsed": false
      },
      "outputs": [],
      "source": [
        "mapdl.prep7()\n\nk0 = mapdl.k(1, 0, 0, 0)\nk1 = mapdl.k(2, 0, 5, 0)\nk2 = mapdl.k(3, 5, 5, 0)\nk3 = mapdl.k(4, 5, 0, 0)\n\nk4 = mapdl.k(5, 0, 0, 1)\nk5 = mapdl.k(6, 0, 5, 1)\nk6 = mapdl.k(7, 5, 5, 1)\nk7 = mapdl.k(8, 5, 0, 1)\n\na0 = mapdl.a(1, 2, 3, 4)\na1 = mapdl.a(5, 6, 7, 8)\na2 = mapdl.a(3, 4, 8, 7)\na3 = mapdl.a(1, 2, 6, 5)"
      ]
    },
    {
      "cell_type": "markdown",
      "metadata": {},
      "source": [
        "# Mesh size\r\n\r\n\u6211\u4eec\u5c06\u5168\u5c40\u7f51\u683c\u5927\u5c0f\u8bbe\u7f6e\u4e3a 0.7\uff0c\u4f46\u6211\u4eec\u5bf9\u9762 `a2`\r\n\u7279\u522b\u611f\u5174\u8da3\uff0c\u56e0\u6b64\u5c06\u8be5\u9762\u7684\u5355\u5143\u5927\u5c0f\u8bbe\u7f6e\u4e3a\r\n0.1\u3002\u7136\u540e\uff0c\u6211\u4eec\u53ea\u9700\u6307\u5b9a\u5355\u5143\u7c7b\u578b\uff08\u6b64\u5904\u4f7f\u7528 `SHELL181`\r\n\uff09\uff0c\u5e76\u5bf9\u51e0\u4f55\u4f53\u8fdb\u884c\u7f51\u683c\u5212\u5206\u3002\r\n\r\n\u6b64\u5916\uff0c\u6211\u4eec\u4f7f\u7528 `mshape`\r\n\u6307\u5b9a\u6211\u4eec\u9700\u8981\u7684\u4e09\u89d2\u5f62\u5355\u5143\u3002\u8fd9\u7eaf\u7cb9\u662f\u4e3a\u4e86\u6f14\u793a\u6548\u679c\u3002\u8fd9\u5bf9\u56db\u8fb9\u5f62\u7f51\u683c\u540c\u6837\u6709\u6548\u3002\r\n"
      ]
    },
    {
      "cell_type": "code",
      "execution_count": null,
      "metadata": {
        "collapsed": false
      },
      "outputs": [],
      "source": [
        "mapdl.esize(0.7)\nmapdl.aesize(a2, 0.1)\nmapdl.mshape(1, \"2D\")\n\nmapdl.et(1, \"SHELL181\")\nmapdl.amesh(\"ALL\")\nmapdl.eplot(show_edges=True, show_axes=False, line_width=2, background=\"w\")"
      ]
    },
    {
      "cell_type": "markdown",
      "metadata": {},
      "source": [
        "# Smoothing the transition\r\n\r\n\u5e73\u6ed1\u8fc7\u6e21\r\n\r\n\u5927\u90e8\u5206\u7f51\u683c\u770b\u8d77\u6765\u90fd\u5f88\u597d\uff0c\u4f46\u5728\u7126\u70b9\u533a\u57df\u7684\u8fb9\u7f18\uff0c\u5355\u5143\u5c3a\u5bf8\u7684\u53d8\u5316\u975e\u5e38\u660e\u663e\u3002\u8fd9\u5f88\u53ef\u80fd\u662f\u4e0d\u53ef\u53d6\u7684\uff0c\u56e0\u4e3a\u8fd9\u4e9b\u662f\u8fb9\u89d2\u533a\u57df\uff0c\u901a\u5e38\u9700\u8981\u66f4\u9ad8\u7684\u7cbe\u5ea6\u3002\u4e0d\u8fc7\u8fd9\u4e00\u70b9\u5f88\u5bb9\u6613\u89e3\u51b3\u3002\r\n\r\n\u4e3a\u6b64\uff0c\u6211\u4eec\u9700\u8981\u5c06\u7ed1\u5b9a a2 \u7684\u5173\u952e\u70b9\u7684\u5355\u5143\u5927\u5c0f\u4e5f\u8bbe\u7f6e\u4e3a\r\n0.1\u3002\u8fd9\u5c06\u628a\u8fd9\u4e9b\u5173\u952e\u70b9\u9644\u8fd1\u7684\u6240\u6709\u5355\u5143\u90fd\u8bbe\u7f6e\u4e3a 0.1\uff0c\u5305\u62ec\u4e0d\u5728 `a2`\r\n\u4e0a\u7684\u5355\u5143\u3002\u8fd9\u6837\u5c31\u53ef\u4ee5\u5c06\u8fc7\u6e21\u4ece\u8fb9\u7f18\u5206\u6563\u5f00\u6765\u3002\r\n\r\n\u4e3a\u4e86\u6f14\u793a\u8fd9\u4e00\u70b9\uff0c\u6211\u4eec\u9996\u5148\u4f7f\u7528 aclear \u6e05\u9664\u73b0\u6709\u7f51\u683c\u3002\u7136\u540e\u4f7f\u7528 kesize\r\n\u8bbe\u7f6e\u5173\u952e\u70b9\u5355\u5143\u5927\u5c0f\uff0c\u6700\u540e\u91cd\u65b0\u7f51\u683c\u3002\u7ed3\u679c\u4e0d\u8a00\u800c\u55bb\u3002\r\n"
      ]
    },
    {
      "cell_type": "code",
      "execution_count": null,
      "metadata": {
        "collapsed": false
      },
      "outputs": [],
      "source": [
        "mapdl.aclear(\"ALL\")\nfor k in [k2, k3, k6, k7]:\n    mapdl.kesize(k, 0.1)\nmapdl.amesh(\"ALL\")\nmapdl.eplot(show_edges=True, show_axes=False, line_width=2, background=\"w\")"
      ]
    },
    {
      "cell_type": "markdown",
      "metadata": {},
      "source": [
        "# Smoothing the transition into a2\r\n\r\n\u540c\u6837\uff0c\u5982\u679c\u6211\u4eec\u5e0c\u671b\u51cf\u5c0f `a2`\r\n\u8fb9\u7f18\u7684\u7f51\u683c\u5c3a\u5bf8\uff0c\u6211\u4eec\u53ef\u4ee5\u5c06\u5173\u952e\u70b9\u5355\u5143\u5c3a\u5bf8\u8bbe\u7f6e\u4e3a\u4e00\u4e2a\u4e2d\u95f4\u503c\uff0c\u8fd9\u6837\u5c31\u53ef\u4ee5\u5c06\u5c3a\u5bf8\u8f6c\u6362\u7684\u4e3b\u8981\u4f4d\u7f6e\u8f6c\u79fb\u5230\r\n`a2` \u9762\u5185\u3002\r\n"
      ]
    },
    {
      "cell_type": "code",
      "execution_count": null,
      "metadata": {
        "collapsed": false
      },
      "outputs": [],
      "source": [
        "mapdl.aclear(\"ALL\")\nfor k in [k2, k3, k6, k7]:\n    mapdl.kesize(k, 0.2)\nmapdl.amesh(\"ALL\")\nmapdl.eplot(vtk=True, show_edges=True, show_axes=False, line_width=2, background=\"w\")"
      ]
    },
    {
      "cell_type": "markdown",
      "metadata": {},
      "source": [
        "# Stop mapdl\r\n"
      ]
    },
    {
      "cell_type": "code",
      "execution_count": null,
      "metadata": {
        "collapsed": false
      },
      "outputs": [],
      "source": [
        "mapdl.exit()"
      ]
    }
  ],
  "metadata": {
    "kernelspec": {
      "display_name": "Python 3",
      "language": "python",
      "name": "python3"
    },
    "language_info": {
      "codemirror_mode": {
        "name": "ipython",
        "version": 3
      },
      "file_extension": ".py",
      "mimetype": "text/x-python",
      "name": "python",
      "nbconvert_exporter": "python",
      "pygments_lexer": "ipython3",
      "version": "3.10.1"
    }
  },
  "nbformat": 4,
  "nbformat_minor": 0
}