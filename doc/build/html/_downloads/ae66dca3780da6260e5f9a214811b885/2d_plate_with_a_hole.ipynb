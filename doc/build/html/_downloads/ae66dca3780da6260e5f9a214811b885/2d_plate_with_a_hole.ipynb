{
  "cells": [
    {
      "cell_type": "markdown",
      "metadata": {},
      "source": [
        "# MAPDL 2D \u5e73\u9762\u5e94\u529b\u96c6\u4e2d\u5206\u6790 {#ref_plane_stress_concentration}\r\n\r\n\u672c\u6559\u7a0b\u5c55\u793a\u4e86\u5982\u4f55\u4f7f\u7528 PyMAPDL \u786e\u5b9a\u548c\u9a8c\u8bc1 \\\"\u5e94\u529b\u96c6\u4e2d\u7cfb\u6570\\\"\r\n\uff0c\u5148\u4f7f\u7528\u4e8c\u7ef4\u5e73\u9762\u5355\u5143\u5efa\u6a21\uff0c\u7136\u540e\u4f7f\u7528\u4e09\u7ef4\u5355\u5143\u8fdb\u884c\u9a8c\u8bc1\u3002\r\n"
      ]
    },
    {
      "cell_type": "markdown",
      "metadata": {},
      "source": [
        "\u9996\u5148\uff0c\u5c06 MAPDL \u4f5c\u4e3a\u670d\u52a1\u542f\u52a8\u3002\r\n"
      ]
    },
    {
      "cell_type": "code",
      "execution_count": null,
      "metadata": {
        "collapsed": false
      },
      "outputs": [],
      "source": [
        "import matplotlib.pyplot as plt\nimport numpy as np\n\nfrom ansys.mapdl.core import launch_mapdl\n\nmapdl = launch_mapdl()"
      ]
    },
    {
      "cell_type": "markdown",
      "metadata": {},
      "source": [
        "# Element Type and Material Properties\r\n\r\n\u672c\u793a\u4f8b\u5c06\u4f7f\u7528 PLANE183 \u5355\u5143\uff0c\u56e0\u4e3a\u53ea\u8981\u5c06\u5176 KEYOPTION 3 \u8bbe\u7f6e\u4e3a 3\r\n\u5e76\u63d0\u4f9b\u539a\u5ea6\uff0c\u5c31\u53ef\u4ee5\u4f7f\u7528\u5e73\u9762\u5355\u5143\u5bf9\u8584\u677f\u8fdb\u884c\u5efa\u6a21\u3002\r\n"
      ]
    },
    {
      "cell_type": "code",
      "execution_count": null,
      "metadata": {
        "collapsed": false
      },
      "outputs": [],
      "source": [
        "# \u672c\u4f8b\u5c06\u4f7f\u7528\u56fd\u9645\u5355\u4f4d\u5236\u3002\n\nmapdl.prep7()\nmapdl.units(\"SI\")  # SI - International system (m, kg, s, K).\n\n# \u5b9a\u4e49\u539a\u5ea6\u4e3a PLANE183 \u7684\u5355\u5143\u7c7b\u578b\nmapdl.et(1, \"PLANE183\", kop3=3)\nmapdl.r(1, 0.001)  # \u539a\u5ea6\u4e3a 0.001 \u7c73\n\n# \u5b9a\u4e49\u6750\u6599\uff08SI \u4e2d\u7684\u6807\u51c6\u94a2\uff09\nmapdl.mp(\"EX\", 1, 210e9)  # Elastic moduli in Pa (kg/(m*s**2))\nmapdl.mp(\"DENS\", 1, 7800)  # Density in kg/m3\nmapdl.mp(\"NUXY\", 1, 0.3)  # Poisson's Ratio\n\n# \u5217\u51fa\u5f53\u524d\u5b9a\u4e49\u7684\u6750\u6599\u5c5e\u6027\nprint(mapdl.mplist())"
      ]
    },
    {
      "cell_type": "markdown",
      "metadata": {},
      "source": [
        "# Geometry\r\n\r\n\u521b\u5efa\u4e00\u4e2a\u77e9\u5f62\u5e26\u5b54\u677f\u3002\u8981\u6b63\u786e\u8fd1\u4f3c\u65e0\u9650\u677f\uff0c\u6700\u5927\u5e94\u529b\u5fc5\u987b\u53d1\u751f\u5728\u8fdc\u79bb\u677f\u8fb9\u7f18\u7684\u5730\u65b9\u3002\u957f\u5bbd\u7cfb\u6570\u53ef\u4ee5\u8fd1\u4f3c\u5b9e\u73b0\u8fd9\u4e00\u70b9\u3002\r\n"
      ]
    },
    {
      "cell_type": "code",
      "execution_count": null,
      "metadata": {
        "collapsed": false
      },
      "outputs": [],
      "source": [
        "length = 0.4\nwidth = 0.1\n\nratio = 0.3  # diameter/width\ndiameter = width * ratio\nradius = diameter * 0.5\n\n\n# \u521b\u5efa\u77e9\u5f62\nrect_anum = mapdl.blc4(width=length, height=width)\n\n# \u5728\u77e9\u5f62\u4e2d\u95f4\u521b\u5efa\u4e00\u4e2a\u5706\u5f62\ncirc_anum = mapdl.cyl4(length / 2, width / 2, radius)\n\n# \u8bf7\u6ce8\u610f pymapdl \u662f\u5982\u4f55\u89e3\u6790\u8f93\u51fa\u5e76\u8fd4\u56de\u6bcf\u6761\u547d\u4ee4\u521b\u5efa\u7684 area \u7f16\u53f7\u7684\u3002\n# \u8fd9\u53ef\u4ee5\u7528\u6765\u5bf9\u8fd9\u4e9b area \u6267\u884c\u5e03\u5c14\u64cd\u4f5c\uff0c\u5c06\u5706\u4ece\u77e9\u5f62\u4e2d\u526a\u5207\u51fa\u6765\u3002\nplate_with_hole_anum = mapdl.asba(rect_anum, circ_anum) \n\n# \u6ce8\u610f\u8fd9\u91cc\u76f4\u63a5\u8fd4\u56de\u4e86\u6267\u884c\u5e03\u5c14\u51cf\u64cd\u4f5c\u540e\uff0c\u5f97\u5230\u7684\u5e26\u5b54\u77e9\u5f62\u677f\u7684\u56fe\u7d20\u7f16\u53f7\uff08\u5982\u4e0b\uff1a3\uff09\uff0c\u592a\u65b9\u4fbf\u4e86\u554a\u3002 \u2014\u2014\u2014\u2014ff\nprint(plate_with_hole_anum)"
      ]
    },
    {
      "cell_type": "markdown",
      "metadata": {},
      "source": [
        "\u6700\u540e\uff0c\u7ed8\u5236\u5e73\u677f\u7684\u7ebf\u6761\r\n"
      ]
    },
    {
      "cell_type": "code",
      "execution_count": null,
      "metadata": {
        "collapsed": false
      },
      "outputs": [],
      "source": [
        "mapdl.lplot(cpos=\"xy\", line_width=3, font_size=26, color_lines=True, background=\"w\")"
      ]
    },
    {
      "cell_type": "markdown",
      "metadata": {},
      "source": [
        "\u8fd9\u91cc\u5173\u4e8e\u8be6\u7ec6\u5177\u4f53\u7684 `**kwargs` \u53c2\u6570\u4ecb\u7ecd\uff0c\u89c1\r\n`general_plotter() <ansys.mapdl.core.plotting.general_plotter>`{.interpreted-text\r\nrole=\"func\"} \u3002\r\n"
      ]
    },
    {
      "cell_type": "markdown",
      "metadata": {},
      "source": [
        "# Meshing\r\n\r\n\u901a\u8fc7\u4e3a\u5b54\u9644\u8fd1\u7684\u7ebf\u6761\u8bbe\u7f6e `LESIZE` \uff0c\u4e3a\u7f51\u683c\u5168\u5c40\u5927\u5c0f\u8bbe\u7f6e `ESIZE`\r\n\uff0c\u5728\u5b54\u9644\u8fd1\u4f7f\u7528\u8f83\u9ad8\u7684\u5bc6\u5ea6\u5bf9\u8584\u677f\u8fdb\u884c\u7f51\u683c\u5212\u5206\uff0c\u800c\u5728\u677f\u6750\u7684\u5176\u4f59\u90e8\u5206\u4f7f\u7528\u8f83\u4f4e\u7684\u5bc6\u5ea6\u3002\r\n"
      ]
    },
    {
      "cell_type": "code",
      "execution_count": null,
      "metadata": {
        "collapsed": false
      },
      "outputs": [],
      "source": [
        "# \u7ebf\u6761\u7f16\u53f7\u53ef\u901a\u8fc7\u4f7f\u7528 ``lplot`` \u68c0\u67e5\u6765\u786e\u5b9a\n\n# \u786e\u4fdd\u5b54\u5468\u56f4\u6709 50 \u4e2a\u5355\u5143\nhole_esize = np.pi * diameter / 50  # 0.0002\nplate_esize = 0.01\n\n# \u589e\u52a0\u4e2d\u5fc3\u7f51\u683c\u7684\u5bc6\u5ea6\nmapdl.lsel(\"S\", \"LINE\", vmin=5, vmax=8)\nmapdl.lesize(\"ALL\", hole_esize, kforc=1)\nmapdl.lsel(\"ALL\")\n\n# \u51cf\u5c0f\u7f51\u683c\u6269\u5f20\u9762\u79ef\u3002\u8fd9\u6837\u53ef\u4ee5\u786e\u4fdd\u5b54\u6d1e\u9644\u8fd1\u7684\u7f51\u683c\u4fdd\u6301\u7cbe\u7ec6\u3002\nmapdl.mopt(\"EXPND\", 0.7)  # default 1\n\nmapdl.esize(plate_esize)\nmapdl.amesh(plate_with_hole_anum)\nmapdl.eplot(\n    vtk=True,\n    cpos=\"xy\",\n    show_edges=True,\n    show_axes=False,\n    line_width=2,\n    background=\"w\",\n)"
      ]
    },
    {
      "cell_type": "markdown",
      "metadata": {},
      "source": [
        "# Boundary Conditions\r\n\r\n\u5728 X \u65b9\u5411\u56fa\u5b9a\u677f\u7684\u5de6\u4fa7\uff0c\u5e76\u5728 X \u6b63\u65b9\u5411\u8bbe\u7f6e 1 kN \u7684\u529b\u3002\r\n"
      ]
    },
    {
      "cell_type": "code",
      "execution_count": null,
      "metadata": {
        "collapsed": false
      },
      "outputs": [],
      "source": [
        "# \u56fa\u5b9a\u5de6\u4fa7\u3002\nmapdl.nsel(\"S\", \"LOC\", \"X\", 0)\nmapdl.d(\"ALL\", \"UX\")\n\n# \u5728\u677f\u7684\u5de6\u4fa7 Y \u65b9\u5411\u56fa\u5b9a\u4e00\u4e2a\u8282\u70b9\u3002\n# \u5426\u5219\uff0c\u7f51\u683c\u5c06\u88ab\u5141\u8bb8\u5728 Y \u65b9\u5411\u79fb\u52a8\uff0c\u6210\u4e3a\u4e0d\u9002\u5f53\u7684\u7ea6\u675f\u7f51\u683c\u3002\nmapdl.nsel(\"R\", \"LOC\", \"Y\", width / 2)\nassert mapdl.mesh.n_node == 1\nmapdl.d(\"ALL\", \"UY\")\n\n# \u5728\u5e73\u677f\u53f3\u4fa7\u65bd\u52a0\u4e00\u4e2a\u529b\u3002\n# \u5728\u672c\u4f8b\u4e2d\uff0c\u6211\u4eec\u9009\u62e9\u4e86\u8584\u677f\u6700\u53f3\u4fa7\u7684\u8282\u70b9\u3002\nmapdl.nsel(\"S\", \"LOC\", \"X\", length)\n\n# \u786e\u8ba4\u53ea\u9009\u62e9\u4e86\u4e0e\u8fb9\u957f\u76f8\u7b49\u7684\u8282\u70b9\uff1a\nassert np.allclose(mapdl.mesh.nodes[:, 0], length)\n\n# \u63a5\u4e0b\u6765\uff0c\u4e3a\u8fd9\u4e9b\u8282\u70b9\u8026\u5408 DOF\u3002\n# \u8fd9\u6837\uff0c\u6211\u4eec\u5c31\u53ef\u4ee5\u4e3a\u4e00\u4e2a\u8282\u70b9\u63d0\u4f9b\u4e00\u4e2a\u529b\uff0c\u800c\u8fd9\u4e2a\u529b\u5c06\u5206\u6563\u5230\u8fd9\u4e2a\u8026\u5408\u96c6\u7684\u6240\u6709\u8282\u70b9\u4e0a\u3002\nmapdl.cp(5, \"UX\", \"ALL\")\n\n# \u5728\u8be5\u7ec4\u4e2d\u9009\u62e9\u4e00\u4e2a\u8282\u70b9\uff0c\u5e76\u5bf9\u5176\u65bd\u52a0\u4e00\u4e2a\u529b\u3002\n# \u6211\u4eec\u4f7f\u7528 \"R\" \u4ece\u5f53\u524d\u8282\u70b9\u7ec4\u4e2d\u91cd\u65b0\u9009\u62e9\u3002\nmapdl.nsel(\"R\", \"LOC\", \"Y\", width / 2)\nmapdl.f(\"ALL\", \"FX\", 1000)\n\n# \u6700\u540e\uff0c\u8bf7\u52a1\u5fc5\u518d\u6b21\u9009\u62e9\u6240\u6709\u8282\u70b9\uff0c\u4ee5\u6c42\u89e3\u6574\u4e2a solution\nmapdl.allsel(mute=True)"
      ]
    },
    {
      "cell_type": "markdown",
      "metadata": {},
      "source": [
        "# Solve the Static Problem\r\n\r\n\u6c42\u89e3\u9759\u529b\u5b66\u95ee\u9898\r\n"
      ]
    },
    {
      "cell_type": "code",
      "execution_count": null,
      "metadata": {
        "collapsed": false
      },
      "outputs": [],
      "source": [
        "mapdl.solution()\nmapdl.antype(\"STATIC\")\noutput = mapdl.solve()\nmapdl.finish()\nprint(output)"
      ]
    },
    {
      "cell_type": "markdown",
      "metadata": {},
      "source": [
        "# Post-Processing\r\n\r\n\u9759\u6001\u7ed3\u679c\u53ef\u4ee5\u5728 MAPDL \u5185\u6216 MAPDL \u5916\u4f7f\u7528 `pyansys`\r\n\u8fdb\u884c\u540e\u5904\u7406\u3002\u672c\u4f8b\u5c55\u793a\u4e86\u5982\u4f55\u4f7f\u7528 `pyansys` \u7ed3\u679c\u8bfb\u53d6\u5668\u63d0\u53d6 von Mises\r\n\u5e94\u529b\u5e76\u7ed8\u5236\u5176\u66f2\u7ebf\u3002\r\n"
      ]
    },
    {
      "cell_type": "code",
      "execution_count": null,
      "metadata": {
        "collapsed": false
      },
      "outputs": [],
      "source": [
        "# \u4ece ``mapdl`` \u5b9e\u4f8b\u4e2d\u6293\u53d6\u7ed3\u679c\nresult = mapdl.result\n# \u4e0b\u9762\u8fd9\u4e2a fun \u662f PyMAPDL Reader \u91cc\u9762\u7684\u3002 \u2014\u2014\u2014\u2014ff\nresult.plot_principal_nodal_stress(\n    0, # \u7d22\u5f15\u4e3a\u96f6\u7684\u7d2f\u79ef\u7ed3\u679c\u7f16\u53f7\uff0c\u6216\u5305\u542b\u8bf7\u6c42\u7ed3\u679c\uff08\u6b65\u3001\u5b50\u6b65\uff09\u7684\u5217\u8868\u3002\n    \"SEQV\", # \u7b49\u6548\u5e94\u529b\n    lighting=False,\n    cpos=\"xy\", # The camera position to use. \u4f7f\u7528\u7684\u6444\u50cf\u673a\u4f4d\u7f6e\u3002\n    background=\"w\",\n    text_color=\"k\",\n    add_text=True, # \u63a7\u5236\u5de6\u4e0a\u89d2\n) \n\nnnum, stress = result.principal_nodal_stress(0)\nvon_mises = stress[:, -1]  # von-Mises \u5e94\u529b\u662f\u6700\u53f3\u8fb9\u7684\u4e00\u5217\n\n# \u5fc5\u987b\u4f7f\u7528 `nanmax` \u83b7\u53d6\u6700\u5927\u7b49\u6548\u5e94\u529b\nmax_stress = np.nanmax(von_mises) # \u8fd4\u56de\u6570\u7ec4\u7684\u6700\u5927\u503c\u6216\u6cbf\u5750\u6807\u8f74\u7684\u6700\u5927\u503c\u3002"
      ]
    },
    {
      "cell_type": "markdown",
      "metadata": {},
      "source": [
        "# Compute the Stress Concentration\r\n\r\n\u5e94\u529b\u96c6\u4e2d $K_t$\r\n\u662f\u5b54\u7684\u6700\u5927\u5e94\u529b\u4e0e\u8fdc\u573a\u5e94\u529b\u6216\u8fdc\u79bb\u5b54\u7684\u70b9\u7684\u5e73\u5747\u622a\u9762\u5e94\u529b\u4e4b\u6bd4\u3002\u5206\u6790\u65f6\uff0c\u53ef\u4ee5\u7528\u4ee5\u4e0b\u65b9\u6cd5\u8ba1\u7b97\uff1a\r\n\r\n$\\sigma_{nom} = \\frac{F}{wt}$\r\n\r\n\u5176\u4e2d\r\n\r\n-   $F$ is the force\r\n-   $w$ is the width of the plate\r\n-   $t$ is the thickness of the plate.\r\n\r\n\u5b9e\u9a8c\u4e2d\uff0c\u8ba1\u7b97\u65b9\u6cd5\u662f\u53d6\u5e73\u677f\u6700\u53f3\u4fa7\u8282\u70b9\u7684\u5e73\u5747\u503c\u3002\r\n"
      ]
    },
    {
      "cell_type": "code",
      "execution_count": null,
      "metadata": {
        "collapsed": false
      },
      "outputs": [],
      "source": [
        "# \u6211\u4eec\u5728\u8fd9\u91cc\u4f7f\u7528 `nanmean` \u83b7\u53d6\u5e73\u5747\u503c\nmask = result.mesh.nodes[:, 0] == length\nfar_field_stress = np.nanmean(von_mises[mask])\nprint(\"Far field von Mises stress: %e\" % far_field_stress)\n# \u8fd9\u51e0\u4e4e\u6b63\u597d\u7b49\u4e8e 10000000.0 \u5e15\u7684\u5206\u6790\u503c"
      ]
    },
    {
      "cell_type": "markdown",
      "metadata": {},
      "source": [
        "\u7531\u4e8e\u5b54\u6a2a\u622a\u9762\u4e0a\u7684\u9884\u671f\u6807\u79f0\u5e94\u529b\u4f1a\u968f\u7740\u5b54\u5c3a\u5bf8\u7684\u589e\u5927\u800c\u589e\u5927\uff0c\u65e0\u8bba\u5e94\u529b\u96c6\u4e2d\u4e0e\u5426\uff0c\r\n\u90fd\u5fc5\u987b\u5bf9\u5e94\u529b\u8fdb\u884c\u8c03\u6574\uff0c\u4ee5\u83b7\u5f97\u6b63\u786e\u7684\u5e94\u529b\u3002\u8be5\u5e94\u529b\u6839\u636e\u5bbd\u5ea6\u4e0e\u4fee\u6b63\u622a\u9762\u5bbd\u5ea6\u4e4b\u6bd4\u8fdb\u884c\u8c03\u6574\u3002\r\n"
      ]
    },
    {
      "cell_type": "code",
      "execution_count": null,
      "metadata": {
        "collapsed": false
      },
      "outputs": [],
      "source": [
        "adj = width / (width - diameter) # adjusted\nstress_adj = far_field_stress * adj\n\n# \u7136\u540e\uff0c\u5e94\u529b\u96c6\u4e2d\u7cfb\u6570\u5c31\u662f\u6700\u5927\u5e94\u529b\u9664\u4ee5\u8c03\u6574\u540e\u7684\u8fdc\u573a\u5e94\u529b\u3002\nstress_con = max_stress / stress_adj\nprint(\"Stress Concentration: %.2f\" % stress_con)"
      ]
    },
    {
      "cell_type": "markdown",
      "metadata": {},
      "source": [
        "# Batch Analysis\r\n\r\n\u4e0a\u8ff0\u811a\u672c\u53ef\u7528\u4e8e\u8ba1\u7b97\u5404\u79cd\u5b54\u5f84\u7684\u5e94\u529b\u96c6\u4e2d\u3002\u5bf9\u4e8e\u6bcf\u4e2a\u6279\u5904\u7406\uff0cMAPDL\r\n\u90fd\u4f1a\u91cd\u7f6e\uff0c\u5e76\u751f\u6210\u76f8\u5e94\u51e0\u4f55\u4f53\u3002\r\n"
      ]
    },
    {
      "cell_type": "code",
      "execution_count": null,
      "metadata": {
        "collapsed": false
      },
      "outputs": [],
      "source": [
        "def compute_stress_con(ratio):\n    \"\"\"\u8ba1\u7b97\u5e26\u5b54\u94a2\u677f\u5728\u5355\u8f74\u529b\u4f5c\u7528\u4e0b\u7684\u5e94\u529b\u96c6\u4e2d\u7cfb\u6570\u3002\n    \"\"\"\n    mapdl.clear(\"NOSTART\")\n    mapdl.prep7()\n    mapdl.units(\"SI\")  # SI - International system (m, kg, s, K).\n\n    # define a PLANE183 element type with thickness\n    mapdl.et(1, \"PLANE183\", kop3=3)\n    mapdl.r(1, 0.001)  # thickness of 0.001 meters)\n\n    # Define a material (nominal steel in SI)\n    mapdl.mp(\"EX\", 1, 210e9)  # Elastic moduli in Pa (kg/(m*s**2))\n    mapdl.mp(\"DENS\", 1, 7800)  # Density in kg/m3\n    mapdl.mp(\"NUXY\", 1, 0.3)  # Poisson's Ratio\n    mapdl.emodif(\"ALL\", \"MAT\", 1)\n\n    # Geometry\n    # ~~~~~~~~\n    # Create a rectangular area with the hole in the middle\n    diameter = width * ratio\n    radius = diameter * 0.5\n\n    # create the rectangle\n    rect_anum = mapdl.blc4(width=length, height=width)\n\n    # create a circle in the middle of the rectangle\n    circ_anum = mapdl.cyl4(length / 2, width / 2, radius)\n\n    # Note how pyansys parses the output and returns the area numbers\n    # created by each command.  This can be used to execute a boolean\n    # operation on these areas to cut the circle out of the rectangle.\n    plate_with_hole_anum = mapdl.asba(rect_anum, circ_anum)\n\n    # Meshing\n    # ~~~~~~~\n    # Mesh the plate using a higher density near the hole and a lower\n    # density for the remainder of the plate\n\n    mapdl.aclear(\"all\")\n\n    # ensure there are at least 100 elements around the hole\n    hole_esize = np.pi * diameter / 100  # 0.0002\n    plate_esize = 0.01\n\n    # increased the density of the mesh at the center\n    mapdl.lsel(\"S\", \"LINE\", vmin=5, vmax=8)\n    mapdl.lesize(\"ALL\", hole_esize, kforc=1)\n    mapdl.lsel(\"ALL\")\n\n    # Decrease the area mesh expansion.  This ensures that the mesh\n    # remains fine nearby the hole\n    mapdl.mopt(\"EXPND\", 0.7)  # default 1\n\n    mapdl.esize(plate_esize)\n    mapdl.amesh(plate_with_hole_anum)\n\n    # Boundary Conditions\n    # ~~~~~~~~~~~~~~~~~~~\n    # Fix the left-hand side of the plate in the X direction\n    mapdl.nsel(\"S\", \"LOC\", \"X\", 0)\n    mapdl.d(\"ALL\", \"UX\")\n\n    # Fix a single node on the left-hand side of the plate in the Y direction\n    mapdl.nsel(\"R\", \"LOC\", \"Y\", width / 2)\n    assert mapdl.mesh.n_node == 1\n    mapdl.d(\"ALL\", \"UY\")\n\n    # Apply a force on the right-hand side of the plate.  For this\n    # example, we select the right-hand side of the plate.\n    mapdl.nsel(\"S\", \"LOC\", \"X\", length)\n\n    # Next, couple the DOF for these nodes\n    mapdl.cp(5, \"UX\", \"ALL\")\n\n    # Again, select a single node in this set and apply a force to it\n    mapdl.nsel(\"r\", \"loc\", \"y\", width / 2)\n    mapdl.f(\"ALL\", \"FX\", 1000)\n\n    # finally, be sure to select all nodes again to solve the entire solution\n    mapdl.allsel()\n\n    # Solve the Static Problem\n    # ~~~~~~~~~~~~~~~~~~~~~~~~\n    mapdl.solution()\n    mapdl.antype(\"STATIC\")\n    mapdl.solve()\n    mapdl.finish()\n\n    # Post-Processing\n    # ~~~~~~~~~~~~~~~\n    # grab the stress from the result\n    result = mapdl.result\n    nnum, stress = result.principal_nodal_stress(0)\n    von_mises = stress[:, -1]\n    max_stress = np.nanmax(von_mises)\n\n    # compare to the \"far field\" stress by getting the mean value of the\n    # stress at the wall\n    mask = result.mesh.nodes[:, 0] == length\n    far_field_stress = np.nanmean(von_mises[mask])\n\n    # adjust by the cross sectional area at the hole\n    adj = width / (width - diameter)\n    stress_adj = far_field_stress * adj\n\n    # finally, compute the stress concentration\n    return max_stress / stress_adj"
      ]
    },
    {
      "cell_type": "markdown",
      "metadata": {},
      "source": [
        "\u8fd0\u884c\u6279\u5904\u7406\u5e76\u8bb0\u5f55\u5e94\u529b\u96c6\u4e2d\r\n"
      ]
    },
    {
      "cell_type": "code",
      "execution_count": null,
      "metadata": {
        "collapsed": false
      },
      "outputs": [],
      "source": [
        "k_t_exp = []\nratios = np.linspace(0.01, 0.5, 10)\nprint(\"    Ratio  : Stress Concentration (K_t)\")\nfor ratio in ratios:\n    stress_con = compute_stress_con(ratio)\n    print(\"%10.4f : %10.4f\" % (ratio, stress_con))\n    k_t_exp.append(stress_con)"
      ]
    },
    {
      "cell_type": "markdown",
      "metadata": {},
      "source": [
        "# Analytical Comparison\r\n\r\n\u5e94\u529b\u96c6\u4e2d\u901a\u5e38\u662f\u901a\u8fc7\u53c2\u8003\u5404\u79cd\u51e0\u4f55\u5f62\u72b6\u7684\u8868\u683c\u7ed3\u679c\u6216\u591a\u9879\u5f0f\u62df\u5408\u5f97\u5230\u7684\u3002 \u6839\u636e\r\nPeterson \u7684\u300a\u5e94\u529b\u96c6\u4e2d\u7cfb\u6570\u300b\uff08ISBN\r\n0470048247\uff09\uff0c\u5355\u8f74\u62c9\u4f38\u8584\u677f\u4e0a\u7684\u5b54\u7684\u89e3\u6790\u65b9\u7a0b\u4e3a\uff1a\r\n\r\n$k_t = 3 - 3.14\\frac{d}{h} + 3.667\\left(\\frac{d}{h}\\right)^2 - 1.527\\left(\\frac{d}{h}\\right)^3$\r\n\r\nWhere:\r\n\r\n-   $k_t$ \u662f\u5e94\u529b\u96c6\u4e2d\u7cfb\u6570\r\n-   $d$ \u662f\u5706\u7684\u76f4\u5f84\r\n-   $h$ \u662f\u8584\u677f\u7684\u9ad8\u5ea6\r\n\r\n\u5982\u4e0b\u56fe\u6240\u793a\uff0c\u4f7f\u7528 PLANE183 \u5355\u5143\uff0cANSYS\r\n\u4e0e\u8be5\u51e0\u4f55\u5f62\u72b6\u7684\u5df2\u77e5\u8868\u683c\u7ed3\u679c\u975e\u5e38\u543b\u5408\u3002\r\n\u6839\u636e\u677f\u7684\u9ad8\u5ea6\u548c\u5bbd\u5ea6\u4e4b\u95f4\u7684\u6bd4\u4f8b\uff0c\u7ed3\u679c\u7684\u62df\u5408\u7a0b\u5ea6\u53ef\u80fd\u4f1a\u6709\u6240\u4e0d\u540c\u3002\r\n"
      ]
    },
    {
      "cell_type": "code",
      "execution_count": null,
      "metadata": {
        "collapsed": false
      },
      "outputs": [],
      "source": [
        "# where ratio is (d/h)\nk_t_anl = 3 - 3.14 * ratios + 3.667 * ratios**2 - 1.527 * ratios**3\n\nplt.plot(ratios, k_t_anl, label=r\"$K_t$ Analytical\")\nplt.plot(ratios, k_t_exp, label=r\"$K_t$ ANSYS\")\nplt.legend()\nplt.xlabel(\"\u5b54\u5f84\u4e0e\u677f\u5bbd\u4e4b\u6bd4\")\nplt.ylabel(\"\u5e94\u529b\u96c6\u4e2d\")\nplt.show()"
      ]
    },
    {
      "cell_type": "markdown",
      "metadata": {},
      "source": [
        "# Stop mapdl\r\n"
      ]
    },
    {
      "cell_type": "code",
      "execution_count": null,
      "metadata": {
        "collapsed": false
      },
      "outputs": [],
      "source": [
        "mapdl.exit()"
      ]
    }
  ],
  "metadata": {
    "kernelspec": {
      "display_name": "Python 3",
      "language": "python",
      "name": "python3"
    },
    "language_info": {
      "codemirror_mode": {
        "name": "ipython",
        "version": 3
      },
      "file_extension": ".py",
      "mimetype": "text/x-python",
      "name": "python",
      "nbconvert_exporter": "python",
      "pygments_lexer": "ipython3",
      "version": "3.10.1"
    }
  },
  "nbformat": 4,
  "nbformat_minor": 0
}