{
  "cells": [
    {
      "cell_type": "markdown",
      "metadata": {},
      "source": [
        "# Volumes {#ref_basic-geometry-volumes}\r\n\r\n\u672c\u4f8b\u6f14\u793a\u4e86\u5982\u4f55\u4f7f\u7528\u4f53\u79ef\u547d\u4ee4\u521b\u5efa\u57fa\u672c\u51e0\u4f55\u4f53\u3002\r\n"
      ]
    },
    {
      "cell_type": "code",
      "execution_count": null,
      "metadata": {
        "collapsed": false
      },
      "outputs": [],
      "source": [
        "import numpy as np\n\nfrom ansys.mapdl.core import launch_mapdl\n\n# start MAPDL and enter the pre-processing routine\nmapdl = launch_mapdl()\nmapdl.clear()\nmapdl.prep7()\nprint(mapdl)"
      ]
    },
    {
      "cell_type": "markdown",
      "metadata": {},
      "source": [
        "# APDL Command: V\r\n\r\n\u901a\u8fc7\u5173\u952e\u70b9\u5b9a\u4e49\u4f53\u79ef\u3002\r\n"
      ]
    },
    {
      "cell_type": "code",
      "execution_count": null,
      "metadata": {
        "collapsed": false
      },
      "outputs": [],
      "source": [
        "# \u521b\u5efa\u4e00\u4e2a\u7b80\u5355\u7684\u7acb\u65b9\u4f53\u3002\n\nk0 = mapdl.k(\"\", 0, 0, 0)\nk1 = mapdl.k(\"\", 1, 0, 0)\nk2 = mapdl.k(\"\", 1, 1, 0)\nk3 = mapdl.k(\"\", 0, 1, 0)\nk4 = mapdl.k(\"\", 0, 0, 1)\nk5 = mapdl.k(\"\", 1, 0, 1)\nk6 = mapdl.k(\"\", 1, 1, 1)\nk7 = mapdl.k(\"\", 0, 1, 1)\nv0 = mapdl.v(k0, k1, k2, k3, k4, k5, k6, k7)\nmapdl.vplot(show_lines=True)"
      ]
    },
    {
      "cell_type": "markdown",
      "metadata": {},
      "source": [
        "\u521b\u5efa\u4e00\u4e2a\u4e09\u68f1\u67f1\u4f53\r\n"
      ]
    },
    {
      "cell_type": "code",
      "execution_count": null,
      "metadata": {
        "collapsed": false
      },
      "outputs": [],
      "source": [
        "mapdl.clear()\nmapdl.prep7()\n\nk0 = mapdl.k(\"\", 0, 0, 0)\nk1 = mapdl.k(\"\", 1, 0, 0)\nk2 = mapdl.k(\"\", 1, 1, 0)\nk3 = mapdl.k(\"\", 0, 1, 0)\nk4 = mapdl.k(\"\", 0, 0, 1)\nk5 = mapdl.k(\"\", 1, 0, 1)\nk6 = mapdl.k(\"\", 1, 1, 1)\nk7 = mapdl.k(\"\", 0, 1, 1)\nv1 = mapdl.v(k0, k1, k2, k2, k4, k5, k6, k6)\nmapdl.vplot(show_lines=True)"
      ]
    },
    {
      "cell_type": "markdown",
      "metadata": {},
      "source": [
        "Create a triangular prism\r\n"
      ]
    },
    {
      "cell_type": "code",
      "execution_count": null,
      "metadata": {
        "collapsed": false
      },
      "outputs": [],
      "source": [
        "mapdl.clear()\nmapdl.prep7()\n\nk0 = mapdl.k(\"\", 0, 0, 0)\nk1 = mapdl.k(\"\", 1, 0, 0)\nk2 = mapdl.k(\"\", 1, 1, 0)\nk3 = mapdl.k(\"\", 0, 0, 1)\nv0 = mapdl.v(k0, k1, k2, k2, k3, k3, k3, k3)\nmapdl.vplot(show_lines=True)"
      ]
    },
    {
      "cell_type": "markdown",
      "metadata": {},
      "source": [
        "# APDL Command: VA\r\n\r\n\u751f\u6210\u4e00\u4e2a\u4ee5\u73b0\u6709 area \u4e3a\u8fb9\u754c\u7684\u4f53\u79ef\u3002\r\n\r\n\u521b\u5efa\u4e00\u4e2a\u4ee5 4 \u4e2a area \u4e3a\u8fb9\u754c\u7684\u7b80\u5355\u56db\u9762\u4f53\r\n"
      ]
    },
    {
      "cell_type": "code",
      "execution_count": null,
      "metadata": {
        "collapsed": false
      },
      "outputs": [],
      "source": [
        "mapdl.clear()\nmapdl.prep7()\nk0 = mapdl.k(\"\", -1, 0, 0)\nk1 = mapdl.k(\"\", 1, 0, 0)\nk2 = mapdl.k(\"\", 1, 1, 0)\nk3 = mapdl.k(\"\", 1, 0.5, 1)\n\n# create faces\na0 = mapdl.a(k0, k1, k2)\na1 = mapdl.a(k0, k1, k3)\na2 = mapdl.a(k1, k2, k3)\na3 = mapdl.a(k0, k2, k3)\n\n# \u751f\u6210\u5e76\u7ed8\u5236\u4f53\u79ef\nvnum = mapdl.va(a0, a1, a2, a3)\nmapdl.aplot(show_lines=True, show_bounds=True)"
      ]
    },
    {
      "cell_type": "markdown",
      "metadata": {},
      "source": [
        "# APDL Command: VDRAG\r\n\r\n\u901a\u8fc7\u6cbf\u8def\u5f84\u62d6\u52a8 area \u751f\u6210\u4f53\u79ef\u3002\r\n\r\n\u521b\u5efa\u4e00\u4e2a\u5e26\u5b54\u7684\u6b63\u65b9\u5f62\uff0c\u7136\u540e\u6cbf\u5f27\u7ebf\u62d6\u52a8\u3002\r\n"
      ]
    },
    {
      "cell_type": "code",
      "execution_count": null,
      "metadata": {
        "collapsed": false
      },
      "outputs": [],
      "source": [
        "mapdl.clear()\nmapdl.prep7()\n\n# \u521b\u5efa\u4e00\u4e2a\u5e26\u5b54\u7684\u6b63\u65b9\u5f62\u3002\nanum0 = mapdl.blc4(0, 0, 1, 1)\nanum1 = mapdl.blc4(0.25, 0.25, 0.5, 0.5)\naout = mapdl.asba(anum0, anum1)\n\nk0 = mapdl.k(\"\", 0, 0, 0)\nk1 = mapdl.k(\"\", 1, 0, 1)\nk2 = mapdl.k(\"\", 1, 0, 0)\nl0 = mapdl.larc(k0, k1, k2, 2)\nmapdl.vdrag(aout, nlp1=l0)\nmapdl.vplot(show_lines=True, quality=5)"
      ]
    },
    {
      "cell_type": "markdown",
      "metadata": {},
      "source": [
        "# APDL Command: VEXT\r\n\r\n\u901a\u8fc7\u62c9\u4f38 area \u751f\u6210\u5176\u4ed6\u4f53\u79ef\u3002\r\n\r\n\u6324\u51fa\u4e00\u4e2a\u5706\uff0c\u521b\u5efa\u4e00\u4e2a\u57fa\u672c\u5706\u67f1\u4f53\u3002\r\n"
      ]
    },
    {
      "cell_type": "code",
      "execution_count": null,
      "metadata": {
        "collapsed": false
      },
      "outputs": [],
      "source": [
        "mapdl.clear()\nmapdl.prep7()\n\n# first, create an area from a circle\nk0 = mapdl.k(\"\", 0, 0, 0)\nk1 = mapdl.k(\"\", 0, 0, 1)\nk2 = mapdl.k(\"\", 0, 0, 0.5)\ncarc0 = mapdl.circle(k0, 1, k1)\na0 = mapdl.al(*carc0)\n\n# next, extrude it and plot it\nmapdl.vext(a0, dz=4)\nmapdl.vplot(show_lines=True, quality=5)"
      ]
    },
    {
      "cell_type": "markdown",
      "metadata": {},
      "source": [
        "\u4f7f\u7528 `rx` \u548c `ry` \u53c2\u6570\u521b\u5efa\u9525\u5f62\u5706\u67f1\u4f53\u3002\r\n"
      ]
    },
    {
      "cell_type": "code",
      "execution_count": null,
      "metadata": {
        "collapsed": false
      },
      "outputs": [],
      "source": [
        "mapdl.vdele(\"all\")\nmapdl.vext(a0, dz=4, rx=0.3, ry=0.3, rz=1)\nmapdl.vplot(show_lines=True, quality=5)"
      ]
    },
    {
      "cell_type": "markdown",
      "metadata": {},
      "source": [
        "# APDL Command: VROTAT\r\n\r\n\u901a\u8fc7\u7ed5\u8f74\u65cb\u8f6c\u9762\u79ef\u56fe\u6848\u751f\u6210\u5706\u67f1\u4f53\u79ef\u3002\r\n\r\n\u56f4\u7ed5 Z \u8f74\u65cb\u8f6c\u4e00\u4e2a\u5706\uff0c\u521b\u5efa\u4e00\u4e2a\u73af\u5f62\u56fe\u6848\r\n"
      ]
    },
    {
      "cell_type": "code",
      "execution_count": null,
      "metadata": {
        "collapsed": false
      },
      "outputs": [],
      "source": [
        "mapdl.clear()\nmapdl.prep7()\n\n# \u9996\u5148\uff0c\u4ece\u5706\u521b\u5efa\u4e00\u4e2a area \nhoop_radius = 10\nhoop_thickness = 0.5\nk0 = mapdl.k(\"\", hoop_radius, 0, 0)\nk1 = mapdl.k(\"\", hoop_radius, 1, 0)\nk2 = mapdl.k(\"\", hoop_radius, 0, hoop_thickness)\ncarc0 = mapdl.circle(k0, 1, k1)\na0 = mapdl.al(*carc0)\n\n# define a Z-axis\nk_axis0 = mapdl.k(\"\", 0, 0, 0)\nk_axis1 = mapdl.k(\"\", 0, 0, 1)\n\n# \u56f4\u7ed5 Z \u8f74\u65cb\u8f6c\u3002\u9ed8\u8ba4\u60c5\u51b5\u4e0b\uff0c\u5b83\u5c06\u65cb\u8f6c 360 \u5ea6\nmapdl.vrotat(a0, pax1=k_axis0, pax2=k_axis1)\nmapdl.vplot(show_lines=True, quality=5)"
      ]
    },
    {
      "cell_type": "markdown",
      "metadata": {},
      "source": [
        "# APDL Command: VSYMM\r\n\r\n\u901a\u8fc7\u5bf9\u79f0\u53cd\u5c04\u4ece\u4f53\u79ef\u751f\u6210\u4f53\u79ef\u3002\r\n\r\n\u901a\u8fc7\u5728 YZ \u5e73\u9762\u548c XZ \u5e73\u9762\u4e0a\u53cd\u5c04\u5355\u4e2a\u56fe\u5757\uff0c\u521b\u5efa\u56db\u4e2a\u56fe\u5757\u3002\r\n"
      ]
    },
    {
      "cell_type": "code",
      "execution_count": null,
      "metadata": {
        "collapsed": false
      },
      "outputs": [],
      "source": [
        "mapdl.clear()\nmapdl.prep7()\n\nvnum = mapdl.blc4(1, 1, 1, 1, depth=1)\nmapdl.vsymm(\"X\", vnum)\nmapdl.vsymm(\"Y\", \"ALL\")\n\nmapdl.vplot(show_lines=True, show_bounds=True)"
      ]
    },
    {
      "cell_type": "markdown",
      "metadata": {},
      "source": [
        "# Volume IDs\r\n\r\n\u8fd4\u56de\u4e00\u4e2a volume \u7f16\u53f7\u6570\u7ec4\u3002\r\n"
      ]
    },
    {
      "cell_type": "code",
      "execution_count": null,
      "metadata": {
        "collapsed": false
      },
      "outputs": [],
      "source": [
        "vnum = mapdl.geometry.vnum\nvnum"
      ]
    },
    {
      "cell_type": "markdown",
      "metadata": {},
      "source": [
        "# Volume Geometry\r\n\r\n\u53ef\u901a\u8fc7 `geometry.volumes` \u65b9\u6cd5\u8bbf\u95ee\u4f53\u79ef\u51e0\u4f55\u56fe\u5f62\u3002\r\n"
      ]
    },
    {
      "cell_type": "code",
      "execution_count": null,
      "metadata": {
        "collapsed": false
      },
      "outputs": [],
      "source": [
        "volume_mesh = mapdl.geometry.volumes\nvolume_mesh"
      ]
    },
    {
      "cell_type": "markdown",
      "metadata": {},
      "source": [
        "# Volume Selection\r\n\r\n\u9009\u62e9 volume \u6709\u4e24\u79cd\u65b9\u6cd5\uff0c\u4e00\u79cd\u662f\u65e7\u7684 \\\"\u4f20\u7edf\\\"\r\n\u98ce\u683c\uff0c\u53e6\u4e00\u79cd\u662f\u65b0\u7684\u98ce\u683c\u3002\u65e7\u5f0f\u65b9\u6cd5\u5bf9\u4e8e\u90a3\u4e9b\u719f\u6089\u73b0\u6709 MAPDL\r\n\u547d\u4ee4\u7684\u4eba\u6765\u8bf4\u5f88\u6709\u4ef7\u503c\uff0c\u800c\u65b0\u5f0f\u65b9\u6cd5\u5219\u9002\u7528\u4e8e\u4ee5 pythonic \u65b9\u5f0f\u9009\u62e9 volume \u3002\r\n\r\n\u6b64\u793a\u4f8b\u751f\u6210\u4e00\u7cfb\u5217\u968f\u673a volume \uff0c\u5e76\u9009\u62e9\u5b83\u4eec\r\n"
      ]
    },
    {
      "cell_type": "code",
      "execution_count": null,
      "metadata": {
        "collapsed": false
      },
      "outputs": [],
      "source": [
        "mapdl.clear()\nmapdl.prep7()\n\n\ndef generate_random_volume():\n    start_x, start_y, height, width, depth = np.random.random(5)\n    mapdl.blc4(start_x * 10, start_y * 10, height, width, depth)\n\n\n# create 20 random volumes\nfor _ in range(20):\n    generate_random_volume()\n\n# Print the volume numbers\nprint(mapdl.geometry.vnum)"
      ]
    },
    {
      "cell_type": "markdown",
      "metadata": {},
      "source": [
        "\u4f7f\u7528\u65e7\u5f0f\u547d\u4ee4\u6bcf\u9694\u4e00\u4e2a\u9009\u62e9 volume \u3002\r\n"
      ]
    },
    {
      "cell_type": "code",
      "execution_count": null,
      "metadata": {
        "collapsed": false
      },
      "outputs": [],
      "source": [
        "mapdl.vsel(\"S\", \"VOLU\", \"\", 1, 20, 2)\nprint(mapdl.geometry.vnum)"
      ]
    },
    {
      "cell_type": "markdown",
      "metadata": {},
      "source": [
        "\u4f7f\u7528\u65b0\u6837\u5f0f\u547d\u4ee4\u6bcf\u9694\u4e00\u4e2a\u9009\u62e9 volume \u3002\r\n\r\n\u8bf7\u6ce8\u610f\uff0c\u5728 MAPDL \u4e2d\uff0cItem ID \u4ee5 1 \u4e3a\u57fa\u7840\uff0c\u800c Python \u8303\u56f4\u4ee5 0 \u4e3a\u57fa\u7840\u3002\r\n"
      ]
    },
    {
      "cell_type": "code",
      "execution_count": null,
      "metadata": {
        "collapsed": false
      },
      "outputs": [],
      "source": [
        "mapdl.geometry.volume_select(range(1, 21, 2))\nprint(mapdl.geometry.vnum)"
      ]
    },
    {
      "cell_type": "markdown",
      "metadata": {},
      "source": [
        "\u4ee5\u5217\u8868\u65b9\u5f0f\u9009\u62e9 volume\r\n\r\n\u8bf7\u6ce8\u610f\uff0c\u5982\u679c\u60a8\u60f3\u67e5\u770b\u6240\u9009\u5185\u5bb9\uff0c\u53ef\u4ee5`return_selected`\u3002\u8fd9\u5728\u4ece\u73b0\u6709 volume\r\n\u91cd\u65b0\u9009\u62e9\u65f6\u975e\u5e38\u6709\u7528\u3002\r\n\r\n\u6ce8\u610f\uff0c\u8fd9\u91cc\u4e5f\u53ef\u4ee5\u4f7f\u7528 numpy \u6570\u7ec4\u3002\r\n"
      ]
    },
    {
      "cell_type": "code",
      "execution_count": null,
      "metadata": {
        "collapsed": false
      },
      "outputs": [],
      "source": [
        "items = mapdl.geometry.volume_select([1, 5, 10, 20], return_selected=True)\nprint(items)"
      ]
    },
    {
      "cell_type": "markdown",
      "metadata": {},
      "source": [
        "# APDL Command: VPLOT\r\n\r\n\u5728\u663e\u793a\u5173\u952e\u70b9\u7f16\u53f7\u7684\u540c\u65f6\u7ed8\u5236\u5f69\u8272 volume \u56fe\u3002\r\n\r\n\u6240\u6709\u5e38\u89c1\u7684\u7ed8\u56fe\u65b9\u6cd5\u90fd\u6709\u591a\u79cd\u7ed8\u56fe\u9009\u9879\u3002\r\n"
      ]
    },
    {
      "cell_type": "code",
      "execution_count": null,
      "metadata": {
        "collapsed": false
      },
      "outputs": [],
      "source": [
        "mapdl.clear()\nmapdl.prep7()\n\n# \u521b\u5efa\u57fa\u672c\u7684\u51e0\u4f55\u6f14\u793a\nmapdl.cyl4(xcenter=0, ycenter=0, rad1=1, theta1=0, rad2=2, depth=1)\nmapdl.vsymm(\"Y\", \"ALL\")\n\n# \u5728\u663e\u793a\u8fb9\u754c\u7684\u540c\u65f6\u8fdb\u884c\u7ed8\u56fe\uff0c\u5e76\u7981\u7528\u989d\u5916\u7684\u7ebf\u6761\u7ed8\u56fe\u3002\nmapdl.vplot(show_bounds=True, show_lines=False, quality=1)\nmapdl.vplot(vtk=False)"
      ]
    },
    {
      "cell_type": "markdown",
      "metadata": {},
      "source": [
        "# Stop mapdl\r\n"
      ]
    },
    {
      "cell_type": "code",
      "execution_count": null,
      "metadata": {
        "collapsed": false
      },
      "outputs": [],
      "source": [
        "mapdl.exit()"
      ]
    }
  ],
  "metadata": {
    "kernelspec": {
      "display_name": "Python 3",
      "language": "python",
      "name": "python3"
    },
    "language_info": {
      "codemirror_mode": {
        "name": "ipython",
        "version": 3
      },
      "file_extension": ".py",
      "mimetype": "text/x-python",
      "name": "python",
      "nbconvert_exporter": "python",
      "pygments_lexer": "ipython3",
      "version": "3.10.1"
    }
  },
  "nbformat": 4,
  "nbformat_minor": 0
}