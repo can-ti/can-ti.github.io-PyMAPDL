{
  "cells": [
    {
      "cell_type": "markdown",
      "metadata": {},
      "source": [
        "# Areas {#ref_basic-geometry-areas}\r\n\r\n\u672c\u4f8b\u6f14\u793a\u5982\u4f55\u4f7f\u7528 area \u547d\u4ee4\u521b\u5efa\u57fa\u672c\u51e0\u4f55\u4f53\u3002\r\n"
      ]
    },
    {
      "cell_type": "code",
      "execution_count": null,
      "metadata": {
        "collapsed": false
      },
      "outputs": [],
      "source": [
        "import numpy as np\n\nfrom ansys.mapdl.core import launch_mapdl\n\n# start MAPDL and enter the pre-processing routine\nmapdl = launch_mapdl()\nmapdl.clear()\nmapdl.prep7()\nprint(mapdl)"
      ]
    },
    {
      "cell_type": "markdown",
      "metadata": {},
      "source": [
        "# APDL Command: A\r\n\r\n\u4f7f\u7528\u4e09\u4e2a\u5173\u952e\u70b9\u5728 XY \u5e73\u9762\u4e0a\u521b\u5efa\u4e00\u4e2a\u7b80\u5355\u7684\u4e09\u89d2\u5f62\u3002\r\n"
      ]
    },
    {
      "cell_type": "code",
      "execution_count": null,
      "metadata": {
        "collapsed": false
      },
      "outputs": [],
      "source": [
        "k0 = mapdl.k(\"\", 0, 0, 0)\nk1 = mapdl.k(\"\", 1, 0, 0)\nk2 = mapdl.k(\"\", 0, 1, 0)\na0 = mapdl.a(k0, k1, k2)\nmapdl.aplot(vtk=False)\nmapdl.aplot(show_lines=True, line_width=5, show_bounds=True, cpos=\"xy\")"
      ]
    },
    {
      "cell_type": "markdown",
      "metadata": {},
      "source": [
        "# APDL Command: AL\r\n\r\n\u7528\u56db\u6761\u7ebf\u521b\u5efa\u4e00\u4e2a area \u3002\r\n"
      ]
    },
    {
      "cell_type": "code",
      "execution_count": null,
      "metadata": {
        "collapsed": false
      },
      "outputs": [],
      "source": [
        "mapdl.clear()\nmapdl.prep7()\n\nk0 = mapdl.k(\"\", 0, 0, 0)\nk1 = mapdl.k(\"\", 1, 0, 0)\nk2 = mapdl.k(\"\", 1, 1, 0)\nk3 = mapdl.k(\"\", 0, 1, 0)\nl0 = mapdl.l(k0, k1)\nl1 = mapdl.l(k1, k2)\nl2 = mapdl.l(k2, k3)\nl3 = mapdl.l(k3, k0)\nanum = mapdl.al(l0, l1, l2, l3)\nmapdl.aplot(vtk=False)\nmapdl.aplot(show_lines=True, line_width=5, show_bounds=True, cpos=\"xy\")"
      ]
    },
    {
      "cell_type": "markdown",
      "metadata": {},
      "source": [
        "# APDL Command: ADRAG\r\n\r\n\u901a\u8fc7\u6cbf\u8def\u5f84\u62d6\u52a8\u7ebf\u6765\u751f\u6210 area\u3002\r\n\r\n\u5728\u4e24\u4e2a\u5173\u952e\u70b9\u4e4b\u95f4\u62d6\u52a8\u4e00\u4e2a\u5706\uff0c\u521b\u5efa\u4e00\u4e2a area\r\n"
      ]
    },
    {
      "cell_type": "code",
      "execution_count": null,
      "metadata": {
        "collapsed": false
      },
      "outputs": [],
      "source": [
        "mapdl.clear()\nmapdl.prep7()\n\nk0 = mapdl.k(\"\", 0, 0, 0)\nk1 = mapdl.k(\"\", 0, 0, 1)\ncarc = mapdl.circle(k0, 1, k1, arc=90)\nl0 = mapdl.l(k0, k1)\nmapdl.adrag(carc[0], nlp1=l0)\nmapdl.aplot(vtk=False)\nmapdl.aplot(show_lines=True, line_width=5, show_bounds=True, smooth_shading=True)"
      ]
    },
    {
      "cell_type": "markdown",
      "metadata": {},
      "source": [
        "# APDL Command: ASBA\r\n\r\n\u4ece\u4e00\u4e2a `1 x 1` \u77e9\u5f62\u4e2d\u51cf\u53bb\u4e00\u4e2a `0.5 x 0.5` \u77e9\u5f62\u3002\r\n"
      ]
    },
    {
      "cell_type": "code",
      "execution_count": null,
      "metadata": {
        "collapsed": false
      },
      "outputs": [],
      "source": [
        "mapdl.clear()\nmapdl.prep7()\n\nanum0 = mapdl.blc4(0, 0, 1, 1)\nanum1 = mapdl.blc4(0.25, 0.25, 0.5, 0.5)\naout = mapdl.asba(anum0, anum1)\nmapdl.aplot(vtk=False)\nmapdl.aplot(show_lines=True, line_width=5, show_bounds=True, cpos=\"xy\")"
      ]
    },
    {
      "cell_type": "markdown",
      "metadata": {},
      "source": [
        "# Area IDs\r\n\r\n\u8fd4\u56de\u4e00\u4e2a area ID \u6570\u7ec4\r\n"
      ]
    },
    {
      "cell_type": "code",
      "execution_count": null,
      "metadata": {
        "collapsed": false
      },
      "outputs": [],
      "source": [
        "anum = mapdl.geometry.anum\nanum"
      ]
    },
    {
      "cell_type": "markdown",
      "metadata": {},
      "source": [
        "# Area Geometry\r\n\r\n\u83b7\u53d6\u5305\u542b area \u7684 VTK `Multiblock` \u7f51\u683c\u3002\u8fd9\u4e2a VTK\r\n\u7f51\u683c\u53ef\u4ee5\u4fdd\u5b58\u6216\u7ed8\u5236\u3002\u66f4\u591a\u4fe1\u606f\uff0c\u8bf7\u53c2\u9605 [Pyvista \u6587\u6863]() \u3002\r\n"
      ]
    },
    {
      "cell_type": "code",
      "execution_count": null,
      "metadata": {
        "collapsed": false
      },
      "outputs": [],
      "source": [
        "areas = mapdl.geometry.areas\nareas"
      ]
    },
    {
      "cell_type": "markdown",
      "metadata": {},
      "source": [
        "# Merged Area Geometry\r\n\r\n\u60a8\u8fd8\u53ef\u4ee5\u4ee5 `pyvista.PolyData` \u5bf9\u8c61\u7684\u5f62\u5f0f\u83b7\u53d6 area \u3002\r\n\r\n\u8bf7\u6ce8\u610f\uff0c\u8fd9\u662f\u4e00\u79cd\u65b9\u6cd5\u3002\u60a8\u53ef\u4ee5\u9009\u62e9 area\r\n\u7684\u8d28\u91cf\uff08\u7f51\u683c\u5bc6\u5ea6\uff09\uff0c\u4ee5\u53ca\u60f3\u8981\u5408\u5e76\u8f93\u51fa\u8fd8\u662f\u5355\u72ec\u7f51\u683c\u3002\r\n"
      ]
    },
    {
      "cell_type": "code",
      "execution_count": null,
      "metadata": {
        "collapsed": false
      },
      "outputs": [],
      "source": [
        "area = mapdl.geometry.get_areas(quality=3)\narea\n\n# \u53ef\u9009\u62e9\u4fdd\u5b58\u6216\u7ed8\u5236 area \n# area.save('mesh.vtk')\narea.plot()"
      ]
    },
    {
      "cell_type": "markdown",
      "metadata": {},
      "source": [
        "# Area Selection\r\n\r\n\u6709\u4e24\u79cd\u9009\u62e9 area \u7684\u65b9\u6cd5\uff0c\u4e00\u79cd\u662f\u65e7\u7684 \\\"\u4f20\u7edf\\\"\r\n\u98ce\u683c\uff0c\u53e6\u4e00\u79cd\u662f\u65b0\u7684\u98ce\u683c\u3002\u5bf9\u4e8e\u90a3\u4e9b\u719f\u6089\u73b0\u6709 MAPDL\r\n\u547d\u4ee4\u7684\u4eba\u6765\u8bf4\uff0c\u65e7\u5f0f\u65b9\u6cd5\u5f88\u6709\u4ef7\u503c\uff0c\u800c\u65b0\u5f0f\u65b9\u6cd5\u5219\u9002\u7528\u4e8e\u4ee5 pythonic \u65b9\u5f0f\u9009\u62e9\r\narea \u3002\r\n\r\n\u6b64\u793a\u4f8b\u751f\u6210\u4e00\u7cfb\u5217\u968f\u673a area \u5e76\u9009\u62e9\u5b83\u4eec\r\n"
      ]
    },
    {
      "cell_type": "code",
      "execution_count": null,
      "metadata": {
        "collapsed": false
      },
      "outputs": [],
      "source": [
        "mapdl.clear()\nmapdl.prep7()\n\n\ndef generate_random_area():\n    start_x, start_y, height, width = np.random.random(4)\n    mapdl.blc4(start_x * 10, start_y * 10, height, width)\n\n\n# create 20 random rectangles\nfor i in range(20):\n    generate_random_area()\n\n# Print the area numbers\nprint(mapdl.geometry.anum)"
      ]
    },
    {
      "cell_type": "markdown",
      "metadata": {},
      "source": [
        "\u4f7f\u7528\u65e7\u5f0f\u547d\u4ee4\u9009\u62e9\u5176\u4ed6 area \u3002\r\n"
      ]
    },
    {
      "cell_type": "code",
      "execution_count": null,
      "metadata": {
        "collapsed": false
      },
      "outputs": [],
      "source": [
        "mapdl.asel(\"S\", \"AREA\", \"\", 1, 20, 2)\nprint(mapdl.geometry.anum)"
      ]
    },
    {
      "cell_type": "markdown",
      "metadata": {},
      "source": [
        "\u4f7f\u7528\u65b0\u5f0f\u547d\u4ee4\u9009\u62e9\u5176\u4ed6 area \u3002\r\n\r\nNote that the Area IDs are 1 based in MAPDL, while Python ranges are 0\r\nbased.\r\n"
      ]
    },
    {
      "cell_type": "code",
      "execution_count": null,
      "metadata": {
        "collapsed": false
      },
      "outputs": [],
      "source": [
        "mapdl.geometry.area_select(range(1, 21, 2))\nprint(mapdl.geometry.anum)"
      ]
    },
    {
      "cell_type": "markdown",
      "metadata": {},
      "source": [
        "Select areas from a list\r\n\r\n\u8bf7\u6ce8\u610f\uff0c\u5982\u679c\u60a8\u60f3\u67e5\u770b\u6240\u9009\u5185\u5bb9\uff0c\u53ef\u4ee5 `return_selected` \u3002\u8fd9\u5728\u4ece\u73b0\u6709 area\r\n\u91cd\u65b0\u9009\u62e9\u65f6\u975e\u5e38\u6709\u7528\u3002\r\n"
      ]
    },
    {
      "cell_type": "code",
      "execution_count": null,
      "metadata": {
        "collapsed": false
      },
      "outputs": [],
      "source": [
        "items = mapdl.geometry.area_select([1, 5, 10, 20], return_selected=True)\nprint(items)"
      ]
    },
    {
      "cell_type": "markdown",
      "metadata": {},
      "source": [
        "# APDL Command: APLOT\r\n\r\n\u8be5\u65b9\u6cd5\u4f7f\u7528 VTK \u548c pyvista \u751f\u6210\u52a8\u6001 3D \u56fe\u5f62\u3002\r\n\r\n\u6240\u6709\u5e38\u89c1\u7684\u7ed8\u56fe\u65b9\u6cd5\u90fd\u6709\u591a\u79cd\u7ed8\u56fe\u9009\u9879\u3002\u5728\u6b64\uff0c\u6211\u4eec\u5c06\u542f\u7528\u8fb9\u754c\u5e76\u663e\u793a\u7ed8\u56fe\u7ebf\uff0c\u540c\u65f6\u4f7f\u7528\r\n`quality` \u53c2\u6570\u63d0\u9ad8\u7ed8\u56fe\u8d28\u91cf\u3002\r\n\r\n\u8bf7\u6ce8\u610f\uff0c `\"cpos\"`\\` \u5173\u952e\u5b57\u53c2\u6570\u53ef\u7528\u4e8e\u63cf\u8ff0\u4ee5\u4e0b\u6444\u50cf\u673a\u65b9\u5411\uff1a\r\n\r\n-   `iso` - Isometric view\r\n-   `xy` - XY Plane view\r\n-   `xz` - XZ Plane view\r\n-   `yx` - YX Plane view\r\n-   `yz` - YZ Plane view\r\n-   `zx` - ZX Plane view\r\n-   `zy` - ZY Plane view\r\n"
      ]
    },
    {
      "cell_type": "code",
      "execution_count": null,
      "metadata": {
        "collapsed": false
      },
      "outputs": [],
      "source": [
        "mapdl.aplot(quality=1, show_bounds=True, cpos=\"iso\", show_lines=True)"
      ]
    },
    {
      "cell_type": "markdown",
      "metadata": {},
      "source": [
        "# Stop mapdl\r\n"
      ]
    },
    {
      "cell_type": "code",
      "execution_count": null,
      "metadata": {
        "collapsed": false
      },
      "outputs": [],
      "source": [
        "mapdl.exit()"
      ]
    }
  ],
  "metadata": {
    "kernelspec": {
      "display_name": "Python 3",
      "language": "python",
      "name": "python3"
    },
    "language_info": {
      "codemirror_mode": {
        "name": "ipython",
        "version": 3
      },
      "file_extension": ".py",
      "mimetype": "text/x-python",
      "name": "python",
      "nbconvert_exporter": "python",
      "pygments_lexer": "ipython3",
      "version": "3.10.1"
    }
  },
  "nbformat": 4,
  "nbformat_minor": 0
}