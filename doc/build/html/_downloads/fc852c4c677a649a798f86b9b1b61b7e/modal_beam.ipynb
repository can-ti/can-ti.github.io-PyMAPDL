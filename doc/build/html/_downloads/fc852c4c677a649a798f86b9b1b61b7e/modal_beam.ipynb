{
  "cells": [
    {
      "cell_type": "markdown",
      "metadata": {},
      "source": [
        "# MAPDL \u6881\u6a21\u6001\u5206\u6790\u793a\u4f8b {#ref_modal_beam}\r\n\r\n\u672c\u4f8b\u6f14\u793a\u4e86\u5982\u4f55\u6267\u884c\u7b80\u5355\u7684\u6a21\u6001\u5206\u6790\u5e76\u5c06\u5206\u6790\u7ed3\u679c\u5236\u4f5c\u6210\u52a8\u753b\u3002\r\n\r\n## Objective\r\n\r\n\u672c\u793a\u4f8b\u4f7f\u7528 BEAM188\r\n\u5355\u5143\u5efa\u7acb\u4e86\u4e00\u4e2a\u7b80\u5355\u7684\u4e09\u7ef4\u5f39\u6027\u6881\u6a21\u578b\u3002\u8fd9\u4e9b\u6881\u5355\u5143\u7531\u7c7b\u4f3c\u4e8e\u94a2\u7684\u7ebf\u5f39\u6027\u6750\u6599\u5236\u6210\uff0c\u5177\u6709\u77e9\u5f62\u622a\u9762\u3002\r\n\r\n## Procedure\r\n\r\n-   Launch MAPDL instance\r\n-   Material properties\r\n-   Geometry\r\n-   Finite element model\r\n-   Boundary conditions\r\n-   Solving the model\r\n-   Post-processing\r\n-   Stop MAPDL\r\n"
      ]
    },
    {
      "cell_type": "markdown",
      "metadata": {},
      "source": [
        "# Launch MAPDL instance\r\n\r\n\u542f\u52a8\u5177\u6709\u4ea4\u4e92\u5f0f\u7ed8\u56fe\u529f\u80fd\u7684 MAPDL\r\n"
      ]
    },
    {
      "cell_type": "code",
      "execution_count": null,
      "metadata": {
        "collapsed": false
      },
      "outputs": [],
      "source": [
        "from ansys.mapdl.core import launch_mapdl\n\nnmodes = 10\n# start MAPDL\nmapdl = launch_mapdl()\nprint(mapdl)"
      ]
    },
    {
      "cell_type": "markdown",
      "metadata": {},
      "source": [
        "# Define material\r\n\r\n\u5b9a\u4e49\u6750\u6599\r\n"
      ]
    },
    {
      "cell_type": "code",
      "execution_count": null,
      "metadata": {
        "collapsed": false
      },
      "outputs": [],
      "source": [
        "mapdl.prep7()\nmapdl.mp(\"EX\", 1, 2.1e11)\nmapdl.mp(\"PRXY\", 1, 0.3)\nmapdl.mp(\"DENS\", 1, 7800)"
      ]
    },
    {
      "cell_type": "markdown",
      "metadata": {},
      "source": [
        "# Create geometry\r\n\r\n\u521b\u5efa\u5173\u952e\u70b9\u548c\u7ebf\r\n"
      ]
    },
    {
      "cell_type": "code",
      "execution_count": null,
      "metadata": {
        "collapsed": false
      },
      "outputs": [],
      "source": [
        "mapdl.k(1)\nmapdl.k(2, 10)\nmapdl.l(1, 2)\nmapdl.lplot()"
      ]
    },
    {
      "cell_type": "markdown",
      "metadata": {},
      "source": [
        "# Define finite element model\r\n\r\n\u5b9a\u4e49\u5355\u5143\u7c7b\u578b/\u622a\u9762\u7c7b\u578b - \u77e9\u5f62\u6881\u622a\u9762\u3002\r\n"
      ]
    },
    {
      "cell_type": "code",
      "execution_count": null,
      "metadata": {
        "collapsed": false
      },
      "outputs": [],
      "source": [
        "mapdl.et(1, \"BEAM188\")\nmapdl.sectype(1, \"BEAM\", \"RECT\")\nmapdl.secoffset(\"CENT\")\nmapdl.secdata(2, 1)\n\n# Mesh the line\nmapdl.type(1)\nmapdl.esize(1)\nmapdl.lesize(\"ALL\")\nmapdl.lmesh(\"ALL\")\nmapdl.eplot()\nmapdl.finish()"
      ]
    },
    {
      "cell_type": "markdown",
      "metadata": {},
      "source": [
        "# Specify boundary conditions\r\n\r\n\u56fa\u5b9a\u7aef\r\n"
      ]
    },
    {
      "cell_type": "code",
      "execution_count": null,
      "metadata": {
        "collapsed": false
      },
      "outputs": [],
      "source": [
        "mapdl.solution()  # Entering the solution processor.\nmapdl.nsel(\"S\", \"LOC\", \"X\", \"0\")\nmapdl.d(\"ALL\", \"ALL\")\nmapdl.allsel()\nmapdl.nplot(plot_bc=True, nnum=True)"
      ]
    },
    {
      "cell_type": "markdown",
      "metadata": {},
      "source": [
        "# Solve the model\r\n\r\nSetting modal analysis\r\n"
      ]
    },
    {
      "cell_type": "code",
      "execution_count": null,
      "metadata": {
        "collapsed": false
      },
      "outputs": [],
      "source": [
        "mapdl.antype(\"MODAL\")\nmapdl.modopt(\"LANB\", nmodes, 0, 200)\nmapdl.solve()\nmapdl.finish()"
      ]
    },
    {
      "cell_type": "markdown",
      "metadata": {},
      "source": [
        "# Postprocess\r\n\r\nEnter the post processor (post1)\r\n"
      ]
    },
    {
      "cell_type": "code",
      "execution_count": null,
      "metadata": {
        "collapsed": false
      },
      "outputs": [],
      "source": [
        "mapdl.post1()\noutput = mapdl.set(\"LIST\")\nprint(output)\n\nresult = mapdl.result"
      ]
    },
    {
      "cell_type": "markdown",
      "metadata": {},
      "source": [
        "\u7ed3\u679c\u52a8\u753b\r\n"
      ]
    },
    {
      "cell_type": "code",
      "execution_count": null,
      "metadata": {
        "collapsed": false
      },
      "outputs": [],
      "source": [
        "mode2plot = 2\nnormalizeDisplacement = 1 / result.nodal_displacement(mode2plot - 1)[1].max()\n\nresult.plot_nodal_displacement(\n    mode2plot,\n    show_displacement=True,\n    displacement_factor=normalizeDisplacement,\n    n_colors=10,\n)\n\nresult.animate_nodal_displacement(\n    mode2plot,\n    loop=False,\n    add_text=False,\n    n_frames=100,\n    displacement_factor=normalizeDisplacement,\n    show_axes=False,\n    background=\"w\",\n    movie_filename=\"animation.gif\",\n    off_screen=True,\n)"
      ]
    },
    {
      "cell_type": "markdown",
      "metadata": {},
      "source": [
        "# Stop MAPDL\r\n"
      ]
    },
    {
      "cell_type": "code",
      "execution_count": null,
      "metadata": {
        "collapsed": false
      },
      "outputs": [],
      "source": [
        "mapdl.finish()\nmapdl.exit()"
      ]
    }
  ],
  "metadata": {
    "kernelspec": {
      "display_name": "Python 3",
      "language": "python",
      "name": "python3"
    },
    "language_info": {
      "codemirror_mode": {
        "name": "ipython",
        "version": 3
      },
      "file_extension": ".py",
      "mimetype": "text/x-python",
      "name": "python",
      "nbconvert_exporter": "python",
      "pygments_lexer": "ipython3",
      "version": "3.10.1"
    }
  },
  "nbformat": 4,
  "nbformat_minor": 0
}