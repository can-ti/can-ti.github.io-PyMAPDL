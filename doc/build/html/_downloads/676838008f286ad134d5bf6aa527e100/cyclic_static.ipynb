{
  "cells": [
    {
      "cell_type": "markdown",
      "metadata": {},
      "source": [
        "# \u9759\u6001\u5faa\u73af\u5206\u6790 {#ref_cyclic_static_analysis}\r\n\r\n\u5728 1000 RPM \u8f6c\u901f\u4e0b\uff0c\u4f7f\u7528\u82f1\u5236\u5355\u4f4d\u7cfb\u7edf\u5bf9\u8f6c\u5b50\u6247\u5f62\u793a\u4f8b\u8fdb\u884c\u9759\u6001\u5faa\u73af\u5206\u6790\u3002\r\n"
      ]
    },
    {
      "cell_type": "code",
      "execution_count": null,
      "metadata": {
        "collapsed": false
      },
      "outputs": [],
      "source": [
        "from ansys.mapdl.reader import examples\n\nfrom ansys.mapdl.core import launch_mapdl\n\n# launch mapdl\nmapdl = launch_mapdl()"
      ]
    },
    {
      "cell_type": "markdown",
      "metadata": {},
      "source": [
        "# Load in the mesh\r\n\r\n\u52a0\u8f7d\u793a\u4f8b\u6247\u5f62\u5e76\u7ed8\u5236\u3002\r\n"
      ]
    },
    {
      "cell_type": "code",
      "execution_count": null,
      "metadata": {
        "collapsed": false
      },
      "outputs": [],
      "source": [
        "mapdl.cdread(\"db\", examples.sector_archive_file)\nmapdl.eplot()"
      ]
    },
    {
      "cell_type": "markdown",
      "metadata": {},
      "source": [
        "# Make the rotor cyclic\r\n\r\n\u8fdb\u5165\u524d\u5904\u7406\u7a0b\u5e8f\uff0c\u4f7f\u7f51\u683c\u5faa\u73af\u3002\r\n"
      ]
    },
    {
      "cell_type": "code",
      "execution_count": null,
      "metadata": {
        "collapsed": false
      },
      "outputs": [],
      "source": [
        "mapdl.prep7()\nmapdl.shpp(\"off\")\nmapdl.nummrg(label=\"NODE\", toler=1e-3)\n\nmapdl.cyclic()"
      ]
    },
    {
      "cell_type": "markdown",
      "metadata": {},
      "source": [
        "# Set material properties\r\n\r\n\u5355\u4f4d\u4e3a\u82f1\u5236\u5355\u4f4d\uff0c\u6750\u6599\u4e3a\uff08\u8fd1\u4f3c\uff09\u7ed3\u6784\u94a2\u3002\r\n"
      ]
    },
    {
      "cell_type": "code",
      "execution_count": null,
      "metadata": {
        "collapsed": false
      },
      "outputs": [],
      "source": [
        "mapdl.mp(\"NUXY\", 1, 0.31)\nmapdl.mp(\"DENS\", 1, 4.1408e-04)\nmapdl.mp(\"EX\", 1, 16900000)"
      ]
    },
    {
      "cell_type": "markdown",
      "metadata": {},
      "source": [
        "# Apply boundary conditions\r\n\r\n\u4ee5 1000 RPM \u7684\u8f6c\u901f\u5faa\u73af\u65cb\u8f6c\uff0c\u5e76\u5c06\u8f6c\u5b50\u9650\u5236\u5728\u4e2d\u5fc3\u4f4d\u7f6e\u3002\r\n"
      ]
    },
    {
      "cell_type": "code",
      "execution_count": null,
      "metadata": {
        "collapsed": false
      },
      "outputs": [],
      "source": [
        "mapdl.omega(0, 0, 1000)  # 1000 RPM\n\nmapdl.csys(1)  # enter the cyclic coordinate system\n\nmapdl.nsel(\"S\", \"loc\", \"x\", 0, 0.71)  # radial between 0.69 - 0.71\nmapdl.d(\"ALL\", \"ALL\")  # all DOF for those 8 nodes\n\nmapdl.allsel()\nmapdl.csys(0)  # return to cartesian coordinate system"
      ]
    },
    {
      "cell_type": "markdown",
      "metadata": {},
      "source": [
        "# Run a static analysis\r\n\r\n\u8fd0\u884c MAPDL \u6c42\u89e3\u5668\u5e76\u6253\u5370\u6c42\u89e3\u7ed3\u679c\u3002\r\n"
      ]
    },
    {
      "cell_type": "code",
      "execution_count": null,
      "metadata": {
        "collapsed": false
      },
      "outputs": [],
      "source": [
        "mapdl.run(\"/SOLU\")\nmapdl.antype(\"STATIC\")\noutput = mapdl.solve()\nmapdl.finish()\nprint(output)"
      ]
    },
    {
      "cell_type": "markdown",
      "metadata": {},
      "source": [
        "# Plot the cyclic result\r\n\r\n\u4f7f\u7528\u4f20\u7edf\u65b9\u5f0f\uff08mapdl reader\uff09\u6253\u5370\u7ed3\u679c\r\n"
      ]
    },
    {
      "cell_type": "code",
      "execution_count": null,
      "metadata": {
        "collapsed": false
      },
      "outputs": [],
      "source": [
        "mapdl.result.plot_nodal_displacement(0)"
      ]
    },
    {
      "cell_type": "markdown",
      "metadata": {},
      "source": [
        "# Exit MAPDL\r\n\r\nFinally, exit MAPDL.\r\n"
      ]
    },
    {
      "cell_type": "code",
      "execution_count": null,
      "metadata": {
        "collapsed": false
      },
      "outputs": [],
      "source": [
        "mapdl.exit()"
      ]
    }
  ],
  "metadata": {
    "kernelspec": {
      "display_name": "Python 3",
      "language": "python",
      "name": "python3"
    },
    "language_info": {
      "codemirror_mode": {
        "name": "ipython",
        "version": 3
      },
      "file_extension": ".py",
      "mimetype": "text/x-python",
      "name": "python",
      "nbconvert_exporter": "python",
      "pygments_lexer": "ipython3",
      "version": "3.10.1"
    }
  },
  "nbformat": 4,
  "nbformat_minor": 0
}