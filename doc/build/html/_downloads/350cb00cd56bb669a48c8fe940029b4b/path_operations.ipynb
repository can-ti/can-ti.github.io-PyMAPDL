{
  "cells": [
    {
      "cell_type": "markdown",
      "metadata": {},
      "source": [
        "# PyMAPDL \u548c MAPDL \u4e2d\u7684\u8def\u5f84\u63d2\u503c\u64cd\u4f5c {#ref_path_operation}\r\n\r\n\u672c\u6559\u7a0b\u5c55\u793a\u4e86\u5982\u4f55\u4f7f\u7528 pyansys \u548c MAPDL \u6cbf\u8def\u5f84\u8fdb\u884c\u5e94\u529b\u63d2\u503c\u3002\u5b83\u5c55\u793a\u4e86\r\n[pyvista]{.title-ref} \u6a21\u5757\u6267\u884c\u63d2\u503c\u7684\u4e00\u4e9b\u9ad8\u7ea7\u529f\u80fd\u3002\r\n\r\n\u9996\u5148\uff0c\u5c06 MAPDL \u4f5c\u4e3a\u670d\u52a1\u542f\u52a8\uff0c\u5e76\u7981\u7528\u9664\u9519\u8bef\u4fe1\u606f\u4e4b\u5916\u7684\u6240\u6709\u529f\u80fd\u3002\r\n"
      ]
    },
    {
      "cell_type": "code",
      "execution_count": null,
      "metadata": {
        "collapsed": false
      },
      "outputs": [],
      "source": [
        "import matplotlib.pyplot as plt\nimport numpy as np\nimport pyvista as pv\n\nfrom ansys.mapdl.core import launch_mapdl\n\nmapdl = launch_mapdl(loglevel=\"ERROR\")"
      ]
    },
    {
      "cell_type": "markdown",
      "metadata": {},
      "source": [
        "# MAPDL: \u975e\u5747\u5300\u8f7d\u8377\u4f5c\u7528\u4e0b\u7684\u6881\r\n\r\n\u521b\u5efa\u6881\uff0c\u65bd\u52a0\u8f7d\u8377\uff0c\u5e76\u6c42\u89e3\u9759\u6001\u95ee\u9898\u3002 beam dimensions\r\n"
      ]
    },
    {
      "cell_type": "code",
      "execution_count": null,
      "metadata": {
        "collapsed": false
      },
      "outputs": [],
      "source": [
        "width_ = 0.5\nheight_ = 2\nlength_ = 10\n\n# simple 3D beam\nmapdl.clear()\nmapdl.prep7()\nmapdl.mp(\"EX\", 1, 70000)\nmapdl.mp(\"NUXY\", 1, 0.3)\nmapdl.csys(0)\nmapdl.blc4(0, 0, 0.5, 2, length_)\nmapdl.et(1, \"SOLID186\")\nmapdl.type(1)\nmapdl.keyopt(1, 2, 1)\nmapdl.desize(\"\", 100)\n\nmapdl.vmesh(\"ALL\")\n# mapdl.eplot()\n\n# fixed constraint\nmapdl.nsel(\"s\", \"loc\", \"z\", 0)\nmapdl.d(\"all\", \"ux\", 0)\nmapdl.d(\"all\", \"uy\", 0)\nmapdl.d(\"all\", \"uz\", 0)\n\n# arbitrary non-uniform load\nmapdl.nsel(\"s\", \"loc\", \"z\", length_)\nmapdl.f(\"all\", \"fz\", 1)\nmapdl.f(\"all\", \"fy\", 10)\nmapdl.nsel(\"r\", \"loc\", \"y\", 0)\nmapdl.f(\"all\", \"fx\", 10)\nmapdl.allsel()\nmapdl.run(\"/solu\")\nsol_output = mapdl.solve()\n\n# plot the normalized global displacement\nmapdl.post_processing.plot_nodal_displacement(lighting=False, show_edges=True)"
      ]
    },
    {
      "cell_type": "markdown",
      "metadata": {},
      "source": [
        "# Post-Processing - MAPDL Path Operation\r\n\r\n\u5728 MAPDL \u4e2d\u8ba1\u7b97\u8def\u5f84\u4e0a\u7684\u5e94\u529b\uff0c\u5e76\u5c06\u7ed3\u679c\u8f6c\u6362\u4e3a numpy \u6570\u7ec4\r\n"
      ]
    },
    {
      "cell_type": "code",
      "execution_count": null,
      "metadata": {
        "collapsed": false
      },
      "outputs": [],
      "source": [
        "mapdl.post1()\nmapdl.set(1, 1)\n# mapdl.plesol(\"s\", \"int\")\n\n# path definition\npl_end = (0.5 * width_, height_, 0.5 * length_)\npl_start = (0.5 * width_, 0, 0.5 * length_)\n\nmapdl.run(\"width_ = %f\" % width_)\nmapdl.run(\"height_ = %f\" % height_)\nmapdl.run(\"length_ = %f\" % length_)\n# \u8fd9\u4e9b\u547d\u4ee4\u5c06 Python \u53d8\u91cf width_\u3001height_ \u548c length_ \u7684\u503c\u8d4b\u7ed9 MAPDL \u4e2d\u7684\u540c\u540d\u53d8\u91cf\u3002\n# %f \u662f\u4e00\u4e2a\u683c\u5f0f\u5316\u5b57\u7b26\u4e32\uff0c\u7528\u4e8e\u5c06\u6d6e\u70b9\u6570\u63d2\u5165\u5230\u5b57\u7b26\u4e32\u4e2d\u3002\n\nmapdl.run(\"pl_end = node(0.5*width_, height_, 0.5*length_)\")\nmapdl.run(\"pl_start = node(0.5*width_, 0, 0.5*length_)\")\nmapdl.path(\"my_path\", 2, ndiv=100)\nmapdl.ppath(1, \"pl_start\")\nmapdl.ppath(2, \"pl_end\")\n\n# \u5c06\u611f\u5174\u8da3\u7684\u7ec4\u4ef6\u6620\u5c04\u5230\u8def\u5f84\u4e0a\u3002\nmapdl.pdef(\"Sx_my_path\", \"s\", \"x\")\nmapdl.pdef(\"Sy_my_path\", \"s\", \"y\")\nmapdl.pdef(\"Sz_my_path\", \"s\", \"z\")\nmapdl.pdef(\"Sxy_my_path\", \"s\", \"xy\")\nmapdl.pdef(\"Syz_my_path\", \"s\", \"yz\")\nmapdl.pdef(\"Szx_my_path\", \"s\", \"xz\")\n\n# \u4ece MAPDL \u63d0\u53d6\u8def\u5f84\u7ed3\u679c\u5e76\u53d1\u9001\u81f3 numpy \u6570\u7ec4\nnsigfig = 10\n\n# \u8c03\u7528 mapdl \u5bf9\u8c61\u7684 header \u65b9\u6cd5\uff0c\u5173\u95ed\u6240\u6709\u7684\u5934\u90e8\u4fe1\u606f\u3002\u5728 ANSYS MAPDL \u4e2d\uff0c\u5934\u90e8\u4fe1\u606f\u901a\u5e38\u5305\u62ec\u65e5\u671f\u3001\u65f6\u95f4\u3001\u6807\u9898\u7b49\uff0c\u8fd9\u91cc\u5168\u90e8\u5173\u95ed\u4e86\u3002\nmapdl.header(\"OFF\", \"OFF\", \"OFF\", \"OFF\", \"OFF\", \"OFF\") \n\n# \u8c03\u7528 mapdl \u5bf9\u8c61\u7684 format \u65b9\u6cd5\uff0c\u8bbe\u7f6e\u8f93\u51fa\u683c\u5f0f\u3002\u8fd9\u91cc\u8bbe\u7f6e\u7684\u662f\u79d1\u5b66\u8ba1\u6570\u6cd5\uff08\"E\"\uff09\uff0c\u603b\u5bbd\u5ea6\u4e3a nsigfig + 9\uff0c\u5c0f\u6570\u90e8\u5206\u7684\u4f4d\u6570\u4e3a nsigfig\u3002\nmapdl.format(\"\", \"E\", nsigfig + 9, nsigfig)\n\n# \u8c03\u7528 mapdl \u5bf9\u8c61\u7684 page \u65b9\u6cd5\uff0c\u8bbe\u7f6e\u8f93\u51fa\u9875\u9762\u7684\u5927\u5c0f\u3002\u8fd9\u91cc\u8bbe\u7f6e\u7684\u662f\u6bcf\u9875 1e9 \u884c\uff0c\u6bcf\u884c 240 \u5b57\u7b26\u3002\nmapdl.page(1e9, \"\", -1, 240)\n\npath_out = mapdl.prpath(\n    \"Sx_my_path\",\n    \"Sy_my_path\",\n    \"Sz_my_path\",\n    \"Sxy_my_path\",\n    \"Syz_my_path\",\n    \"Szx_my_path\",\n)\ntable = np.genfromtxt(path_out.splitlines()[1:])\nprint(\"Numpy Array from MAPDL Shape:\", table.shape)\nprint(table)"
      ]
    },
    {
      "cell_type": "markdown",
      "metadata": {},
      "source": [
        "# Comparing with Path Operation Within [pyvista]{.title-ref}\r\n\r\n\u540c\u6837\u7684\u8def\u5f84\u64cd\u4f5c\u4e5f\u53ef\u4ee5\u5728 [pyvista]{.title-ref}\r\n\u4e2d\u6267\u884c\uff0c\u65b9\u6cd5\u662f\u4fdd\u5b58\u751f\u6210\u7684\u5e94\u529b\u5e76\u5b58\u50a8\u5728\u5e95\u5c42\u7684\r\n[UnstructuredGrid]{.title-ref} \u4e2d\u3002\r\n\r\n\u8bf7\u6ce8\u610f\uff0cMAPDL \u548c VTK\r\n\u7684\u63d2\u503c\u65b9\u6cd5\uff08\u4e24\u8005\u7684\u63d2\u503c\u7ed3\u679c\u51e0\u4e4e\u76f8\u540c\uff09\u90fd\u6709\u8f7b\u5fae\u7684\u5206\u6bb5\u884c\u4e3a\u3002VTK\r\n\u7684\u57fa\u672c\u7b97\u6cd5\u662f\uff1a\r\n\r\n::: note\r\n::: title\r\nNote\r\n:::\r\n\r\n\u4e00\u65e6\u627e\u5230\u5305\u542b\u67e5\u8be2\u70b9\u7684\u5355\u5143\u683c\uff0c [vtkProbeFilter]{.title-ref}\r\n\u5c31\u4f1a\u4f7f\u7528\u5355\u5143\u683c\u7684\u63d2\u503c\u51fd\u6570\u6765\u6267\u884c\u63d2\u503c/\u8ba1\u7b97\u70b9\u7684\u5c5e\u6027\u3002\r\n:::\r\n"
      ]
    },
    {
      "cell_type": "code",
      "execution_count": null,
      "metadata": {
        "collapsed": false
      },
      "outputs": [],
      "source": [
        "# same thing in pyvista\nrst = mapdl.result\nnnum, stress = rst.nodal_stress(0)\n\n# get SYZ stress\nstress_yz = stress[:, 5]  # \u7b2c 5 \u5217\n\n# \u5c06 YZ \u5e94\u529b\u5206\u914d\u7ed9\u7ed3\u679c\u5b9e\u4f8b\u4e2d\u7684\u5e95\u5c42\u7f51\u683c\u3002\n# \u5728\u672c\u4f8b\u4e2d\uff0cNAN \u503c\u5fc5\u987b\u66ff\u6362\u4e3a 0\uff0c\u63d2\u503c\u624d\u80fd\u6210\u529f\nstress_yz[np.isnan(stress_yz)] = 0\nrst.grid[\"Stress YZ\"] = stress_yz\n\n# \u521b\u5efa\u4e00\u6761\u7ebf\u5e76\u5728\u5176\u4e0a\u53d6\u6837\nline = pv.Line(pl_start, pl_end, resolution=100)\nout = line.sample(rst.grid)  # bug where the interpolation must be run twice\nout = line.sample(rst.grid)\n# \u6ce8\uff1a\u6211\u4eec\u672c\u53ef\u4ee5\u4f7f\u7528\u6837\u6761\u66f2\u7ebf\uff08\u6216\u4efb\u4f55\u6570\u636e\u96c6\uff09\uff0c\u5e76\u5728\u5176\u4e0a\u8fdb\u884c\u63d2\u503c\uff0c\u800c\u4e0d\u662f\u7b80\u5355\u7684\u76f4\u7ebf\u3002\n\n# \u7ed8\u5236 VTK \u548c MAPDL \u7684\u5185\u63d2\u5e94\u529b\u56fe\nplt.plot(out.points[:, 1], out[\"Stress YZ\"], \"x\", label=\"Stress vtk\")\nplt.plot(table[:, 0], table[:, 6], label=\"Stress MAPDL\")\nplt.legend()\nplt.xlabel(\"Y Position (in.)\")\nplt.ylabel(\"Stress YZ (psi)\")\nplt.show()"
      ]
    },
    {
      "cell_type": "markdown",
      "metadata": {},
      "source": [
        "# 2D Slice Interpolation\r\n\r\n\u6cbf\u6881\u7ed8\u5236\u4e8c\u7ef4\u5207\u7247\uff0c\u5e76\u5c06\u5176\u4e0e\u8be5\u7ebf\u4e0a\u7684\u5e94\u529b\u4e00\u5e76\u7ed8\u5236\u3002\r\n\r\n\u8bf7\u6ce8\u610f\uff0c\u8be5\u5207\u7247\u53d1\u751f\u5728\u8be5\u6881\u7684\u8fb9\u7f18\u8282\u70b9\u4e4b\u95f4\uff0c\u7531\u4e8e\u5e94\u529b/\u5e94\u53d8\uff08\u901a\u5e38\uff09\u4f1a\u5916\u63a8\u5230\r\nANSYS \u6709\u9650\u5143\u7684\u8fb9\u7f18\u8282\u70b9\uff0c\u56e0\u6b64\u6709\u5fc5\u8981\u8fdb\u884c\u63d2\u503c\u3002\r\n"
      ]
    },
    {
      "cell_type": "code",
      "execution_count": null,
      "metadata": {
        "collapsed": false
      },
      "outputs": [],
      "source": [
        "stress_slice = rst.grid.slice(\"z\", pl_start)\n\n# \u53ef\u4ee5\u5355\u72ec\u7ed8\u5236\n# stress_slice.plot(scalars=stress_slice['Stress YZ'],\n#                   scalar_bar_args={'title': 'Stress YZ'})\n\n# \u826f\u597d\u7684\u6444\u50cf\u673a\u4f4d\u7f6e\uff08\u4f7f\u7528 pl.camera_position \u624b\u52a8\u786e\u5b9a\uff09\ncpos = [(3.2, 4, 8), (0.25, 1.0, 5.0), (0.0, 0.0, 1.0)]\nmax_ = np.max((out[\"Stress YZ\"].max(), stress_slice[\"Stress YZ\"].max()))\nmin_ = np.min((out[\"Stress YZ\"].min(), stress_slice[\"Stress YZ\"].min()))\nclim = [min_, max_]\n\npl = pv.Plotter()\npl.add_mesh(\n    out,\n    scalars=out[\"Stress YZ\"],\n    line_width=10,\n    clim=clim,\n    scalar_bar_args={\"title\": \"Stress YZ\"},\n)\npl.add_mesh(\n    stress_slice,\n    scalars=\"Stress YZ\",\n    opacity=0.25,\n    clim=clim,\n    show_scalar_bar=False,\n)\npl.add_mesh(rst.grid, color=\"w\", style=\"wireframe\", show_scalar_bar=False)\npl.camera_position = cpos\n_ = pl.show()"
      ]
    },
    {
      "cell_type": "markdown",
      "metadata": {},
      "source": [
        "# Stop mapdl\r\n"
      ]
    },
    {
      "cell_type": "code",
      "execution_count": null,
      "metadata": {
        "collapsed": false
      },
      "outputs": [],
      "source": [
        "mapdl.exit()"
      ]
    }
  ],
  "metadata": {
    "kernelspec": {
      "display_name": "Python 3",
      "language": "python",
      "name": "python3"
    },
    "language_info": {
      "codemirror_mode": {
        "name": "ipython",
        "version": 3
      },
      "file_extension": ".py",
      "mimetype": "text/x-python",
      "name": "python",
      "nbconvert_exporter": "python",
      "pygments_lexer": "ipython3",
      "version": "3.10.1"
    }
  },
  "nbformat": 4,
  "nbformat_minor": 0
}