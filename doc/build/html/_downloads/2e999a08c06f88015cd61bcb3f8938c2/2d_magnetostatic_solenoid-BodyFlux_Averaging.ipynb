{
  "cells": [
    {
      "cell_type": "markdown",
      "metadata": {},
      "source": [
        "# 2D \u9759\u78c1\u87ba\u7ebf\u7ba1\u5206\u6790 {#ref_solenoid_magnetostatic_2d}\r\n\r\n\u672c\u793a\u4f8b\u5c55\u793a\u4e86\u5982\u4f55\u6536\u96c6\u548c\u7ed8\u5236\u5355\u5143\u95f4\u6750\u6599\u4e0d\u8fde\u7eed\u7684\u7ed3\u679c\uff08Power graphics\r\nstyle\uff09\u4e0e\u9ed8\u8ba4\u7684\u5168\u5e73\u5747\u7ed3\u679c\uff08Full graphics style\uff09\u3002\r\n\r\n## Description\r\n\r\nMAPDL\r\n\u6709\u4e24\u79cd\u663e\u793a\u7ed3\u679c\u7684\u5e73\u5747\u65b9\u6cd5\u3002\u5c3d\u7ba1\u8fd8\u5b58\u5728\u5176\u4ed6\u5dee\u5f02\uff0c\u4f46\u4ee5\u4e0b\u63cf\u8ff0\u8bf4\u660e\u4e86\u4e3b\u8981\u5dee\u5f02\u3002\r\n\r\n-   **Full graphics**: \u4f7f\u7528\u8282\u70b9\u5e73\u5747\u7ed3\u679c\u663e\u793a\u6574\u4e2a\u9009\u5b9a\u6a21\u578b\u3002\r\n    \u5982\u679c\u4e24\u4e2a\u6216\u591a\u4e2a\u4e0d\u540c\u6750\u6599\u7684\u5355\u5143\u5171\u4eab\u4e00\u4e2a\u8282\u70b9\uff0c\u5e94\u529b\u573a\u5728\u5355\u5143\u6750\u6599\u8fb9\u754c\uff08\u5171\u4eab\u8282\u70b9\uff09\u4e0a\u662f\u8fde\u7eed\u7684\u3002\r\n-   **Power graphics**:\r\n    \u663e\u793a\u6240\u9009\u6a21\u578b\u7684\u5168\u90e8\u7ed3\u679c\uff0c\u5305\u62ec\u540c\u4e00\u6750\u6599\u5355\u5143\u5185\u7684\u5e73\u5747\u7ed3\u679c\u548c\u8de8\u6750\u6599\u8fb9\u754c\u7684\u4e0d\u8fde\u7eed\u7ed3\u679c\u3002\r\n\r\n\u672c\u793a\u4f8b\u7684\u91cd\u70b9\u662f\u6750\u6599\u8fb9\u754c\u3002\r\n\r\n\u539f\u751f PyMAPDL \u7684\u540e\u5904\u7406\u4e0e MAPDL \u7684 \\\"Full graphics\\\"\r\n\u65b9\u6cd5\u5728\u6750\u6599\u8fb9\u754c\u65b9\u9762\u7c7b\u4f3c\u3002\r\n\r\n\u87ba\u7ebf\u7ba1\u7684\u51e0\u4f55\u5f62\u72b6\u5982\u56fe 1 \u6240\u793a\u3002\r\n\r\n<figure>\r\n<img src=\"../../../_static/model_solenoid_2d.png\" class=\"align-center\"\r\nwidth=\"600\" alt=\"../../../_static/model_solenoid_2d.png\" />\r\n<figcaption><strong>Figure 1: \u7535\u78c1\u9600\u51e0\u4f55\u5f62\u72b6\u8bf4\u660e</strong></figcaption>\r\n</figure>\r\n\r\n### \u8f7d\u8377\u548c\u8fb9\u754c\u6761\u4ef6\r\n\r\n\u7ebf\u5708\u7684\u7535\u6d41\u5bc6\u5ea6\u4e3a 650 \u531d\uff0c\u6bcf\u531d 1 \u5b89\u57f9\u3002 \u6240\u6709\u5916\u90e8\u8282\u70b9\u7684 Z\r\n\u78c1\u77e2\u91cf\u52bf\u5747\u8bbe\u4e3a\u96f6\uff0c\u5f3a\u5236\u6267\u884c\u78c1\u901a\u5e73\u884c\u6761\u4ef6\u3002\r\n\r\n## \u5bfc\u5165\u6a21\u5757\r\n\r\n\u9664\u5e38\u89c4\u5e93\u5916\uff0c\u8fd8\u5bfc\u5165\u4e86 Matplotlib \u548c PyVista\u3002\u7531\u4e8e\u8981\u4f7f\u7528 MAPDL\r\n\u9ed8\u8ba4\u7684\u7b49\u9ad8\u7ebf\u989c\u8272\u6837\u5f0f\uff0c\u56e0\u6b64\u8981\u5bfc\u5165 Matplotlib\u3002\u7136\u540e\u901a\u8fc7 PyVista \u8bbe\u7f6e Power\r\nGraphics \u98ce\u683c\u66f2\u7ebf\u56fe\u3002\r\n"
      ]
    },
    {
      "cell_type": "code",
      "execution_count": null,
      "metadata": {
        "collapsed": false
      },
      "outputs": [],
      "source": [
        "import numpy as np\nimport pyvista as pv\n\nfrom ansys.mapdl.core import launch_mapdl"
      ]
    },
    {
      "cell_type": "markdown",
      "metadata": {},
      "source": [
        "# Launch MAPDL service\r\n"
      ]
    },
    {
      "cell_type": "code",
      "execution_count": null,
      "metadata": {
        "collapsed": false
      },
      "outputs": [],
      "source": [
        "mapdl = launch_mapdl()\n\nmapdl.clear()\nmapdl.prep7()\nmapdl.title(\"2-D Solenoid Actuator Static Analysis\")"
      ]
    },
    {
      "cell_type": "markdown",
      "metadata": {},
      "source": [
        "# Set up the FE model\r\n\r\n\u5b9a\u4e49\u51e0\u4f55\u4f53\u3001\u8f7d\u8377\u548c\u7f51\u683c\u5927\u5c0f\u7684\u53c2\u6570\u503c\u3002\r\n\u6a21\u578b\u4ee5\u5398\u7c73\u4e3a\u5355\u4f4d\uff0c\u7136\u540e\u6309\u6bd4\u4f8b\u653e\u5927\u5230\u7c73\u3002\r\n\r\n\"Plane233\" \u5355\u5143\u7c7b\u578b\u7528\u4e8e\u4e8c\u7ef4\u78c1\u9759\u529b\u5206\u6790\u3002\r\n"
      ]
    },
    {
      "cell_type": "code",
      "execution_count": null,
      "metadata": {
        "collapsed": false
      },
      "outputs": [],
      "source": [
        "mapdl.et(1, \"PLANE233\")  # \u5c06 PLANE233 \u5b9a\u4e49\u4e3a\u5355\u5143\u7c7b\u578b\nmapdl.keyopt(1, 3, 1)  # \u4f7f\u7528\u8f74\u5bf9\u79f0\u5206\u6790\u9009\u9879\nmapdl.keyopt(1, 7, 1)  # Condense forces at the corner nodes"
      ]
    },
    {
      "cell_type": "markdown",
      "metadata": {},
      "source": [
        "# Set material properties\r\n\r\n\u5355\u4f4d\u91c7\u7528\u56fd\u9645\u5355\u4f4d\u5236\u3002\r\n"
      ]
    },
    {
      "cell_type": "code",
      "execution_count": null,
      "metadata": {
        "collapsed": false
      },
      "outputs": [],
      "source": [
        "mapdl.mp(\"MURX\", 1, 1)  # \u5b9a\u4e49\u6750\u6599\u7279\u6027\uff08\u6e17\u900f\u6027\uff09\uff0c\u7a7a\u6c14\nmapdl.mp(\"MURX\", 2, 1000)  # Permeability of backiron\nmapdl.mp(\"MURX\", 3, 1)  # Permeability of coil\nmapdl.mp(\"MURX\", 4, 2000)  # Permeability of armature"
      ]
    },
    {
      "cell_type": "markdown",
      "metadata": {},
      "source": [
        "# Set parameters\r\n\r\n\u4e3a\u51e0\u4f55\u8bbe\u8ba1\u8bbe\u7f6e\u53c2\u6570\u3002\r\n"
      ]
    },
    {
      "cell_type": "code",
      "execution_count": null,
      "metadata": {
        "collapsed": false
      },
      "outputs": [],
      "source": [
        "n_turns = 650  # \u7ebf\u5708\u531d\u6570\ni_current = 1.0  # \u6bcf\u531d\u7535\u6d41\nta = 0.75  # \u6a21\u578b\u5c3a\u5bf8\uff08\u5398\u7c73\uff09\ntb = 0.75\ntc = 0.50\ntd = 0.75\nwc = 1\nhc = 2\ngap = 0.25\nspace = 0.25\nws = wc + 2 * space\nhs = hc + 0.75\nw = ta + ws + tc\nhb = tb + hs\nh = hb + gap + td\nacoil = wc * hc  # \u7ebf\u5708\u6a2a\u622a\u9762\u79ef\uff08cm**2\uff09\njdens = n_turns * i_current / acoil  # \u7535\u6d41\u5bc6\u5ea6\uff08A/cm**2\uff09\n\nsmart_size = 4  # \u7f51\u683c\u5212\u5206\u7684\u667a\u80fd\u5c3a\u5bf8\u7b49\u7ea7"
      ]
    },
    {
      "cell_type": "markdown",
      "metadata": {},
      "source": [
        "# Create geometry\r\n\r\n\u521b\u5efa\u6a21\u578b\u51e0\u4f55\u4f53\r\n"
      ]
    },
    {
      "cell_type": "code",
      "execution_count": null,
      "metadata": {
        "collapsed": false
      },
      "outputs": [],
      "source": [
        "mapdl.rectng(0, w, 0, tb)  # \u521b\u5efa\u77e9\u5f62\u533a\u57df\nmapdl.rectng(0, w, tb, hb)\nmapdl.rectng(ta, ta + ws, 0, h)\nmapdl.rectng(ta + space, ta + space + wc, tb + space, tb + space + hc)\nmapdl.aovlap(\"ALL\")\nmapdl.rectng(0, w, 0, hb + gap)\nmapdl.rectng(0, w, 0, h)\nmapdl.aovlap(\"ALL\")\nmapdl.numcmp(\"AREA\")  # \u538b\u7f29\u672a\u4f7f\u7528\u7684 area \u7f16\u53f7"
      ]
    },
    {
      "cell_type": "markdown",
      "metadata": {},
      "source": [
        "# Mesh\r\n\r\n\u8bbe\u7f6e\u6a21\u578b\u7f51\u683c\u3002\r\n"
      ]
    },
    {
      "cell_type": "code",
      "execution_count": null,
      "metadata": {
        "collapsed": false
      },
      "outputs": [],
      "source": [
        "mapdl.asel(\"S\", \"AREA\", \"\", 2)  # Assign attributes to coil\nmapdl.aatt(3, 1, 1, 0)\n\nmapdl.asel(\"S\", \"AREA\", \"\", 1)  # Assign attributes to armature\nmapdl.asel(\"A\", \"AREA\", \"\", 12, 13)\nmapdl.aatt(4, 1, 1)\n\nmapdl.asel(\"S\", \"AREA\", \"\", 3, 5)  # Assign attributes to backiron\nmapdl.asel(\"A\", \"AREA\", \"\", 7, 8)\nmapdl.aatt(2, 1, 1, 0)\n\nmapdl.pnum(\"MAT\", 1)  # Turn material numbers on\nmapdl.allsel(\"ALL\")\n\nmapdl.aplot(vtk=False)"
      ]
    },
    {
      "cell_type": "markdown",
      "metadata": {},
      "source": [
        "Mesh\r\n"
      ]
    },
    {
      "cell_type": "code",
      "execution_count": null,
      "metadata": {
        "collapsed": false
      },
      "outputs": [],
      "source": [
        "mapdl.smrtsize(smart_size)  # Set smart size meshing\nmapdl.amesh(\"ALL\")  # Mesh all areas"
      ]
    },
    {
      "cell_type": "markdown",
      "metadata": {},
      "source": [
        "# Scale mesh to meters\r\n\r\n\u5c06\u6a21\u578b\u7f29\u653e\u81f3\u4e00\u7c73\u5927\u5c0f\u3002\r\n"
      ]
    },
    {
      "cell_type": "code",
      "execution_count": null,
      "metadata": {
        "collapsed": false
      },
      "outputs": [],
      "source": [
        "mapdl.esel(\"S\", \"MAT\", \"\", 4)  # Select armature elements\nmapdl.cm(\"ARM\", \"ELEM\")  # Define armature as a component\nmapdl.allsel(\"ALL\")\nmapdl.arscale(na1=\"all\", rx=0.01, ry=0.01, rz=1, imove=1)  # \u6309\u6bd4\u4f8b\u8c03\u6574\u6a21\u578b\u81f3 MKS\uff08\u7c73\uff09\nmapdl.finish()"
      ]
    },
    {
      "cell_type": "markdown",
      "metadata": {},
      "source": [
        "# Loads and boundary conditions\r\n\r\n\u5b9a\u4e49\u8f7d\u8377\u548c\u8fb9\u754c\u6761\u4ef6\u3002\r\n"
      ]
    },
    {
      "cell_type": "code",
      "execution_count": null,
      "metadata": {
        "collapsed": false
      },
      "outputs": [],
      "source": [
        "mapdl.slashsolu()\n\n# Apply current density (A/m**2)\nmapdl.esel(\"S\", \"MAT\", \"\", 3)  # Select coil elements\nmapdl.bfe(\"ALL\", \"JS\", 1, \"\", \"\", jdens / 0.01**2)\n\nmapdl.esel(\"ALL\")\nmapdl.nsel(\"EXT\")  # Select exterior nodes\nmapdl.d(\"ALL\", \"AZ\", 0)  # Set potentials to zero (flux-parallel)"
      ]
    },
    {
      "cell_type": "markdown",
      "metadata": {},
      "source": [
        "# Solve the model\r\n\r\n\u6c42\u89e3\u9759\u78c1\u5206\u6790\u3002\r\n"
      ]
    },
    {
      "cell_type": "code",
      "execution_count": null,
      "metadata": {
        "collapsed": false
      },
      "outputs": [],
      "source": [
        "mapdl.allsel(\"ALL\")\nmapdl.solve()\nmapdl.finish()"
      ]
    },
    {
      "cell_type": "markdown",
      "metadata": {},
      "source": [
        "# Postprocessing\r\n\r\n\u6253\u5f00\u7ed3\u679c\u6587\u4ef6\uff0c\u8bfb\u5165\u6700\u540e\u4e00\u7ec4\u7ed3\u679c\r\n"
      ]
    },
    {
      "cell_type": "code",
      "execution_count": null,
      "metadata": {
        "collapsed": false
      },
      "outputs": [],
      "source": [
        "mapdl.post1()\nmapdl.file(\"file\", \"rmg\")\nmapdl.set(\"last\")"
      ]
    },
    {
      "cell_type": "markdown",
      "metadata": {},
      "source": [
        "\u6253\u5370\u8282\u70b9\u503c\r\n"
      ]
    },
    {
      "cell_type": "code",
      "execution_count": null,
      "metadata": {
        "collapsed": false
      },
      "outputs": [],
      "source": [
        "print(mapdl.post_processing.nodal_values(\"b\", \"x\"))"
      ]
    },
    {
      "cell_type": "markdown",
      "metadata": {},
      "source": [
        "# Create an MAPDL Power Graphics plot of the X-direction magnetic flux\r\n\r\n\u901a\u8fc7 `rgb` \u547d\u4ee4\u5c06 MAPDL \u989c\u8272\u53cd\u8f6c\uff0c\u4f7f\u80cc\u666f\u4e3a\u767d\u8272\uff0c\u6587\u672c\u548c\u5355\u5143\u8fb9\u7f18\u4e3a\u9ed1\u8272\u3002\r\n"
      ]
    },
    {
      "cell_type": "code",
      "execution_count": null,
      "metadata": {
        "collapsed": false
      },
      "outputs": [],
      "source": [
        "mapdl.graphics(\"power\")\nmapdl.rgb(\"INDEX\", 100, 100, 100, 0)\nmapdl.rgb(\"INDEX\", 80, 80, 80, 13)\nmapdl.rgb(\"INDEX\", 60, 60, 60, 14)\nmapdl.rgb(\"INDEX\", 0, 0, 0, 15)\n\nmapdl.edge(1, 1)\nmapdl.show(\"png\")\nmapdl.pngr(\"tmod\", 0)\n\nmapdl.plnsol(\"b\", \"x\")\nmapdl.show(\"\")"
      ]
    },
    {
      "cell_type": "markdown",
      "metadata": {},
      "source": [
        "# Obtain grid and scalar data\r\n\r\n\u9996\u5148\uff0c\u83b7\u53d6\u6a21\u578b\u4e2d\u552f\u4e00\u6750\u6599 ID \u7684\u96c6\u5408\r\n"
      ]
    },
    {
      "cell_type": "code",
      "execution_count": null,
      "metadata": {
        "collapsed": false
      },
      "outputs": [],
      "source": [
        "elem_mats = mapdl.mesh.material_type\nnp.unique(elem_mats)"
      ]
    },
    {
      "cell_type": "markdown",
      "metadata": {},
      "source": [
        "\u5bf9\u4e8e\u6bcf\u4e2a\u552f\u4e00\u7684\u6750\u8d28 ID \uff0c\u5c06\u9009\u62e9\u56fe\u5143\u53ca\u5176\u8282\u70b9\u3002\"grids\"\r\n\u5217\u8868\u4ec5\u9644\u52a0\u4e86\u8fd9\u4e9b\u5355\u5143\u7684\u7f51\u683c\u4fe1\u606f\uff0c\"scalars\" \u5217\u8868\u9644\u52a0\u4e86\u8282\u70b9X\u65b9\u5411\u7684\u78c1\u901a\u91cf\u3002\r\n"
      ]
    },
    {
      "cell_type": "code",
      "execution_count": null,
      "metadata": {
        "collapsed": false
      },
      "outputs": [],
      "source": [
        "grids = []\nscalars = []\nfor mat in np.unique(elem_mats):\n    mapdl.esel(\"s\", \"mat\", \"\", mat)\n    mapdl.nsle()\n    grids.append(mapdl.mesh.grid)\n    scalars.append(mapdl.post_processing.nodal_values(\"b\", \"x\"))\nmapdl.allsel()"
      ]
    },
    {
      "cell_type": "markdown",
      "metadata": {},
      "source": [
        "\u5982\u679c\u6709\u5174\u8da3\uff0c\u53ef\u4ee5\u6253\u5370\u7f51\u683c\u5217\u8868\uff0c\u5e76\u4e0e mapdl.mesh.grid \u7684\u6253\u5370\u7ed3\u679c\u8fdb\u884c\u6bd4\u8f83\u3002\r\n"
      ]
    },
    {
      "cell_type": "code",
      "execution_count": null,
      "metadata": {
        "collapsed": false
      },
      "outputs": [],
      "source": [
        "print(grids)\n# print(mapdl.mesh.grid)"
      ]
    },
    {
      "cell_type": "markdown",
      "metadata": {},
      "source": [
        "# Color map and result plot\r\n\r\n\u7531\u4e8e\u67d0\u4e9b MAPDL \u7b49\u9ad8\u7ebf\u989c\u8272\u5728\u6807\u51c6 Matplotlib\r\n\u989c\u8272\u5e93\u4e2d\u5e76\u4e0d\u5b8c\u5168\u5339\u914d\uff0c\u56e0\u6b64\u4f1a\u5c1d\u8bd5\u5339\u914d\u989c\u8272\u5e76\u4f7f\u7528\u5341\u516d\u8fdb\u5236 RGBA \u6570\u503c\u3002\r\n\r\n\u5bf9\u4e8e\u7f51\u683c\u5217\u8868\u4e2d\u7684\u6bcf\u4e2a\u9879\u76ee\uff0c\u90fd\u4f1a\u5c06\u7f51\u683c\u6dfb\u52a0\u5230\u7ed8\u56fe\u4e2d\uff0c\u5e76\u4f7f\u7528\u4e8b\u5148\u5b9a\u4e49\u7684\u989c\u8272\u56fe\u548c\u76f8\u540c\u7684\u7b49\u9ad8\u7ebf\u56fe\u4f8b\u8981\u6c42\r\n9 \u79cd\u7b49\u9ad8\u7ebf\u989c\u8272\u3002\r\n\r\n\u7136\u540e\u663e\u793a\u7ed8\u56fe\uff0c\u5b83\u53ef\u4ee5\u5f88\u597d\u5730\u91cd\u65b0\u521b\u5efa\u672c\u5730\u7ed8\u56fe\u3002\r\n"
      ]
    },
    {
      "cell_type": "code",
      "execution_count": null,
      "metadata": {
        "collapsed": false
      },
      "outputs": [],
      "source": [
        "from ansys.mapdl.core.theme import PyMAPDL_cmap\n\nplotter = pv.Plotter()\n\nfor i, grid in enumerate(grids):\n    plotter.add_mesh(\n        grid,\n        scalars=scalars[i],\n        show_edges=True,\n        cmap=PyMAPDL_cmap,\n        n_colors=9,\n        scalar_bar_args={\n            \"color\": \"black\",\n            \"title\": \"B Flux X\",\n            \"vertical\": False,\n            \"n_labels\": 10,\n        },\n    )\n\nplotter.set_background(color=\"white\")\n_ = plotter.camera_position = \"xy\"\nplotter.show()"
      ]
    },
    {
      "cell_type": "markdown",
      "metadata": {},
      "source": [
        "# Exiting MAPDL\r\n"
      ]
    },
    {
      "cell_type": "code",
      "execution_count": null,
      "metadata": {
        "collapsed": false
      },
      "outputs": [],
      "source": [
        "mapdl.graphics(\"FULL\")  # Returning to default mode.\nmapdl.exit()"
      ]
    }
  ],
  "metadata": {
    "kernelspec": {
      "display_name": "Python 3",
      "language": "python",
      "name": "python3"
    },
    "language_info": {
      "codemirror_mode": {
        "name": "ipython",
        "version": 3
      },
      "file_extension": ".py",
      "mimetype": "text/x-python",
      "name": "python",
      "nbconvert_exporter": "python",
      "pygments_lexer": "ipython3",
      "version": "3.10.1"
    }
  },
  "nbformat": 4,
  "nbformat_minor": 0
}