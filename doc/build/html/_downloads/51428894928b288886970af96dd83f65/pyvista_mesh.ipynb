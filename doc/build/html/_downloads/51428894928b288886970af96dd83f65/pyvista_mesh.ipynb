{
  "cells": [
    {
      "cell_type": "markdown",
      "metadata": {},
      "source": [
        "# PyVista \u7f51\u683c\u96c6\u6210 {#ref_pyvista_mesh}\r\n\r\n\u5728 MAPDL \u4e2d\u5bf9 pyvista \u751f\u6210\u7684\u7f51\u683c\u8fdb\u884c\u6a21\u6001\u5206\u6790\u3002\r\n"
      ]
    },
    {
      "cell_type": "code",
      "execution_count": null,
      "metadata": {
        "collapsed": false
      },
      "outputs": [],
      "source": [
        "import os\nimport tempfile\n\nfrom ansys.mapdl.reader import save_as_archive\nimport pyvista as pv\n\nfrom ansys.mapdl.core import launch_mapdl\n\n# launch MAPDL as a service\nmapdl = launch_mapdl(loglevel=\"ERROR\")\n\n# \u5728 XY \u5e73\u9762\u4e0a\u521b\u5efa\u4e00\u4e2a\u4ee5 (0, 0, 0) \u4e3a\u4e2d\u5fc3\u7684\u7b80\u5355\u5e73\u9762\u7f51\u683c\nmesh = pv.Plane(i_resolution=100, j_resolution=100)\nmesh.plot(color=\"w\", show_edges=True)"
      ]
    },
    {
      "cell_type": "markdown",
      "metadata": {},
      "source": [
        "\u5c06\u7f51\u683c\u5199\u5165\u4e34\u65f6\u6587\u4ef6\r\n"
      ]
    },
    {
      "cell_type": "code",
      "execution_count": null,
      "metadata": {
        "collapsed": false
      },
      "outputs": [],
      "source": [
        "archive_filename = os.path.join(tempfile.gettempdir(), \"tmp.cdb\")\nsave_as_archive(archive_filename, mesh)\n\n# \u8bfb\u53d6\u5b58\u6863\u6587\u4ef6\nresponse = mapdl.cdread(\"db\", archive_filename)\nmapdl.prep7()\nprint(mapdl.shpp(\"SUMM\"))"
      ]
    },
    {
      "cell_type": "markdown",
      "metadata": {},
      "source": [
        "\u6307\u5b9a\u58f3\u5355\u5143\u539a\u5ea6\r\n"
      ]
    },
    {
      "cell_type": "code",
      "execution_count": null,
      "metadata": {
        "collapsed": false
      },
      "outputs": [],
      "source": [
        "mapdl.sectype(1, \"shell\")\nmapdl.secdata(0.01)\nmapdl.emodif(\"ALL\", \"SECNUM\", 1)"
      ]
    },
    {
      "cell_type": "markdown",
      "metadata": {},
      "source": [
        "\u89c4\u5b9a\u6750\u6599\u5c5e\u6027 \u4f7f\u7528 [AISI\r\n5000](http://www.matweb.com/search/datasheet.aspx?matguid=89d4b891eece40fbbe6b71f028b64e9e)\r\n\u7cfb\u5217\u94a2\u6750\u7684\u8fd1\u4f3c\u503c\r\n"
      ]
    },
    {
      "cell_type": "code",
      "execution_count": null,
      "metadata": {
        "collapsed": false
      },
      "outputs": [],
      "source": [
        "mapdl.units(\"SI\")  # not necessary, but helpful for book keeping\nmapdl.mp(\"EX\", 1, 200e9)  # Elastic moduli in Pa (kg/(m*s**2))\nmapdl.mp(\"DENS\", 1, 7800)  # Density in kg/m3\nmapdl.mp(\"NUXY\", 1, 0.3)  # Poissons Ratio\nmapdl.emodif(\"ALL\", \"MAT\", 1)"
      ]
    },
    {
      "cell_type": "markdown",
      "metadata": {},
      "source": [
        "\u8fd0\u884c\u65e0\u7ea6\u675f\u6a21\u6001\u5206\u6790 for the first 20 modes above 1 Hz\r\n"
      ]
    },
    {
      "cell_type": "code",
      "execution_count": null,
      "metadata": {
        "collapsed": false
      },
      "outputs": [],
      "source": [
        "mapdl.modal_analysis(nmode=20, freqb=1)\n\n# \u60a8\u8fd8\u53ef\u4ee5\u8fd9\u6837\u8fd0\u884c\uff1a\n# mapdl.run('/SOLU')\n# mapdl.antype('MODAL')  # default NEW\n# mapdl.modopt('LANB', 20, 1)\n# mapdl.solve()"
      ]
    },
    {
      "cell_type": "markdown",
      "metadata": {},
      "source": [
        "\u5728 `pyansys` \u4e2d\u52a0\u8f7d\u7ed3\u679c\u6587\u4ef6\u5e76\u7ed8\u5236\u7b2c 8 \u9636\u6a21\u6001\u3002\r\n"
      ]
    },
    {
      "cell_type": "code",
      "execution_count": null,
      "metadata": {
        "collapsed": false
      },
      "outputs": [],
      "source": [
        "result = mapdl.result\nprint(result)\n\nresult.plot_nodal_displacement(7, show_displacement=True, displacement_factor=0.4)"
      ]
    },
    {
      "cell_type": "markdown",
      "metadata": {},
      "source": [
        "\u4f7f\u7528\u7b49\u9ad8\u7ebf\u7ed8\u5236\u4e00\u9636\u6a21\u6001\r\n"
      ]
    },
    {
      "cell_type": "code",
      "execution_count": null,
      "metadata": {
        "collapsed": false
      },
      "outputs": [],
      "source": [
        "result.plot_nodal_displacement(\n    0, show_displacement=True, displacement_factor=0.4, n_colors=10\n)"
      ]
    },
    {
      "cell_type": "markdown",
      "metadata": {},
      "source": [
        "\u5bf9\u6a21\u6001\u5206\u6790\u7ed3\u679c\u8fdb\u884c\u52a8\u753b\u5904\u7406\r\n\r\n\u7981\u7528 `movie_filename` \uff0c\u5e76\u589e\u52a0 `n_frames` \u4ee5\u83b7\u5f97\u66f4\u5e73\u6ed1\u7684\u7ed8\u56fe\u3002\u4f7f\u7528\r\n`loop=True` \u542f\u7528\u8fde\u7eed\u5faa\u73af\u7ed8\u56fe\u3002\r\n"
      ]
    },
    {
      "cell_type": "code",
      "execution_count": null,
      "metadata": {
        "collapsed": false
      },
      "outputs": [],
      "source": [
        "result.animate_nodal_displacement(\n    18,\n    loop=False,\n    add_text=False,\n    n_frames=30,\n    displacement_factor=0.4,\n    show_axes=False,\n    background=\"w\",\n    movie_filename=\"plane_vib.gif\",\n)"
      ]
    },
    {
      "cell_type": "markdown",
      "metadata": {},
      "source": [
        "# Stop mapdl\r\n"
      ]
    },
    {
      "cell_type": "code",
      "execution_count": null,
      "metadata": {
        "collapsed": false
      },
      "outputs": [],
      "source": [
        "mapdl.exit()"
      ]
    }
  ],
  "metadata": {
    "kernelspec": {
      "display_name": "Python 3",
      "language": "python",
      "name": "python3"
    },
    "language_info": {
      "codemirror_mode": {
        "name": "ipython",
        "version": 3
      },
      "file_extension": ".py",
      "mimetype": "text/x-python",
      "name": "python",
      "nbconvert_exporter": "python",
      "pygments_lexer": "ipython3",
      "version": "3.10.1"
    }
  },
  "nbformat": 4,
  "nbformat_minor": 0
}